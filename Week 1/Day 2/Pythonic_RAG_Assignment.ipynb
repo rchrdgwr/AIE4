{
  "cells": [
    {
      "cell_type": "markdown",
      "metadata": {
        "id": "lElF3o5PR6ys"
      },
      "source": [
        "# My First RAG Application in a Jupyter Notebook\n",
        "\n",
        "In this notebook, we'll walk you through each of the components that are involved in a simple RAG application.\n",
        "\n",
        "We won't be leveraging any fancy tools, just the OpenAI Python SDK, Numpy, and some classic Python.\n",
        "\n",
        "> NOTE: This was done with Python 3.11.4.\n",
        "\n",
        "> NOTE: There might be [compatibility issues](https://github.com/wandb/wandb/issues/7683) if you're on NVIDIA driver >552.44 As an interim solution - you can rollback your drivers to the 552.44."
      ]
    },
    {
      "cell_type": "markdown",
      "metadata": {
        "id": "5CtcL8P8R6yt"
      },
      "source": [
        "## Table of Contents:\n",
        "\n",
        "- Task 1: Imports and Utilities\n",
        "- Task 2: Documents\n",
        "- Task 3: Embeddings and Vectors\n",
        "- Task 4: Prompts\n",
        "- Task 5: Retrieval Augmented Generation\n",
        "  - 🚧 Activity #1: Augment RAG"
      ]
    },
    {
      "cell_type": "markdown",
      "metadata": {
        "id": "1Dz6GYilR6yt"
      },
      "source": [
        "Here is the visual representation of the RAG application.\n",
        "\n",
        "![Sample Image](images/rag_3.jpg)\n"
      ]
    },
    {
      "cell_type": "markdown",
      "metadata": {
        "id": "PjmC0KFtR6yt"
      },
      "source": [
        "## Task 1: Imports and Utility\n",
        "\n",
        "We're just doing some imports and enabling `async` to work within the Jupyter environment here, nothing too crazy!"
      ]
    },
    {
      "cell_type": "code",
      "execution_count": 34,
      "metadata": {
        "colab": {
          "base_uri": "https://localhost:8080/"
        },
        "id": "H7VEzqziR6yt",
        "outputId": "f873dd3b-55a0-4e00-ecf4-e2a0fe3af327"
      },
      "outputs": [],
      "source": [
        "!pip install -qU numpy matplotlib plotly pandas scipy scikit-learn openai python-dotenv"
      ]
    },
    {
      "cell_type": "code",
      "execution_count": 35,
      "metadata": {},
      "outputs": [
        {
          "name": "stdout",
          "output_type": "stream",
          "text": [
            "Requirement already satisfied: PyMuPDF in /home/rchrdgwr/anaconda3/envs/llmops-course/lib/python3.11/site-packages (1.24.9)\n",
            "Requirement already satisfied: PyMuPDFb==1.24.9 in /home/rchrdgwr/anaconda3/envs/llmops-course/lib/python3.11/site-packages (from PyMuPDF) (1.24.9)\n"
          ]
        }
      ],
      "source": [
        "!pip install PyMuPDF"
      ]
    },
    {
      "cell_type": "markdown",
      "metadata": {},
      "source": [
        "Code to help autoreload changes to utilities"
      ]
    },
    {
      "cell_type": "code",
      "execution_count": 36,
      "metadata": {},
      "outputs": [
        {
          "name": "stdout",
          "output_type": "stream",
          "text": [
            "The autoreload extension is already loaded. To reload it, use:\n",
            "  %reload_ext autoreload\n"
          ]
        }
      ],
      "source": [
        "%load_ext autoreload\n",
        "%autoreload 2"
      ]
    },
    {
      "cell_type": "code",
      "execution_count": 37,
      "metadata": {
        "id": "Z1dyrG4hR6yt"
      },
      "outputs": [],
      "source": [
        "from aimakerspace.text_utils import TextFileLoader, CharacterTextSplitter\n",
        "from aimakerspace.vectordatabase import VectorDatabase\n",
        "import asyncio  # supports asynchronous tasks"
      ]
    },
    {
      "cell_type": "code",
      "execution_count": 38,
      "metadata": {
        "id": "9OrFZRnER6yt"
      },
      "outputs": [],
      "source": [
        "import nest_asyncio  # allow asyncio loop to be reentered - important for Jupyter notebook\n",
        "nest_asyncio.apply()"
      ]
    },
    {
      "cell_type": "markdown",
      "metadata": {
        "id": "M0jGnpQsR6yu"
      },
      "source": [
        "## Task 2: Documents\n",
        "\n",
        "We'll be concerning ourselves with this part of the flow in the following section:\n",
        "\n"
      ]
    },
    {
      "cell_type": "markdown",
      "metadata": {
        "id": "-SFPWvRUR6yu"
      },
      "source": [
        "### Loading Source Documents\n",
        "\n",
        "So, first things first, we need some documents to work with.\n",
        "\n",
        "While we could work directly with the `.txt` files (or whatever file-types you wanted to extend this to) we can instead do some batch processing of those documents at the beginning in order to store them in a more machine compatible format.\n",
        "\n",
        "In this case, we're going to parse our text file into a single document in memory.\n",
        "\n",
        "Let's look at the relevant bits of the `TextFileLoader` class:\n",
        "\n",
        "```python\n",
        "def load_file(self):\n",
        "        with open(self.path, \"r\", encoding=self.encoding) as f:\n",
        "            self.documents.append(f.read())\n",
        "```\n",
        "\n",
        "We're simply loading the document using the built in `open` method, and storing that output in our `self.documents` list.\n"
      ]
    },
    {
      "cell_type": "code",
      "execution_count": 39,
      "metadata": {
        "colab": {
          "base_uri": "https://localhost:8080/"
        },
        "id": "Ia2sUEuGR6yu",
        "outputId": "84937ecc-c35f-4c4a-a4ab-9da72625954c"
      },
      "outputs": [
        {
          "name": "stdout",
          "output_type": "stream",
          "text": [
            "Number of documents: 1\n",
            "﻿\n",
            "The Pmarca Blog Archives\n",
            "(select posts from 2007-2009)\n",
            "Marc Andreessen\n",
            "copyright: Andreessen Horowitz\n",
            "cover design: Jessica Hagy\n",
            "produced using: Pressbooks\n",
            "Contents\n",
            "THE PMARCA GUIDE TO STARTUPS\n",
            "Part\n"
          ]
        }
      ],
      "source": [
        "text_loader = TextFileLoader(\"data/PMarcaBlogs.txt\")\n",
        "documents = text_loader.load_documents()\n",
        "print(f\"Number of documents: {len(documents)}\")\n",
        "print(documents[0][:200])"
      ]
    },
    {
      "cell_type": "code",
      "execution_count": 40,
      "metadata": {},
      "outputs": [
        {
          "name": "stdout",
          "output_type": "stream",
          "text": [
            "Number of documents: 1\n",
            "Sophia Prater\n",
            "Sophia Prater\n",
            "A momentum-building orientation to the complexity-wrangling \n",
            "magic of Object-Oriented UX and the ORCA Process\n",
            "The OOUX\n",
            "LAUNCH GUIDE\n",
            "Welcome to the wonderful world of OOUX!\n",
            "\n"
          ]
        }
      ],
      "source": [
        "# test .pdf document\n",
        "text_loader = TextFileLoader(\"data/OOUX_launch_guide.pdf\")\n",
        "documents_pdf = text_loader.load_documents()\n",
        "print(f\"Number of documents: {len(documents_pdf)}\")\n",
        "print(documents_pdf[0][:200])"
      ]
    },
    {
      "cell_type": "code",
      "execution_count": 41,
      "metadata": {},
      "outputs": [
        {
          "data": {
            "text/plain": [
              "<module 'aimakerspace.vectordatabase' from '/home/rchrdgwr/Projects/code/AIE4/Week 1/Day 2/aimakerspace/vectordatabase.py'>"
            ]
          },
          "execution_count": 41,
          "metadata": {},
          "output_type": "execute_result"
        }
      ],
      "source": [
        "import importlib\n",
        "from gower import documentmanager\n",
        "from aimakerspace import text_utils, vectordatabase\n",
        "importlib.reload(documentmanager)\n",
        "importlib.reload(text_utils)\n",
        "importlib.reload(vectordatabase)"
      ]
    },
    {
      "cell_type": "code",
      "execution_count": 42,
      "metadata": {},
      "outputs": [
        {
          "name": "stdout",
          "output_type": "stream",
          "text": [
            "Number of documents: 5\n",
            "\n",
            "The Saga of Erik the Red\n",
            "1880 translation into En\n",
            "---\n",
            "﻿\n",
            "The Pmarca Blog Archives\n",
            "(select posts from 2007\n",
            "---\n",
            "\n",
            "Egil's Saga\n",
            "1893 translation into English by W. C\n",
            "---\n",
            "Sophia Prater\n",
            "Sophia Prater\n",
            "A momentum-building or\n",
            "---\n",
            "\n",
            "The Story of Thórðr Hreða\n",
            "1882 translation into E\n",
            "---\n"
          ]
        }
      ],
      "source": [
        "# text file directory\n",
        "text_loader = TextFileLoader(\"./data/\")\n",
        "documents_folder = text_loader.load_documents()\n",
        "print(f\"Number of documents: {len(documents_folder)}\")\n",
        "for document in documents_folder:\n",
        "    print(document[:50])\n",
        "    print(\"---\")"
      ]
    },
    {
      "cell_type": "markdown",
      "metadata": {
        "id": "nHlTvCzYR6yu"
      },
      "source": [
        "### Splitting Text Into Chunks\n",
        "\n",
        "As we can see, there is one massive document .\n",
        "\n",
        "We'll want to chunk the document into smaller parts so it's easier to pass the most relevant snippets to the LLM.\n",
        "\n",
        "There is no fixed way to split/chunk documents - and you'll need to rely on some intuition as well as knowing your data *very* well in order to build the most robust system.\n",
        "\n",
        "For this toy example, we'll just split blindly on length.\n",
        "\n",
        ">There's an opportunity to clear up some terminology here, for this course we will be stick to the following:\n",
        ">\n",
        ">- \"source documents\" : The `.txt`, `.pdf`, `.html`, ..., files that make up the files and information we start with in its raw format\n",
        ">- \"document(s)\" : single (or more) text object(s)\n",
        ">- \"corpus\" : the combination of all of our documents"
      ]
    },
    {
      "cell_type": "markdown",
      "metadata": {
        "id": "2G6Voc0jR6yv"
      },
      "source": [
        "As you can imagine (though it's not specifically true in this toy example) the idea of splitting documents is to break them into managable sized chunks that retain the most relevant local context."
      ]
    },
    {
      "cell_type": "code",
      "execution_count": 43,
      "metadata": {
        "colab": {
          "base_uri": "https://localhost:8080/"
        },
        "id": "UMC4tsEmR6yv",
        "outputId": "08689c0b-57cd-4040-942a-8193e997f5cb"
      },
      "outputs": [
        {
          "data": {
            "text/plain": [
              "373"
            ]
          },
          "execution_count": 43,
          "metadata": {},
          "output_type": "execute_result"
        }
      ],
      "source": [
        "text_splitter = CharacterTextSplitter(chunk_size=1000, chunk_overlap=200)  # default, if not passed is 1000, 200\n",
        "# text_splitter = CharacterTextSplitter(chunk_size=100, chunk_overlap=20)  # use to change the chunk size and overlap\n",
        "split_documents = text_splitter.split_texts(documents)\n",
        "len(split_documents)"
      ]
    },
    {
      "cell_type": "markdown",
      "metadata": {
        "id": "W2wKT0WLR6yv"
      },
      "source": [
        "Let's take a look at some of the documents we've managed to split."
      ]
    },
    {
      "cell_type": "code",
      "execution_count": 44,
      "metadata": {
        "colab": {
          "base_uri": "https://localhost:8080/"
        },
        "id": "vcYMwWJoR6yv",
        "outputId": "20d69876-feca-4826-b4be-32915276987a"
      },
      "outputs": [
        {
          "name": "stdout",
          "output_type": "stream",
          "text": [
            "['\\ufeff\\nThe Pmarca Blog Archives\\n(select posts from 2007-2009)\\nMarc Andreessen\\ncopyright: Andreessen Horowitz\\ncover design: Jessica Hagy\\nproduced using: Pressbooks\\nContents\\nTHE PMARCA GUIDE TO STARTUPS\\nPart 1: Why not to do a startup 2\\nPart 2: When the VCs say \"no\" 10\\nPart 3: \"But I don\\'t know any VCs!\" 18\\nPart 4: The only thing that matters 25\\nPart 5: The Moby Dick theory of big companies 33\\nPart 6: How much funding is too little? Too much? 41\\nPart 7: Why a startup\\'s initial business plan doesn\\'t\\nmatter that much\\n49\\nTHE PMARCA GUIDE TO HIRING\\nPart 8: Hiring, managing, promoting, and Dring\\nexecutives\\n54\\nPart 9: How to hire a professional CEO 68\\nHow to hire the best people you\\'ve ever worked\\nwith\\n69\\nTHE PMARCA GUIDE TO BIG COMPANIES\\nPart 1: Turnaround! 82\\nPart 2: Retaining great people 86\\nTHE PMARCA GUIDE TO CAREER, PRODUCTIVITY,\\nAND SOME OTHER THINGS\\nIntroduction 97\\nPart 1: Opportunity 99\\nPart 2: Skills and education 107\\nPart 3: Where to go and why 120\\nThe Pmarca Guide to Personal Productivi']\n",
            "[\"RCA GUIDE TO CAREER, PRODUCTIVITY,\\nAND SOME OTHER THINGS\\nIntroduction 97\\nPart 1: Opportunity 99\\nPart 2: Skills and education 107\\nPart 3: Where to go and why 120\\nThe Pmarca Guide to Personal Productivity 127\\nPSYCHOLOGY AND ENTREPRENEURSHIP\\nThe Psychology of Entrepreneurial Misjudgment:\\nBiases 1-6\\n142\\nAge and the Entrepreneur: Some data 154\\nLuck and the entrepreneur: The four kinds of luck 162\\nSerial Entrepreneurs 168\\nTHE BACK PAGES\\nTop 10 science Dction novelists of the '00s ... so far\\n(June 2007)\\n173\\nBubbles on the brain (October 2009) 180\\nOK, you're right, it IS a bubble (October 2009) 186\\nThe Pmarca Guide to\\nStartups\\nPart 1: Why not to do a startup\\nIn this series of posts I will walk through some of my accumulated knowledge and experience in building high-tech startups.\\nMy speciXc experience is from three companies I have cofounded: Netscape, sold to America Online in 1998 for $4.2\\nbillion; Opsware (formerly Loudcloud), a public soaware company with an approximately $1 billion market\"]\n",
            "['ence is from three companies I have cofounded: Netscape, sold to America Online in 1998 for $4.2\\nbillion; Opsware (formerly Loudcloud), a public soaware company with an approximately $1 billion market cap; and now\\nNing, a new, private consumer Internet company.\\nBut more generally, I’ve been fortunate enough to be involved\\nin and exposed to a broad range of other startups — maybe 40\\nor 50 in enough detail to know what I’m talking about — since\\narriving in Silicon Valley in 1994: as a board member, as an angel\\ninvestor, as an advisor, as a friend of various founders, and as a\\nparticipant in various venture capital funds.\\nThis series will focus on lessons learned from this entire crosssection of Silicon Valley startups — so don’t think that anything\\nI am talking about is referring to one of my own companies:\\nmost likely when I talk about a scenario I have seen or something I have experienced, it is from some other startup that I\\nam not naming but was involved with some other way than as a']\n"
          ]
        }
      ],
      "source": [
        "print(split_documents[0:1])\n",
        "print(split_documents[1:2])\n",
        "print(split_documents[2:3])"
      ]
    },
    {
      "cell_type": "markdown",
      "metadata": {
        "id": "HOU-RFP_R6yv"
      },
      "source": [
        "## Task 3: Embeddings and Vectors\n",
        "\n",
        "Next, we have to convert our corpus into a \"machine readable\" format as we explored in the Embedding Primer notebook.\n",
        "\n",
        "Today, we're going to talk about the actual process of creating, and then storing, these embeddings, and how we can leverage that to intelligently add context to our queries."
      ]
    },
    {
      "cell_type": "markdown",
      "metadata": {},
      "source": [
        "### OpenAI API Key\n",
        "\n",
        "In order to access OpenAI's APIs, we'll need to provide our OpenAI API Key!\n",
        "\n",
        "You can work through the folder \"OpenAI API Key Setup\" for more information on this process if you don't already have an API Key!"
      ]
    },
    {
      "cell_type": "code",
      "execution_count": 45,
      "metadata": {},
      "outputs": [],
      "source": [
        "import os\n",
        "import openai\n",
        "from getpass import getpass\n",
        "\n",
        "openai.api_key = getpass(\"OpenAI API Key: \")\n",
        "os.environ[\"OPENAI_API_KEY\"] = openai.api_key"
      ]
    },
    {
      "cell_type": "markdown",
      "metadata": {},
      "source": [
        "### Vector Database\n",
        "\n",
        "Let's set up our vector database to hold all our documents and their embeddings!"
      ]
    },
    {
      "cell_type": "markdown",
      "metadata": {
        "id": "kDQrfAR1R6yv"
      },
      "source": [
        "While this is all baked into 1 call - we can look at some of the code that powers this process to get a better understanding:\n",
        "\n",
        "Let's look at our `VectorDatabase().__init__()`:\n",
        "\n",
        "```python\n",
        "def __init__(self, embedding_model: EmbeddingModel = None):\n",
        "        self.vectors = defaultdict(np.array)\n",
        "        self.embedding_model = embedding_model or EmbeddingModel()\n",
        "```\n",
        "\n",
        "As you can see - our vectors are merely stored as a dictionary of `np.array` objects.\n",
        "\n",
        "Secondly, our `VectorDatabase()` has a default `EmbeddingModel()` which is a wrapper for OpenAI's `text-embedding-3-small` model.\n",
        "\n",
        "> **Quick Info About `text-embedding-3-small`**:\n",
        "> - It has a context window of **8191** tokens\n",
        "> - It returns vectors with dimension **1536**"
      ]
    },
    {
      "cell_type": "markdown",
      "metadata": {
        "id": "L273pRdeR6yv"
      },
      "source": [
        "<div style=\"background-color: darkgreen; padding: 10px;\">\n",
        "<h1>❓Question #1:</h1>\n",
        "\n",
        "The default embedding dimension of `text-embedding-3-small` is 1536, as noted above. \n",
        "\n",
        "1. Is there any way to modify this dimension?\n",
        "    \n",
        "    1. Answer: The best way is to use a model with a different model (simpler for smaller, more complex for higher). It is possible to \n",
        "    use the dimensions API parameter to shorten the embedding dimension.\n",
        "    \n",
        "2. What technique does OpenAI use to achieve this?\n",
        "    \n",
        "    2. Answer: Can shorten embeddings dimension using the dimensions API parameter. This effectively removes some numbers from the end of the sequence. The \n",
        "    newer models were trained using the Matryoshka Representation Learning that allows developers to shorten embeddings.\n",
        "\n",
        "\n",
        "<br>\n",
        "    \n",
        "</div>\n",
        "    \n",
        "    \n",
        "\n",
        "> NOTE: Check out this [API documentation](https://platform.openai.com/docs/api-reference/embeddings/create) for the answer to question #1, and [this documentation](https://platform.openai.com/docs/guides/embeddings/use-cases) for an answer to question #2!"
      ]
    },
    {
      "cell_type": "markdown",
      "metadata": {
        "id": "w5FZY7K3R6yv"
      },
      "source": [
        "We can call the `async_get_embeddings` method of our `EmbeddingModel()` on a list of `str` and receive a list of `float` back!\n",
        "\n",
        "```python\n",
        "async def async_get_embeddings(self, list_of_text: List[str]) -> List[List[float]]:\n",
        "        return await aget_embeddings(\n",
        "            list_of_text=list_of_text, engine=self.embeddings_model_name\n",
        "        )\n",
        "```"
      ]
    },
    {
      "cell_type": "markdown",
      "metadata": {
        "id": "cSct6X0aR6yv"
      },
      "source": [
        "We cast those to `np.array` when we build our `VectorDatabase()`:\n",
        "\n",
        "```python\n",
        "async def abuild_from_list(self, list_of_text: List[str]) -> \"VectorDatabase\":\n",
        "        embeddings = await self.embedding_model.async_get_embeddings(list_of_text)\n",
        "        for text, embedding in zip(list_of_text, embeddings):\n",
        "            self.insert(text, np.array(embedding))\n",
        "        return self\n",
        "```\n",
        "\n",
        "And that's all we need to do!"
      ]
    },
    {
      "cell_type": "code",
      "execution_count": 46,
      "metadata": {
        "id": "O4KoLbVDR6yv"
      },
      "outputs": [
        {
          "name": "stdout",
          "output_type": "stream",
          "text": [
            "373\n",
            "First key: ﻿\n",
            "The Pmarca Blog Archives\n",
            "(select posts from 2007-2009)\n",
            "Marc Andreessen\n",
            "copyright: Andreessen Horowitz\n",
            "cover design: Jessica Hagy\n",
            "produced using: Pressbooks\n",
            "Contents\n",
            "THE PMARCA GUIDE TO STARTUPS\n",
            "Part 1: Why not to do a startup 2\n",
            "Part 2: When the VCs say \"no\" 10\n",
            "Part 3: \"But I don't know any VCs!\" 18\n",
            "Part 4: The only thing that matters 25\n",
            "Part 5: The Moby Dick theory of big companies 33\n",
            "Part 6: How much funding is too little? Too much? 41\n",
            "Part 7: Why a startup's initial business plan doesn't\n",
            "matter that much\n",
            "49\n",
            "THE PMARCA GUIDE TO HIRING\n",
            "Part 8: Hiring, managing, promoting, and Dring\n",
            "executives\n",
            "54\n",
            "Part 9: How to hire a professional CEO 68\n",
            "How to hire the best people you've ever worked\n",
            "with\n",
            "69\n",
            "THE PMARCA GUIDE TO BIG COMPANIES\n",
            "Part 1: Turnaround! 82\n",
            "Part 2: Retaining great people 86\n",
            "THE PMARCA GUIDE TO CAREER, PRODUCTIVITY,\n",
            "AND SOME OTHER THINGS\n",
            "Introduction 97\n",
            "Part 1: Opportunity 99\n",
            "Part 2: Skills and education 107\n",
            "Part 3: Where to go and why 120\n",
            "The Pmarca Guide to Personal Productivi\n",
            "First vector: [ 0.00787702  0.01784019  0.01840129 ...  0.0051938   0.02476046\n",
            " -0.02975284]\n"
          ]
        }
      ],
      "source": [
        "vector_db = VectorDatabase()\n",
        "vector_db = asyncio.run(vector_db.abuild_from_list(split_documents))\n",
        "print(len(vector_db.vectors))\n",
        "if vector_db.vectors:\n",
        "    first_key, first_vector = next(iter(vector_db.vectors.items()))\n",
        "    print(f\"First key: {first_key}\")\n",
        "    print(f\"First vector: {first_vector}\")\n",
        "else:\n",
        "    print(\"The vector database is empty.\")"
      ]
    },
    {
      "cell_type": "markdown",
      "metadata": {
        "id": "SSZwaGvpR6yv"
      },
      "source": [
        "<div style=\"background-color: darkgreen; padding: 10px;\">\n",
        "<h1>❓Question #2:</h1>\n",
        "\n",
        "What are the benefits of using an `async` approach to collecting our embeddings?\n",
        "\n",
        "Answer 2 - the key benefit of using `async` approach is the is that it allows API calls to be made without blocking the main thread and supporting multiple calls at the same time.\n",
        "This helps improve performance, scalability, as well as responsiveness for the user.\n",
        "\n",
        "</div>\n",
        "\n",
        "> NOTE: Determining the core difference between `async` and `sync` will be useful! If you get stuck - ask ChatGPT!"
      ]
    },
    {
      "cell_type": "markdown",
      "metadata": {
        "id": "nRBdIt-xR6yw"
      },
      "source": [
        "So, to review what we've done so far in natural language:\n",
        "\n",
        "1. We load source documents\n",
        "2. We split those source documents into smaller chunks (documents)\n",
        "3. We send each of those documents to the `text-embedding-3-small` OpenAI API endpoint\n",
        "4. We store each of the text representations with the vector representations as keys/values in a dictionary"
      ]
    },
    {
      "cell_type": "markdown",
      "metadata": {
        "id": "4-vWANZyR6yw"
      },
      "source": [
        "### Semantic Similarity\n",
        "\n",
        "The next step is to be able to query our `VectorDatabase()` with a `str` and have it return to us vectors and text that is most relevant from our corpus.\n",
        "\n",
        "We're going to use the following process to achieve this in our toy example:\n",
        "\n",
        "1. We need to embed our query with the same `EmbeddingModel()` as we used to construct our `VectorDatabase()`\n",
        "2. We loop through every vector in our `VectorDatabase()` and use a distance measure to compare how related they are\n",
        "3. We return a list of the top `k` closest vectors, with their text representations\n",
        "\n",
        "There's some very heavy optimization that can be done at each of these steps - but let's just focus on the basic pattern in this notebook.\n",
        "\n",
        "> We are using [cosine similarity](https://www.engati.com/glossary/cosine-similarity) as a distance metric in this example - but there are many many distance metrics you could use - like [these](https://flavien-vidal.medium.com/similarity-distances-for-natural-language-processing-16f63cd5ba55)\n",
        "\n",
        "> We are using a rather inefficient way of calculating relative distance between the query vector and all other vectors - there are more advanced approaches that are much more efficient, like [ANN](https://towardsdatascience.com/comprehensive-guide-to-approximate-nearest-neighbors-algorithms-8b94f057d6b6)"
      ]
    },
    {
      "cell_type": "markdown",
      "metadata": {},
      "source": [
        "I have added support for Euclidian Distance and Minkowski Distance \n",
        "\n",
        "I was also going to implement annoy but was taking errors importing the annoy library so decided to bypass that for the moment"
      ]
    },
    {
      "cell_type": "code",
      "execution_count": 47,
      "metadata": {
        "colab": {
          "base_uri": "https://localhost:8080/"
        },
        "id": "76d96uavR6yw",
        "outputId": "bbfccc31-20a2-41c7-c14d-46554a43ed2d"
      },
      "outputs": [
        {
          "name": "stdout",
          "output_type": "stream",
          "text": [
            "Default - Cosine Similarity\n",
            "('ordingly.\\nSeventh, when hiring the executive to run your former specialty, be\\ncareful you don’t hire someone weak on purpose.\\nThis sounds silly, but you wouldn’t believe how oaen it happens.\\nThe CEO who used to be a product manager who has a weak\\nproduct management executive. The CEO who used to be in\\nsales who has a weak sales executive. The CEO who used to be\\nin marketing who has a weak marketing executive.\\nI call this the “Michael Eisner Memorial Weak Executive Problem” — aaer the CEO of Disney who had previously been a brilliant TV network executive. When he bought ABC at Disney, it\\npromptly fell to fourth place. His response? “If I had an extra\\ntwo days a week, I could turn around ABC myself.” Well, guess\\nwhat, he didn’t have an extra two days a week.\\nA CEO — or a startup founder — oaen has a hard time letting\\ngo of the function that brought him to the party. The result: you\\nhire someone weak into the executive role for that function so\\nthat you can continue to be “the man” — cons', np.float64(0.6539043027545371))\n",
            "('m. They have areas where they are truly deXcient in judgment or skill set. That’s just life. Almost nobody is brilliant\\nat everything. When hiring and when Hring executives, you\\nmust therefore focus on strength rather than lack of weakness. Everybody has severe weaknesses even if you can’t see\\nthem yet. When managing, it’s oaen useful to micromanage and\\nto provide remedial training around these weaknesses. Doing so\\nmay make the diWerence between an executive succeeding or\\nfailing.\\nFor example, you might have a brilliant engineering executive\\nwho generates excellent team loyalty, has terriXc product judgment and makes the trains run on time. This same executive\\nmay be very poor at relating to the other functions in the company. She may generate far more than her share of cross-functional conYicts, cut herself oW from critical information, and\\nsigniXcantly impede your ability to sell and market eWectively.\\nYour alternatives are:\\n(a) Macro-manage and give her an annual or quarterly object', np.float64(0.5036247837648782))\n",
            "('ed?\\nIn reality — as opposed to Marc’s warped view of reality — it will\\nbe extremely helpful for Marc [if he were actually the CEO,\\nwhich he is not] to meet with the new head of engineering daily\\nwhen she comes on board and review all of her thinking and\\ndecisions. This level of micromanagement will accelerate her\\ntraining and improve her long-term eWectiveness. It will make\\nher seem smarter to the rest of the organization which will build\\ncredibility and conXdence while she comes up to speed. Micromanaging new executives is generally a good idea for a limited\\nperiod of time.\\nHowever, that is not the only time that it makes sense to micro66 The Pmarca Blog Archives\\nmanage executives. It turns out that just about every executive\\nin the world has a few things that are seriously wrong with\\nthem. They have areas where they are truly deXcient in judgment or skill set. That’s just life. Almost nobody is brilliant\\nat everything. When hiring and when Hring executives, you\\nmust therefore focus o', np.float64(0.4814861061791066))\n",
            "('nYicts, cut herself oW from critical information, and\\nsigniXcantly impede your ability to sell and market eWectively.\\nYour alternatives are:\\n(a) Macro-manage and give her an annual or quarterly objective\\nto Xx it, or…\\n(b) Intensively micromanage her interactions until she learns\\nthe fundamental interpersonal skills required to be an eWective\\nexecutive.\\nI am arguing that doing (a) will likely result in weak performance. The reason is that she very likely has no idea how to be\\neWective with her peers. If somebody is an executive, it’s very\\nlikely that somewhere along the line somebody gave her feedback — perhaps abstractly — about all of her weaknesses. Yet\\nthe weakness remains. As a result, executives generally require\\nmore hands-on management than lower level employees to\\nimprove weak areas.\\nSo, micromanagement is like Xne wine. A little at the right times\\nwill really enhance things; too much all the time and you’ll end\\nup in rehab.\\nPart 8: Hiring, managing, promoting, and Dring execut', np.float64(0.4684350385747078))\n",
            "('ummy\\ndecision is no fun to work for. However, it is wrong to condemn\\nthe practice of micromanagement on that basis.\\nPart 8: Hiring, managing, promoting, and Dring executives 65\\nSpeciXcally, there are times and situations where micromanaging executives is not just ok, but also the right thing to do.\\nAndy Grove has an excellent explanation of this in his classic\\nbook High Output Management, where he describes a concept\\ncalled “Task Relevant Maturity”. Andy explains that employees\\nwho are immature in a given task require detailed training and\\ninstruction. They need to be micromanaged. On the other\\nhand, if an employee is relatively mature in a task, then it is\\ncounterproductive and annoying to manage the details of their\\nwork.\\nThis is also true when managing executives. Marc might think\\nthat he hires an executive because she has the experience and\\nknow-how to comprehensively do her job, so any detailed\\ninstruction would be unwise and unwarranted. Marc would be\\nwrong about that. It turns o', np.float64(0.4637065381943431))\n",
            " \n",
            "Euclidean Distance\n",
            "('hese\\nare only personal views; I am not trying to malign anyone else’s\\nchoice of career or education path. These are simply the\\nthings I would want to be told if I were entering college today.]\\nThis post discusses skills acquisition throughout your lifetime,\\nincluding your formal education. So I will start with college and\\nmove on from there.\\nWhat should I study in college?\\nSome people argue that college will be your one chance in life\\nto pursue your passion — to spend four years doing nothing but\\nstudying whatever you love the most, whether that’s Renaissance literature or existential philosophy.\\nI disagree.\\nIf you intend to have an impact on the world, the faster you start\\ndeveloping concrete skills that will be useful in the real world, the\\nbetter — and your undergrad degree is a great place to start.\\nOnce you get into the real world and you’re primed for success, then you can pursue your passion.\\nA typical liberal arts degree will be almost useless on its own. So\\nyou usually won’t h', np.float64(1.3520771272816243))\n",
            "('lace to start.\\nOnce you get into the real world and you’re primed for success, then you can pursue your passion.\\nA typical liberal arts degree will be almost useless on its own. So\\nyou usually won’t have the option of immediately entering the\\nworkforce in a high-impact way when you graduate, and you’ll\\nhave to go get a useful graduate degree.\\nAnd even if you are already planning to get a useful graduate\\ndegree, you are much better oW combining it with a substantive\\nundergraduate degree — thereby becoming a “double threat”.\\nMore on this in a bit.\\nWhich undergraduate degrees are useful in\\nthe real world?\\nTypically, those that have a technical element of some form —\\nthat teach you how to do something substantive.\\nEngineering degrees obviously qualify. The current myth that\\nengineering and computer science degrees are less useful\\nbecause all the jobs are going to India and China is silliness;\\nignore it.\\nHard science degrees — physics, chemistry — also clearly qualify, as do mathematics and', np.float64(1.3404927831674465))\n",
            "('c paranoid political\\nthrillers of the 70’s but with a much harder edge. Highly recommended. Also very helpful re advising on things to think about\\nbefore booking your next trip back from Mars.\\nAlastair Reynolds\\nReynolds is the real deal — doctorate in astrophysics and former staW scientist at the European Space Agency — and writes\\nas if Robert Heinlein knew a thousand times more about science\\nand completely lost his ability to write for warm characters.\\nWhile Reynolds’ work is cold and dark — almost sterile — in\\nhuman terms, he operates on a scale and scope seldom seen,\\nand everything he writes is grounded in real advanced theoretical physics. Highly recommended for anyone who likes largescale space opera and big ideas.\\nRevelation Space, Redemption Ark, and Absolution Gap —\\ntogether, Reynolds’ Yagship trilogy — are three of the darkest,\\nlargest-scale, and most scientiXcally complex hard science Xction novels ever written. Highly recommended to anyone who\\nthinks that sounds like a good ', np.float64(1.3397512337177322))\n",
            "('ar and its sequel Judas Unchained. Plain on staying up late,\\nyou’ll roll straight from the Xrst into the second — and they are\\nnot short (in the best way!).\\nJohn Scalzi\\nAnother post-cyberpunk Heinlein heir, Scalzi writes strong,\\nhighly characterized, inventive novels that have been racking\\nup tremendous review aaer tremendous review for the past few\\nyears.\\nStart with Old Man’s War (don’t worry, they put the old dude\\nin a young body, so you don’t need to Xnd out what it’s like\\nto Xght aliens aaer hip replacement surgery). Progress directly\\nto sequel The Ghost Brigades (Sci Fi Essential Books) and\\ntriquel The Last Colony.\\nScalzi is also an active blogger, turns out!\\nNeal Asher\\nThis way lie dragons… literally, and not like you’ve ever met\\nbefore. Asher is an incredidly strong author of science Xction\\nwith a distinctive horror overlay. Not for the squeamish, but\\nhighly inventive.\\nAsher’s primary work is the Polity series — Gridlinked, The\\nLine of Polity, Brass Man, and Polity Agent. The ex', np.float64(1.3311565445536548))\n",
            "('l, MacLeod’s latest, takes a lea turn into\\na paranoid post-9/11 near future featuring war with Iran, Yu\\npandemics, nuclear terrorist attacks, government conspiracies,\\nand the Execution Channel, broadcasting actual footage of murders and executions around the clock. Haven’t read it yet, but\\nsounds like fun.\\nPeter Hamilton\\nHamilton is the clear heir to Heinlein in my view. Large-scale\\nspace opera told through a shiaing and interlinked cast of people from various walks of life, and amazing storytelling — or,\\nas (accurately) blurbed by Richard Morgan, “Yat-out huge\\nwidescreen all-engines-at-full I-dare-you-not-to-believe-it\\nspace opera”.\\nIt’s taken Hamilton a little while to Xnd his talent, but he’s\\n176 The Pmarca Blog Archives\\ndeXnitely found it. His two latest novels are superb: Pandora’s\\nStar and its sequel Judas Unchained. Plain on staying up late,\\nyou’ll roll straight from the Xrst into the second — and they are\\nnot short (in the best way!).\\nJohn Scalzi\\nAnother post-cyberpunk Heinlein', np.float64(1.3307431647405388))\n",
            " \n",
            "Minkowski Distance\n",
            "('hese\\nare only personal views; I am not trying to malign anyone else’s\\nchoice of career or education path. These are simply the\\nthings I would want to be told if I were entering college today.]\\nThis post discusses skills acquisition throughout your lifetime,\\nincluding your formal education. So I will start with college and\\nmove on from there.\\nWhat should I study in college?\\nSome people argue that college will be your one chance in life\\nto pursue your passion — to spend four years doing nothing but\\nstudying whatever you love the most, whether that’s Renaissance literature or existential philosophy.\\nI disagree.\\nIf you intend to have an impact on the world, the faster you start\\ndeveloping concrete skills that will be useful in the real world, the\\nbetter — and your undergrad degree is a great place to start.\\nOnce you get into the real world and you’re primed for success, then you can pursue your passion.\\nA typical liberal arts degree will be almost useless on its own. So\\nyou usually won’t h', np.float64(0.4706476492107888))\n",
            "('lace to start.\\nOnce you get into the real world and you’re primed for success, then you can pursue your passion.\\nA typical liberal arts degree will be almost useless on its own. So\\nyou usually won’t have the option of immediately entering the\\nworkforce in a high-impact way when you graduate, and you’ll\\nhave to go get a useful graduate degree.\\nAnd even if you are already planning to get a useful graduate\\ndegree, you are much better oW combining it with a substantive\\nundergraduate degree — thereby becoming a “double threat”.\\nMore on this in a bit.\\nWhich undergraduate degrees are useful in\\nthe real world?\\nTypically, those that have a technical element of some form —\\nthat teach you how to do something substantive.\\nEngineering degrees obviously qualify. The current myth that\\nengineering and computer science degrees are less useful\\nbecause all the jobs are going to India and China is silliness;\\nignore it.\\nHard science degrees — physics, chemistry — also clearly qualify, as do mathematics and', np.float64(0.4688566672232099))\n",
            "(' demands rigorous thinking on the\\npath to doing anything big.\\n• Plus, technical degrees indicate seriousness of purpose to\\nfuture employers and partners. You get coded right up front\\nas someone who is intent on doing real things.\\nGraduating with a technical degree is like heading out into the real\\n108 The Pmarca Blog Archives\\nworld armed with an assault riGe instead of a dull knife. Don’t miss\\nthat opportunity because of some fuzzy romanticized view of\\nliberal arts broadening your horizons.\\nWhat graduate degrees are useful in the\\nreal world?\\nGenerally, if you have a useful undergrad degree, I think graduate degrees are overrated. You can usually hit the workforce in a\\nreal job with just an undergraduate degree and progress rapidly\\naccording to your own ability and energy from there.\\nOf course, you’re hearing this from someone who could barely\\nstand to stay in school long enough to Xnish undergrad, so take\\nthat for what it’s worth.\\nIf you don’t have a useful undergrad degree, then a use', np.float64(0.46453041351435653))\n",
            "('of the time they can send an email that\\nyou can process at the end of the day during the second of your\\ntwo daily email sweeps.\\nHere’s the best part: you don’t actually have to be listening to\\nanything.\\nHell, you don’t even have to have the headphones plugged into\\nanything.\\nSleeping and Eating\\nI’m not going to talk a lot about getting up early or going to\\nbed late or anything else related to the course of a typical day,\\nbecause everyone’s diWerent.\\nPersonally I go back and forth between being a night owl (99% of\\nthe time) and a morning person (1% — I’m going to try to push\\nit to 2%).\\nBut the thing that matters almost more than anything in determining whether I’ll have a happy, satisfying day is this: no matter what time you get up, start the day with a real, sit-down\\nbreakfast.\\nThis serves two purposes.\\nFirst, it fuels you up. Study aaer study have shown that breakfast\\nis, yes, the most important meal of the day. It’s critical to properly fuel the body for the day’s activities and it’s', np.float64(0.464091034076865))\n",
            "('pure research and education — do\\nnot have PhDs. Draw from that whatever conclusion you think\\nmakes sense.\\nWhat college or university should I go to?\\nTry very very hard to go to one of the best colleges or universities in the world for your chosen Xeld.\\nDon’t worry about being a small Fsh in a big pond — you want to\\nalways be in the best pond possible, because that’s how you will get\\nPart 2: Skills and education 109\\nexposed to the best people and the best opportunities in your\\nXeld.\\nIf you can’t start out in one of the top schools for your Xeld, then\\nwork your butt oW and get great grades and transfer as fast as\\nyou possibly can into a top school.\\nAnd if you can’t do that — if you end up getting your undergrad\\nat a school that’s not one of the top in your Xeld — then strongly\\nconsider pursuing a graduate degree in your Xeld at a great\\nschool for your Xeld.\\nIn this way, even if your only option is starting out at a community college, by the time you Xnish 4-6 years of education, you\\ncan ', np.float64(0.46249114553074716))\n"
          ]
        }
      ],
      "source": [
        "import numpy as np\n",
        "def euclidean_distance(vector_a: np.array, vector_b: np.array) -> float:\n",
        "    \"\"\"Computes the Euclidean distance between two vectors.\"\"\"\n",
        "    distance = np.linalg.norm(vector_a - vector_b)\n",
        "    return distance\n",
        "\n",
        "def minkowski_distance(vector_a: np.array, vector_b: np.array, p: float = 3) -> float:\n",
        "    \"\"\"Computes the Minkowski distance between two vectors for a given order p.\n",
        "        Default p=3 - a distance between Manhattan and Euclidean\n",
        "        Note    1=Manhattan distance\n",
        "                2=Euclidean distance\n",
        "    \"\"\"\n",
        "    distance = np.sum(np.abs(vector_a - vector_b) ** p) ** (1 / p)\n",
        "    return distance\n",
        "\n",
        "def print_array(in_array):\n",
        "    for item in in_array:\n",
        "        print(item)\n",
        "\n",
        "print(\"Default - Cosine Similarity\")\n",
        "print_array(vector_db.search_by_text(\"What is the Michael Eisner Memorial Weak Executive Problem?\", \n",
        "                         k=5))\n",
        "print(\" \")\n",
        "print(\"Euclidean Distance\")\n",
        "print_array(vector_db.search_by_text(\"What is the Michael Eisner Memorial Weak Executive Problem?\", \n",
        "                         k=5, distance_measure=euclidean_distance))\n",
        "print(\" \")\n",
        "print(\"Minkowski Distance\")\n",
        "print_array(vector_db.search_by_text(\"What is the Michael Eisner Memorial Weak Executive Problem?\", \n",
        "                         k=5, distance_measure=minkowski_distance))"
      ]
    },
    {
      "cell_type": "markdown",
      "metadata": {
        "id": "TehsfIiKR6yw"
      },
      "source": [
        "## Task 4: Prompts\n",
        "\n",
        "In the following section, we'll be looking at the role of prompts - and how they help us to guide our application in the right direction.\n",
        "\n",
        "In this notebook, we're going to rely on the idea of \"zero-shot in-context learning\".\n",
        "\n",
        "This is a lot of words to say: \"We will ask it to perform our desired task in the prompt, and provide no examples.\""
      ]
    },
    {
      "cell_type": "markdown",
      "metadata": {
        "id": "yXpA0UveR6yw"
      },
      "source": [
        "### XYZRolePrompt\n",
        "\n",
        "Before we do that, let's stop and think a bit about how OpenAI's chat models work.\n",
        "\n",
        "We know they have roles - as is indicated in the following API [documentation](https://platform.openai.com/docs/api-reference/chat/create#chat/create-messages)\n",
        "\n",
        "There are three roles, and they function as follows (taken directly from [OpenAI](https://platform.openai.com/docs/guides/gpt/chat-completions-api)):\n",
        "\n",
        "- `{\"role\" : \"system\"}` : The system message helps set the behavior of the assistant. For example, you can modify the personality of the assistant or provide specific instructions about how it should behave throughout the conversation. However note that the system message is optional and the model’s behavior without a system message is likely to be similar to using a generic message such as \"You are a helpful assistant.\"\n",
        "- `{\"role\" : \"user\"}` : The user messages provide requests or comments for the assistant to respond to.\n",
        "- `{\"role\" : \"assistant\"}` : Assistant messages store previous assistant responses, but can also be written by you to give examples of desired behavior.\n",
        "\n",
        "The main idea is this:\n",
        "\n",
        "1. You start with a system message that outlines how the LLM should respond, what kind of behaviours you can expect from it, and more\n",
        "2. Then, you can provide a few examples in the form of \"assistant\"/\"user\" pairs\n",
        "3. Then, you prompt the model with the true \"user\" message.\n",
        "\n",
        "In this example, we'll be forgoing the 2nd step for simplicities sake."
      ]
    },
    {
      "cell_type": "markdown",
      "metadata": {
        "id": "gdZ2KWKSR6yw"
      },
      "source": [
        "#### Utility Functions\n",
        "\n",
        "You'll notice that we're using some utility functions from the `aimakerspace` module - let's take a peek at these and see what they're doing!"
      ]
    },
    {
      "cell_type": "markdown",
      "metadata": {
        "id": "GFbeJDDsR6yw"
      },
      "source": [
        "##### XYZRolePrompt"
      ]
    },
    {
      "cell_type": "markdown",
      "metadata": {
        "id": "5mojJSE3R6yw"
      },
      "source": [
        "Here we have our `system`, `user`, and `assistant` role prompts.\n",
        "\n",
        "Let's take a peek at what they look like:\n",
        "\n",
        "```python\n",
        "class BasePrompt:\n",
        "    def __init__(self, prompt):\n",
        "        \"\"\"\n",
        "        Initializes the BasePrompt object with a prompt template.\n",
        "\n",
        "        :param prompt: A string that can contain placeholders within curly braces\n",
        "        \"\"\"\n",
        "        self.prompt = prompt\n",
        "        self._pattern = re.compile(r\"\\{([^}]+)\\}\")\n",
        "\n",
        "    def format_prompt(self, **kwargs):\n",
        "        \"\"\"\n",
        "        Formats the prompt string using the keyword arguments provided.\n",
        "\n",
        "        :param kwargs: The values to substitute into the prompt string\n",
        "        :return: The formatted prompt string\n",
        "        \"\"\"\n",
        "        matches = self._pattern.findall(self.prompt)\n",
        "        return self.prompt.format(**{match: kwargs.get(match, \"\") for match in matches})\n",
        "\n",
        "    def get_input_variables(self):\n",
        "        \"\"\"\n",
        "        Gets the list of input variable names from the prompt string.\n",
        "\n",
        "        :return: List of input variable names\n",
        "        \"\"\"\n",
        "        return self._pattern.findall(self.prompt)\n",
        "```\n",
        "\n",
        "Then we have our `RolePrompt` which laser focuses us on the role pattern found in most API endpoints for LLMs.\n",
        "\n",
        "```python\n",
        "class RolePrompt(BasePrompt):\n",
        "    def __init__(self, prompt, role: str):\n",
        "        \"\"\"\n",
        "        Initializes the RolePrompt object with a prompt template and a role.\n",
        "\n",
        "        :param prompt: A string that can contain placeholders within curly braces\n",
        "        :param role: The role for the message ('system', 'user', or 'assistant')\n",
        "        \"\"\"\n",
        "        super().__init__(prompt)\n",
        "        self.role = role\n",
        "\n",
        "    def create_message(self, **kwargs):\n",
        "        \"\"\"\n",
        "        Creates a message dictionary with a role and a formatted message.\n",
        "\n",
        "        :param kwargs: The values to substitute into the prompt string\n",
        "        :return: Dictionary containing the role and the formatted message\n",
        "        \"\"\"\n",
        "        return {\"role\": self.role, \"content\": self.format_prompt(**kwargs)}\n",
        "```\n",
        "\n",
        "We'll look at how the `SystemRolePrompt` is constructed to get a better idea of how that extension works:\n",
        "\n",
        "```python\n",
        "class SystemRolePrompt(RolePrompt):\n",
        "    def __init__(self, prompt: str):\n",
        "        super().__init__(prompt, \"system\")\n",
        "```\n",
        "\n",
        "That pattern is repeated for our `UserRolePrompt` and our `AssistantRolePrompt` as well."
      ]
    },
    {
      "cell_type": "markdown",
      "metadata": {
        "id": "D361R6sMR6yw"
      },
      "source": [
        "##### ChatOpenAI"
      ]
    },
    {
      "cell_type": "markdown",
      "metadata": {
        "id": "HJVQ2Pm8R6yw"
      },
      "source": [
        "Next we have our model, which is converted to a format analagous to libraries like LangChain and LlamaIndex.\n",
        "\n",
        "Let's take a peek at how that is constructed:\n",
        "\n",
        "```python\n",
        "class ChatOpenAI:\n",
        "    def __init__(self, model_name: str = \"gpt-4o-mini\"):\n",
        "        self.model_name = model_name\n",
        "        self.openai_api_key = os.getenv(\"OPENAI_API_KEY\")\n",
        "        if self.openai_api_key is None:\n",
        "            raise ValueError(\"OPENAI_API_KEY is not set\")\n",
        "\n",
        "    def run(self, messages, text_only: bool = True):\n",
        "        if not isinstance(messages, list):\n",
        "            raise ValueError(\"messages must be a list\")\n",
        "\n",
        "        openai.api_key = self.openai_api_key\n",
        "        response = openai.ChatCompletion.create(\n",
        "            model=self.model_name, messages=messages\n",
        "        )\n",
        "\n",
        "        if text_only:\n",
        "            return response.choices[0].message.content\n",
        "\n",
        "        return response\n",
        "```"
      ]
    },
    {
      "cell_type": "markdown",
      "metadata": {
        "id": "qCU7FfhIR6yw"
      },
      "source": [
        "<div style=\"background-color: darkgreen; padding: 10px;\">\n",
        "<h1>❓ Question #3:</h1>\n",
        "\n",
        "When calling the OpenAI API - are there any ways we can achieve more reproducible outputs?\n",
        "\n",
        "Answer 3: Setting a lower temperature score 0-2 - will result in more reproducible responses than a higher temperature score > 2 - note temperature is a range of 0-10.\n",
        "\n",
        "</div>\n",
        "> NOTE: Check out [this section](https://platform.openai.com/docs/guides/text-generation/) of the OpenAI documentation for the answer!"
      ]
    },
    {
      "cell_type": "markdown",
      "metadata": {
        "id": "c5wcjMLCR6yw"
      },
      "source": [
        "### Creating and Prompting OpenAI's `gpt-4o-mini`!\n",
        "\n",
        "Let's tie all these together and use it to prompt `gpt-4o-mini`!"
      ]
    },
    {
      "cell_type": "code",
      "execution_count": 48,
      "metadata": {
        "id": "WIfpIot7R6yw"
      },
      "outputs": [
        {
          "name": "stdout",
          "output_type": "stream",
          "text": [
            "<aimakerspace.openai_utils.prompts.UserRolePrompt object at 0x7fbeab8e1d10>\n",
            "{'role': 'user', 'content': 'What is the best way to write a loop?'}\n",
            "<aimakerspace.openai_utils.prompts.SystemRolePrompt object at 0x7fbeab83d8d0>\n",
            "{'role': 'system', 'content': 'You are an expert in Javascript, you always answer in a kind way.'}\n"
          ]
        }
      ],
      "source": [
        "from aimakerspace.openai_utils.prompts import (\n",
        "    UserRolePrompt,\n",
        "    SystemRolePrompt,\n",
        "    AssistantRolePrompt,\n",
        ")\n",
        "\n",
        "from aimakerspace.openai_utils.chatmodel import ChatOpenAI\n",
        "\n",
        "chat_openai = ChatOpenAI()\n",
        "user_prompt_template = \"{content}\"\n",
        "user_role_prompt = UserRolePrompt(user_prompt_template)\n",
        "print(user_role_prompt)\n",
        "print(    user_role_prompt.create_message(\n",
        "        content=\"What is the best way to write a loop?\"\n",
        "    ))\n",
        "system_prompt_template = (\n",
        "    \"You are an expert in {expertise}, you always answer in a kind way.\"\n",
        ")\n",
        "system_role_prompt = SystemRolePrompt(system_prompt_template)\n",
        "print(system_role_prompt)\n",
        "print(system_role_prompt.create_message(expertise=\"Javascript\"))\n",
        "\n",
        "messages = [\n",
        "    system_role_prompt.create_message(expertise=\"linguistics\"),\n",
        "    user_role_prompt.create_message(\n",
        "        content=\"What is the best way to learn icelandic?\"\n",
        "    ),\n",
        "]\n",
        "\n",
        "response = chat_openai.run(messages)"
      ]
    },
    {
      "cell_type": "code",
      "execution_count": 49,
      "metadata": {
        "colab": {
          "base_uri": "https://localhost:8080/"
        },
        "id": "dHo7lssNR6yw",
        "outputId": "1d3823fa-bb6b-45f6-ddba-b41686388324"
      },
      "outputs": [
        {
          "name": "stdout",
          "output_type": "stream",
          "text": [
            "Learning Icelandic can be a rewarding endeavor, given its unique linguistic features and rich cultural heritage! Here are some effective strategies to help you on your learning journey:\n",
            "\n",
            "1. **Structured Courses**: Enroll in a language course, either online or in-person, that is specifically focused on Icelandic. Look for courses that emphasize speaking, listening, reading, and writing.\n",
            "\n",
            "2. **Language Apps**: Use language learning apps such as Duolingo, Drops, or Memrise. These can provide a fun and interactive way to build your vocabulary and grammar skills.\n",
            "\n",
            "3. **Textbooks and Grammar Guides**: Invest in a good textbook or grammar guide dedicated to Icelandic. This will help you understand the rules and structure of the language.\n",
            "\n",
            "4. **Listening Practice**: Immerse yourself in the language by listening to Icelandic music, podcasts, and radio stations. This will help you improve your listening skills and become familiar with pronunciation.\n",
            "\n",
            "5. **Reading**: Start with children’s books or simple texts in Icelandic to build your reading skills gradually. As you advance, you can explore more complex literature.\n",
            "\n",
            "6. **Speaking**: Practice speaking Icelandic as much as possible. If you can, find a language partner or consider joining conversation groups. Online platforms like Tandem or HelloTalk can connect you with native speakers.\n",
            "\n",
            "7. **Watch Films and TV Shows**: Enjoy Icelandic films or TV series with subtitles to enhance your listening and comprehension skills while gaining cultural insights.\n",
            "\n",
            "8. **Cultural Immersion**: If possible, visit Iceland to immerse yourself in the language and culture. Engaging with locals is one of the best ways to practice.\n",
            "\n",
            "9. **Consistent Practice**: Set aside a little time each day for study. Consistency is key to language learning!\n",
            "\n",
            "10. **Be Patient and Positive**: Language learning takes time, so celebrate your progress, no matter how small, and stay motivated!\n",
            "\n",
            "Remember, everyone learns at their own pace, so find the methods that work best for you. Good luck on your journey to learning Icelandic!🌟\n"
          ]
        }
      ],
      "source": [
        "print(response)"
      ]
    },
    {
      "cell_type": "markdown",
      "metadata": {
        "id": "r2nxxhB2R6yy"
      },
      "source": [
        "## Task 5: Retrieval Augmented Generation\n",
        "\n",
        "Now we can create a RAG prompt - which will help our system behave in a way that makes sense!\n",
        "\n",
        "There is much you could do here, many tweaks and improvements to be made!"
      ]
    },
    {
      "cell_type": "code",
      "execution_count": 50,
      "metadata": {
        "id": "D1hamzGaR6yy"
      },
      "outputs": [],
      "source": [
        "RAG_PROMPT_TEMPLATE = \"\"\" \\\n",
        "Use the provided context to answer the user's query.\n",
        "\n",
        "You may not answer the user's query unless there is specific context in the following text.\n",
        "\n",
        "If you do not know the answer, or cannot answer, please respond with \"I don't know\".\n",
        "\"\"\"\n",
        "\n",
        "rag_prompt = SystemRolePrompt(RAG_PROMPT_TEMPLATE)\n",
        "\n",
        "USER_PROMPT_TEMPLATE = \"\"\" \\\n",
        "Context:\n",
        "{context}\n",
        "\n",
        "User Query:\n",
        "{user_query}\n",
        "\"\"\"\n",
        "\n",
        "\n",
        "user_prompt = UserRolePrompt(USER_PROMPT_TEMPLATE)\n",
        "\n",
        "class RetrievalAugmentedQAPipeline:\n",
        "    def __init__(self, llm: ChatOpenAI(), vector_db_retriever: VectorDatabase) -> None:\n",
        "        self.llm = llm\n",
        "        self.vector_db_retriever = vector_db_retriever\n",
        "\n",
        "    def run_pipeline(self, user_query: str) -> str:\n",
        "        context_list = self.vector_db_retriever.search_by_text(user_query, k=4)\n",
        "        context_prompt = \"\"\n",
        "        for context in context_list:\n",
        "            context_prompt += context[0] + \"\\n\"\n",
        "\n",
        "        formatted_system_prompt = rag_prompt.create_message()\n",
        "\n",
        "        formatted_user_prompt = user_prompt.create_message(user_query=user_query, context=context_prompt)\n",
        "\n",
        "        return {\"response\" : self.llm.run([formatted_system_prompt, formatted_user_prompt]), \"context\" : context_list}"
      ]
    },
    {
      "cell_type": "markdown",
      "metadata": {
        "id": "zZIJI19uR6yz"
      },
      "source": [
        "<div style=\"background-color: darkgreen; padding: 10px;\">\n",
        "<h1>❓ Question #4:</h1>\n",
        "\n",
        "What prompting strategies could you use to make the LLM have a more thoughtful, detailed response?\n",
        "\n",
        "What is that strategy called?\n",
        "\n",
        "Answer 4: We could use \"Chain of thought\" approach to prompting by guiding the model to go through intermediate steps to arrive at an answer. We could provide sample answers to direct it to respond in a certain way.\n",
        "\n",
        "</div>\n",
        "\n",
        "> NOTE: You can look through the Week 1 Day 1 \"Prompting OpenAI Like A Developer\" material for an answer to this question!"
      ]
    },
    {
      "cell_type": "markdown",
      "metadata": {},
      "source": [
        "Create the pipeline"
      ]
    },
    {
      "cell_type": "code",
      "execution_count": 51,
      "metadata": {
        "id": "kqbE9fZ6R6yz"
      },
      "outputs": [],
      "source": [
        "retrieval_augmented_qa_pipeline = RetrievalAugmentedQAPipeline(\n",
        "    vector_db_retriever=vector_db,\n",
        "    llm=chat_openai\n",
        ")"
      ]
    },
    {
      "cell_type": "code",
      "execution_count": 54,
      "metadata": {
        "colab": {
          "base_uri": "https://localhost:8080/"
        },
        "id": "jAGhaCGOR6yz",
        "outputId": "e4fb3a1b-d2bc-4e18-ec31-dc0adf767163"
      },
      "outputs": [
        {
          "name": "stdout",
          "output_type": "stream",
          "text": [
            "Response:\n",
            "The 'Michael Eisner Memorial Weak Executive Problem' refers to the tendency of a CEO or a startup founder to hire a weak executive in their former area of expertise in order to maintain control and prominence in that function. This issue arises when the CEO, who has a strong background in a particular field (like product management, sales, or marketing), employs someone who is less competent in that area. The CEO may do this intentionally to avoid feeling overshadowed, leading to poor performance and outcomes, as exemplified by Michael Eisner’s experience when he took over ABC at Disney and faced challenges, despite his capabilities.\n",
            "\n",
            "Context Used:\n",
            "\n",
            "Context 1:\n",
            "Score: 0.6582\n",
            "Text: ordingly.\n",
            "Seventh, when hiring the executive to run your former specialty, be\n",
            "careful you don’t hire someone weak on purpose.\n",
            "This sounds silly, but you wouldn’t believe how oaen it happens.\n",
            "The CEO who used to be a product manager who has a weak\n",
            "product management executive. The CEO who used to be in\n",
            "sales who has a weak sales executive. The CEO who used to be\n",
            "in marketing who has a weak marketing executive.\n",
            "I call this the “Michael Eisner Memorial Weak Executive Problem” — aaer the CEO of Disney who had previously been a brilliant TV network executive. When he bought ABC at Disney, it\n",
            "promptly fell to fourth place. His response? “If I had an extra\n",
            "two days a week, I could turn around ABC myself.” Well, guess\n",
            "what, he didn’t have an extra two days a week.\n",
            "A CEO — or a startup founder — oaen has a hard time letting\n",
            "go of the function that brought him to the party. The result: you\n",
            "hire someone weak into the executive role for that function so\n",
            "that you can continue to be “the man” — cons\n",
            "\n",
            "Context 2:\n",
            "Score: 0.5089\n",
            "Text: m. They have areas where they are truly deXcient in judgment or skill set. That’s just life. Almost nobody is brilliant\n",
            "at everything. When hiring and when Hring executives, you\n",
            "must therefore focus on strength rather than lack of weakness. Everybody has severe weaknesses even if you can’t see\n",
            "them yet. When managing, it’s oaen useful to micromanage and\n",
            "to provide remedial training around these weaknesses. Doing so\n",
            "may make the diWerence between an executive succeeding or\n",
            "failing.\n",
            "For example, you might have a brilliant engineering executive\n",
            "who generates excellent team loyalty, has terriXc product judgment and makes the trains run on time. This same executive\n",
            "may be very poor at relating to the other functions in the company. She may generate far more than her share of cross-functional conYicts, cut herself oW from critical information, and\n",
            "signiXcantly impede your ability to sell and market eWectively.\n",
            "Your alternatives are:\n",
            "(a) Macro-manage and give her an annual or quarterly object\n",
            "\n",
            "Context 3:\n",
            "Score: 0.4790\n",
            "Text: ed?\n",
            "In reality — as opposed to Marc’s warped view of reality — it will\n",
            "be extremely helpful for Marc [if he were actually the CEO,\n",
            "which he is not] to meet with the new head of engineering daily\n",
            "when she comes on board and review all of her thinking and\n",
            "decisions. This level of micromanagement will accelerate her\n",
            "training and improve her long-term eWectiveness. It will make\n",
            "her seem smarter to the rest of the organization which will build\n",
            "credibility and conXdence while she comes up to speed. Micromanaging new executives is generally a good idea for a limited\n",
            "period of time.\n",
            "However, that is not the only time that it makes sense to micro66 The Pmarca Blog Archives\n",
            "manage executives. It turns out that just about every executive\n",
            "in the world has a few things that are seriously wrong with\n",
            "them. They have areas where they are truly deXcient in judgment or skill set. That’s just life. Almost nobody is brilliant\n",
            "at everything. When hiring and when Hring executives, you\n",
            "must therefore focus o\n",
            "\n",
            "Context 4:\n",
            "Score: 0.4681\n",
            "Text: nYicts, cut herself oW from critical information, and\n",
            "signiXcantly impede your ability to sell and market eWectively.\n",
            "Your alternatives are:\n",
            "(a) Macro-manage and give her an annual or quarterly objective\n",
            "to Xx it, or…\n",
            "(b) Intensively micromanage her interactions until she learns\n",
            "the fundamental interpersonal skills required to be an eWective\n",
            "executive.\n",
            "I am arguing that doing (a) will likely result in weak performance. The reason is that she very likely has no idea how to be\n",
            "eWective with her peers. If somebody is an executive, it’s very\n",
            "likely that somewhere along the line somebody gave her feedback — perhaps abstractly — about all of her weaknesses. Yet\n",
            "the weakness remains. As a result, executives generally require\n",
            "more hands-on management than lower level employees to\n",
            "improve weak areas.\n",
            "So, micromanagement is like Xne wine. A little at the right times\n",
            "will really enhance things; too much all the time and you’ll end\n",
            "up in rehab.\n",
            "Part 8: Hiring, managing, promoting, and Dring execut\n"
          ]
        }
      ],
      "source": [
        "result = retrieval_augmented_qa_pipeline.run_pipeline(\"What is the 'Michael Eisner Memorial Weak Executive Problem'?\")\n",
        "response = result[\"response\"]\n",
        "context_list = result[\"context\"]\n",
        "print(\"Response:\")\n",
        "print(response)\n",
        "print(\"\\nContext Used:\")\n",
        "\n",
        "# Print each context with its similarity score\n",
        "for i, (context, score) in enumerate(context_list, 1):\n",
        "    print(f\"\\nContext {i}:\")\n",
        "    print(f\"Score: {score:.4f}\")\n",
        "    print(f\"Text: {context.strip()}\")\n"
      ]
    },
    {
      "cell_type": "markdown",
      "metadata": {},
      "source": [
        "<div>\n",
        "<h1>🏗️ Activity #1:</h1>\n",
        "\n",
        "Enhance your RAG application in some way! \n",
        "\n",
        "\n",
        "- Refactored and abstracted DocumentManager to handle the documen splitter and vector db creation\n",
        "- Allow it to work with PDF files\n",
        "    - Single pdf\n",
        "    - Folder with mixed pdf and txt files\n",
        "- Implement a new distance metric\n",
        "    - Euclidian Distance\n",
        "    - Minkowski Distance\n",
        "\n",
        "- Future - Add metadata support to the vector database\n",
        "- Future - Change splitting algorithm\n",
        "</div>\n",
        "\n",
        "\n",
        "> NOTE: These additions might require you to work within the `aimakerspace` library - that's expected!"
      ]
    },
    {
      "cell_type": "markdown",
      "metadata": {},
      "source": [
        "The reading of the document, the chunking, and creation of the vector database\n",
        "have been moved to the DocumentManager class to improve repeatability"
      ]
    },
    {
      "cell_type": "code",
      "execution_count": 71,
      "metadata": {},
      "outputs": [
        {
          "name": "stdout",
          "output_type": "stream",
          "text": [
            "Docuemnt processed - ready for querying\n",
            "defaultdict(<built-in function array>, {\"\\nThe Saga of Erik the Red\\n1880 translation into English by J. Sephton from the original Icelandic 'Eiríks saga rauða'.\\n    \\n\\n\\nChapter 1\\n\\nOlaf, who was called Olaf the White, was styled a warrior king. He was the son of King Ingjald, the son of Helgi, the son of Olaf, the son of Gudred, the son of Halfdan Whiteleg, king of the Uplands (in Norway).\\n\\nHe led a harrying expedition of sea-rovers into the west, and conquered Dublin, in Ireland, and Dublinshire, over which he made himself king. He married Aud the Deep-minded, daughter of Ketil Flatnose, son of Bjorn the Ungartered, a noble man from Norway. Their son was named Thorstein the Red.\\n\\nOlaf fell in battle in Ireland, and then Aud and Thorstein went into the Sudreyjar (the Hebrides). There Thorstein married Thorid, daughter of Eyvind the Easterling, sister of Helgi the Lean; and they had many children.\\n\\n Thorstein became a warrior king, and formed an alliance with Earl Sigurd the Great, son of Eystein the Rattler. They conquered Caith\": array([ 0.01293573,  0.00391604,  0.01449484, ..., -0.01475063,\n",
            "       -0.00459815, -0.01378837]), \"Easterling, sister of Helgi the Lean; and they had many children.\\n\\n Thorstein became a warrior king, and formed an alliance with Earl Sigurd the Great, son of Eystein the Rattler. They conquered Caithness, Sutherland, Ross, and Moray, and more than half Scotland. Over these Thorstein was king until the Scots plotted against him, and he fell there in battle.\\n\\nAud was in Caithness when she heard of Thorstein's death. Then she caused a merchant-ship to be secretly built in the wood, and when she was ready, directed her course out into the Orkneys. There she gave in marriage Thorstein the Red's daughter, Gro, who became mother of Grelad, whom Earl Thorfinn, the Skullcleaver, married.\\n\\nAfterwards Aud set out to seek Iceland, having twenty free men in her ship. Aud came to Iceland, and passed the first winter in Bjarnarhofn (Bjornshaven) with her brother Bjorn. Afterwards she occupied all the Dale country between the Dogurdara (day-meal river) and the Skraumuhlaupsa (river of the giantess's \": array([ 0.01199502,  0.00161857,  0.05922226, ..., -0.05051458,\n",
            "        0.03096621, -0.01917195]), 'e first winter in Bjarnarhofn (Bjornshaven) with her brother Bjorn. Afterwards she occupied all the Dale country between the Dogurdara (day-meal river) and the Skraumuhlaupsa (river of the giantess\\'s leap), and dwelt at Hvamm. She had prayer meetings at Krossholar (Crosshills), where she caused crosses to be erected, for she was baptised and deeply devoted to the faith. There came with her to Iceland many men worthy of honour, who had been taken captive in sea-roving expeditions to the west, and who were called bondmen.\\n\\nOne of these was named Vifil; he was a man of high family, and had been taken captive beyond the western main, and was also called a bondman before Aud set him free. And when Aud granted dwellings to her ship\\'s company, Vifil asked why she gave no abode to him like unto the others. Aud replied, \"That it was of no moment to him, for,\" she said, \"he would be esteemed in whatever place he was, as one worthy of honour.\" She gave him Vifilsdalr (Vifilsdale), and he dwelt th': array([ 0.01317687,  0.04463268,  0.04181202, ..., -0.02172179,\n",
            "        0.02463923, -0.01543063]), 'e others. Aud replied, \"That it was of no moment to him, for,\" she said, \"he would be esteemed in whatever place he was, as one worthy of honour.\" She gave him Vifilsdalr (Vifilsdale), and he dwelt there and married. His sons were Thorbjorn and Thorgeir, promising men, and they grew up in their father\\'s house.\\n\\n\\nChapter 2\\n\\nThere was a man named Thorvald, the son of Asvald, the son of Ulf, the son of Yxna-Thoris. His son was named Eirik. Father and son removed from Jadar (in Norway) to Iceland, because of manslaughters, and occupied land in Hornstrandir, and dwelt at Drangar.\\n\\nThere Thorvald died, and Eirik then married Thjodhild, daughter of Jorund, the son of Atli, and of Thorbjorg the Ship-breasted, whom afterwards Thorbjorn, of the Haukadalr (Hawkdale) family, married; he it was who dwelt at Eiriksstadr after Eirik removed from the north. It is near Vatzhorn.\\n\\nThen did Eirik\\'s thralls cause a landslip on the estate of Valthjof, at Valthjofsstadr. Eyjolf the Foul, his kinsman, slew t': array([ 0.00914689,  0.01645572,  0.02779463, ..., -0.03211659,\n",
            "        0.02861431, -0.01133892]), \"lt at Eiriksstadr after Eirik removed from the north. It is near Vatzhorn.\\n\\nThen did Eirik's thralls cause a landslip on the estate of Valthjof, at Valthjofsstadr. Eyjolf the Foul, his kinsman, slew the thralls beside Skeidsbrekkur (slopes of the race-course), above Vatzhorn. In return Eirik slew Eyjolf the Foul; he slew also Hrafn the Dueller, at Leikskalar (playbooths). Gerstein, and Odd of Jorfi, kinsman of Eyjolf, were found willing to follow up his death by a legal prosecution; and then was Eirik banished from Haukadalr.\\n\\nHe occupied then Brokey and Eyxney, and dwelt at Tradir, in Sudrey, the first winter. At this time did he lend to Thorgest pillars for seat-stocks, Afterwards Eirik removed into Eyxney, and dwelt at Eiriksstadr. He then claimed his pillars, and got them not. Then went Eirik and fetched the pillars from Breidabolstadr, and Thorgest went after him. They fought at a short distance from the hay-yard at Drangar, and there fell two sons of Thorgest, and some other men.\": array([-0.00298429, -0.0005381 ,  0.04988578, ..., -0.02572743,\n",
            "        0.00896132, -0.01527143]), \"t Eirik and fetched the pillars from Breidabolstadr, and Thorgest went after him. They fought at a short distance from the hay-yard at Drangar, and there fell two sons of Thorgest, and some other men.\\n\\nAfter that they both kept a large body of men together. Styr gave assistance to Eirik, as also did Eyjolf, of Sviney, Thorbjorn Vifilsson, and the sons of Thorbrand, of Alptafjordr (Swanfirth). But the sons of Thord Gellir, as also Thorgeir, of Hitardalr (Hotdale), Aslak, of Langadalr (Longdale), and Illugi, his son, gave assistance to Thorgest.\\n\\n Eirik and his people were outlawed at Thorsnes Thing. He prepared a ship in Eiriksvagr (creek), and Eyjolf concealed him in Dimunarvagr while Thorgest and his people sought him among the islands. Eirik said to his people that he purposed to seek for the land which Gunnbjorn, the son of Ulf the Crow, saw when he was driven westwards over the ocean, and discovered Gunnbjarnarsker (Gunnbjorn's rock or skerry). He promised that he would return to v\": array([ 0.02249944,  0.00185024,  0.04209654, ..., -0.02586868,\n",
            "        0.00615801, -0.00294177]), \"r the land which Gunnbjorn, the son of Ulf the Crow, saw when he was driven westwards over the ocean, and discovered Gunnbjarnarsker (Gunnbjorn's rock or skerry). He promised that he would return to visit his friends if he found the land. Thorbjorn, and Eyjolf, and Styr accompanied Eirik beyond the islands. They separated in the most friendly manner, Eirik saying that he would be of the like assistance to them, if he should be able so to be, and they should happen to need him.\\n\\nThen he sailed oceanwards under Snæfellsjokull (snow mountain glacier), and arrived at the glacier called Blaserkr (Blue-shirt); thence he journeyed south to see if there were any inhabitants of the country.\\n\\nHe passed the first winter at Eiriksey, near the middle, of the Vestribygd (western settlement). The following spring he proceeded to Eiriksfjordr, and fixed his abode there. During the summer he proceeded into the unpeopled districts in the west, and was there a long time, giving names to the places far an\": array([-0.0055313 ,  0.00530323,  0.05550568, ..., -0.03672112,\n",
            "        0.03055382,  0.00249743]), 'ng spring he proceeded to Eiriksfjordr, and fixed his abode there. During the summer he proceeded into the unpeopled districts in the west, and was there a long time, giving names to the places far and wide. The second winter he passed in Eiriksholmar (isles), off Hvarfsgnupr (peak of disappearance, Cape Farewell); and the third summer he went altogether northwards, to Snæfell and into Hrafnsfjordr (Ravensfirth); considering then that he had come to the head of Eiriksfjordr, he turned back, and passed the third winter in Eiriksey, before the mouth of Eiriksfjordr.\\n\\nNow, afterwards, during the summer, he proceeded to Iceland, and came to Breidafjordr (Broadfirth). This winter he was with Ingolf, at Holmlatr (Island-litter). During the spring, Thorgest and he fought, and Eirik met with defeat. After that they were reconciled. In the summer Eirik went to live in the land which he had discovered, and which he called Greenland, \"Because,\" said he, \"men will desire much the more to go there ': array([ 0.01191485,  0.00485721,  0.07536484, ..., -0.02840559,\n",
            "       -0.00136433,  0.01038955]), 't. After that they were reconciled. In the summer Eirik went to live in the land which he had discovered, and which he called Greenland, \"Because,\" said he, \"men will desire much the more to go there if the land has a good name.\"\\n\\n\\nChapter 3\\n\\nThorgeir Vifilsson married, and took to wife Arnora, daughter of Einar, from Laugarbrekka (the slope of the hot spring), the son of Sigmund, the eon of Ketil-Thistil, who had occupied Thistilsfjordr.\\n\\nThe second daughter of Einar was named Hallveig. Thorbjorn Vifilsson took her to wife, and received with her the land of Laugarbrekka, at Hellisvollr (the cave-hill). To that spot Thorbjorn removed his abode, and became great and worshipful. He was the temple-priest, and had a magnificent estate. Thorbjorn\\'s daughter was Gudrid, the fairest of women, and of peerless nobility in all her conduct.\\n\\n There was a man named Orm, who dwelt at Arnarstapi (eagle-rock), and he had a wife who was named Halldis. He was a well-to-do franklin, a great friend of Th': array([ 0.03575028,  0.00269706,  0.01186833, ..., -0.02064168,\n",
            "        0.03388065,  0.00635104]), \" of peerless nobility in all her conduct.\\n\\n There was a man named Orm, who dwelt at Arnarstapi (eagle-rock), and he had a wife who was named Halldis. He was a well-to-do franklin, a great friend of Thorbjorn, and Gudrid lived at his house as his foster-child for a long time.\\n\\nThere was a man named Thorgeir, who dwelt at Thorgeirsfjall (fell). He was mighty rich in cattle, and had been made a freedman. He had a son, whose name was Einar, a handsome man, well mannered, and a great dandy. Einar, at this time, was a travelling merchant, sailing from land to land with great success; and he always passed his winter either in Iceland or in Norway.\\n\\nNow after this, I have to tell how that one autumn, when  Einar was in Iceland, he proceeded with his wares along Snæfellsnes, with the object of selling; he came to Arnarstapi; Orm invited him to stay there, and Einar accepted his invitation, because there was friendship between him and Orm's people, and his wares were earned into a certain outhou\": array([ 0.00356319, -0.01000434,  0.01428017, ..., -0.04588294,\n",
            "        0.03848246, -0.00222528]), 'ing; he came to Arnarstapi; Orm invited him to stay there, and Einar accepted his invitation, because there was friendship between him and Orm\\'s people, and his wares were earned into a certain outhouse. There he unpacked his merchandise, showed it to Orm and the housemen, and bade Orm take therefrom such things as he would. Orm accepted the offer, and pronounced Einar to be a goodly gallant traveller, and a great favourite of fortune. When now they were busy with the wares, a woman passed before the door of the outhouse.\\n\\nEinar inquired of Orm who that fair woman might be, passing before the door. \"I have not seen her here before,\" said he.\\n\\n \"That is Gudrid, my foster-child,\" said Orm, \"daughter of Thorbjorn the franklin, from Laugarbrekka.\"\\n\\n \"She must be a good match,\" said Einar; \"surely she has not been without suitors who have made proposals for her, has she?\"\\n\\nOrm answered, \"Proposals have certainly been made, friend, but this treasure is not to be had for the picking up; it is': array([ 0.0022219 , -0.00074175,  0.01827198, ..., -0.03853092,\n",
            "        0.03579213, -0.00129555]), 'ely she has not been without suitors who have made proposals for her, has she?\"\\n\\nOrm answered, \"Proposals have certainly been made, friend, but this treasure is not to be had for the picking up; it is found that she will be particular in her choice, as well as also her father.\"\\n\\n\"Well, in spite of that,\" quoth Einar, \"she is the woman whom I have it in my mind to propose for, and I wish that in this suit of mine you approach her father on my part, and apply yourself to plead diligently for me, for which I shall pay you in return a perfect friendship. The franklin, Thorbjorn, may reflect that our families would be suitably joined in the bonds of affinity; for he is a man in a position of great honour, and owns a fine abode, but his personal property, I am told, is greatly on the decrease; neither I nor my father lack lands or personal property; and if this alliance should be brought about, the greatest assistance would accrue to Thorbjorn.\"\\n\\n Then answered Orm, \"Of a surety I consider m': array([ 0.03271926,  0.00058529,  0.02047983, ..., -0.01649428,\n",
            "        0.03498133,  0.00352102]), 'either I nor my father lack lands or personal property; and if this alliance should be brought about, the greatest assistance would accrue to Thorbjorn.\"\\n\\n Then answered Orm, \"Of a surety I consider myself to be thy friend, and yet am I not willing to bring forward this suit, for Thorbjorn is of a proud mind, and withal a very ambitious man.\"\\n\\nEinar replied that he desired no other thing than that his offer of marriage should be made known. Orm then consented to undertake his suit, and Einar journeyed south again until he came home.\\n\\nA while after, Thorbjorn had a harvest-feast, as he was bound to have because of his great rank. There were present Orm, from Arnarstapi, and many other friends of Thorbjorn.\\n\\n Orm entered into conversation with Thorbjorn, and told him how that Einar had lately been to see him from Thorgeirsfjall, and was become a promising man. He now began the wooing on behalf of Einar, and said that an alliance between the families would be very suitable on account of c': array([-0.0076447 ,  0.00866574,  0.03508183, ..., -0.01832633,\n",
            "        0.00557317,  0.0162188 ]), 'y been to see him from Thorgeirsfjall, and was become a promising man. He now began the wooing on behalf of Einar, and said that an alliance between the families would be very suitable on account of certain interests. \"There may arise to thee, franklin,\" he said, \"great assistance in thy means from this alliance.\"\\n\\nBut Thorbjorn answered, \"I did not expect the like proposal from thee, that I should give my daughter in marriage to the son of a thrall. And so thou perceivest that my substance is decreasing; well, then, my daughter shall not go home with thee, since thou considerest her worthy of so poor a match.\"\\n\\nThen went Orm home again, and each of the other guests to his own household, and Gudrid remained with her father, and stayed at home that winter.\\n\\nNow, in the spring, Thorbjorn made a feast to his friends, and a goodly banquet was prepared. There came many guests, and the banquet was of the best. Now, at the banquet, Thorbjorn called for a hearing, and thus spake: - \"Here have ': array([-0.01240093,  0.01606304,  0.05515639, ..., -0.00730439,\n",
            "        0.02644122, -0.0069937 ]), 'e a feast to his friends, and a goodly banquet was prepared. There came many guests, and the banquet was of the best. Now, at the banquet, Thorbjorn called for a hearing, and thus spake: - \"Here have I dwelt a long time. I have experienced the goodwill of men and their affection towards me, and I consider that our dealings with one another have been mutually agreeable. But now do my money matters begin to bring me uneasiness, although to this time my condition has not been reckoned contemptible. I wish, therefore, to break up my household before I lose my honour; to remove from the country before I disgrace my family. So now I purpose to look after the promises of Eirik the Red, my friend, which he made when we separated at Breidafjordr. I purpose to depart for Greenland in the summer, if events proceed as I could wish.\"\\n\\n These tidings about this design appeared to the guests to be important, for Thorbjorn had long been beloved by his friends. They felt that he would only have made so': array([ 0.02033599,  0.01142703,  0.04570811, ..., -0.00973359,\n",
            "       -0.00715294, -0.01083801]), 'events proceed as I could wish.\"\\n\\n These tidings about this design appeared to the guests to be important, for Thorbjorn had long been beloved by his friends. They felt that he would only have made so public a declaration that it might be held of no avail to attempt to dissuade him from his purpose. Thorbjorn distributed gifts among the guests, and then the feast was brought to an end, and they departed to their own homesteads.\\n\\n Thorbjorn sold his lands, and bought a ship which had been laid up on shore at the mouth of the Hraunhofn (harbour of the lava field). Thirty men ventured on the expedition with him. There was Orm, from Arnarstapi, and his wife, and those friends of Thorbjorn who did not wish to be separated from him.\\n\\n Then they launched the ship, and set sail with a favourable wind. But when they came out into the open sea the favourable wind ceased, and they experienced great gales, and made but an ill-sped voyage throughout the summer. In addition to that trouble, there ca': array([ 0.01662991,  0.04303542,  0.03975789, ..., -0.0106876 ,\n",
            "       -0.0052013 , -0.01407914]), \"ind. But when they came out into the open sea the favourable wind ceased, and they experienced great gales, and made but an ill-sped voyage throughout the summer. In addition to that trouble, there came fever upon the expedition, and Orm died, and Halldis, his wife, and half the company. Then the sea waxed rougher, and they endured much toil and misery in many ways, and only reached Herjolfsnes, in Greenland, at the very beginning of winter.\\n\\nThere dwelt at Herjolfsnes the man who was called Thorkell. He was a useful man and most worthy franklin. He received Thorbjorn and all his ship's company for the winter, assisting them in right noble fashion. This pleased Thorbjorn well and his companions in the voyage.\\n\\n\\nChapter 4\\n\\nAt that time there was a great dearth in Greenland; those who had been out on fishing expeditions had caught little, and some had not returned.\\n\\nThere was in the settlement the woman whose name was Thorbjorg. She was a prophetess (spae-queen), and was called Litilvolv\": array([ 0.02145395,  0.01944776,  0.02214998, ..., -0.00796335,\n",
            "        0.01809666,  0.00286087]), 'en out on fishing expeditions had caught little, and some had not returned.\\n\\nThere was in the settlement the woman whose name was Thorbjorg. She was a prophetess (spae-queen), and was called Litilvolva (little sybil). She had had nine sisters, and they were all spae-queens, and she was the only one now living.\\n\\n It was a custom of Thorbjorg, in the winter time, to make a circuit, and people invited her to their houses, especially those who had any curiosity about the season, or desired to know their fate; and inasmuch as Thorkell was chief franklin thereabouts, he considered that it concerned him to know when the scarcity which overhung the settlement should cease. He invited, therefore, the spae-queen to his house, and prepared for her a hearty welcome, as was the custom whereever a reception was accorded a woman of this kind. A high seat was prepared for her, and a cushion laid thereon in which were poultry-feathers.\\n\\n Now, when she came in the evening, accompanied by the man who had': array([ 0.02631893, -0.02200704,  0.0210074 , ..., -0.0033682 ,\n",
            "        0.02357365, -0.01250299]), 'tion was accorded a woman of this kind. A high seat was prepared for her, and a cushion laid thereon in which were poultry-feathers.\\n\\n Now, when she came in the evening, accompanied by the man who had been sent to meet her, she was dressed in such wise that she had a blue mantle over her, with strings for the neck, and it was inlaid with gems quite down to the skirt. On her neck she had glass beads. On her head she had a black hood of lambskin, lined with ermine. A staff she had in her hand, with a knob thereon; it was ornamented with brass, and inlaid with gems round about the knob. Around her she wore a girdle of soft hair, and therein was a large skin-bag, in which she kept the talismans needful to her in her wisdom. She wore hairy calf-skin shoes on her feet, with long and strong-looking thongs to them, and great knobs of latten at the ends. On her hands she had gloves of ermine-skin, and they were white and hairy within.\\n\\n Now, when she entered, all men thought it their bounden du': array([ 0.07352176,  0.00673552,  0.00823539, ..., -0.01489532,\n",
            "        0.01426672, -0.03997547]), \"ng thongs to them, and great knobs of latten at the ends. On her hands she had gloves of ermine-skin, and they were white and hairy within.\\n\\n Now, when she entered, all men thought it their bounden duty to offer her becoming greetings, and these she received according as the men were agreeable to her. The franklin Thorkell took the wise-woman by the hand, and led her to the seat prepared for her. He requested her to cast her eyes over his herd, his household, and his homestead. She remained silent altogether.\\n\\n During the evening the tables were set; and now I must tell you what food was made ready for the spae-queen. There was prepared for her porridge of kid's milk, and hearts of all kinds of living creatures there found were cooked for her. She had a brazen spoon, and a knife with a handle of walrus-tusk, which was mounted with two rings of brass, and the point of it was broken off.\\n\\nWhen the tables were removed, the franklin Thorkell advanced to Thorbjorg and asked her how she like\": array([ 3.60859372e-02, -9.71431006e-03,  2.13744305e-02, ...,\n",
            "       -6.14975579e-05,  2.03425623e-02, -2.00919658e-02]), 'dle of walrus-tusk, which was mounted with two rings of brass, and the point of it was broken off.\\n\\nWhen the tables were removed, the franklin Thorkell advanced to Thorbjorg and asked her how she liked his homestead, or the appearance of the men; or how soon she would ascertain that which he had asked, and which the men desired to know. She replied that she would not give answer before the morning, after she had slept there for the night.\\n\\nAnd when the (next) day was far spent, the preparations were made for her which she required for the exercise of her enchantments. She begged them to bring to her those women who were acquainted with the lore needed for the exercise of the enchantments, and which is known by the name of Weird-songs, but no such women came forward. Then was search made throughout the homestead if any woman were so learned.\\n\\nThen answered Gudrid, \"I am not skilled in deep learning, nor am I a wise-woman, although Halldis, my foster-mother, taught me, in Iceland, the lo': array([ 0.02484693,  0.03323086,  0.05454129, ..., -0.02268235,\n",
            "        0.01547217,  0.00768654]), 'roughout the homestead if any woman were so learned.\\n\\nThen answered Gudrid, \"I am not skilled in deep learning, nor am I a wise-woman, although Halldis, my foster-mother, taught me, in Iceland, the lore which she called Weird-songs.\"\\n\\n \"Then art thou wise in good season,\" answered Thorbjorg; but Gudrid replied, \"That lore and the ceremony are of such a kind, that I purpose to be of no assistance therein, because I am a Christian woman.\"\\n\\nThen answered Thorbjorg, \"Thou mightest perchance afford thy help to the men in this company, and yet be none the worse woman than thou wast before; but to Thorkell give I charge to provide here the things that are needful.\"\\n\\nThorkell thereupon urged Gudrid to consent, and she yielded to his wishes. The women formed a ring round about, and Thorbjorg ascended the scaffold and the seat prepared for her enchantments. Then sang Gudrid the weird-song in so beautiful and excellent a manner, that to no one there did it seem that he had ever before heard the s': array([ 0.02081495,  0.02148281,  0.0466945 , ..., -0.01753131,\n",
            "        0.01147883, -0.00100266]), 'ed the scaffold and the seat prepared for her enchantments. Then sang Gudrid the weird-song in so beautiful and excellent a manner, that to no one there did it seem that he had ever before heard the song in voice so beautiful as now.\\n\\nThe spae-queen thanked her for the song. \"Many spirits,\" said she, \"have been present under its charm, and were pleased to listen to the song, who before would turn away from us, and grant us no such homage. And now are many things clear to me which before were hidden both from me and others. And I am able this to say, that the dearth will last no longer, the season improving as spring advances. The epidemic of fever which has long oppressed us will disappear quicker than we could have hoped. And thee, Gudrid, will I recompense straightway, for that aid of thine which has stood us in good stead; because thy destiny is now clear to me, and foreseen. Thou shalt make a match here in Greenland, a most honourable one, though it will not be a long-lived one for': array([ 0.01062454, -0.00327602,  0.07236794, ..., -0.01119397,\n",
            "        0.03220518,  0.00397159]), 'ine which has stood us in good stead; because thy destiny is now clear to me, and foreseen. Thou shalt make a match here in Greenland, a most honourable one, though it will not be a long-lived one for thee, because thy way lies out to Iceland; and there, shall arise from thee a line of descendants both numerous and goodly, and over the branches of thy family shall shine a bright ray. And so fare thee now well and happily, my daughter.\"\\n\\nAfterwards the men went to the wise-woman, and each enquired after what he was most curious to know. She was also liberal of her replies, and what she said proved true. After this came one from another homestead after her, and she then went there. Thorbjorn was invited, because he did not wish to remain at home while such heathen worship was performing.\\n\\nThe weather soon improved when once spring began, as Thorbjorg had said, Thorbjorn made ready his ship, and went on until he came to Brattahlid (the steep slope). Eirik received him with the utmost cord': array([ 0.02110624,  0.00673649,  0.03587056, ..., -0.02391849,\n",
            "        0.00814262,  0.00340232]), 'e weather soon improved when once spring began, as Thorbjorg had said, Thorbjorn made ready his ship, and went on until he came to Brattahlid (the steep slope). Eirik received him with the utmost cordiality, saying he had done well to come there. Thorbjorn and his family were with him during the winter. And in the following spring Eirik gave to Thorbjorn land at Stokknes, and handsome farm buildings were there built for him, and he dwelt there afterwards.\\n\\n\\nChapter 5\\n\\nEirik had a wife who was named Thjodhild, and two sons; the one was named Thorstein, and the other Leif. These sons of Eirik were both promising men. Thorstein was then at home with his father; and there was at that time no man in Greenland who was thought so highly of as he. Leif had sailed to Norway, and was there with King Olaf Tryggvason.\\n\\nNow, when Leif sailed from Greenland during the summer, he and his men were driven out of their course to the Sudreyjar. They were slow in getting a favourable wind from this place,': array([ 1.38279684e-02,  2.14045942e-02,  2.09294930e-02, ...,\n",
            "       -3.59577201e-02,  1.48906959e-02,  9.11328461e-05]), ' Olaf Tryggvason.\\n\\nNow, when Leif sailed from Greenland during the summer, he and his men were driven out of their course to the Sudreyjar. They were slow in getting a favourable wind from this place, and they stayed there a long time during the summer ... reaching Norway about harvest-tide.\\n\\nHe joined the body-guard of King Olaf Tryggvason, and the king formed an excellent opinion of him, and it appeared to him that Leif was a well-bred man. Once upon a time the king entered into conversation with Leif, and asked him, \"Dost thou purpose sailing to Greenland in summer?\"\\n\\nLeif answered, \"I should wish so to do, if it is your will.\" The king replied, \"I think it may well be so; thou shalt go my errand, and preach Christianity in Greenland.\"\\n\\nLeif said that he was willing to undertake it, but that, for himself, he considered that message a difficult one to proclaim in Greenland. But the king said that he knew no man who was better fitted for the work than he. \"And thou shalt carry,\" said ': array([-0.01443765,  0.03280213,  0.05290751, ..., -0.02709514,\n",
            "        0.00352106,  0.00136539]), ' that, for himself, he considered that message a difficult one to proclaim in Greenland. But the king said that he knew no man who was better fitted for the work than he. \"And thou shalt carry,\" said he, \"good luck with thee in it.\" \"That can only be,\" said Leif, \"if I carry yours with me.\"\\n\\n Leif set sail as soon as he was ready. He was tossed about a long time out at sea, and lighted upon lands of which before he had no expectation. There were fields of wild wheat, and the vine-tree in full growth. There were also the trees which were called maples; and they gathered of all this certain tokens; some trunks so large that they were used in house-building. Leif came upon men who had been shipwrecked, and took them home with him, and gave them sustenance during the winter. Thus did he show his great munificence and his graciousness when he brought Christianity to the land, and saved the shipwrecked crew. He was called Leif the Lucky.\\n\\nLeif reached land in Eiriksfjordr, and proceeded home': array([ 0.01921616,  0.00827307,  0.04598395, ..., -0.01262873,\n",
            "       -0.00305942, -0.00205984]), \"is great munificence and his graciousness when he brought Christianity to the land, and saved the shipwrecked crew. He was called Leif the Lucky.\\n\\nLeif reached land in Eiriksfjordr, and proceeded home to Brattahlid. The people received him gladly. He soon after preached Christianity and catholic truth throughout the land, making known to the people the message of King Olaf Tryggvason; and declaring how many renowned deeds and what great glory accompanied this faith. Eirik took coldly to the proposal to forsake his religion, but his wife, Thjodhild, promptly yielded, and caused a church to be built not very near the houses. The building was called Thjodhild's Church; in that spot she offered her prayers, and so did those men who received Christ, and they were many. After she accepted the faith, Thjodhild would have no intercourse with Eirik, and this was a great trial to his temper.\\n\\nAfter this there was much talk about making ready to go[17] to the land which Leif had discovered. Thors\": array([ 0.01268171, -0.02386197,  0.02257146, ..., -0.02566123,\n",
            "        0.01378609, -0.00593137]), 'ith, Thjodhild would have no intercourse with Eirik, and this was a great trial to his temper.\\n\\nAfter this there was much talk about making ready to go[17] to the land which Leif had discovered. Thorstein, Eirik\\'s son, was chief mover in this, a worthy man, wise and much liked. Eirik was also asked to go, and they believed that his luck and foresight would be of the highest use. He was [for a long time against it, but did not say nay], when his friends exhorted him to go. They made ready the ship which Thorbjorn had brought there, and there were twenty men who undertook to start in her. They had little property, but chiefly weapons and food. On the morning when Eirik left home he took a little box, which had in it gold and silver; he hid the money, and then went forth on his journey.\\n\\nHe had proceeded, however, but a little way, when he fell from his horse, and broke his ribs and injured his shoulder, and cried out, \"Aiai!\" At this accident he sent word to his wife that she should take': array([ 0.01276288,  0.00192242,  0.00955385, ..., -0.02276945,\n",
            "        0.00517972, -0.00466374]), 'ad proceeded, however, but a little way, when he fell from his horse, and broke his ribs and injured his shoulder, and cried out, \"Aiai!\" At this accident he sent word to his wife that she should take away the money that he had hidden, declaring his misfortune to be a penalty paid on account of having hid the money. Afterwards they sailed away out of Eiriksfjordr with gladness, as their plan seemed to promise success. They were driven about for a long time on the open sea, and came not into the track which they desired. They came in sight of Iceland, and also met with birds from the coast of Ireland. Then was their ship tossed to and fro on the sea. They returned about harvest-tide, worn out by toil and much exhausted, and reached Eiriksfjordr at the beginning of winter.\\n\\nThen spake Eirik, \"You were in better spirits in the summer, when you went forth out of the firth, than you are in now, and yet for all that there is much to be thankful for.\" Thorstein replied, \"It is a chieftain\\'s d': array([ 0.01868669, -0.00478879,  0.00785335, ..., -0.01674775,\n",
            "        0.02428228,  0.00138345]), ' \"You were in better spirits in the summer, when you went forth out of the firth, than you are in now, and yet for all that there is much to be thankful for.\" Thorstein replied, \"It is a chieftain\\'s duty now to look after some arrangement for these men who are without shelter, and to find them food.\" Eirik answered, \"That is an ever-true saying, \\'You know not until you have got your answer.\\' I will now take thy counsel about this.\" All those who had no other abodes were to go with the father and the son. Then came they to land, and went forth home.\\n\\n\\nChapter 6\\n\\nNow, after this, I have to tell you how Thorstein, Eirik\\'s son, began wooing Gudrid, Thorbjorn\\'s daughter. To his proposals a favourable answer was given, both by the maid herself, and also by her father. The marriage was also arranged, so that Thorstein went to take possession of his bride, and the bridal feast was held at Brattahlid in the autumn. The banquet went off well, and was numerously attended. Thorstein owned a homest': array([ 0.0140569 ,  0.01720759,  0.0049078 , ..., -0.01019189,\n",
            "        0.01936332,  0.00481213]), \"ged, so that Thorstein went to take possession of his bride, and the bridal feast was held at Brattahlid in the autumn. The banquet went off well, and was numerously attended. Thorstein owned a homestead in the Vestribygd on the estate known as Lysufjordr (shining firth).\\n\\n The man who was called Thorstein owned the other half of the homestead. His wife was called Sigrid. Thorstein went, during the autumn, to Lysufjordr, to his namesake, both he and Gudrid. Their reception was a welcome one. They were there during the winter. When little of the winter was past, the event happened there that fever broke out on their estate. The overseer of the work was named Garth. He was an unpopular man. He took the fever first and died. Afterwards, and with but little intermission, one took the fever after another and died. Then Thorstein, Eirik's son, fell ill, and also Sigrid, the wife of his namesake Thorstein. And one evening Sigrid left the house, and rested awhile opposite the outer door; and G\": array([-0.01097736,  0.00721523, -0.01543817, ..., -0.0125897 ,\n",
            "        0.02124261,  0.00676176]), 'er another and died. Then Thorstein, Eirik\\'s son, fell ill, and also Sigrid, the wife of his namesake Thorstein. And one evening Sigrid left the house, and rested awhile opposite the outer door; and Gudrid accompanied her; and they looked back towards the outer door, and Sigrid screamed out aloud.\\n\\nGudrid said, \"We have come forth unwarily, and thou canst in no wise withstand the cold; let us even go home as quickly as possible.\" \"It is not safe as matters are,\" answered Sigrid. \"There is all that crowd of dead people before the door; Thorstein, thy husband, also, and myself, I recognise among them, and it is a grief thus to behold.\" And when this passed away, she said, \"Let us now go, Gudrid; I see the crowd no longer.\"\\n\\nThorstein, Eirik\\'s son, had also disappeared from her sight; he had seemed to have a whip in his hand, and to wish to smite the ghostly troop. Afterwards they went in, and before morning came she was dead, and a coffin was prepared for the body. Now, the same day, the': array([ 0.02202936,  0.01836375,  0.00595959, ..., -0.0006516 ,\n",
            "        0.04184508, -0.00222257]), \"seemed to have a whip in his hand, and to wish to smite the ghostly troop. Afterwards they went in, and before morning came she was dead, and a coffin was prepared for the body. Now, the same day, the men purposed to go out fishing, and Thorstein led them to the landing places, and in the early morning he went to see what they had caught.\\n\\nThen Thorstein, Eirik's son, sent word to his namesake to come to him, saying that matters at home were hardly quiet; that the housewife was endeavouring to rise to her feet and to get under the clothes beside him. And when he was come in she had risen upon the edge of the bed. Then took he her by the hands and laid a pole-axe upon her breast. Thorstein, Eirik's son, died near nightfall. Thorstein, the franklin, begged Gudrid to lie down and sleep, saying that he would watch over the body during the night. So she did, and when a little of the night was past, Thorstein, Eirik's son, sat up and spake, saying he wished Gudrid to be called to him, and th\": array([0.02777367, 0.02983558, 0.00502435, ..., 0.0022622 , 0.04039355,\n",
            "       0.00717321]), 'g that he would watch over the body during the night. So she did, and when a little of the night was past, Thorstein, Eirik\\'s son, sat up and spake, saying he wished Gudrid to be called to him, and that he wished to speak with her.\\n\\n\"God wills,\" he said, \"that this hour be given to me for my own, and the further completion of my plan.\" Thorstein, the franklin, went to find Gudrid, and waked her; begged her to cross herself, and to ask God for help, and told her what Thorstein, Eirik\\'s son, had spoken with him; \"and he wishes,\" said he, \"to meet with thee. Thou art obliged to consider what plan thou wilt adopt, because I can in this issue advise thee in nowise.\"\\n\\nShe answered, \"It may be that this, this wonderful thing, has regard to certain matters, which are afterwards to be had in memory; and I hope that God\\'s keeping will test upon me, and I will, with God\\'s grace, undertake the risk and go to him, and know what he will say, for I shall not be able to escape if harm must happen to m': array([ 0.00892237,  0.00960921,  0.04089364, ..., -0.0122113 ,\n",
            "        0.03275718,  0.02326024]), '; and I hope that God\\'s keeping will test upon me, and I will, with God\\'s grace, undertake the risk and go to him, and know what he will say, for I shall not be able to escape if harm must happen to me. I am far from wishing that he should go elsewhere; I suspect, moreover, that the matter will be a pressing one.\"\\n\\nThen went Gudrid and saw Thorstein. He appeared to her as if shedding tears. He spake in her ear, in a low voice, certain words which she alone might know; but this he said so that all heard, \"That those men would be blessed who held the true faith, and that all salvation and mercy accompanied it; and that many, nevertheless, held it lightly.\"\\n\\n\"Itis,\" said he, \"no good custom which has prevailed here in Greenland since Christianity came, to bury men in unconsecrated ground with few religious rites over them. I wish for myself, and for those other men who have died, to be taken to the church; but for Garth, I wish him to be burned on a funeral pile as soon as may be, for he ': array([ 0.005304  ,  0.00751664,  0.03452716, ..., -0.00415356,\n",
            "        0.01257009, -0.00059639]), ' few religious rites over them. I wish for myself, and for those other men who have died, to be taken to the church; but for Garth, I wish him to be burned on a funeral pile as soon as may be, for he is the cause of all those ghosts which have been among us this winter.\" He spake to Gudrid also about her own state, saying that her destiny would be a great one, and begged her to beware of marrying Greenland men. He begged her also to pay over their property to the Church and some to the poor; and then he sank down for the second time.\\n\\nIt had been a custom in Greenland, after Christianity was brought there, to bury men in unconsecrated ground on the farms where they died. An upright stake was placed over a body, and when the priests came afterwards to the place, then was the stake pulled out, consecrated water poured therein, and a funeral service held, though it might be long after the burial.\\n\\nThe bodies were removed to the church in Eiriksfjordr, and funeral services held by the prie': array([ 0.0267342 ,  0.04573433,  0.02775331, ..., -0.00453714,\n",
            "        0.01598468, -0.01392552]), \"t, consecrated water poured therein, and a funeral service held, though it might be long after the burial.\\n\\nThe bodies were removed to the church in Eiriksfjordr, and funeral services held by the priests.  &lt;p&gt; After that died Thorbjorn. The whole property then went to Gudrid. Eirik received her into his household, and looked well after her stores.\\n\\n\\nChapter 7\\n\\nThere was a man named Thorfinn Karlsefni, son of Thord Horsehead, who dwelt in the north (of Iceland), at Reynines in Skagafjordr, as it is now called. Karlsefni was a man of good family, and very rich. His mother's name was Thorun. He engaged in trading journeys, and seemed a goodly, bold, and gallant traveller.\\n\\nOne summer Karlsefni prepared his ship, intending to go to Greenland. Snorri, Thorbrand's son, from Alptafjordr, resolved to travel with him, and there were thirty men in the company.\\n\\nThere was a man named Bjarni, Grimolf's son, a man of Breidafjordr (Broadfirth); another called Thorhall, son of Gamli, a man from\": array([ 0.02529813,  0.03111605,  0.01544036, ..., -0.01361   ,\n",
            "        0.04154907,  0.00523612]), \"solved to travel with him, and there were thirty men in the company.\\n\\nThere was a man named Bjarni, Grimolf's son, a man of Breidafjordr (Broadfirth); another called Thorhall, son of Gamli, a man from the east of Iceland. They prepared their ship the very same summer as Karlsefni, with intent also to go to Greenland. They had in the ship forty men.\\n\\nThe two ships launched out into the open sea as soon as they were ready. It is not recorded how long a voyage they had. But, after this, I have to tell you that both these ships came to Eiriksfjordr about autumn.\\n\\nEirik rode down to the ships with other men of the land, and a market-fair was promptly instituted. The captains invited Gudrid to take such of the merchandise as she wished, and Eirik displayed on his part much magnificence in return, inasmuch as he invited both these ships' companies home with him to pass the winter in Brattahlid. The merchants accepted the invitation, and went home with Eirik. Afterwards their merchandise was r\": array([ 0.01582525,  0.0286961 ,  0.047039  , ..., -0.02061649,\n",
            "        0.00397879, -0.00757865]), ', inasmuch as he invited both these ships\\' companies home with him to pass the winter in Brattahlid. The merchants accepted the invitation, and went home with Eirik. Afterwards their merchandise was removed to Brattahlid, where a good and large outhouse was not lacking in which to store the goods. The merchants were well pleased to stay with Eirik during the winter.\\n\\nWhen now Yule was drawing nigh, Eirik began to look more gloomy than he was wont to be.\\n\\nPresently Karlsefni entered into conversation with him, and said, \"Art thou in trouble, Eirik? it appears to me that thou art somewhat more taciturn than thou hast been; still thou helpest us with much liberality, and we are bound to reward thee according as we have means thereto. Say now what causes thy cheerlessness.\"\\n\\nEirik answered, \"You receive hospitality well, and like worthy men. Now, I have no mind that our intercourse together should be expensive to you; but so it is, that it will seem to me an ill thing if it is heard that y': array([-0.02921314, -0.01566936, -0.00756898, ..., -0.02632452,\n",
            "        0.00221585,  0.0133939 ]), 'ou receive hospitality well, and like worthy men. Now, I have no mind that our intercourse together should be expensive to you; but so it is, that it will seem to me an ill thing if it is heard that you never spent a worse Yule than this, just now beginning, when Eirik the Red entertained you at Brattahlid, in Greenland.\"\\n\\nKarlsefni answered, \"It must not come to such a pass; we have in our ships malt, meal, and corn, and you have right and title to take therefrom whatever you wish, and to make your entertainment such as consorts with your munificence.\"\\n\\nAnd Eirik accepted the offer. Then was preparation made for the Yule-feast, and so magnificent was it that the men thought they had scarcely ever seen so grand a feast.\\n\\nAnd after Yule, Karlsefni broached to Eirik the subject of a marriage with Gudrid, which he thought might be under Eirik\\'s control, and the woman appeared to him to be both beautiful and of excellent understanding. Eirik answered and said, that for his part he would wi': array([-0.0273221 ,  0.01101762, -0.00207201, ..., -0.01040148,\n",
            "       -0.00193289, -0.00191964]), \" with Gudrid, which he thought might be under Eirik's control, and the woman appeared to him to be both beautiful and of excellent understanding. Eirik answered and said, that for his part he would willingly undertake his suit, and said, moreover, that she was worthy of a good match. It is also likely, he thought, that she will be following out her destiny, should she be given to him; and, moreover, the report which comes to me of him is good.\\n\\nThe proposals were now laid before her, and she allowed the marriage with her to be arranged which Eirik wished to promote. However, I will not now speak at length how this marriage took place; the Yule festival was prolonged and made into a marriage-feast. Great joy was there in Brattahlid during the winter. Much playing at backgammon and telling of stories went on, and many things were done that ministered to the comfort of the household.\\n\\n\\nChapter 8\\n\\nDuring this time much talk took place in Brattahlid about making ready to go to Vinland the G\": array([-0.00218666,  0.03717822,  0.02390792, ..., -0.0135643 ,\n",
            "        0.02504385,  0.01682508]), \"f stories went on, and many things were done that ministered to the comfort of the household.\\n\\n\\nChapter 8\\n\\nDuring this time much talk took place in Brattahlid about making ready to go to Vinland the Good, and it was asserted that they would there find good choice lands. The discourse came to such conclusion that Karlsefni and Snorri prepared their ship, with the intention of seeking Vinland during the summer. Bjarni and Thorhall ventured on the same expedition, with their ship and the retinue which had accompanied them.\\n\\nThere was a man named Thorvard; he married Freydis, natural daughter of Eirik the Red; he set out with them likewise, as also Thorvald, a son of Eirik.] There was a man named Thorvald; he was a son-in-law of Eirik the Red. Thorhall was called the Sportsman; he had for a long time been Eirik's companion in hunting and fishing expeditions during the summers, and many things had been committed to his keeping. Thorhall was a big man, dark, and of gaunt appearance; rather a\": array([ 0.0190238 ,  0.02555316,  0.00798704, ..., -0.0195612 ,\n",
            "        0.01981646, -0.00403718]), \"ng time been Eirik's companion in hunting and fishing expeditions during the summers, and many things had been committed to his keeping. Thorhall was a big man, dark, and of gaunt appearance; rather advanced in years, overbearing in temper, of melancholy mood, silent at all times, underhand in his dealings, and withal given to abuse, and always inclined towards the worst. He had kept himself aloof from the true faith when it came to Greenland. He was but little encompassed with the love of friends, but yet Eirik had long held conversation with him. He went in the ship with Thorvald and his man, because he was widely acquainted with the unpeopled districts. They had the ship which Thorbjorn had brought to Greenland, and they ventured on the expedition with Karlsefni and the others; and most of them in this ship were Greenlanders. There were one hundred and sixty men in their ships.\\n\\nThey sailed away from land; then to the Vestribygd and to Bjarneyjar (the Bear Islands). Thence they sail\": array([ 0.0107236 ,  0.01506077,  0.03486574, ..., -0.01289218,\n",
            "        0.00604255, -0.00966388]), ' of them in this ship were Greenlanders. There were one hundred and sixty men in their ships.\\n\\nThey sailed away from land; then to the Vestribygd and to Bjarneyjar (the Bear Islands). Thence they sailed away from Bjarneyjar with northerly winds. They were out at sea two half-days. Then they came to land, and rowed along it in boats, and explored it, and found there flat stones, many and so great that two men might well lie on them stretched on their backs with heel to heel. Polar-foxes were there in abundance. This land they gave name to, and called it Helluland (stone-land).\\n\\nThen they sailed with northerly winds two half-days, and there was then land before them, and on it a great forest and many wild beasts. An island lay in the south-east off the land, and they found bears thereon, and called the island Bjarney (Bear Island); but the mainland, where the forest was, they called Markland (forest-land). Then, when two half-days were passed, they saw land, and sailed under it. There wa': array([-0.01524103,  0.02396435,  0.0572468 , ..., -0.00649912,\n",
            "       -0.01463387,  0.00031597]), ' called the island Bjarney (Bear Island); but the mainland, where the forest was, they called Markland (forest-land). Then, when two half-days were passed, they saw land, and sailed under it. There was a cape to which they came. They cruised along the land, leaving it on the starboard side. There was a harbourless coast-land, and long sandy strands. They went to the land in boats, and found the keel of a ship, and called the place Kjalar-nes (Keelness). They gave also name to the strands, calling them Furdustrandir (wonder-shore), because it was tedious to sail by them.Then the coast became indented with creeks, and they directed their ships along the creeks.\\n\\nNow, before this, when Leif was with King Olaf Tryggvason,  and the king had requested him to preach Christianity in Greenland, he gave him two Scotch people, the man called Haki, and the woman called Hækja. The king requested Leif to have recourse to these people if ever he should want fleetness, because they were swifter than w': array([ 0.01441853,  0.00843477,  0.05006091, ..., -0.027235  ,\n",
            "        0.00829784,  0.00553189]), 'gave him two Scotch people, the man called Haki, and the woman called Hækja. The king requested Leif to have recourse to these people if ever he should want fleetness, because they were swifter than wild beasts. Eirik and Leif had got these people to go with Karlsefni. Now, when they had sailed by Furdustrandir, they put the Scotch people on land, and requested them to run into the southern regions, seek for choice land, and come back after three half-days were passed. They were dressed in such wise that they had on the garment which they called biafal. It was made with a hood at the top, open at the sides, without sleeves, and was fastened between the legs. A button and a loop held it together there; and elsewhere they were without clothing. Then did they cast anchors from the ships, and lay there to wait for them. And when three days were expired the Scotch people leapt down from the land, and one of them had in his hand a bunch of grapes, and the other an ear of wild wheat.\\n\\nThey sa': array([ 0.01760159,  0.00927813,  0.00916625, ..., -0.03114587,\n",
            "        0.00147768, -0.02365773]), \"lay there to wait for them. And when three days were expired the Scotch people leapt down from the land, and one of them had in his hand a bunch of grapes, and the other an ear of wild wheat.\\n\\nThey said to Karlsefni that they considered they had found good and choice land. Then they received them into their ship, and proceeded on their journey to where the shore was cut into by a firth. They directed the ships within the firth. There was an island lying out in front of the firth, and there were great currents around the island, which they called Straums-ey (Stream-island). There were so many birds on it that scarcely was it possible to put one's feet down for the eggs. They continued their course up the firth, which they called Straumsfjordr, and carried their cargo ashore from the ships, and there they prepared to stay. They had with them cattle of all kinds, and for themselves they sought out the produce of the land thereabout. There were mountains, and the place was fair to look upo\": array([ 0.00465535,  0.00243987,  0.02902201, ..., -0.00579514,\n",
            "       -0.00512195, -0.01254486]), 'and there they prepared to stay. They had with them cattle of all kinds, and for themselves they sought out the produce of the land thereabout. There were mountains, and the place was fair to look upon.\\n\\nThey gave no heed to anything except to explore the land, and they found large pastures. They remained there during the winter, which happened to be a hard one, with no work doing; and they were badly off for food, and the fishing failed. Then they went out to the island, hoping that something might be got there from fishing or from what was drifted ashore. In that spot there was little, however, to be got for food, but their cattle found good sustenance. After that they called upon God, praying that He would send them some little store of meat, but their prayer was not so soon granted as they were eager that it should be. Thorhall disappeared from sight, and they went to seek him, and sought for three half-days continuously.\\n\\nOn the fourth half-day Karlsefni and Bjarni found him on th': array([-0.00723407,  0.01365919, -0.0020323 , ..., -0.00539737,\n",
            "        0.00439282,  0.00574548]), 'they were eager that it should be. Thorhall disappeared from sight, and they went to seek him, and sought for three half-days continuously.\\n\\nOn the fourth half-day Karlsefni and Bjarni found him on the peak of a crag. He lay with his face to the sky, with both eyes and mouth and nostrils wide open, clawing and pinching himself, and reciting something. They asked why he had come there. He replied that it was of no importance; begged them not to wonder thereat; as for himself, he had lived so long, they needed not to take any account of him. They begged him to go home with them, and he did so. A little while after a whale was driven ashore, and the men crowded round it, and cut it up, and still they knew not what kind of whale it was. Even Karlsefni recognised it not, though he had great knowledge of whales. It was cooked by the cook-boys, and they ate thereof; though bad effects came upon all from it afterwards.\\n\\nThen began Thorhall, and said, \"Has it not been that the Redbeard has prov': array([-0.00989891,  0.0368869 , -0.01376952, ...,  0.01191057,\n",
            "        0.00063404, -0.00044441]), 'wledge of whales. It was cooked by the cook-boys, and they ate thereof; though bad effects came upon all from it afterwards.\\n\\nThen began Thorhall, and said, \"Has it not been that the Redbeard has proved a better friend than your Christ? this was my gift for the poetry which I composed about Thor, my patron; seldom has he failed me.\" Now, when the men knew that, none of them would eat of it, and they threw it down from the rocks, and turned with their supplications to God\\'s mercy. Then was granted to them opportunity of fishing, and after that there was no lack of food that spring. They went back again from the island, within Straumsfjordr, and obtained food from both sides; from hunting on the mainland, and from gathering eggs and from fishing on the side of the sea.\\n\\n\\nChapter 9\\n\\nWhen summer was at hand they discussed about their journey, and made an arrangement. Thorhall the Sportsman wished to proceed northwards along Furdustrandir, and off Kjalarnes, and so seek Vinland; but Karlsef': array([0.00950862, 0.03063424, 0.01201493, ..., 0.0092922 , 0.0210558 ,\n",
            "       0.00061131]), 'er was at hand they discussed about their journey, and made an arrangement. Thorhall the Sportsman wished to proceed northwards along Furdustrandir, and off Kjalarnes, and so seek Vinland; but Karlsefni desired to proceed southwards along the land and away from the east, because the land appeared to him the better the further south he went, and he thought it also more advisable to explore in both directions. Then did Thorhall make ready for his journey out by the islands, and there volunteered for the expedition with him not more than nine men; but with Karlsefni there went the remainder of the company. And one day, when Thorhall was carrying water to his ship, he drank, and recited this verse:\\n\\n\"The clashers of weapons did say when I came here that I should have the best of drink (though it becomes me not to complain before the common people). Eager God of the war-helmet! I am made to raise the bucket; wine has not moistened my beard, rather do I kneel at the fountain.\"\\n\\nAfterwards th': array([-0.01770909,  0.02502309,  0.0291984 , ...,  0.01171247,\n",
            "        0.02400086,  0.00321607]), 'it becomes me not to complain before the common people). Eager God of the war-helmet! I am made to raise the bucket; wine has not moistened my beard, rather do I kneel at the fountain.\"\\n\\nAfterwards they put to sea, and Karlsefni accompanied them by the island. Before they hoisted sail Thorhall recited a verse:\\n\\n\"Go we back where our countrymen are. Let us make the skilled hawk of the sand-heaven explore the broad ship-courses; while the dauntless rousers of the sword-storm, who praise the land, and cook whale, dwell on Furdustrandir.\"\\n\\nThen they left, and sailed northwards along Furdustrandir and Kjalarnes, and attempted there to sail against a wind from the west. A gale came upon them, however, and drove them onwards against Ireland, and there were they severely treated, enthralled, and beaten. Then Thorhall lost his life.\\n\\n\\nChapter 10\\n\\nKarlsefni proceeded southwards along the land, with Snorri and Bjarni and the rest of the company. They journeyed a long while, and until they arrived': array([ 0.00532933,  0.02489973,  0.01081531, ...,  0.00855417,\n",
            "        0.0265479 , -0.00843158]), 'eaten. Then Thorhall lost his life.\\n\\n\\nChapter 10\\n\\nKarlsefni proceeded southwards along the land, with Snorri and Bjarni and the rest of the company. They journeyed a long while, and until they arrived at a river, which came down from the land and fell into a lake, and so on to the sea. There were large islands off the mouth of the river, and they could not come into the river except at high flood-tide.\\n\\nKarlsefni and his people sailed to the mouth of the river, and called the land Hop. There they found fields of wild wheat wherever there were low grounds; and the vine in all places were there was rough rising ground. Every rivulet there was full of fish. They made holes where the land and water joined and where the tide went highest; and when it ebbed they found halibut in the holes. There was great plenty of wild animals of every form in the wood. They were there half a month, amusing themselves, and not becoming aware of anything. Their cattle they had with them. And early one mornin': array([ 0.01764839,  0.0260709 ,  0.01510868, ...,  0.00378689,\n",
            "        0.0301137 , -0.00350182]), ' was great plenty of wild animals of every form in the wood. They were there half a month, amusing themselves, and not becoming aware of anything. Their cattle they had with them. And early one morning, as they looked around, they beheld nine canoes made of hides, and snout-like staves were being brandished from the boats, and they made a noise like flails, and twisted round in the direction of the sun\\'s motion.\\n\\nThen Karlsefni said, \"What will this betoken?\" Snorri answered him, \"It may be that it is a token of peace; let us take a white shield and go to meet them.\" And so they did. Then did they in the canoes row forwards, and showed surprise at them, and came to land. They were short men, ill-looking, with their hair in disorderly fashion on their heads; they were large-eyed, and had broad cheeks. And they stayed there awhile in astonishment. Afterwards they rowed away to the south, off the headland.\\n\\n\\nChapter 11\\n\\nThey had built their settlements up above the lake. And some of the d': array([ 0.03272026,  0.03554622,  0.00360519, ...,  0.00944067,\n",
            "        0.00996707, -0.01024413]), 'oad cheeks. And they stayed there awhile in astonishment. Afterwards they rowed away to the south, off the headland.\\n\\n\\nChapter 11\\n\\nThey had built their settlements up above the lake. And some of the dwellings were well within the land, but some were near the lake. Now they remained there that winter. They had no snow whatever, and all their cattle went out to graze without keepers.\\n\\n Now when spring began, they beheld one morning  early, that a fleet of hide-canoes was rowing from the south off the headland; so many were they as if the sea were strewn with pieces of charcoal, and there was also the brandishing of staves as before from each boat. Then they held shields up, and a market was formed between them; and this people in their purchases preferred red cloth; in exchange they had furs to give, and skins quite grey. They wished also to buy swords and lances, but Karlsefni and Snorri forbad it. They offered for the cloth dark hides, and took in exchange a span long of cloth, and bou': array([ 0.02552042,  0.01976625,  0.02279707, ..., -0.0075917 ,\n",
            "        0.01683791, -0.01059324]), \" to give, and skins quite grey. They wished also to buy swords and lances, but Karlsefni and Snorri forbad it. They offered for the cloth dark hides, and took in exchange a span long of cloth, and bound it round their heads; and so matters went on for a while. But when the stock of cloth began to grow small, then they split it asunder, so that it was not more than a finger's breadth. The Skrælingar (Esquimaux) gave for it still quite as much, or more than before.\\n\\n\\nChapter 12\\n\\nNow it came to pass that a bull, which belonged to Karlsefni's people, rushed out of the wood and bellowed loudly at the same time. The Skrælingar, frightened thereat, rushed away to their canoes, and rowed south along the coast. There was then nothing seen of them for three weeks together. When that time was gone by, there was seen approaching from the south a great crowd of Skrælingar boats, coming down upon them like a stream, the staves this time being all brandished in the direction opposite to the sun's mot\": array([ 0.01227861,  0.04934652, -0.0017243 , ...,  0.00652732,\n",
            "       -0.00334706, -0.0009936 ]), \", there was seen approaching from the south a great crowd of Skrælingar boats, coming down upon them like a stream, the staves this time being all brandished in the direction opposite to the sun's motion, and the Skrælingar were all howling loudly. Then took they and bare red shields to meet them. They encountered one another and fought, and there was a great shower of missiles. The Skrælingar had also war-slings, or catapults.\\n\\nThen Karlsefni and Snorri see that the Skrælingar are bringing up poles, with a very large ball attached to each, to be compared in size to a sheep's stomach, dark in colour; and these flew over Karlsefni's company towards the land, and when they came down they struck the ground with a hideous noise. This produced great terror in Karlsefni and his company, so that their only impulse was to retreat up the country along the river, because it seemed as if crowds of Skrælingar were driving at them from all sides. And they stopped not until they came to certain crag\": array([ 0.02097308,  0.05211491,  0.01891769, ...,  0.0104054 ,\n",
            "        0.01174411, -0.02129761]), 'their only impulse was to retreat up the country along the river, because it seemed as if crowds of Skrælingar were driving at them from all sides. And they stopped not until they came to certain crags. There they offered them stern resistance.\\n\\nFreydis came out and saw how they were retreating. She called out, \"Why run you away from such worthless creatures, stout men that ye are, when, as seems to me likely, you might slaughter them like so many cattle? Let me but have a weapon, I think I could fight better than any of you.\" They gave no heed to what she said. Freydis endeavoured to accompany them, still she soon lagged behind, because she was not well; she went after them into the wood, and the Skrælingar directed their pursuit after her. She came upon a dead man; Thorbrand, Snorri\\'s son, with a flat stone fixed in his head; his sword lay beside him, so she took it up and prepared to defend herself therewith.\\n\\nThen came the Skrælingar upon her. She let down her sark and struck her b': array([ 0.01513503,  0.06296375,  0.02429936, ..., -0.0087099 ,\n",
            "        0.01950261, -0.00109663]), \"n, with a flat stone fixed in his head; his sword lay beside him, so she took it up and prepared to defend herself therewith.\\n\\nThen came the Skrælingar upon her. She let down her sark and struck her breast with the naked sword. At this they were frightened, rushed off to their boats, and fled away. Karlsefni and the rest came up to her and praised her zeal. Two of Karlsefni's men fell, and four of the Skrælingar, notwithstanding they had overpowered them by superior numbers. After that, they proceeded to their booths, and began to reflect about the crowd of men which attacked them upon the land; it appeared to them now that the one troop will have been that which came in the boats, and the other troop will have been a delusion of sight. The Skrælingar also found a dead man, and his axe lay beside him. One of them struck a stone with it, and broke the axe. It seemed to them good for nothing, as it did not withstand the stone, and they threw it down.\\n\\n\\nChapter 13\\n\\n[Karlsefni and his comp\": array([ 0.03557659,  0.07036492, -0.00754098, ...,  0.02140113,\n",
            "        0.01407036, -0.0069892 ]), ' beside him. One of them struck a stone with it, and broke the axe. It seemed to them good for nothing, as it did not withstand the stone, and they threw it down.\\n\\n\\nChapter 13\\n\\n[Karlsefni and his company] were now of opinion that though the land might be choice and good, there would be always war and terror overhanging them, from those who dwelt there before them. They made ready, therefore, to move away, with intent to go to their own land. They sailed forth northwards, and found five Skrælingar in jackets of skin, sleeping [near the sea], and they had with them a chest, and in it was marrow of animals mixed with blood; and they considered that these must have been outlawed. They slew them. Afterwards they came to a headland and a multitude of wild animals; and this headland appeared as if it might be a cake of cow-dung, because the animals passed the winter there. Now they came to Straumsfjordr, where also they had abundance of all kinds. It is said by some that Bjarni and Freydis re': array([ 0.01030964,  0.06082558, -0.00237062, ...,  0.01507405,\n",
            "       -0.00358985, -0.0060283 ]), \"f it might be a cake of cow-dung, because the animals passed the winter there. Now they came to Straumsfjordr, where also they had abundance of all kinds. It is said by some that Bjarni and Freydis remained there, and a hundred men with them, and went not further away. But Karlsefni and Snorri journeyed southwards, and forty men with them, and after staying no longer than scarcely two months at Hop, had come back the same summer. Karlsefni set out with a single ship to seek Thorhall, but the (rest of the) company remained behind. He and his people went northwards off Kjalarnes, and were then borne onwards towards the west, and the land lay on their larboard-side, and was nothing but wilderness. And when they had proceeded for a long time, there was a river which came down from the land, flowing from the east towards the west. They directed their course within the river's mouth, and lay opposite the southern bank.\\n\\n\\nChapter 14\\n\\nOne morning Karlsefni's people beheld as it were a glitteri\": array([0.03051148, 0.02012929, 0.02802638, ..., 0.00173353, 0.0021503 ,\n",
            "       0.00363446]), 'owing from the east towards the west. They directed their course within the river\\'s mouth, and lay opposite the southern bank.\\n\\n\\nChapter 14\\n\\nOne morning Karlsefni\\'s people beheld as it were a glittering speak above the open space in front of them, and they shouted at it. It stirred itself, and it was a being of the race of men that have only one foot, and he came down quickly to where they lay. Thorvald, son of Eirik the Red, sat at the tiller, and the One-footer shot him with an arrow in the lower abdomen. He drew out the arrow. Then said Thorvald, \"Good land have we reached, and fat is it about the paunch.\" Then the One-footer leapt away again northwards. They chased after him, and saw him occasionally, but it seemed as if he would escape them. He disappeared at a certain creek. Then they turned back, and one man spake this ditty:\\n\\n\"Our men chased (all true it is) a One-footer down to the shore; but the wonderful man strove hard in the race.... Hearken, Karlsefni.\"\\n\\nThen they journey': array([ 0.01408563,  0.03396556,  0.04069346, ..., -0.0050237 ,\n",
            "        0.01413009, -0.01544158]), 'y turned back, and one man spake this ditty:\\n\\n\"Our men chased (all true it is) a One-footer down to the shore; but the wonderful man strove hard in the race.... Hearken, Karlsefni.\"\\n\\nThen they journeyed away back again northwards, and saw, as they thought, the land of the One-footers. They wished, however, no longer to risk their company. They conjectured the mountains to be all one range; those, that is, which were at Hop, and those which they now discovered; almost answering to one another; and it was the same distance to them on both sides from Straumsfjordr. They journeyed back, and were in Straumsfjordr the third winter. Then fell the men greatly into backsliding. They who were wifeless pressed their claims at the hands of those who were married.\\n\\nSnorri, Karlsefni\\'s son, was born the first autumn, and he was three winters old when they began their journey home. Now, when they sailed from Vinland, they had a southern wind, and reached Markland, and found five Skrælingar; one was a': array([ 0.01033596,  0.05233151,  0.00271713, ..., -0.00824775,\n",
            "        0.03195389, -0.01212286]), \" first autumn, and he was three winters old when they began their journey home. Now, when they sailed from Vinland, they had a southern wind, and reached Markland, and found five Skrælingar; one was a bearded man, two were women, two children. Karlsefni's people caught the children, but the others escaped and sunk down into the earth. And they took the children with them, and taught them their speech, and they were baptized. The children called their mother Vætilldi, and their father Uvægi. They said that kings ruled over the land of the Skrælingar, one of whom was called Avalldamon, and the other Valldidida. They said also that there were no houses, and the people lived in caves or holes. They said, moreover, that there was a land on the other side over against their land, and the people there were dressed in white garments, uttered loud cries, bare long poles, and wore fringes. This was supposed to be Hvitramannaland (whiteman's land). Then came they to Greenland, and remained with E\": array([ 0.03161628,  0.07960346,  0.03552995, ...,  0.00057634,\n",
            "        0.0109864 , -0.01468264]), \"there were dressed in white garments, uttered loud cries, bare long poles, and wore fringes. This was supposed to be Hvitramannaland (whiteman's land). Then came they to Greenland, and remained with Eirik the Red during the winter.\\n\\n\\nChapter 15\\n\\nBjarni, Grimolf's son, and his men were carried into the Irish Ocean, and came into a part where the sea was infested by ship-worms. They did not find it out before the ship was eaten through under them; then they debated what plan they should follow. They had a ship's boat which was smeared with tar made of seal-fat. It is said that the ship-worm will not bore into the wood which has been smeared with the seal-tar. The counsel and advice of most of the men was to ship into the boat as many men as it would hold. Now, when that was tried, the boat held not more than half the men. Then Bjarni advised that it should be decided by the casting of lots, and not by the rank of the men, which of them should go into the boat; and inasmuch as every man t\": array([ 0.02247779,  0.05719137,  0.03583337, ..., -0.01528108,\n",
            "        0.01098626, -0.0084121 ]), 'eld not more than half the men. Then Bjarni advised that it should be decided by the casting of lots, and not by the rank of the men, which of them should go into the boat; and inasmuch as every man there wished to go into the boat, though it could not hold all of them; therefore, they accepted the plan to cast lots who should leave the ship for the boat. And the lot so fell that Bjarni, and nearly half the men with him, were chosen for the boat. So then those left the ship and went into the boat who had been chosen by lot so to do.\\n\\nAnd when the men were come into the boat, a young man, an Icelander, who had been a fellow-traveller of Bjarni, said, \"Dost thou intend, Bjarni, to separate thyself here from me.\" \"It must needs be so now,\" Bjarni answered. He replied, \"Because, in such case, thou didst not so promise me when I set out from Iceland with thee from the homestead of my father.\" Bjarni answered, \"I do not, however, see here any other plan; but what plan dost thou suggest?\" He ': array([ 0.00224345,  0.02787152,  0.04259909, ..., -0.01463519,\n",
            "        0.01885815,  0.00708665]), 'thou didst not so promise me when I set out from Iceland with thee from the homestead of my father.\" Bjarni answered, \"I do not, however, see here any other plan; but what plan dost thou suggest?\" He replied, \"I propose this plan, that we two make a change in our places, and thou come here and I will go there.\" Bjarni answered, \"So shall it be; and this I see, that thou labourest willingly for life, and that it seems to thee a grievous thing to face death.\" Then they changed places. The man went into the boat, and Bjarni back into the ship; and it is said that Bjarni perished there in the Worm-sea, and they who were with him in the ship; but the boat and those who were in it went on their journey until they reached land, and told this story afterwards.\\n\\n\\nChapter 16\\n\\nThe next summer Karlsefni set out for Iceland, and Snorri with him, and went home to his house in Reynines. His mother considered that he had made a shabby match, and she was not at home the first winter. But when she found': array([ 0.00384936,  0.03099103,  0.01224685, ..., -0.02079145,\n",
            "        0.01753053, -0.01312951]), \"ni set out for Iceland, and Snorri with him, and went home to his house in Reynines. His mother considered that he had made a shabby match, and she was not at home the first winter. But when she found that Gudrid was a lady without peer, she went home, and their intercourse was happy. The daughter of Snorri, Karlsefni's son, was Hallfrid, mother of Bishop Thorlak, the son of Runolf. (Hallfrid and Runolf) had a son, whose name was Thorbjorn; his daughter was Thorun, mother of Bishop Bjarn. Thorgeir was the name of a son of Snorri, Karlsefni's son; he was father of Yngvild, the mother of the first Bishop Brand. And here ends this story.\\n\\n\": array([ 0.01449296,  0.00690222, -0.01322878, ..., -0.0457815 ,\n",
            "        0.03094992, -0.00915969])})\n"
          ]
        }
      ],
      "source": [
        "\n",
        "import importlib\n",
        "from gower import documentmanager\n",
        "importlib.reload(documentmanager)\n",
        "\n",
        "document_manager = documentmanager.DocumentManager()\n",
        "\n",
        "vector_db_saga = document_manager.prepare_document(\"data/eiriks_saga_rauda.en.txt\")\n",
        "print(vector_db_saga.vectors)\n",
        "retrieval_augmented_qa_pipeline_saga = RetrievalAugmentedQAPipeline(\n",
        "    vector_db_retriever=vector_db_saga,\n",
        "    llm=chat_openai\n",
        ")\n"
      ]
    },
    {
      "cell_type": "code",
      "execution_count": 79,
      "metadata": {},
      "outputs": [
        {
          "name": "stdout",
          "output_type": "stream",
          "text": [
            "Response:\n",
            "Olaf, referred to as Olaf the White, was a warrior king and the son of King Ingjald. He is noted for leading a military expedition into the west, conquering Dublin in Ireland, and becoming its king. He married Aud the Deep-minded and had a son named Thorstein the Red. Olaf fell in battle in Ireland.\n",
            "\n",
            "---\n",
            "\n",
            "\n",
            "Context 1:\n",
            "Score: 0.4872\n",
            "Text: Olaf Tryggvason.\n",
            "\n",
            "Now, when Leif sailed from Greenland during the summer, he and his men were driven\n",
            "\n",
            "Context 2:\n",
            "Score: 0.4402\n",
            "Text: The Saga of Erik the Red\n",
            "1880 translation into English by J. Sephton from the original Icelandic 'Ei\n",
            "\n",
            "Context 3:\n",
            "Score: 0.3549\n",
            "Text: e others. Aud replied, \"That it was of no moment to him, for,\" she said, \"he would be esteemed in wh\n",
            "\n",
            "Context 4:\n",
            "Score: 0.3542\n",
            "Text: of peerless nobility in all her conduct.\n",
            "\n",
            " There was a man named Orm, who dwelt at Arnarstapi (eagle\n"
          ]
        }
      ],
      "source": [
        "result = retrieval_augmented_qa_pipeline_saga.run_pipeline(\"Who is Olaf?\")\n",
        "response = result[\"response\"]\n",
        "context_list = result[\"context\"]\n",
        "print(\"Response:\")\n",
        "print(response)\n",
        "print(\"\")\n",
        "print(\"---\")\n",
        "print(\"\")\n",
        "# Print each context with its similarity score\n",
        "for i, (context, score) in enumerate(context_list, 1):\n",
        "    print(f\"\\nContext {i}:\")\n",
        "    print(f\"Score: {score:.4f}\")\n",
        "    print(f\"Text: {context.strip()[:100]}\")"
      ]
    },
    {
      "cell_type": "markdown",
      "metadata": {},
      "source": [
        "Add support for pdfs DONE\n",
        "- Try with .pdf file and see how it fails - make sure it fails gracefully DONE\n",
        "- Identify code that handles text files - text_utilities.py load() DONE\n",
        "- Add code to identify file is .pdf DONE\n",
        "- Add code to convert .pdf into text and push into documents DONE\n",
        "- Test for a .pdf document DONE"
      ]
    },
    {
      "cell_type": "markdown",
      "metadata": {},
      "source": [
        "Clean up the code to prepare for automating and measuring different performances"
      ]
    },
    {
      "cell_type": "code",
      "execution_count": 80,
      "metadata": {},
      "outputs": [],
      "source": [
        "import importlib\n",
        "from gower import documentmanager\n",
        "from aimakerspace import text_utils, vectordatabase\n",
        "importlib.reload(documentmanager)\n",
        "importlib.reload(text_utils)\n",
        "importlib.reload(vectordatabase)\n",
        "\n",
        "def create_pipeline(document_path):\n",
        "    document_manager = documentmanager.DocumentManager()\n",
        "\n",
        "    vector_db = document_manager.prepare_document(document_path)\n",
        "    retrieval_augmented_qa_pipeline = RetrievalAugmentedQAPipeline(\n",
        "        vector_db_retriever=vector_db,\n",
        "        llm=chat_openai\n",
        "    )\n",
        "    return retrieval_augmented_qa_pipeline\n",
        "    \n",
        "def ask_question(pipeline: RetrievalAugmentedQAPipeline, question: str):\n",
        "    response = pipeline.run_pipeline(question)\n",
        "    formatted_response = response[\"response\"].replace(\". \", \".\\n\")\n",
        "    print(\"\")\n",
        "    print(question)\n",
        "    print(formatted_response)\n",
        "    print(\"---\")"
      ]
    },
    {
      "cell_type": "markdown",
      "metadata": {},
      "source": [
        "Create the particular pipeline for a document\n",
        "Then can run multiple queries on the pipeline"
      ]
    },
    {
      "cell_type": "code",
      "execution_count": 82,
      "metadata": {},
      "outputs": [
        {
          "name": "stdout",
          "output_type": "stream",
          "text": [
            "Docuemnt processed - ready for querying\n",
            "Docuemnt processed - ready for querying\n"
          ]
        }
      ],
      "source": [
        "import importlib\n",
        "from gower import documentmanager\n",
        "from aimakerspace import text_utils\n",
        "importlib.reload(documentmanager)\n",
        "importlib.reload(text_utils)\n",
        "\n",
        "document_manager = documentmanager.DocumentManager()\n",
        "\n",
        "ooux_pipeline = create_pipeline(\"data/OOUX_launch_guide.pdf\")\n",
        "saga_pipeline = create_pipeline(\"data/eiriks_saga_rauda.en.txt\")\n"
      ]
    },
    {
      "cell_type": "markdown",
      "metadata": {},
      "source": [
        "Ask questions on the pipeline"
      ]
    },
    {
      "cell_type": "code",
      "execution_count": 83,
      "metadata": {},
      "outputs": [
        {
          "name": "stdout",
          "output_type": "stream",
          "text": [
            "\n",
            "What do you know about OOUX?\n",
            "OOUX stands for Object-Oriented User Experience.\n",
            "It is a movement toward more strategic and collaborative UX practices that employs fun and game-like techniques.\n",
            "OOUX aims to simplify complex design projects through frameworks like the ORCA Process, which helps in understanding and organizing system architecture.\n",
            "The community offers resources such as monthly meetups, online courses, and a comprehensive Masterclass that includes video content and templates.\n",
            "The community also runs a certification program to help UX professionals further their knowledge and skills in OOUX.\n",
            "---\n",
            "\n",
            "What do you know about olaf?\n",
            "I don't know.\n",
            "---\n",
            "\n",
            "What do you know about olaf?\n",
            "Olaf, referred to as Olaf the White, was a warrior king and the son of King Ingjald.\n",
            "He is notable for leading a harrying expedition of sea-rovers into the west, conquering Dublin in Ireland and Dublinshire, and claiming kingship over that territory.\n",
            "Olaf married Aud the Deep-minded, who was the daughter of Ketil Flatnose, and they had a son named Thorstein the Red.\n",
            "Olaf ultimately fell in battle in Ireland, after which Aud and Thorstein went to the Sudreyjar (the Hebrides).\n",
            "---\n"
          ]
        }
      ],
      "source": [
        "ask_question(ooux_pipeline, \"What do you know about OOUX?\")\n",
        "ask_question(ooux_pipeline, \"What do you know about olaf?\")\n",
        "ask_question(saga_pipeline, \"What do you know about olaf?\")"
      ]
    },
    {
      "cell_type": "markdown",
      "metadata": {},
      "source": [
        "Implement a new distance metric - DONE\n",
        "- Identify code where distance metric is handled\n",
        "    - Currently using cosine_similarity() in vectordatabase.py, called using the search function\n",
        "    - Is passed in through the search_by_text() function\n",
        "    - Can pass in a different search mechanism to search_by_text() function\n",
        "- Determine new code to calculate distance metric\n",
        "    - look at Euclidean Distance and Minkowski Distance\n",
        "    - identify default parameters if any\n",
        "- Implement new code\n",
        "    - created code for Euclidean Distance and Minkowski Distance    \n",
        "- Write driver to use both code to determine effect\n",
        "    - Done"
      ]
    },
    {
      "cell_type": "code",
      "execution_count": 84,
      "metadata": {},
      "outputs": [
        {
          "name": "stdout",
          "output_type": "stream",
          "text": [
            "Default - Cosine Similarity\n",
            "('ordingly.\\nSeventh, when hiring the executive to run your former specialty, be\\ncareful you don’t hire someone weak on purpose.\\nThis sounds silly, but you wouldn’t believe how oaen it happens.\\nThe CEO who used to be a product manager who has a weak\\nproduct management executive. The CEO who used to be in\\nsales who has a weak sales executive. The CEO who used to be\\nin marketing who has a weak marketing executive.\\nI call this the “Michael Eisner Memorial Weak Executive Problem” — aaer the CEO of Disney who had previously been a brilliant TV network executive. When he bought ABC at Disney, it\\npromptly fell to fourth place. His response? “If I had an extra\\ntwo days a week, I could turn around ABC myself.” Well, guess\\nwhat, he didn’t have an extra two days a week.\\nA CEO — or a startup founder — oaen has a hard time letting\\ngo of the function that brought him to the party. The result: you\\nhire someone weak into the executive role for that function so\\nthat you can continue to be “the man” — cons', np.float64(0.6539043027545371))\n",
            "('m. They have areas where they are truly deXcient in judgment or skill set. That’s just life. Almost nobody is brilliant\\nat everything. When hiring and when Hring executives, you\\nmust therefore focus on strength rather than lack of weakness. Everybody has severe weaknesses even if you can’t see\\nthem yet. When managing, it’s oaen useful to micromanage and\\nto provide remedial training around these weaknesses. Doing so\\nmay make the diWerence between an executive succeeding or\\nfailing.\\nFor example, you might have a brilliant engineering executive\\nwho generates excellent team loyalty, has terriXc product judgment and makes the trains run on time. This same executive\\nmay be very poor at relating to the other functions in the company. She may generate far more than her share of cross-functional conYicts, cut herself oW from critical information, and\\nsigniXcantly impede your ability to sell and market eWectively.\\nYour alternatives are:\\n(a) Macro-manage and give her an annual or quarterly object', np.float64(0.5036247837648782))\n",
            "('ed?\\nIn reality — as opposed to Marc’s warped view of reality — it will\\nbe extremely helpful for Marc [if he were actually the CEO,\\nwhich he is not] to meet with the new head of engineering daily\\nwhen she comes on board and review all of her thinking and\\ndecisions. This level of micromanagement will accelerate her\\ntraining and improve her long-term eWectiveness. It will make\\nher seem smarter to the rest of the organization which will build\\ncredibility and conXdence while she comes up to speed. Micromanaging new executives is generally a good idea for a limited\\nperiod of time.\\nHowever, that is not the only time that it makes sense to micro66 The Pmarca Blog Archives\\nmanage executives. It turns out that just about every executive\\nin the world has a few things that are seriously wrong with\\nthem. They have areas where they are truly deXcient in judgment or skill set. That’s just life. Almost nobody is brilliant\\nat everything. When hiring and when Hring executives, you\\nmust therefore focus o', np.float64(0.4814861061791066))\n",
            "('nYicts, cut herself oW from critical information, and\\nsigniXcantly impede your ability to sell and market eWectively.\\nYour alternatives are:\\n(a) Macro-manage and give her an annual or quarterly objective\\nto Xx it, or…\\n(b) Intensively micromanage her interactions until she learns\\nthe fundamental interpersonal skills required to be an eWective\\nexecutive.\\nI am arguing that doing (a) will likely result in weak performance. The reason is that she very likely has no idea how to be\\neWective with her peers. If somebody is an executive, it’s very\\nlikely that somewhere along the line somebody gave her feedback — perhaps abstractly — about all of her weaknesses. Yet\\nthe weakness remains. As a result, executives generally require\\nmore hands-on management than lower level employees to\\nimprove weak areas.\\nSo, micromanagement is like Xne wine. A little at the right times\\nwill really enhance things; too much all the time and you’ll end\\nup in rehab.\\nPart 8: Hiring, managing, promoting, and Dring execut', np.float64(0.4684350385747078))\n",
            "('ummy\\ndecision is no fun to work for. However, it is wrong to condemn\\nthe practice of micromanagement on that basis.\\nPart 8: Hiring, managing, promoting, and Dring executives 65\\nSpeciXcally, there are times and situations where micromanaging executives is not just ok, but also the right thing to do.\\nAndy Grove has an excellent explanation of this in his classic\\nbook High Output Management, where he describes a concept\\ncalled “Task Relevant Maturity”. Andy explains that employees\\nwho are immature in a given task require detailed training and\\ninstruction. They need to be micromanaged. On the other\\nhand, if an employee is relatively mature in a task, then it is\\ncounterproductive and annoying to manage the details of their\\nwork.\\nThis is also true when managing executives. Marc might think\\nthat he hires an executive because she has the experience and\\nknow-how to comprehensively do her job, so any detailed\\ninstruction would be unwise and unwarranted. Marc would be\\nwrong about that. It turns o', np.float64(0.4637065381943431))\n",
            " \n",
            "Euclidean Distance\n",
            "('hese\\nare only personal views; I am not trying to malign anyone else’s\\nchoice of career or education path. These are simply the\\nthings I would want to be told if I were entering college today.]\\nThis post discusses skills acquisition throughout your lifetime,\\nincluding your formal education. So I will start with college and\\nmove on from there.\\nWhat should I study in college?\\nSome people argue that college will be your one chance in life\\nto pursue your passion — to spend four years doing nothing but\\nstudying whatever you love the most, whether that’s Renaissance literature or existential philosophy.\\nI disagree.\\nIf you intend to have an impact on the world, the faster you start\\ndeveloping concrete skills that will be useful in the real world, the\\nbetter — and your undergrad degree is a great place to start.\\nOnce you get into the real world and you’re primed for success, then you can pursue your passion.\\nA typical liberal arts degree will be almost useless on its own. So\\nyou usually won’t h', np.float64(1.3520771272816243))\n",
            "('lace to start.\\nOnce you get into the real world and you’re primed for success, then you can pursue your passion.\\nA typical liberal arts degree will be almost useless on its own. So\\nyou usually won’t have the option of immediately entering the\\nworkforce in a high-impact way when you graduate, and you’ll\\nhave to go get a useful graduate degree.\\nAnd even if you are already planning to get a useful graduate\\ndegree, you are much better oW combining it with a substantive\\nundergraduate degree — thereby becoming a “double threat”.\\nMore on this in a bit.\\nWhich undergraduate degrees are useful in\\nthe real world?\\nTypically, those that have a technical element of some form —\\nthat teach you how to do something substantive.\\nEngineering degrees obviously qualify. The current myth that\\nengineering and computer science degrees are less useful\\nbecause all the jobs are going to India and China is silliness;\\nignore it.\\nHard science degrees — physics, chemistry — also clearly qualify, as do mathematics and', np.float64(1.3404927831674465))\n",
            "('c paranoid political\\nthrillers of the 70’s but with a much harder edge. Highly recommended. Also very helpful re advising on things to think about\\nbefore booking your next trip back from Mars.\\nAlastair Reynolds\\nReynolds is the real deal — doctorate in astrophysics and former staW scientist at the European Space Agency — and writes\\nas if Robert Heinlein knew a thousand times more about science\\nand completely lost his ability to write for warm characters.\\nWhile Reynolds’ work is cold and dark — almost sterile — in\\nhuman terms, he operates on a scale and scope seldom seen,\\nand everything he writes is grounded in real advanced theoretical physics. Highly recommended for anyone who likes largescale space opera and big ideas.\\nRevelation Space, Redemption Ark, and Absolution Gap —\\ntogether, Reynolds’ Yagship trilogy — are three of the darkest,\\nlargest-scale, and most scientiXcally complex hard science Xction novels ever written. Highly recommended to anyone who\\nthinks that sounds like a good ', np.float64(1.3397512337177322))\n",
            "('ar and its sequel Judas Unchained. Plain on staying up late,\\nyou’ll roll straight from the Xrst into the second — and they are\\nnot short (in the best way!).\\nJohn Scalzi\\nAnother post-cyberpunk Heinlein heir, Scalzi writes strong,\\nhighly characterized, inventive novels that have been racking\\nup tremendous review aaer tremendous review for the past few\\nyears.\\nStart with Old Man’s War (don’t worry, they put the old dude\\nin a young body, so you don’t need to Xnd out what it’s like\\nto Xght aliens aaer hip replacement surgery). Progress directly\\nto sequel The Ghost Brigades (Sci Fi Essential Books) and\\ntriquel The Last Colony.\\nScalzi is also an active blogger, turns out!\\nNeal Asher\\nThis way lie dragons… literally, and not like you’ve ever met\\nbefore. Asher is an incredidly strong author of science Xction\\nwith a distinctive horror overlay. Not for the squeamish, but\\nhighly inventive.\\nAsher’s primary work is the Polity series — Gridlinked, The\\nLine of Polity, Brass Man, and Polity Agent. The ex', np.float64(1.3311565445536548))\n",
            "('l, MacLeod’s latest, takes a lea turn into\\na paranoid post-9/11 near future featuring war with Iran, Yu\\npandemics, nuclear terrorist attacks, government conspiracies,\\nand the Execution Channel, broadcasting actual footage of murders and executions around the clock. Haven’t read it yet, but\\nsounds like fun.\\nPeter Hamilton\\nHamilton is the clear heir to Heinlein in my view. Large-scale\\nspace opera told through a shiaing and interlinked cast of people from various walks of life, and amazing storytelling — or,\\nas (accurately) blurbed by Richard Morgan, “Yat-out huge\\nwidescreen all-engines-at-full I-dare-you-not-to-believe-it\\nspace opera”.\\nIt’s taken Hamilton a little while to Xnd his talent, but he’s\\n176 The Pmarca Blog Archives\\ndeXnitely found it. His two latest novels are superb: Pandora’s\\nStar and its sequel Judas Unchained. Plain on staying up late,\\nyou’ll roll straight from the Xrst into the second — and they are\\nnot short (in the best way!).\\nJohn Scalzi\\nAnother post-cyberpunk Heinlein', np.float64(1.3307431647405388))\n",
            " \n",
            "Minkowski Distance\n",
            "('hese\\nare only personal views; I am not trying to malign anyone else’s\\nchoice of career or education path. These are simply the\\nthings I would want to be told if I were entering college today.]\\nThis post discusses skills acquisition throughout your lifetime,\\nincluding your formal education. So I will start with college and\\nmove on from there.\\nWhat should I study in college?\\nSome people argue that college will be your one chance in life\\nto pursue your passion — to spend four years doing nothing but\\nstudying whatever you love the most, whether that’s Renaissance literature or existential philosophy.\\nI disagree.\\nIf you intend to have an impact on the world, the faster you start\\ndeveloping concrete skills that will be useful in the real world, the\\nbetter — and your undergrad degree is a great place to start.\\nOnce you get into the real world and you’re primed for success, then you can pursue your passion.\\nA typical liberal arts degree will be almost useless on its own. So\\nyou usually won’t h', np.float64(0.4706476492107888))\n",
            "('lace to start.\\nOnce you get into the real world and you’re primed for success, then you can pursue your passion.\\nA typical liberal arts degree will be almost useless on its own. So\\nyou usually won’t have the option of immediately entering the\\nworkforce in a high-impact way when you graduate, and you’ll\\nhave to go get a useful graduate degree.\\nAnd even if you are already planning to get a useful graduate\\ndegree, you are much better oW combining it with a substantive\\nundergraduate degree — thereby becoming a “double threat”.\\nMore on this in a bit.\\nWhich undergraduate degrees are useful in\\nthe real world?\\nTypically, those that have a technical element of some form —\\nthat teach you how to do something substantive.\\nEngineering degrees obviously qualify. The current myth that\\nengineering and computer science degrees are less useful\\nbecause all the jobs are going to India and China is silliness;\\nignore it.\\nHard science degrees — physics, chemistry — also clearly qualify, as do mathematics and', np.float64(0.4688566672232099))\n",
            "(' demands rigorous thinking on the\\npath to doing anything big.\\n• Plus, technical degrees indicate seriousness of purpose to\\nfuture employers and partners. You get coded right up front\\nas someone who is intent on doing real things.\\nGraduating with a technical degree is like heading out into the real\\n108 The Pmarca Blog Archives\\nworld armed with an assault riGe instead of a dull knife. Don’t miss\\nthat opportunity because of some fuzzy romanticized view of\\nliberal arts broadening your horizons.\\nWhat graduate degrees are useful in the\\nreal world?\\nGenerally, if you have a useful undergrad degree, I think graduate degrees are overrated. You can usually hit the workforce in a\\nreal job with just an undergraduate degree and progress rapidly\\naccording to your own ability and energy from there.\\nOf course, you’re hearing this from someone who could barely\\nstand to stay in school long enough to Xnish undergrad, so take\\nthat for what it’s worth.\\nIf you don’t have a useful undergrad degree, then a use', np.float64(0.46453041351435653))\n",
            "('of the time they can send an email that\\nyou can process at the end of the day during the second of your\\ntwo daily email sweeps.\\nHere’s the best part: you don’t actually have to be listening to\\nanything.\\nHell, you don’t even have to have the headphones plugged into\\nanything.\\nSleeping and Eating\\nI’m not going to talk a lot about getting up early or going to\\nbed late or anything else related to the course of a typical day,\\nbecause everyone’s diWerent.\\nPersonally I go back and forth between being a night owl (99% of\\nthe time) and a morning person (1% — I’m going to try to push\\nit to 2%).\\nBut the thing that matters almost more than anything in determining whether I’ll have a happy, satisfying day is this: no matter what time you get up, start the day with a real, sit-down\\nbreakfast.\\nThis serves two purposes.\\nFirst, it fuels you up. Study aaer study have shown that breakfast\\nis, yes, the most important meal of the day. It’s critical to properly fuel the body for the day’s activities and it’s', np.float64(0.464091034076865))\n",
            "('pure research and education — do\\nnot have PhDs. Draw from that whatever conclusion you think\\nmakes sense.\\nWhat college or university should I go to?\\nTry very very hard to go to one of the best colleges or universities in the world for your chosen Xeld.\\nDon’t worry about being a small Fsh in a big pond — you want to\\nalways be in the best pond possible, because that’s how you will get\\nPart 2: Skills and education 109\\nexposed to the best people and the best opportunities in your\\nXeld.\\nIf you can’t start out in one of the top schools for your Xeld, then\\nwork your butt oW and get great grades and transfer as fast as\\nyou possibly can into a top school.\\nAnd if you can’t do that — if you end up getting your undergrad\\nat a school that’s not one of the top in your Xeld — then strongly\\nconsider pursuing a graduate degree in your Xeld at a great\\nschool for your Xeld.\\nIn this way, even if your only option is starting out at a community college, by the time you Xnish 4-6 years of education, you\\ncan ', np.float64(0.46249114553074716))\n"
          ]
        }
      ],
      "source": [
        "import numpy as np\n",
        "def euclidean_distance(vector_a: np.array, vector_b: np.array) -> float:\n",
        "    \"\"\"Computes the Euclidean distance between two vectors.\"\"\"\n",
        "    distance = np.linalg.norm(vector_a - vector_b)\n",
        "    return distance\n",
        "\n",
        "def minkowski_distance(vector_a: np.array, vector_b: np.array, p: float = 3) -> float:\n",
        "    \"\"\"Computes the Minkowski distance between two vectors for a given order p.\n",
        "        Default p=3 - a distance between Manhattan and Euclidean\n",
        "        Note    1=Manhattan distance\n",
        "                2=Euclidean distance\n",
        "    \"\"\"\n",
        "    distance = np.sum(np.abs(vector_a - vector_b) ** p) ** (1 / p)\n",
        "    return distance\n",
        "\n",
        "def print_array(in_array):\n",
        "    for item in in_array:\n",
        "        print(item)\n",
        "\n",
        "print(\"Default - Cosine Similarity\")\n",
        "print_array(vector_db.search_by_text(\"What is the Michael Eisner Memorial Weak Executive Problem?\", \n",
        "                         k=5))\n",
        "print(\" \")\n",
        "print(\"Euclidean Distance\")\n",
        "print_array(vector_db.search_by_text(\"What is the Michael Eisner Memorial Weak Executive Problem?\", \n",
        "                         k=5, distance_measure=euclidean_distance))\n",
        "print(\" \")\n",
        "print(\"Minkowski Distance\")\n",
        "print_array(vector_db.search_by_text(\"What is the Michael Eisner Memorial Weak Executive Problem?\", \n",
        "                         k=5, distance_measure=minkowski_distance))"
      ]
    },
    {
      "cell_type": "markdown",
      "metadata": {},
      "source": [
        "Future Enhancement:\n",
        "\n",
        "- Add metadata support to the vector database\n",
        "- Improve chunking mechanism\n",
        "- Add performance statistics"
      ]
    },
    {
      "cell_type": "code",
      "execution_count": null,
      "metadata": {},
      "outputs": [],
      "source": []
    }
  ],
  "metadata": {
    "colab": {
      "provenance": []
    },
    "kernelspec": {
      "display_name": "buildyourownlangchain",
      "language": "python",
      "name": "python3"
    },
    "language_info": {
      "codemirror_mode": {
        "name": "ipython",
        "version": 3
      },
      "file_extension": ".py",
      "mimetype": "text/x-python",
      "name": "python",
      "nbconvert_exporter": "python",
      "pygments_lexer": "ipython3",
      "version": "3.11.9"
    },
    "orig_nbformat": 4,
    "widgets": {
      "application/vnd.jupyter.widget-state+json": {
        "1ce393d9afcf427d9d352259c5d32678": {
          "model_module": "@jupyter-widgets/controls",
          "model_module_version": "1.5.0",
          "model_name": "FloatProgressModel",
          "state": {
            "_dom_classes": [],
            "_model_module": "@jupyter-widgets/controls",
            "_model_module_version": "1.5.0",
            "_model_name": "FloatProgressModel",
            "_view_count": null,
            "_view_module": "@jupyter-widgets/controls",
            "_view_module_version": "1.5.0",
            "_view_name": "ProgressView",
            "bar_style": "",
            "description": "",
            "description_tooltip": null,
            "layout": "IPY_MODEL_4e6efd99f7d346e485b002fb0fa85cc7",
            "max": 1,
            "min": 0,
            "orientation": "horizontal",
            "style": "IPY_MODEL_3dfb67c39958461da6071e4c19c3fa41",
            "value": 1
          }
        },
        "3a4ba348cb004f8ab7b2b1395539c81b": {
          "model_module": "@jupyter-widgets/controls",
          "model_module_version": "1.5.0",
          "model_name": "LabelModel",
          "state": {
            "_dom_classes": [],
            "_model_module": "@jupyter-widgets/controls",
            "_model_module_version": "1.5.0",
            "_model_name": "LabelModel",
            "_view_count": null,
            "_view_module": "@jupyter-widgets/controls",
            "_view_module_version": "1.5.0",
            "_view_name": "LabelView",
            "description": "",
            "description_tooltip": null,
            "layout": "IPY_MODEL_d2ea5009dd16442cb5d8a0ac468e50a8",
            "placeholder": "​",
            "style": "IPY_MODEL_5f00135fe1044051a50ee5e841cbb8e3",
            "value": "0.018 MB of 0.018 MB uploaded\r"
          }
        },
        "3dfb67c39958461da6071e4c19c3fa41": {
          "model_module": "@jupyter-widgets/controls",
          "model_module_version": "1.5.0",
          "model_name": "ProgressStyleModel",
          "state": {
            "_model_module": "@jupyter-widgets/controls",
            "_model_module_version": "1.5.0",
            "_model_name": "ProgressStyleModel",
            "_view_count": null,
            "_view_module": "@jupyter-widgets/base",
            "_view_module_version": "1.2.0",
            "_view_name": "StyleView",
            "bar_color": null,
            "description_width": ""
          }
        },
        "4e6efd99f7d346e485b002fb0fa85cc7": {
          "model_module": "@jupyter-widgets/base",
          "model_module_version": "1.2.0",
          "model_name": "LayoutModel",
          "state": {
            "_model_module": "@jupyter-widgets/base",
            "_model_module_version": "1.2.0",
            "_model_name": "LayoutModel",
            "_view_count": null,
            "_view_module": "@jupyter-widgets/base",
            "_view_module_version": "1.2.0",
            "_view_name": "LayoutView",
            "align_content": null,
            "align_items": null,
            "align_self": null,
            "border": null,
            "bottom": null,
            "display": null,
            "flex": null,
            "flex_flow": null,
            "grid_area": null,
            "grid_auto_columns": null,
            "grid_auto_flow": null,
            "grid_auto_rows": null,
            "grid_column": null,
            "grid_gap": null,
            "grid_row": null,
            "grid_template_areas": null,
            "grid_template_columns": null,
            "grid_template_rows": null,
            "height": null,
            "justify_content": null,
            "justify_items": null,
            "left": null,
            "margin": null,
            "max_height": null,
            "max_width": null,
            "min_height": null,
            "min_width": null,
            "object_fit": null,
            "object_position": null,
            "order": null,
            "overflow": null,
            "overflow_x": null,
            "overflow_y": null,
            "padding": null,
            "right": null,
            "top": null,
            "visibility": null,
            "width": null
          }
        },
        "56a8e24025594e5e9ff3b8581c344691": {
          "model_module": "@jupyter-widgets/base",
          "model_module_version": "1.2.0",
          "model_name": "LayoutModel",
          "state": {
            "_model_module": "@jupyter-widgets/base",
            "_model_module_version": "1.2.0",
            "_model_name": "LayoutModel",
            "_view_count": null,
            "_view_module": "@jupyter-widgets/base",
            "_view_module_version": "1.2.0",
            "_view_name": "LayoutView",
            "align_content": null,
            "align_items": null,
            "align_self": null,
            "border": null,
            "bottom": null,
            "display": null,
            "flex": null,
            "flex_flow": null,
            "grid_area": null,
            "grid_auto_columns": null,
            "grid_auto_flow": null,
            "grid_auto_rows": null,
            "grid_column": null,
            "grid_gap": null,
            "grid_row": null,
            "grid_template_areas": null,
            "grid_template_columns": null,
            "grid_template_rows": null,
            "height": null,
            "justify_content": null,
            "justify_items": null,
            "left": null,
            "margin": null,
            "max_height": null,
            "max_width": null,
            "min_height": null,
            "min_width": null,
            "object_fit": null,
            "object_position": null,
            "order": null,
            "overflow": null,
            "overflow_x": null,
            "overflow_y": null,
            "padding": null,
            "right": null,
            "top": null,
            "visibility": null,
            "width": null
          }
        },
        "5f00135fe1044051a50ee5e841cbb8e3": {
          "model_module": "@jupyter-widgets/controls",
          "model_module_version": "1.5.0",
          "model_name": "DescriptionStyleModel",
          "state": {
            "_model_module": "@jupyter-widgets/controls",
            "_model_module_version": "1.5.0",
            "_model_name": "DescriptionStyleModel",
            "_view_count": null,
            "_view_module": "@jupyter-widgets/base",
            "_view_module_version": "1.2.0",
            "_view_name": "StyleView",
            "description_width": ""
          }
        },
        "bb904e05ece143c79ecc4f20de482f45": {
          "model_module": "@jupyter-widgets/controls",
          "model_module_version": "1.5.0",
          "model_name": "VBoxModel",
          "state": {
            "_dom_classes": [],
            "_model_module": "@jupyter-widgets/controls",
            "_model_module_version": "1.5.0",
            "_model_name": "VBoxModel",
            "_view_count": null,
            "_view_module": "@jupyter-widgets/controls",
            "_view_module_version": "1.5.0",
            "_view_name": "VBoxView",
            "box_style": "",
            "children": [
              "IPY_MODEL_3a4ba348cb004f8ab7b2b1395539c81b",
              "IPY_MODEL_1ce393d9afcf427d9d352259c5d32678"
            ],
            "layout": "IPY_MODEL_56a8e24025594e5e9ff3b8581c344691"
          }
        },
        "d2ea5009dd16442cb5d8a0ac468e50a8": {
          "model_module": "@jupyter-widgets/base",
          "model_module_version": "1.2.0",
          "model_name": "LayoutModel",
          "state": {
            "_model_module": "@jupyter-widgets/base",
            "_model_module_version": "1.2.0",
            "_model_name": "LayoutModel",
            "_view_count": null,
            "_view_module": "@jupyter-widgets/base",
            "_view_module_version": "1.2.0",
            "_view_name": "LayoutView",
            "align_content": null,
            "align_items": null,
            "align_self": null,
            "border": null,
            "bottom": null,
            "display": null,
            "flex": null,
            "flex_flow": null,
            "grid_area": null,
            "grid_auto_columns": null,
            "grid_auto_flow": null,
            "grid_auto_rows": null,
            "grid_column": null,
            "grid_gap": null,
            "grid_row": null,
            "grid_template_areas": null,
            "grid_template_columns": null,
            "grid_template_rows": null,
            "height": null,
            "justify_content": null,
            "justify_items": null,
            "left": null,
            "margin": null,
            "max_height": null,
            "max_width": null,
            "min_height": null,
            "min_width": null,
            "object_fit": null,
            "object_position": null,
            "order": null,
            "overflow": null,
            "overflow_x": null,
            "overflow_y": null,
            "padding": null,
            "right": null,
            "top": null,
            "visibility": null,
            "width": null
          }
        }
      }
    }
  },
  "nbformat": 4,
  "nbformat_minor": 0
}
