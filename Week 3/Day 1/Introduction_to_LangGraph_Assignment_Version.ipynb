{
  "cells": [
    {
      "cell_type": "markdown",
      "metadata": {
        "id": "gJXW_DgiSebM"
      },
      "source": [
        "# LangGraph and LangSmith - Agentic RAG Powered by LangChain\n",
        "\n",
        "In the following notebook we'll complete the following tasks:\n",
        "\n",
        "- 🤝 Breakout Room #1:\n",
        "  1. Install required libraries\n",
        "  2. Set Environment Variables\n",
        "  3. Creating our Tool Belt\n",
        "  4. Creating Our State\n",
        "  5. Creating and Compiling A Graph!\n",
        "\n",
        "  - 🤝 Breakout Room #2:\n",
        "  1. Evaluating the LangGraph Application with LangSmith\n",
        "  2. Adding Helpfulness Check and \"Loop\" Limits\n",
        "  3. LangGraph for the \"Patterns\" of GenAI"
      ]
    },
    {
      "cell_type": "markdown",
      "metadata": {
        "id": "djQ3nRAgoF67"
      },
      "source": [
        "# 🤝 Breakout Room #1"
      ]
    },
    {
      "cell_type": "markdown",
      "metadata": {
        "id": "e7pQDUhUnIo8"
      },
      "source": [
        "## Part 1: LangGraph - Building Cyclic Applications with LangChain\n",
        "\n",
        "LangGraph is a tool that leverages LangChain Expression Language to build coordinated multi-actor and stateful applications that includes cyclic behaviour.\n",
        "\n",
        "### Why Cycles?\n",
        "\n",
        "In essence, we can think of a cycle in our graph as a more robust and customizable loop. It allows us to keep our application agent-forward while still giving the powerful functionality of traditional loops.\n",
        "\n",
        "Due to the inclusion of cycles over loops, we can also compose rather complex flows through our graph in a much more readable and natural fashion. Effectively allowing us to recreate application flowcharts in code in an almost 1-to-1 fashion.\n",
        "\n",
        "### Why LangGraph?\n",
        "\n",
        "Beyond the agent-forward approach - we can easily compose and combine traditional \"DAG\" (directed acyclic graph) chains with powerful cyclic behaviour due to the tight integration with LCEL. This means it's a natural extension to LangChain's core offerings!"
      ]
    },
    {
      "cell_type": "markdown",
      "metadata": {
        "id": "3_fLDElOVoop"
      },
      "source": [
        "## Task 1:  Dependencies\n",
        "\n",
        "We'll first install all our required libraries."
      ]
    },
    {
      "cell_type": "code",
      "execution_count": 1,
      "metadata": {
        "id": "KaVwN269EttM"
      },
      "outputs": [],
      "source": [
        "!pip install -qU langchain langchain_openai langchain-community langgraph arxiv duckduckgo_search==5.3.1b1"
      ]
    },
    {
      "cell_type": "markdown",
      "metadata": {
        "id": "wujPjGJuoPwg"
      },
      "source": [
        "## Task 2: Environment Variables\n",
        "\n",
        "We'll want to set both our OpenAI API key and our LangSmith environment variables."
      ]
    },
    {
      "cell_type": "code",
      "execution_count": 2,
      "metadata": {
        "colab": {
          "base_uri": "https://localhost:8080/"
        },
        "id": "Jdh8CoVWHRvs",
        "outputId": "42b2ba5e-11ae-4f4d-e68e-77607bb794ad"
      },
      "outputs": [],
      "source": [
        "import os\n",
        "import getpass\n",
        "\n",
        "os.environ[\"OPENAI_API_KEY\"] = getpass.getpass(\"OpenAI API Key:\")"
      ]
    },
    {
      "cell_type": "code",
      "execution_count": 3,
      "metadata": {
        "colab": {
          "base_uri": "https://localhost:8080/"
        },
        "id": "Nv0glIDyHmRt",
        "outputId": "30aa2260-50f1-4abf-b305-eed0ee1b9008"
      },
      "outputs": [],
      "source": [
        "from uuid import uuid4\n",
        "\n",
        "os.environ[\"LANGCHAIN_TRACING_V2\"] = \"true\"\n",
        "os.environ[\"LANGCHAIN_PROJECT\"] = f\"AIE4 - LangGraph - {uuid4().hex[0:8]}\"\n",
        "os.environ[\"LANGCHAIN_API_KEY\"] = getpass.getpass(\"LangSmith API Key: \")"
      ]
    },
    {
      "cell_type": "markdown",
      "metadata": {
        "id": "sBRyQmEAVzua"
      },
      "source": [
        "## Task 3: Creating our Tool Belt\n",
        "\n",
        "As is usually the case, we'll want to equip our agent with a toolbelt to help answer questions and add external knowledge.\n",
        "\n",
        "There's a tonne of tools in the [LangChain Community Repo](https://github.com/langchain-ai/langchain/tree/master/libs/community/langchain_community/tools) but we'll stick to a couple just so we can observe the cyclic nature of LangGraph in action!\n",
        "\n",
        "We'll leverage:\n",
        "\n",
        "- [Duck Duck Go Web Search](https://github.com/langchain-ai/langchain/tree/master/libs/community/langchain_community/tools/ddg_search)\n",
        "- [Arxiv](https://github.com/langchain-ai/langchain/tree/master/libs/community/langchain_community/tools/arxiv)"
      ]
    },
    {
      "cell_type": "markdown",
      "metadata": {
        "id": "2k6n_Dob2F46"
      },
      "source": [
        "\n",
        "\n",
        "#### 🏗️ Activity #1:\n",
        "\n",
        "Please add the tools to use into our toolbelt.\n",
        "\n",
        "> NOTE: Each tool in our toolbelt should be a method.\n",
        "\n",
        "Added:\n",
        "- DuckDuckGoSearchRun()\n",
        "- ArxivQueryRun()\n",
        "\n"
      ]
    },
    {
      "cell_type": "code",
      "execution_count": 4,
      "metadata": {
        "id": "lAxaSvlfIeOg"
      },
      "outputs": [],
      "source": [
        "from langchain_community.tools.ddg_search import DuckDuckGoSearchRun\n",
        "from langchain_community.tools.arxiv.tool import ArxivQueryRun\n",
        "\n",
        "tool_belt = [\n",
        "   DuckDuckGoSearchRun(),\n",
        "   ArxivQueryRun(),\n",
        "]"
      ]
    },
    {
      "cell_type": "markdown",
      "metadata": {
        "id": "VI-C669ZYVI5"
      },
      "source": [
        "### Model\n",
        "\n",
        "Now we can set-up our model! We'll leverage the familiar OpenAI model suite for this example - but it's not *necessary* to use with LangGraph. LangGraph supports all models - though you might not find success with smaller models - as such, they recommend you stick with:\n",
        "\n",
        "- OpenAI's GPT-3.5 and GPT-4\n",
        "- Anthropic's Claude\n",
        "- Google's Gemini\n",
        "\n",
        "> NOTE: Because we're leveraging the OpenAI function calling API - we'll need to use OpenAI *for this specific example* (or any other service that exposes an OpenAI-style function calling API."
      ]
    },
    {
      "cell_type": "code",
      "execution_count": 5,
      "metadata": {
        "id": "QkNS8rNZJs4z"
      },
      "outputs": [],
      "source": [
        "from langchain_openai import ChatOpenAI\n",
        "\n",
        "model = ChatOpenAI(model=\"gpt-4o\", temperature=0)"
      ]
    },
    {
      "cell_type": "markdown",
      "metadata": {
        "id": "Ugkj3GzuZpQv"
      },
      "source": [
        "Now that we have our model set-up, let's \"put on the tool belt\", which is to say: We'll bind our LangChain formatted tools to the model in an OpenAI function calling format."
      ]
    },
    {
      "cell_type": "code",
      "execution_count": 6,
      "metadata": {
        "id": "4OdMqFafZ_0V"
      },
      "outputs": [],
      "source": [
        "model = model.bind_tools(tool_belt)"
      ]
    },
    {
      "cell_type": "markdown",
      "metadata": {
        "id": "ERzuGo6W18Lr"
      },
      "source": [
        "\n",
        "\n",
        "#### ❓ Question #1:\n",
        "\n",
        "How does the model determine which tool to use?\n",
        "\n",
        "#### ! Answer #1:\n",
        "\n",
        "The tools contain markup (description) describing their purpose. It is also recommended to use a descriptive name for the tool.\n",
        "\n",
        "There are a couple of ways the model can know which tool to use:\n",
        "- Explicit - if the tool is requested within the input the model could match on name or description\n",
        "- Context - based on the question the model can identify the context of the question and find a best fit tool based on the tool name and description\n",
        "- Complex - the language model may have been trained or fine-tuned to decide which tool to use\n",
        "\n"
      ]
    },
    {
      "cell_type": "markdown",
      "metadata": {
        "id": "_296Ub96Z_H8"
      },
      "source": [
        "## Task 4: Putting the State in Stateful\n",
        "\n",
        "Earlier we used this phrasing:\n",
        "\n",
        "`coordinated multi-actor and stateful applications`\n",
        "\n",
        "So what does that \"stateful\" mean?\n",
        "\n",
        "To put it simply - we want to have some kind of object which we can pass around our application that holds information about what the current situation (state) is. Since our system will be constructed of many parts moving in a coordinated fashion - we want to be able to ensure we have some commonly understood idea of that state.\n",
        "\n",
        "LangGraph leverages a `StatefulGraph` which uses an `AgentState` object to pass information between the various nodes of the graph.\n",
        "\n",
        "There are more options than what we'll see below - but this `AgentState` object is one that is stored in a `TypedDict` with the key `messages` and the value is a `Sequence` of `BaseMessages` that will be appended to whenever the state changes.\n",
        "\n",
        "Let's think about a simple example to help understand exactly what this means (we'll simplify a great deal to try and clearly communicate what state is doing):\n",
        "\n",
        "1. We initialize our state object:\n",
        "  - `{\"messages\" : []}`\n",
        "2. Our user submits a query to our application.\n",
        "  - New State: `HumanMessage(#1)`\n",
        "  - `{\"messages\" : [HumanMessage(#1)}`\n",
        "3. We pass our state object to an Agent node which is able to read the current state. It will use the last `HumanMessage` as input. It gets some kind of output which it will add to the state.\n",
        "  - New State: `AgentMessage(#1, additional_kwargs {\"function_call\" : \"WebSearchTool\"})`\n",
        "  - `{\"messages\" : [HumanMessage(#1), AgentMessage(#1, ...)]}`\n",
        "4. We pass our state object to a \"conditional node\" (more on this later) which reads the last state to determine if we need to use a tool - which it can determine properly because of our provided object!"
      ]
    },
    {
      "cell_type": "code",
      "execution_count": 7,
      "metadata": {
        "id": "mxL9b_NZKUdL"
      },
      "outputs": [],
      "source": [
        "from typing import TypedDict, Annotated, Text\n",
        "from langgraph.graph.message import add_messages\n",
        "import operator\n",
        "from langchain_core.messages import BaseMessage\n",
        "\n",
        "class AgentState(TypedDict):\n",
        "  messages: Annotated[list, add_messages]"
      ]
    },
    {
      "cell_type": "markdown",
      "metadata": {
        "id": "vWsMhfO9grLu"
      },
      "source": [
        "## Task 5: It's Graphing Time!\n",
        "\n",
        "Now that we have state, and we have tools, and we have an LLM - we can finally start making our graph!\n",
        "\n",
        "Let's take a second to refresh ourselves about what a graph is in this context.\n",
        "\n",
        "Graphs, also called networks in some circles, are a collection of connected objects.\n",
        "\n",
        "The objects in question are typically called nodes, or vertices, and the connections are called edges.\n",
        "\n",
        "Let's look at a simple graph.\n",
        "\n",
        "![image](https://i.imgur.com/2NFLnIc.png)\n",
        "\n",
        "Here, we're using the coloured circles to represent the nodes and the yellow lines to represent the edges. In this case, we're looking at a fully connected graph - where each node is connected by an edge to each other node.\n",
        "\n",
        "If we were to think about nodes in the context of LangGraph - we would think of a function, or an LCEL runnable.\n",
        "\n",
        "If we were to think about edges in the context of LangGraph - we might think of them as \"paths to take\" or \"where to pass our state object next\".\n",
        "\n",
        "Let's create some nodes and expand on our diagram.\n",
        "\n",
        "> NOTE: Due to the tight integration with LCEL - we can comfortably create our nodes in an async fashion!"
      ]
    },
    {
      "cell_type": "code",
      "execution_count": 8,
      "metadata": {
        "id": "91flJWtZLUrl"
      },
      "outputs": [],
      "source": [
        "from langgraph.prebuilt import ToolNode\n",
        "\n",
        "def call_model(state):\n",
        "  messages = state[\"messages\"]\n",
        "  response = model.invoke(messages)\n",
        "  return {\"messages\" : [response]}\n",
        "\n",
        "tool_node = ToolNode(tool_belt)"
      ]
    },
    {
      "cell_type": "markdown",
      "metadata": {
        "id": "2bwR7MgWj3Wg"
      },
      "source": [
        "Now we have two total nodes. We have:\n",
        "\n",
        "- `call_model` is a node that will...well...call the model\n",
        "- `tool_node` is a node which can call a tool\n",
        "\n",
        "Let's start adding nodes! We'll update our diagram along the way to keep track of what this looks like!\n"
      ]
    },
    {
      "cell_type": "code",
      "execution_count": 9,
      "metadata": {
        "id": "_vF4_lgtmQNo"
      },
      "outputs": [],
      "source": [
        "from langgraph.graph import StateGraph, END\n",
        "\n",
        "uncompiled_graph = StateGraph(AgentState)\n",
        "\n",
        "uncompiled_graph.add_node(\"agent\", call_model)\n",
        "uncompiled_graph.add_node(\"action\", tool_node)"
      ]
    },
    {
      "cell_type": "markdown",
      "metadata": {
        "id": "b8CjRlbVmRpW"
      },
      "source": [
        "Let's look at what we have so far:\n",
        "\n",
        "![image](https://i.imgur.com/md7inqG.png)"
      ]
    },
    {
      "cell_type": "markdown",
      "metadata": {
        "id": "uaXHpPeSnOWC"
      },
      "source": [
        "Next, we'll add our entrypoint. All our entrypoint does is indicate which node is called first."
      ]
    },
    {
      "cell_type": "code",
      "execution_count": 10,
      "metadata": {
        "id": "YGCbaYqRnmiw"
      },
      "outputs": [],
      "source": [
        "uncompiled_graph.set_entry_point(\"agent\")"
      ]
    },
    {
      "cell_type": "markdown",
      "metadata": {
        "id": "BUsfGoSpoF9U"
      },
      "source": [
        "![image](https://i.imgur.com/wNixpJe.png)"
      ]
    },
    {
      "cell_type": "markdown",
      "metadata": {
        "id": "0Q_pQgHmoW0M"
      },
      "source": [
        "Now we want to build a \"conditional edge\" which will use the output state of a node to determine which path to follow.\n",
        "\n",
        "We can help conceptualize this by thinking of our conditional edge as a conditional in a flowchart!\n",
        "\n",
        "Notice how our function simply checks if there is a \"function_call\" kwarg present.\n",
        "\n",
        "Then we create an edge where the origin node is our agent node and our destination node is *either* the action node or the END (finish the graph).\n",
        "\n",
        "It's important to highlight that the dictionary passed in as the third parameter (the mapping) should be created with the possible outputs of our conditional function in mind. In this case `should_continue` outputs either `\"end\"` or `\"continue\"` which are subsequently mapped to the action node or the END node."
      ]
    },
    {
      "cell_type": "code",
      "execution_count": 11,
      "metadata": {
        "id": "1BZgb81VQf9o"
      },
      "outputs": [],
      "source": [
        "def should_continue(state):\n",
        "  last_message = state[\"messages\"][-1]\n",
        "\n",
        "  if last_message.tool_calls:\n",
        "    return \"action\"\n",
        "\n",
        "  return END\n",
        "\n",
        "uncompiled_graph.add_conditional_edges(\n",
        "    \"agent\",\n",
        "    should_continue\n",
        ")"
      ]
    },
    {
      "cell_type": "markdown",
      "metadata": {
        "id": "-Cvhcf4jp0Ce"
      },
      "source": [
        "Let's visualize what this looks like.\n",
        "\n",
        "![image](https://i.imgur.com/8ZNwKI5.png)"
      ]
    },
    {
      "cell_type": "markdown",
      "metadata": {
        "id": "yKCjWJCkrJb9"
      },
      "source": [
        "Finally, we can add our last edge which will connect our action node to our agent node. This is because we *always* want our action node (which is used to call our tools) to return its output to our agent!"
      ]
    },
    {
      "cell_type": "code",
      "execution_count": 12,
      "metadata": {
        "id": "UvcgbHf1rIXZ"
      },
      "outputs": [],
      "source": [
        "uncompiled_graph.add_edge(\"action\", \"agent\")"
      ]
    },
    {
      "cell_type": "markdown",
      "metadata": {
        "id": "EiWDwBQtrw7Z"
      },
      "source": [
        "Let's look at the final visualization.\n",
        "\n",
        "![image](https://i.imgur.com/NWO7usO.png)"
      ]
    },
    {
      "cell_type": "markdown",
      "metadata": {
        "id": "KYqDpErlsCsu"
      },
      "source": [
        "All that's left to do now is to compile our workflow - and we're off!"
      ]
    },
    {
      "cell_type": "code",
      "execution_count": 13,
      "metadata": {
        "id": "zt9-KS8DpzNx"
      },
      "outputs": [],
      "source": [
        "compiled_graph = uncompiled_graph.compile()"
      ]
    },
    {
      "cell_type": "markdown",
      "metadata": {
        "id": "xhNWIwBL1W4Q"
      },
      "source": [
        "\n",
        "#### ❓ Question #2:\n",
        "\n",
        "Is there any specific limit to how many times we can cycle?\n",
        "\n",
        "If not, how could we impose a limit to the number of cycles?\n",
        "\n",
        "#### ! Answer #2:\n",
        "\n",
        "Conceptually there is no limit to the number of times this could cycle. Technically it would probably end up using up sufficient resources etc to hit token limits, out of memory condition etc.\n",
        "\n",
        "The most simple way to limit the number of cycles is to set a counter and track the number of repeats are performed. There are a number of different ways this could be implemented:\n",
        "- Counter in the agent node - set a counter and increment each time the action node is called. When the counter reaches a specified number, the agent then ends the cycle even if the other conditions have not been met.\n",
        "- Counter within action node - the action itself could keep track of how many times it has been called and raise an exception when the limit is reached\n",
        "- Counter within the conditional edge - the should-continue edge could check the counter and then decide to end\n"
      ]
    },
    {
      "cell_type": "code",
      "execution_count": 14,
      "metadata": {},
      "outputs": [],
      "source": [
        "from langchain_core.messages import AIMessage, ToolMessage\n",
        "from pprint import pprint\n",
        "\n",
        "def print_messages(values):\n",
        "    for message in values[\"messages\"]:\n",
        "        if isinstance(message, AIMessage):\n",
        "            print(\"AI Message Content:\")\n",
        "            print(message.content)\n",
        "            print(\"\\nadditional_kwargs:\")\n",
        "            pprint(message.additional_kwargs, indent=4)\n",
        "            print(\"\\nresponse_metadata:\")\n",
        "            pprint(message.response_metadata, indent=4)\n",
        "            print(\"\\nusage_metadata:\")\n",
        "            pprint(message.usage_metadata, indent=4)\n",
        "            print(\"\\n\" + \"-\" * 50 + \"\\n\")\n",
        "        \n",
        "        elif isinstance(message, ToolMessage):\n",
        "            print(\"Tool Message Content:\")\n",
        "            print(message.content)\n",
        "            print(f\"\\nTool Name: {message.name}\")\n",
        "            print(f\"Tool Call ID: {message.tool_call_id}\")\n",
        "            print(\"\\n\" + \"-\" * 50 + \"\\n\")"
      ]
    },
    {
      "cell_type": "markdown",
      "metadata": {
        "id": "VEYcTShCsPaa"
      },
      "source": [
        "## Using Our Graph\n",
        "\n",
        "Now that we've created and compiled our graph - we can call it *just as we'd call any other* `Runnable`!\n",
        "\n",
        "Let's try out a few examples to see how it fairs:"
      ]
    },
    {
      "cell_type": "code",
      "execution_count": 15,
      "metadata": {
        "colab": {
          "base_uri": "https://localhost:8080/"
        },
        "id": "Qn4n37PQRPII",
        "outputId": "a5d7ef7a-13f2-4066-df52-b0df89eae2ae"
      },
      "outputs": [
        {
          "name": "stdout",
          "output_type": "stream",
          "text": [
            "Receiving update from node: 'agent'\n",
            "[AIMessage(content='', additional_kwargs={'tool_calls': [{'id': 'call_j2tt7JANibWFzpKu1GDdd70M', 'function': {'arguments': '{\"query\":\"current captain of the Winnipeg Jets 2023\"}', 'name': 'duckduckgo_search'}, 'type': 'function'}], 'refusal': None}, response_metadata={'token_usage': {'completion_tokens': 25, 'prompt_tokens': 156, 'total_tokens': 181}, 'model_name': 'gpt-4o-2024-05-13', 'system_fingerprint': 'fp_157b3831f5', 'finish_reason': 'tool_calls', 'logprobs': None}, id='run-2f6144d7-cdcf-446b-bfe9-37f9486438c6-0', tool_calls=[{'name': 'duckduckgo_search', 'args': {'query': 'current captain of the Winnipeg Jets 2023'}, 'id': 'call_j2tt7JANibWFzpKu1GDdd70M', 'type': 'tool_call'}], usage_metadata={'input_tokens': 156, 'output_tokens': 25, 'total_tokens': 181})]\n",
            "\n",
            "\n",
            "\n",
            "Receiving update from node: 'action'\n",
            "[ToolMessage(content='Posted September 12, 2023 9:29 am. Centre Adam Lowry was named the Winnipeg Jets new captain on Tuesday. Lowry is the third Jets captain since the team moved from Atlanta to Winnipeg in 2011. He follows Andrew Ladd and Blake Wheeler, who served as captain for five and six years respectively. Adam Lowry was named captain of the Winnipeg Jets on Tuesday. ... Sep 20, 2023. Latest News. Inside look at Vegas Golden Knights Aug 30, 2024. Vegas Golden Knights fantasy projections for 2024-25 Lowry will follow Andrew Ladd and Blake Wheeler to serve as the third captain of the new Winnipeg Jets franchise. - Sep 12, 2023. After a season without a captain, the Winnipeg Jets have named ... September 12, 2023. There are not many honours in team sports bigger than being named captain. That honour was given to Winnipeg Jet forward Adam Lowry officially Tuesday morning as he becomes the ... The Winnipeg Jets will have a captain for the 2023-24 season. After going captain-less in 2022-23, the Winnipeg Jets unveiled Adam Lowry as the club\\'s new captain on Tuesday morning. \"When I ...', name='duckduckgo_search', tool_call_id='call_j2tt7JANibWFzpKu1GDdd70M')]\n",
            "\n",
            "\n",
            "\n",
            "Receiving update from node: 'agent'\n",
            "[AIMessage(content='As of September 12, 2023, Adam Lowry is the current captain of the Winnipeg Jets.', additional_kwargs={'refusal': None}, response_metadata={'token_usage': {'completion_tokens': 23, 'prompt_tokens': 443, 'total_tokens': 466}, 'model_name': 'gpt-4o-2024-05-13', 'system_fingerprint': 'fp_157b3831f5', 'finish_reason': 'stop', 'logprobs': None}, id='run-4ae642af-3fd9-4cfa-8862-3a0870b1d83d-0', usage_metadata={'input_tokens': 443, 'output_tokens': 23, 'total_tokens': 466})]\n",
            "\n",
            "\n",
            "\n"
          ]
        }
      ],
      "source": [
        "from langchain_core.messages import HumanMessage\n",
        "\n",
        "inputs = {\"messages\" : [HumanMessage(content=\"Who is the current captain of the Winnipeg Jets?\")]}\n",
        "\n",
        "async for chunk in compiled_graph.astream(inputs, stream_mode=\"updates\"):\n",
        "    for node, values in chunk.items():\n",
        "        print(f\"Receiving update from node: '{node}'\")\n",
        "        print(values[\"messages\"])\n",
        "        print(\"\\n\\n\")\n",
        "        # print_messages(values)\n"
      ]
    },
    {
      "cell_type": "markdown",
      "metadata": {
        "id": "DBHnUtLSscRr"
      },
      "source": [
        "Let's look at what happened:\n",
        "\n",
        "1. Our state object was populated with our request\n",
        "2. The state object was passed into our entry point (agent node) and the agent node added an `AIMessage` to the state object and passed it along the conditional edge\n",
        "3. The conditional edge received the state object, found the \"tool_calls\" `additional_kwarg`, and sent the state object to the action node\n",
        "4. The action node added the response from the OpenAI function calling endpoint to the state object and passed it along the edge to the agent node\n",
        "5. The agent node added a response to the state object and passed it along the conditional edge\n",
        "6. The conditional edge received the state object, could not find the \"tool_calls\" `additional_kwarg` and passed the state object to END where we see it output in the cell above!\n",
        "\n",
        "Now let's look at an example that shows a multiple tool usage - all with the same flow!"
      ]
    },
    {
      "cell_type": "code",
      "execution_count": 16,
      "metadata": {
        "colab": {
          "base_uri": "https://localhost:8080/"
        },
        "id": "afv2BuEsV5JG",
        "outputId": "026a3aa3-1c3e-4016-b0a3-fe98b1d25399"
      },
      "outputs": [
        {
          "name": "stdout",
          "output_type": "stream",
          "text": [
            "Receiving update from node: 'agent'\n",
            "[AIMessage(content='', additional_kwargs={'tool_calls': [{'id': 'call_AxeqmzmF3SUsgxrbEr2rO0wu', 'function': {'arguments': '{\"query\": \"QLoRA\"}', 'name': 'arxiv'}, 'type': 'function'}, {'id': 'call_i0GAP0o8HJ9OtiUGX5BXuP9D', 'function': {'arguments': '{\"query\": \"QLoRA paper authors\"}', 'name': 'duckduckgo_search'}, 'type': 'function'}], 'refusal': None}, response_metadata={'token_usage': {'completion_tokens': 53, 'prompt_tokens': 173, 'total_tokens': 226}, 'model_name': 'gpt-4o-2024-05-13', 'system_fingerprint': 'fp_157b3831f5', 'finish_reason': 'tool_calls', 'logprobs': None}, id='run-7e6dd497-b184-465a-bb2c-b41fdadc77c3-0', tool_calls=[{'name': 'arxiv', 'args': {'query': 'QLoRA'}, 'id': 'call_AxeqmzmF3SUsgxrbEr2rO0wu', 'type': 'tool_call'}, {'name': 'duckduckgo_search', 'args': {'query': 'QLoRA paper authors'}, 'id': 'call_i0GAP0o8HJ9OtiUGX5BXuP9D', 'type': 'tool_call'}], usage_metadata={'input_tokens': 173, 'output_tokens': 53, 'total_tokens': 226})]\n",
            "\n",
            "\n",
            "\n",
            "Receiving update from node: 'action'\n",
            "Tool Used: arxiv\n",
            "[ToolMessage(content='Published: 2023-05-23\\nTitle: QLoRA: Efficient Finetuning of Quantized LLMs\\nAuthors: Tim Dettmers, Artidoro Pagnoni, Ari Holtzman, Luke Zettlemoyer\\nSummary: We present QLoRA, an efficient finetuning approach that reduces memory usage\\nenough to finetune a 65B parameter model on a single 48GB GPU while preserving\\nfull 16-bit finetuning task performance. QLoRA backpropagates gradients through\\na frozen, 4-bit quantized pretrained language model into Low Rank\\nAdapters~(LoRA). Our best model family, which we name Guanaco, outperforms all\\nprevious openly released models on the Vicuna benchmark, reaching 99.3% of the\\nperformance level of ChatGPT while only requiring 24 hours of finetuning on a\\nsingle GPU. QLoRA introduces a number of innovations to save memory without\\nsacrificing performance: (a) 4-bit NormalFloat (NF4), a new data type that is\\ninformation theoretically optimal for normally distributed weights (b) double\\nquantization to reduce the average memory footprint by quantizing the\\nquantization constants, and (c) paged optimziers to manage memory spikes. We\\nuse QLoRA to finetune more than 1,000 models, providing a detailed analysis of\\ninstruction following and chatbot performance across 8 instruction datasets,\\nmultiple model types (LLaMA, T5), and model scales that would be infeasible to\\nrun with regular finetuning (e.g. 33B and 65B parameter models). Our results\\nshow that QLoRA finetuning on a small high-quality dataset leads to\\nstate-of-the-art results, even when using smaller models than the previous\\nSoTA. We provide a detailed analysis of chatbot performance based on both human\\nand GPT-4 evaluations showing that GPT-4 evaluations are a cheap and reasonable\\nalternative to human evaluation. Furthermore, we find that current chatbot\\nbenchmarks are not trustworthy to accurately evaluate the performance levels of\\nchatbots. A lemon-picked analysis demonstrates where Guanaco fails compared to\\nChatGPT. We release all of our models and code, including CUDA kernels for\\n4-bit training.\\n\\nPublished: 2024-05-27\\nTitle: Accurate LoRA-Finetuning Quantization of LLMs via Information Retention\\nAuthors: Haotong Qin, Xudong Ma, Xingyu Zheng, Xiaoyang Li, Yang Zhang, Shouda Liu, Jie Luo, Xianglong Liu, Michele Magno\\nSummary: The LoRA-finetuning quantization of LLMs has been extensively studied to\\nobtain accurate yet compact LLMs for deployment on resource-constrained\\nhardware. However, existing methods cause the quantized LLM to severely degrade\\nand even fail to benefit from the finetuning of LoRA. This paper proposes a\\nnovel IR-QLoRA for pushing quantized LLMs with LoRA to be highly accurate\\nthrough information retention. The proposed IR-QLoRA mainly relies on two\\ntechnologies derived from the perspective of unified information: (1)\\nstatistics-based Information Calibration Quantization allows the quantized\\nparameters of LLM to retain original information accurately; (2)\\nfinetuning-based Information Elastic Connection makes LoRA utilizes elastic\\nrepresentation transformation with diverse information. Comprehensive\\nexperiments show that IR-QLoRA can significantly improve accuracy across LLaMA\\nand LLaMA2 families under 2-4 bit-widths, e.g., 4- bit LLaMA-7B achieves 1.4%\\nimprovement on MMLU compared with the state-of-the-art methods. The significant\\nperformance gain requires only a tiny 0.31% additional time consumption,\\nrevealing the satisfactory efficiency of our IR-QLoRA. We highlight that\\nIR-QLoRA enjoys excellent versatility, compatible with various frameworks\\n(e.g., NormalFloat and Integer quantization) and brings general accuracy gains.\\nThe code is available at https://github.com/htqin/ir-qlora.\\n\\nPublished: 2024-06-12\\nTitle: Exploring Fact Memorization and Style Imitation in LLMs Using QLoRA: An Experimental Study and Quality Assessment Methods\\nAuthors: Eugene Vyborov, Oleksiy Osypenko, Serge Sotnyk\\nSummary: There are various methods for adapting LLMs to different domains. The most\\ncommon methods are prompting, finetuning, and RAG. In this w', name='arxiv', tool_call_id='call_AxeqmzmF3SUsgxrbEr2rO0wu'), ToolMessage(content='The authors of the QLoRA paper created an information-theoretically optimal quantization data type for normally distributed data that yields better empirical results than 4-bit Integers and 4-bit Floats. This data type builds on top of quantile quantization, which ensures that each quantization bin (parts of the data) has an equal number of ... The authors of the QLoRA paper used a blocksize of 64 for W for higher quantization precision and a blocksize of 256 for c2 to conserve memory. For parameter updates, only the gradient with ... Authors: Lung-Chuan Chen, Zong-Ru Li. View a PDF of the paper titled Bailong: Bilingual Transfer Learning based on QLoRA and Zip-tie Embedding, by Lung-Chuan Chen and Zong-Ru Li. View PDF HTML (experimental) Abstract: Large language models (LLMs) have demonstrated exceptional performance in various NLP applications. However, the majority of ... AUTHORs: Tim Dettmers, Artidoro Pagnoni, Ari Holtzman, ... We present QLORA, an efficient finetuning approach that reduces memory usage enough to finetune a 65B parameter model on a single 48GB GPU while preserving full 16-bit finetuning task performance. ... In this paper, we present a new multipacking-tree (MP-tree) representation for macro ... Authors: Jianxin Yang. View a PDF of the paper titled LongQLoRA: Efficient and Effective Method to Extend Context Length of Large Language Models, by Jianxin Yang ... QLoRA and Shift Short Attention of LongLoRA. With a single 32GB V100 GPU, LongQLoRA can extend the context length of LLaMA2 7B and 13B from 4096 to 8192 and even to 12k within ...', name='duckduckgo_search', tool_call_id='call_i0GAP0o8HJ9OtiUGX5BXuP9D')]\n",
            "\n",
            "\n",
            "\n",
            "Receiving update from node: 'agent'\n",
            "[AIMessage(content='', additional_kwargs={'tool_calls': [{'id': 'call_vfMhtvMrgc2XoEBrKaPPQxzT', 'function': {'arguments': '{\"query\": \"Tim Dettmers latest Tweet\"}', 'name': 'duckduckgo_search'}, 'type': 'function'}, {'id': 'call_f6WzWjGSZhSAJpFo05YiOyHa', 'function': {'arguments': '{\"query\": \"Artidoro Pagnoni latest Tweet\"}', 'name': 'duckduckgo_search'}, 'type': 'function'}, {'id': 'call_wf8hbmASlppuxeOu9yM8e6Cs', 'function': {'arguments': '{\"query\": \"Ari Holtzman latest Tweet\"}', 'name': 'duckduckgo_search'}, 'type': 'function'}, {'id': 'call_wbQfcwCEc8H0v5IYWbzppiey', 'function': {'arguments': '{\"query\": \"Luke Zettlemoyer latest Tweet\"}', 'name': 'duckduckgo_search'}, 'type': 'function'}], 'refusal': None}, response_metadata={'token_usage': {'completion_tokens': 108, 'prompt_tokens': 1584, 'total_tokens': 1692}, 'model_name': 'gpt-4o-2024-05-13', 'system_fingerprint': 'fp_157b3831f5', 'finish_reason': 'tool_calls', 'logprobs': None}, id='run-0330aaa0-2968-4e17-8361-9e9ef1453455-0', tool_calls=[{'name': 'duckduckgo_search', 'args': {'query': 'Tim Dettmers latest Tweet'}, 'id': 'call_vfMhtvMrgc2XoEBrKaPPQxzT', 'type': 'tool_call'}, {'name': 'duckduckgo_search', 'args': {'query': 'Artidoro Pagnoni latest Tweet'}, 'id': 'call_f6WzWjGSZhSAJpFo05YiOyHa', 'type': 'tool_call'}, {'name': 'duckduckgo_search', 'args': {'query': 'Ari Holtzman latest Tweet'}, 'id': 'call_wf8hbmASlppuxeOu9yM8e6Cs', 'type': 'tool_call'}, {'name': 'duckduckgo_search', 'args': {'query': 'Luke Zettlemoyer latest Tweet'}, 'id': 'call_wbQfcwCEc8H0v5IYWbzppiey', 'type': 'tool_call'}], usage_metadata={'input_tokens': 1584, 'output_tokens': 108, 'total_tokens': 1692})]\n",
            "\n",
            "\n",
            "\n",
            "Receiving update from node: 'action'\n",
            "Tool Used: duckduckgo_search\n",
            "[ToolMessage(content='In September 2024, TimTheTatman surprised fans by announcing his return to Twitch via a tweet, simply stating, \"I\\'m back btw,\" accompanied by a link to his Twitch stream. This return is especially significant because Tim has embraced a new strategy: multi-streaming. But Hixson\\'s ruling said Meta researcher Tim Dettmers, who was talking with other researchers from the nonprofit group EleutherAI on the instant messaging platform Discord, didn\\'t have the authority to waive attorney-client privilege. Stories and news about Tim Dettmers from GeekWire. — Tim Dettmers is joining Ai2 as an AI researcher. Dettmers specializes in efficient deep learning at the intersection of machine learning, NLP, and computer systems with a focus on quantization ... Allen School Ph.D. student Tim Dettmers accepted the grand prize for QLoRA, a novel approach to finetuning pretrained models that significantly reduces the amount of GPU memory required — from over 780GB to less than 48GB — to finetune a 65B parameter model.', name='duckduckgo_search', tool_call_id='call_vfMhtvMrgc2XoEBrKaPPQxzT'), ToolMessage(content=\"We present QLoRA, an efficient finetuning approach that reduces memory usage enough to finetune a 65B parameter model on a single 48GB GPU while preserving full 16-bit finetuning task performance. QLoRA backpropagates gradients through a frozen, 4-bit quantized pretrained language model into Low Rank Adapters~(LoRA). Our best model family, which we name Guanaco, outperforms all previous openly ... Pagnoni et al. (2021) Artidoro Pagnoni, Vidhisha Balachandran, and Yulia Tsvetkov. 2021. Understanding factuality in abstractive summarization with FRANK: A benchmark for factuality metrics . In Proceedings of the 2021 Conference of the North American Chapter of the Association for Computational Linguistics: Human Language Technologies , pages ... Tim Dettmers &Artidoro Pagnoni ... University of Washington {dettmers,artidoro,ahai,lsz}@cs.washington.edu Equal contribution. Abstract. We present QLoRA, an efficient finetuning approach that reduces memory usage enough to finetune a 65B parameter model on a single 48GB GPU while preserving full 16-bit finetuning task performance. Artidoro Pagnoni. artidoro. Follow. mrm8488's profile picture Weyaxi's profile picture nezubn's profile picture. ... artidoro/model-tvergho. Updated Nov 18, 2023. artidoro/model-vinaic. Updated Nov 18, 2023. artidoro/model-vinaia. Updated Nov 18, 2023. datasets. None public yet. Company Pagnoni et al. (2022) Artidoro Pagnoni, Martin Graciarena, and Yulia Tsvetkov. 2022. Threat scenarios and best practices to detect neural fake news. In Proceedings of the 29th International Conference on Computational Linguistics, pages 1233-1249, Gyeongju, Republic of Korea. International Committee on Computational Linguistics.\", name='duckduckgo_search', tool_call_id='call_f6WzWjGSZhSAJpFo05YiOyHa'), ToolMessage(content='The heated on-air dispute last night between MSNBC\\'s Ari Melber and Donald Trump campaign adviser Corey Lewandowski didn\\'t end with Wednesday\\'s segment: Today, Lewandowski tweeted a video in ... MSNBC host Ari Melber, during an interview with Trump campaign adviser Corey Lewandowski on Wednesday, threatened him with a defamation lawsuit for quoting the anchor calling the former President ... Ari Melber warns Trump campaign advisor Corey Lewandowski he \\'will be potentially in a defamation situation\\' on Wednesday\\'s episode of The Beat (MSNBC) \"I did not say that. That is a false ... The team behind QLoRA includes Allen School Ph.D. student Artidoro Pagnoni; alum Ari Holtzman (Ph.D., \\'23), incoming professor at the University of Chicago; and professor Luke Zettlemoyer, who is also a research manager at Meta. Madrona Prize First Runner Up / Punica: Multi-Tenant LoRA Fine-tuned LLM Serving Jack Hessel † Ari Holtzman ... When uploading an image alongside a tweet, users of Twitter have the option of providing alternative text: while few use this feature (gleason2019s find that fewer than .1% of image tweets have alt-text), its broader adoption might someday make social media more accessible for low vision and blind users. We ...', name='duckduckgo_search', tool_call_id='call_wf8hbmASlppuxeOu9yM8e6Cs'), ToolMessage(content='Jim \"Mattress Mack\" McIngvale, a well-known Houston businessman, has been hospitalized at St. Luke\\'s due to massive leg swelling, a red rash, and memory loss. Christian is a two-time All-Pro running back who\\'s on the cover of the latest Madden video game, the reigning AP Offensive Player of the Year and perennially among the top fantasy football picks ... Outside linebacker Aaron Witt was sidelined for 2021, 2022 and most of 2023, dealing with various injuries.Friday\\'s game was his first time he saw real action in years, and he still managed to find a way to make an impact. He played 15 snaps, registered a pressure and even supplied the game-sealing tackle on fourth down in the fourth quarter. Luke Zettlemoyer is a research manager and site lead for FAIR Seattle. He is also a Professor in the Allen School of Computer Science & Engineering at the University of Washington. His research is in empirical computational semantics, where the goal is to build models that recover representations of the meaning of natural language text. Today we\\'re joined by Luke Zettlemoyer, professor at University of Washington and a research manager at Meta. In our conversation with Luke, we cover multimodal generative AI, the effect of data on models, and the significance of open source and open science. We explore the grounding problem, the need for visual grounding and embodiment in', name='duckduckgo_search', tool_call_id='call_wbQfcwCEc8H0v5IYWbzppiey')]\n",
            "\n",
            "\n",
            "\n",
            "Receiving update from node: 'agent'\n",
            "[AIMessage(content='Here are the latest updates and tweets from the authors of the QLoRA paper:\\n\\n1. **Tim Dettmers**:\\n   - Tim Dettmers is joining Ai2 as an AI researcher. He specializes in efficient deep learning at the intersection of machine learning, NLP, and computer systems with a focus on quantization.\\n   - His latest tweet: \"I\\'m back btw,\" announcing his return to Twitch and embracing a new strategy of multi-streaming.\\n\\n2. **Artidoro Pagnoni**:\\n   - Artidoro Pagnoni has been involved in various research projects, including understanding factuality in abstractive summarization and detecting neural fake news.\\n   - His latest tweet: No specific tweet found, but he has been active in updating models and datasets on platforms like Hugging Face.\\n\\n3. **Ari Holtzman**:\\n   - Ari Holtzman is an incoming professor at the University of Chicago and has been involved in research on making social media more accessible for low vision and blind users.\\n   - His latest tweet: No specific tweet found, but he has been involved in discussions about accessibility features on social media platforms.\\n\\n4. **Luke Zettlemoyer**:\\n   - Luke Zettlemoyer is a research manager and site lead for FAIR Seattle, and a Professor at the University of Washington. His research focuses on empirical computational semantics.\\n   - His latest tweet: No specific tweet found, but he has been involved in discussions about multimodal generative AI, the effect of data on models, and the significance of open source and open science.\\n\\nIf you need more detailed information or specific tweets, you might want to check their Twitter profiles directly.', additional_kwargs={'refusal': None}, response_metadata={'token_usage': {'completion_tokens': 340, 'prompt_tokens': 2928, 'total_tokens': 3268}, 'model_name': 'gpt-4o-2024-05-13', 'system_fingerprint': 'fp_157b3831f5', 'finish_reason': 'stop', 'logprobs': None}, id='run-c2c684c3-fb72-4341-aaa0-97e7762e7327-0', usage_metadata={'input_tokens': 2928, 'output_tokens': 340, 'total_tokens': 3268})]\n",
            "\n",
            "\n",
            "\n"
          ]
        }
      ],
      "source": [
        "inputs = {\"messages\" : [HumanMessage(content=\"Search Arxiv for the QLoRA paper, then search each of the authors to find out their latest Tweet using DuckDuckGo.\")]}\n",
        "\n",
        "async for chunk in compiled_graph.astream(inputs, stream_mode=\"updates\"):\n",
        "    for node, values in chunk.items():\n",
        "        print(f\"Receiving update from node: '{node}'\")\n",
        "        if node == \"action\":\n",
        "          print(f\"Tool Used: {values['messages'][0].name}\")\n",
        "        print(values[\"messages\"])\n",
        "\n",
        "        print(\"\\n\\n\")"
      ]
    },
    {
      "cell_type": "markdown",
      "metadata": {
        "id": "CXzDlZVz1Hnf"
      },
      "source": [
        "\n",
        "#### 🏗️ Activity #2:\n",
        "\n",
        "Please write out the steps the agent took to arrive at the correct answer.\n",
        "\n",
        "Please note - each time this was run I got different reponses. This is updated based on the latest run.\n",
        "\n",
        "1. The agent received the input question \n",
        "2. It called the gpt-4o model to identify the tool calls needed. These are all function calls:\n",
        "    1. arxiv with the query \"QLoRA\"\n",
        "    2. duckduckgo with the query \"latest Tweet\"\n",
        "3. The agent created an AIMessage with the above information\n",
        "4. The agent then called should_continue conditional edge and due to the presence of the items in the tool_calls array the tools action was called\n",
        "5. The Arxiv tool was called and a paper called QLoRA found\n",
        "6. Duckduckgo was called for the latest Tweet which was returned\n",
        "7. Control passes back to the agent with the state containing all of the above information information\n",
        "8. The agent queries the gpt-40 model which returns with the list of tweets the initial query requested\n",
        "9. The agent then called should_continue conditional edge and due to the presence of the items in the tool_calls array the tools action was called\n",
        "5. The action node took the specified actions using duckduckgo and updated the messages with data fand created the following tool calls:\n",
        "    1. duckduckgo_search with the query \"Tim Dettmers latest Tweet\"\n",
        "    2. duckduckgo_search with the query \"Artidoro Pagnoni latest Tweet\"\n",
        "    3. duckduckgo_search with the query \"Ari Holtzman latest Tweet\"\n",
        "    4. duckduckgo_search with the query \"Luke Zettlemoyer latest Tweet\" \n",
        "6. Control passes back to the agent with the state containing all of the new information\n",
        "6. The agent called the gpt-40 LLM with the augmented data and the question and got the response and no need to continue\n",
        "7. The agent called the should_continue conditional edge and due to no tool calls required the process ended\n",
        "\n",
        "Here is the LangSmith trace for this run\n",
        "\n",
        "![Agent trace](images/langsmith_7.jpg)"
      ]
    },
    {
      "cell_type": "markdown",
      "metadata": {
        "id": "v7c8-Uyarh1v"
      },
      "source": [
        "## Part 1: LangSmith Evaluator"
      ]
    },
    {
      "cell_type": "markdown",
      "metadata": {
        "id": "pV3XeFOT1Sar"
      },
      "source": [
        "### Pre-processing for LangSmith"
      ]
    },
    {
      "cell_type": "markdown",
      "metadata": {
        "id": "wruQCuzewUuO"
      },
      "source": [
        "To do a little bit more preprocessing, let's wrap our LangGraph agent in a simple chain."
      ]
    },
    {
      "cell_type": "code",
      "execution_count": 17,
      "metadata": {
        "id": "oeXdQgbxwhTv"
      },
      "outputs": [],
      "source": [
        "def convert_inputs(input_object):\n",
        "  return {\"messages\" : [HumanMessage(content=input_object[\"question\"])]}\n",
        "\n",
        "def parse_output(input_state):\n",
        "  return input_state[\"messages\"][-1].content\n",
        "\n",
        "agent_chain = convert_inputs | compiled_graph | parse_output"
      ]
    },
    {
      "cell_type": "code",
      "execution_count": 18,
      "metadata": {
        "colab": {
          "base_uri": "https://localhost:8080/",
          "height": 139
        },
        "id": "orYxBZXSxJjZ",
        "outputId": "b160f3e4-89d1-4411-ed96-fe17b3cad200"
      },
      "outputs": [
        {
          "data": {
            "text/plain": [
              "'OOUX stands for Object-Oriented User Experience. It is a design methodology that focuses on structuring and organizing digital products around the objects that users interact with, rather than around tasks or features. The core idea is to create a more intuitive and user-friendly experience by aligning the design with the way users naturally think about and understand the world.\\n\\nKey principles of OOUX include:\\n\\n1. **Object Mapping**: Identifying the key objects that users will interact with in the system.\\n2. **Object Modeling**: Defining the attributes and relationships of these objects.\\n3. **Object Prioritization**: Determining which objects are most important to the user experience.\\n4. **Object Interaction**: Designing the interactions between objects and users.\\n\\nBy focusing on objects, OOUX aims to create a more cohesive and understandable user experience, making it easier for users to navigate and use digital products.'"
            ]
          },
          "execution_count": 18,
          "metadata": {},
          "output_type": "execute_result"
        }
      ],
      "source": [
        "agent_chain.invoke({\"question\" : \"What is OOUX?\"})"
      ]
    },
    {
      "cell_type": "markdown",
      "metadata": {
        "id": "f9UkCIqkpyZu"
      },
      "source": [
        "\n",
        "### Task 1: Creating An Evaluation Dataset\n",
        "\n",
        "Just as we saw last week, we'll want to create a dataset to test our Agent's ability to answer questions.\n",
        "\n",
        "In order to do this - we'll want to provide some questions and some answers. Let's look at how we can create such a dataset below.\n",
        "\n",
        "```python\n",
        "questions = [\n",
        "    \"What optimizer is used in QLoRA?\",\n",
        "    \"What data type was created in the QLoRA paper?\",\n",
        "    \"What is a Retrieval Augmented Generation system?\",\n",
        "    \"Who authored the QLoRA paper?\",\n",
        "    \"What is the most popular deep learning framework?\",\n",
        "    \"What significant improvements does the LoRA system make?\"\n",
        "]\n",
        "\n",
        "answers = [\n",
        "    {\"must_mention\" : [\"paged\", \"optimizer\"]},\n",
        "    {\"must_mention\" : [\"NF4\", \"NormalFloat\"]},\n",
        "    {\"must_mention\" : [\"ground\", \"context\"]},\n",
        "    {\"must_mention\" : [\"Tim\", \"Dettmers\"]},\n",
        "    {\"must_mention\" : [\"PyTorch\", \"TensorFlow\"]},\n",
        "    {\"must_mention\" : [\"reduce\", \"parameters\"]},\n",
        "]\n",
        "```"
      ]
    },
    {
      "cell_type": "markdown",
      "metadata": {
        "id": "VfMXF2KAsQxs"
      },
      "source": [
        "\n",
        "\n",
        "#### 🏗️ Activity #3:\n",
        "\n",
        "Please create a dataset in the above format with at least 5 questions.\n",
        "\n",
        "Done \n"
      ]
    },
    {
      "cell_type": "code",
      "execution_count": 19,
      "metadata": {
        "id": "CbagRuJop83E"
      },
      "outputs": [],
      "source": [
        "questions = [\n",
        "    \"What are the four key components of the ORCA methodology in OOUX?\",\n",
        "    \"What role do Calls-to-Action or CTAs play in the OOUX ORCA methodology?\",\n",
        "    \"How does OOUX ORCA methodology differ from traditional UX design approaches\",\n",
        "    \"Who came up with the OOUX ORCA methodology used in OOUX?\",\n",
        "    \"What is noun-foraging in the context of OOUX, and why is it important?\",\n",
        "    \"What are the key outputs from the OOUX ORCA methodology?\"\n",
        "]\n",
        "\n",
        "answers = [\n",
        "    {\"must_mention\" : [\"Object\", \"Relationship\"]},\n",
        "    {\"must_mention\" : [\"role\", \"user\"]},\n",
        "    {\"must_mention\" : [\"object\", \"relationship\"]},\n",
        "    {\"must_mention\" : [\"Sophia\", \"Prater\"]},\n",
        "    {\"must_mention\" : [\"objects\", \"requirements\"]},\n",
        "    {\"must_mention\" : [\"Object Map\", \"Calls-to-Action\"]},\n",
        "]"
      ]
    },
    {
      "cell_type": "markdown",
      "metadata": {
        "id": "z7QVFuAmsh7L"
      },
      "source": [
        "Now we can add our dataset to our LangSmith project using the following code which we saw last Thursday!"
      ]
    },
    {
      "cell_type": "code",
      "execution_count": 20,
      "metadata": {
        "id": "RLfrZrgSsn85"
      },
      "outputs": [],
      "source": [
        "from langsmith import Client\n",
        "\n",
        "client = Client()\n",
        "dataset_name = f\"Retrieval Augmented Generation - Evaluation Dataset - {uuid4().hex[0:8]}\"\n",
        "\n",
        "dataset = client.create_dataset(\n",
        "    dataset_name=dataset_name,\n",
        "    description=\"Questions about the OOUX to Evaluate RAG.\"\n",
        ")\n",
        "\n",
        "client.create_examples(\n",
        "    inputs=[{\"question\" : q} for q in questions],\n",
        "    outputs=answers,\n",
        "    dataset_id=dataset.id,\n",
        ")"
      ]
    },
    {
      "cell_type": "markdown",
      "metadata": {
        "id": "ciV73F9Q04w0"
      },
      "source": [
        "\n",
        "#### ❓ Question #3:\n",
        "\n",
        "How are the correct answers associated with the questions?\n",
        "\n",
        "> NOTE: Feel free to indicate if this is problematic or not\n",
        "\n",
        "#### ! Answer #3:\n",
        "The questions and answers are associated through their position in their respective arrays, or their index.\n",
        "\n",
        "This can be problematic if the two are created manually. If an entry is accidentally inserted into one array and not the other, the answers would now be incorrect.\n",
        "\n",
        "So maintenance and updating could be a problem and possible cause of introducing errors into the process\n",
        "\n",
        "This could be mitigated by:\n",
        "- adding a unique identifier to the question and answer - this too can become a maintenance problem\n",
        "- use a dictionary to incorporate question-answer pairing - this is a better solution and provides easier maintenance\n",
        "\n"
      ]
    },
    {
      "cell_type": "markdown",
      "metadata": {
        "id": "-lRTXUrTtP9Y"
      },
      "source": [
        "### Task 2: Adding Evaluators\n",
        "\n",
        "Now we can add a custom evaluator to see if our responses contain the expected information.\n",
        "\n",
        "We'll be using a fairly naive exact-match process to determine if our response contains specific strings."
      ]
    },
    {
      "cell_type": "code",
      "execution_count": 21,
      "metadata": {
        "id": "QrAUXMFftlAY"
      },
      "outputs": [],
      "source": [
        "from langsmith.evaluation import EvaluationResult, run_evaluator\n",
        "\n",
        "@run_evaluator\n",
        "def must_mention(run, example) -> EvaluationResult:\n",
        "    prediction = run.outputs.get(\"output\") or \"\"\n",
        "    required = example.outputs.get(\"must_mention\") or []\n",
        "    score = all(phrase in prediction for phrase in required)\n",
        "    return EvaluationResult(key=\"must_mention\", score=score)"
      ]
    },
    {
      "cell_type": "markdown",
      "metadata": {
        "id": "PNtHORUh0jZY"
      },
      "source": [
        "\n",
        "#### ❓ Question #4:\n",
        "\n",
        "What are some ways you could improve this metric as-is?\n",
        "\n",
        "> NOTE: Alternatively you can suggest where gaps exist in this method.\n",
        "\n",
        "This evaluation has some problems:\n",
        "- It requires all of the phrases in the must mention to be present in the response - it is all or nothing\n",
        "- It is a case sensitive search - so that there must be an exact match in spelling and casing - this could be problematic as the word is the same no matter how it is cased. Also if punctuation is different\n",
        "- Spelling errors especially with people's names would cause mismatches\n",
        "- A required word could be wholy contained within another word and be incorrectly assigned as correct\n",
        "- It is also assuming the presence of the word is correct - it could be a lucky error\n",
        "\n",
        "Providing checks that are case insensitive and are more fuzzy searches could improve this metric\n"
      ]
    },
    {
      "cell_type": "markdown",
      "metadata": {
        "id": "mZ4DVSXl0BX5"
      },
      "source": [
        "Now that we have created our custom evaluator - let's initialize our `RunEvalConfig` with it!"
      ]
    },
    {
      "cell_type": "code",
      "execution_count": 22,
      "metadata": {
        "id": "sL4-XcjytWsu"
      },
      "outputs": [],
      "source": [
        "from langchain.smith import RunEvalConfig, run_on_dataset\n",
        "\n",
        "eval_config = RunEvalConfig(\n",
        "    custom_evaluators=[must_mention],\n",
        ")"
      ]
    },
    {
      "cell_type": "markdown",
      "metadata": {
        "id": "r1RJr349zhv7"
      },
      "source": [
        "Task 3: Evaluating\n",
        "\n",
        "All that is left to do is evaluate our agent's response!"
      ]
    },
    {
      "cell_type": "code",
      "execution_count": 23,
      "metadata": {
        "colab": {
          "base_uri": "https://localhost:8080/"
        },
        "id": "p5TeCUUkuGld",
        "outputId": "8b98fff1-bd75-4dbe-cadc-a76d8a82577c"
      },
      "outputs": [
        {
          "name": "stdout",
          "output_type": "stream",
          "text": [
            "View the evaluation results for project 'RAG Pipeline - Evaluation - 0876c77b' at:\n",
            "https://smith.langchain.com/o/c97b0028-7cab-5f76-a748-1369ba450931/datasets/e6f300e5-b3a4-4e97-923b-f4d6f45d37c7/compare?selectedSessions=edf32ab8-a2e5-41f5-8955-f3453300ddbc\n",
            "\n",
            "View all tests for Dataset Retrieval Augmented Generation - Evaluation Dataset - f453ce72 at:\n",
            "https://smith.langchain.com/o/c97b0028-7cab-5f76-a748-1369ba450931/datasets/e6f300e5-b3a4-4e97-923b-f4d6f45d37c7\n",
            "[------------------------------------------------->] 6/6"
          ]
        },
        {
          "data": {
            "text/html": [
              "<h3>Experiment Results:</h3>"
            ],
            "text/plain": [
              "<IPython.core.display.HTML object>"
            ]
          },
          "metadata": {},
          "output_type": "display_data"
        },
        {
          "data": {
            "text/html": [
              "<div>\n",
              "<style scoped>\n",
              "    .dataframe tbody tr th:only-of-type {\n",
              "        vertical-align: middle;\n",
              "    }\n",
              "\n",
              "    .dataframe tbody tr th {\n",
              "        vertical-align: top;\n",
              "    }\n",
              "\n",
              "    .dataframe thead th {\n",
              "        text-align: right;\n",
              "    }\n",
              "</style>\n",
              "<table border=\"1\" class=\"dataframe\">\n",
              "  <thead>\n",
              "    <tr style=\"text-align: right;\">\n",
              "      <th></th>\n",
              "      <th>feedback.must_mention</th>\n",
              "      <th>error</th>\n",
              "      <th>execution_time</th>\n",
              "      <th>run_id</th>\n",
              "    </tr>\n",
              "  </thead>\n",
              "  <tbody>\n",
              "    <tr>\n",
              "      <th>count</th>\n",
              "      <td>6</td>\n",
              "      <td>0</td>\n",
              "      <td>6.000000</td>\n",
              "      <td>6</td>\n",
              "    </tr>\n",
              "    <tr>\n",
              "      <th>unique</th>\n",
              "      <td>2</td>\n",
              "      <td>0</td>\n",
              "      <td>NaN</td>\n",
              "      <td>6</td>\n",
              "    </tr>\n",
              "    <tr>\n",
              "      <th>top</th>\n",
              "      <td>True</td>\n",
              "      <td>NaN</td>\n",
              "      <td>NaN</td>\n",
              "      <td>ae65f742-b1bd-45f5-8f5e-2861fc0b180d</td>\n",
              "    </tr>\n",
              "    <tr>\n",
              "      <th>freq</th>\n",
              "      <td>5</td>\n",
              "      <td>NaN</td>\n",
              "      <td>NaN</td>\n",
              "      <td>1</td>\n",
              "    </tr>\n",
              "    <tr>\n",
              "      <th>mean</th>\n",
              "      <td>NaN</td>\n",
              "      <td>NaN</td>\n",
              "      <td>5.280219</td>\n",
              "      <td>NaN</td>\n",
              "    </tr>\n",
              "    <tr>\n",
              "      <th>std</th>\n",
              "      <td>NaN</td>\n",
              "      <td>NaN</td>\n",
              "      <td>2.097331</td>\n",
              "      <td>NaN</td>\n",
              "    </tr>\n",
              "    <tr>\n",
              "      <th>min</th>\n",
              "      <td>NaN</td>\n",
              "      <td>NaN</td>\n",
              "      <td>2.194792</td>\n",
              "      <td>NaN</td>\n",
              "    </tr>\n",
              "    <tr>\n",
              "      <th>25%</th>\n",
              "      <td>NaN</td>\n",
              "      <td>NaN</td>\n",
              "      <td>4.071395</td>\n",
              "      <td>NaN</td>\n",
              "    </tr>\n",
              "    <tr>\n",
              "      <th>50%</th>\n",
              "      <td>NaN</td>\n",
              "      <td>NaN</td>\n",
              "      <td>5.717897</td>\n",
              "      <td>NaN</td>\n",
              "    </tr>\n",
              "    <tr>\n",
              "      <th>75%</th>\n",
              "      <td>NaN</td>\n",
              "      <td>NaN</td>\n",
              "      <td>6.224386</td>\n",
              "      <td>NaN</td>\n",
              "    </tr>\n",
              "    <tr>\n",
              "      <th>max</th>\n",
              "      <td>NaN</td>\n",
              "      <td>NaN</td>\n",
              "      <td>8.134949</td>\n",
              "      <td>NaN</td>\n",
              "    </tr>\n",
              "  </tbody>\n",
              "</table>\n",
              "</div>"
            ],
            "text/plain": [
              "       feedback.must_mention error  execution_time  \\\n",
              "count                      6     0        6.000000   \n",
              "unique                     2     0             NaN   \n",
              "top                     True   NaN             NaN   \n",
              "freq                       5   NaN             NaN   \n",
              "mean                     NaN   NaN        5.280219   \n",
              "std                      NaN   NaN        2.097331   \n",
              "min                      NaN   NaN        2.194792   \n",
              "25%                      NaN   NaN        4.071395   \n",
              "50%                      NaN   NaN        5.717897   \n",
              "75%                      NaN   NaN        6.224386   \n",
              "max                      NaN   NaN        8.134949   \n",
              "\n",
              "                                      run_id  \n",
              "count                                      6  \n",
              "unique                                     6  \n",
              "top     ae65f742-b1bd-45f5-8f5e-2861fc0b180d  \n",
              "freq                                       1  \n",
              "mean                                     NaN  \n",
              "std                                      NaN  \n",
              "min                                      NaN  \n",
              "25%                                      NaN  \n",
              "50%                                      NaN  \n",
              "75%                                      NaN  \n",
              "max                                      NaN  "
            ]
          },
          "metadata": {},
          "output_type": "display_data"
        },
        {
          "data": {
            "text/plain": [
              "{'project_name': 'RAG Pipeline - Evaluation - 0876c77b',\n",
              " 'results': {'6e3f86c3-5e49-4b88-b632-51519875860d': {'input': {'question': 'What role do Calls-to-Action or CTAs play in the OOUX ORCA methodology?'},\n",
              "   'feedback': [EvaluationResult(key='must_mention', score=True, value=None, comment=None, correction=None, evaluator_info={}, feedback_config=None, source_run_id=UUID('28de0d1b-cdb9-46da-aa35-436748e7a6be'), target_run_id=None)],\n",
              "   'execution_time': 8.134949,\n",
              "   'run_id': 'ae65f742-b1bd-45f5-8f5e-2861fc0b180d',\n",
              "   'output': 'In the Object-Oriented User Experience (OOUX) ORCA methodology, Calls-to-Action (CTAs) play a crucial role in guiding users through their interactions with the system. The ORCA methodology, which stands for Objects, Relationships, Calls-to-Action, and Attributes, is a framework designed to create a more intuitive and user-centered design by focusing on the core objects that users interact with.\\n\\nHere\\'s how CTAs fit into the ORCA methodology:\\n\\n1. **Objects**: These are the primary entities that users interact with. For example, in an e-commerce site, objects might include products, categories, and user profiles.\\n\\n2. **Relationships**: These define how objects are connected to each other. For example, a product might belong to a category, or a user might have a wishlist of products.\\n\\n3. **Calls-to-Action (CTAs)**: CTAs are the actions that users can take on or with objects. They are the interactive elements that drive user engagement and help users achieve their goals. Examples of CTAs include \"Add to Cart,\" \"Sign Up,\" \"Download,\" and \"Share.\"\\n\\n4. **Attributes**: These are the details or properties of objects. For example, a product might have attributes like price, description, and reviews.\\n\\n### Role of CTAs in OOUX ORCA Methodology\\n\\n1. **User Guidance**: CTAs provide clear instructions to users on what actions they can take next. This helps in reducing cognitive load and making the user journey more intuitive.\\n\\n2. **Goal Achievement**: CTAs are designed to help users achieve their goals efficiently. Whether it\\'s purchasing a product, signing up for a newsletter, or downloading a resource, CTAs facilitate these actions.\\n\\n3. **Interaction Design**: By clearly defining CTAs for each object, designers can create a more structured and predictable interaction model. This consistency helps users understand how to interact with different objects within the system.\\n\\n4. **Prioritization**: CTAs help in prioritizing actions based on user needs and business goals. For example, a primary CTA like \"Buy Now\" might be more prominently displayed than a secondary CTA like \"Add to Wishlist.\"\\n\\n5. **Feedback and Engagement**: Effective CTAs provide immediate feedback to users, confirming that their actions have been successful. This can enhance user satisfaction and encourage further engagement.\\n\\n6. **Contextual Relevance**: In the ORCA methodology, CTAs are contextually relevant to the objects they are associated with. This ensures that users are presented with appropriate actions based on the current context and their interactions with the object.\\n\\nIn summary, CTAs are a vital component of the OOUX ORCA methodology as they drive user interaction, facilitate goal achievement, and enhance the overall user experience by providing clear, actionable steps within the context of the objects and their relationships.',\n",
              "   'reference': {'must_mention': ['role', 'user']}},\n",
              "  'ba2f4fba-677d-4375-95a6-2da7b2c16ce0': {'input': {'question': 'How does OOUX ORCA methodology differ from traditional UX design approaches'},\n",
              "   'feedback': [EvaluationResult(key='must_mention', score=True, value=None, comment=None, correction=None, evaluator_info={}, feedback_config=None, source_run_id=UUID('df75029b-874d-4fc5-a5f5-2ce641eb5682'), target_run_id=None)],\n",
              "   'execution_time': 5.394286,\n",
              "   'run_id': 'e4df5946-16e1-4a1f-849f-66f71f40d320',\n",
              "   'output': \"The OOUX (Object-Oriented User Experience) ORCA methodology differs from traditional UX design approaches in several key ways:\\n\\n1. **Focus on Objects**: OOUX emphasizes the identification and structuring of objects within the system, similar to object-oriented programming. Traditional UX design often starts with tasks, actions, or page layouts.\\n\\n2. **Systematic Approach**: OOUX provides a structured and systematic approach to design, focusing on the main building blocks (objects) in a digital environment. This results in a more intuitive and solid foundation for the design.\\n\\n3. **Early Clarity**: Traditional design methods may leave unanswered questions until late in the development process. OOUX aims to clarify these questions early by focusing on the underlying structure of the system.\\n\\n4. **ORCA Process**: The ORCA process in OOUX stands for Objects, Relationships, Calls-to-action, and Attributes. This process helps in systematically defining and organizing the elements of the user experience.\\n\\n5. **User Development Communication**: OOUX enhances communication between designers and developers by providing a clear and structured approach to defining the system's components.\\n\\nIn summary, OOUX ORCA methodology shifts the focus from tasks and actions to objects and their relationships, providing a more structured and intuitive approach to UX design compared to traditional methods.\",\n",
              "   'reference': {'must_mention': ['object', 'relationship']}},\n",
              "  '2a3ac914-1e2a-4188-bd82-0d830d0e6805': {'input': {'question': 'Who came up with the OOUX ORCA methodology used in OOUX?'},\n",
              "   'feedback': [EvaluationResult(key='must_mention', score=True, value=None, comment=None, correction=None, evaluator_info={}, feedback_config=None, source_run_id=UUID('559e88d9-dabc-4990-b032-0f024b70bb07'), target_run_id=None)],\n",
              "   'execution_time': 2.194792,\n",
              "   'run_id': 'bb38ed06-3748-4955-a0e6-f00b4a814605',\n",
              "   'output': 'The OOUX (Object-Oriented User Experience) ORCA methodology was developed by Sophia Prater. She is a UX designer and the founder of Rewired UX, and she created the ORCA (Objects, Relationships, Calls-to-Action, and Attributes) methodology to help designers create more intuitive and user-centered digital experiences by focusing on the objects that users interact with.',\n",
              "   'reference': {'must_mention': ['Sophia', 'Prater']}},\n",
              "  'e57a0f5b-956d-4279-a12a-e0e4d4cd830e': {'input': {'question': 'What is noun-foraging in the context of OOUX, and why is it important?'},\n",
              "   'feedback': [EvaluationResult(key='must_mention', score=False, value=None, comment=None, correction=None, evaluator_info={}, feedback_config=None, source_run_id=UUID('f8ba14cc-f096-4a25-9a75-1fa8261577e5'), target_run_id=None)],\n",
              "   'execution_time': 6.285346,\n",
              "   'run_id': 'd63785ed-ed14-4241-bff3-3d291faeb7c5',\n",
              "   'output': \"Noun-foraging is a crucial step in the Object-Oriented User Experience (OOUX) design methodology. OOUX is a design approach that focuses on identifying and organizing the core objects (nouns) and their relationships within a system to create a more intuitive and user-friendly experience. Here's a breakdown of noun-foraging and its importance:\\n\\n### What is Noun-Foraging?\\n\\nNoun-foraging is the process of identifying and gathering the key nouns (objects) that are central to the system or application being designed. These nouns represent the primary entities that users will interact with. The process involves:\\n\\n1. **Research and Discovery**: Analyzing user needs, business goals, and existing systems to identify potential objects.\\n2. **Stakeholder Interviews**: Engaging with stakeholders to understand their perspectives and gather insights on important objects.\\n3. **Content Analysis**: Reviewing existing content, documentation, and data models to extract relevant nouns.\\n4. **User Research**: Conducting user interviews, surveys, and usability tests to uncover the objects that users naturally think about and interact with.\\n\\n### Why is Noun-Foraging Important?\\n\\n1. **Clarity and Consistency**: By identifying the core objects, designers can create a consistent and clear structure for the user interface. This helps users understand the system more easily and navigate it more intuitively.\\n\\n2. **User-Centered Design**: Noun-foraging ensures that the design is centered around the user's mental model. By focusing on the objects that users care about, designers can create interfaces that align with how users think and work.\\n\\n3. **Improved Communication**: Having a clear set of objects helps in communicating the design to stakeholders, developers, and other team members. It provides a common language and reference point for discussions and decision-making.\\n\\n4. **Scalability and Flexibility**: A well-defined object model makes it easier to scale and adapt the system in the future. New features and functionalities can be added by extending the existing objects or introducing new ones without disrupting the overall structure.\\n\\n5. **Efficiency in Design and Development**: By focusing on the core objects, designers and developers can streamline their efforts, avoid unnecessary complexity, and ensure that the most important aspects of the system are prioritized.\\n\\nIn summary, noun-foraging is a foundational activity in OOUX that helps create a user-centered, intuitive, and scalable design by identifying and organizing the key objects within a system.\",\n",
              "   'reference': {'must_mention': ['objects', 'requirements']}},\n",
              "  '85907a75-c7fa-408e-97ed-a77f452d316d': {'input': {'question': 'What are the key outputs from the OOUX ORCA methodology?'},\n",
              "   'feedback': [EvaluationResult(key='must_mention', score=True, value=None, comment=None, correction=None, evaluator_info={}, feedback_config=None, source_run_id=UUID('03e9bf94-e76c-4728-a6dd-0a297042b754'), target_run_id=None)],\n",
              "   'execution_time': 6.041508,\n",
              "   'run_id': '79638313-c249-4148-97db-4eb5167e3d39',\n",
              "   'output': \"The OOUX (Object-Oriented User Experience) ORCA methodology is a structured approach to designing user experiences by focusing on the objects within a system and their relationships. ORCA stands for Objects, Relationships, Calls-to-Action, and Attributes. The key outputs from the OOUX ORCA methodology typically include:\\n\\n1. **Object Map**: A visual representation of the primary objects within the system and their relationships. This map helps in understanding the core entities that the user will interact with.\\n\\n2. **Object Definitions**: Detailed descriptions of each object, including their attributes and the roles they play within the system. This ensures a clear understanding of what each object represents and its importance.\\n\\n3. **Relationship Diagrams**: Diagrams that illustrate how objects are related to each other. These relationships can include hierarchies, associations, and dependencies.\\n\\n4. **Calls-to-Action (CTAs)**: Identification and definition of the key actions that users can perform on or with each object. This includes understanding the primary interactions that drive user engagement.\\n\\n5. **Attributes List**: A comprehensive list of attributes for each object, detailing the properties and data points that define the object. This helps in ensuring that all necessary information is captured and available for the user.\\n\\n6. **User Stories and Scenarios**: Narratives that describe how users will interact with the objects and the system as a whole. These stories help in validating the design and ensuring it meets user needs.\\n\\n7. **Wireframes and Prototypes**: Visual representations of the user interface, showing how objects, relationships, CTAs, and attributes come together in the final design. These prototypes are used for testing and refining the user experience.\\n\\n8. **Content Model**: A structured model that outlines how content is organized, managed, and displayed within the system. This model ensures consistency and coherence in content presentation.\\n\\nBy focusing on these outputs, the OOUX ORCA methodology helps in creating a user experience that is intuitive, consistent, and aligned with the user's mental model of the system.\",\n",
              "   'reference': {'must_mention': ['Object Map', 'Calls-to-Action']}},\n",
              "  '6cae000c-b523-461a-9aff-66cb783a0a3d': {'input': {'question': 'What are the four key components of the ORCA methodology in OOUX?'},\n",
              "   'feedback': [EvaluationResult(key='must_mention', score=True, value=None, comment=None, correction=None, evaluator_info={}, feedback_config=None, source_run_id=UUID('d82ba375-636e-4adf-9ef5-4e4a9a506deb'), target_run_id=None)],\n",
              "   'execution_time': 3.630432,\n",
              "   'run_id': '28bbf024-c8fa-4fc1-8aa4-06ced77752b2',\n",
              "   'output': \"The ORCA methodology in Object-Oriented User Experience (OOUX) is a structured approach to designing user experiences that focuses on the objects within a system and their relationships. ORCA stands for Objects, Relationships, Calls-to-Action, and Attributes. Here are the four key components:\\n\\n1. **Objects**: These are the primary entities or things within the system that users interact with. Identifying the key objects is the first step in the ORCA methodology.\\n\\n2. **Relationships**: This component focuses on how the objects are connected or related to each other. Understanding the relationships between objects helps in structuring the information architecture and navigation.\\n\\n3. **Calls-to-Action (CTAs)**: These are the actions that users can take on the objects. Identifying the CTAs helps in designing the interactions and ensuring that users can perform the necessary actions on the objects.\\n\\n4. **Attributes**: These are the properties or characteristics of the objects. Defining the attributes helps in detailing the objects and ensuring that all necessary information is captured and presented to the users.\\n\\nBy focusing on these four components, the ORCA methodology helps in creating a user experience that is intuitive, consistent, and aligned with the users' mental models.\",\n",
              "   'reference': {'must_mention': ['Object', 'Relationship']}}},\n",
              " 'aggregate_metrics': None}"
            ]
          },
          "execution_count": 23,
          "metadata": {},
          "output_type": "execute_result"
        }
      ],
      "source": [
        "client.run_on_dataset(\n",
        "    dataset_name=dataset_name,\n",
        "    llm_or_chain_factory=agent_chain,\n",
        "    evaluation=eval_config,\n",
        "    verbose=True,\n",
        "    project_name=f\"RAG Pipeline - Evaluation - {uuid4().hex[0:8]}\",\n",
        "    project_metadata={\"version\": \"1.0.0\"},\n",
        ")"
      ]
    },
    {
      "cell_type": "markdown",
      "metadata": {},
      "source": [
        "Here are the results from LangSmith\n",
        "\n",
        "![Langchain Evaluation](images/langsmith_6.jpg)"
      ]
    },
    {
      "cell_type": "markdown",
      "metadata": {
        "id": "jhTNe4kWrplB"
      },
      "source": [
        "## Part 2: LangGraph with Helpfulness:"
      ]
    },
    {
      "cell_type": "markdown",
      "metadata": {
        "id": "w1wKRddbIY_S"
      },
      "source": [
        "### Task 3: Adding Helpfulness Check and \"Loop\" Limits\n",
        "\n",
        "Now that we've done evaluation - let's see if we can add an extra step where we review the content we've generated to confirm if it fully answers the user's query!\n",
        "\n",
        "We're going to make a few key adjustments to account for this:\n",
        "\n",
        "1. We're going to add an artificial limit on how many \"loops\" the agent can go through - this will help us to avoid the potential situation where we never exit the loop.\n",
        "2. We'll add to our existing conditional edge to obtain the behaviour we desire."
      ]
    },
    {
      "cell_type": "markdown",
      "metadata": {
        "id": "npTYJ8ayR5B3"
      },
      "source": [
        "First, let's define our state again - we can check the length of the state object, so we don't need additional state for this."
      ]
    },
    {
      "cell_type": "code",
      "execution_count": 24,
      "metadata": {
        "id": "-LQ84YhyJG0w"
      },
      "outputs": [],
      "source": [
        "class AgentState(TypedDict):\n",
        "  messages: Annotated[list, add_messages]"
      ]
    },
    {
      "cell_type": "markdown",
      "metadata": {
        "id": "sD7EV0HqSQcb"
      },
      "source": [
        "Now we can set our graph up! This process will be almost entirely the same - with the inclusion of one additional node/conditional edge!"
      ]
    },
    {
      "cell_type": "markdown",
      "metadata": {
        "id": "oajBwLkFVi1N"
      },
      "source": [
        "\n",
        "#### 🏗️ Activity #5:\n",
        "\n",
        "Please write markdown for the following cells to explain what each is doing.\n",
        "\n"
      ]
    },
    {
      "cell_type": "markdown",
      "metadata": {
        "id": "M6rN7feNVn9f"
      },
      "source": [
        "We create a graph which is bound to our AgentState\n",
        "\n",
        "The two nodes (agent and action) are created in the graph using the call_model and tool_node nodes that were defined earlier"
      ]
    },
    {
      "cell_type": "code",
      "execution_count": 25,
      "metadata": {
        "id": "6r6XXA5FJbVf"
      },
      "outputs": [],
      "source": [
        "graph_with_helpfulness_check = StateGraph(AgentState)\n",
        "\n",
        "graph_with_helpfulness_check.add_node(\"agent\", call_model)\n",
        "graph_with_helpfulness_check.add_node(\"action\", tool_node)"
      ]
    },
    {
      "cell_type": "markdown",
      "metadata": {
        "id": "XZ22o2mWVrfp"
      },
      "source": [
        "We create the starting or entry point for the graph into the agent node"
      ]
    },
    {
      "cell_type": "code",
      "execution_count": 26,
      "metadata": {
        "id": "HNWHwWxuRiLY"
      },
      "outputs": [],
      "source": [
        "graph_with_helpfulness_check.set_entry_point(\"agent\")"
      ]
    },
    {
      "cell_type": "markdown",
      "metadata": {
        "id": "rsXeF6xlaXOZ"
      },
      "source": [
        "We are creating a conditional edge to determine whether to call the action node and if not to determine if the answer is helpful. \n",
        "\n",
        "We are creating a simple Question-Response chain to identify if the response we have is helpful or not.\n",
        "\n",
        "If it is helpful, it will return \"end\" causing the cycle to end\n",
        "\n",
        "If it is not helpful, it will return \"continue\" causing the cycle to repeat\n",
        "\n"
      ]
    },
    {
      "cell_type": "code",
      "execution_count": 27,
      "metadata": {
        "id": "z_Sq3A9SaV1O"
      },
      "outputs": [],
      "source": [
        "from langchain_core.prompts import PromptTemplate\n",
        "from langchain_core.output_parsers import StrOutputParser\n",
        "\n",
        "def tool_call_or_helpful(state):\n",
        "  last_message = state[\"messages\"][-1]\n",
        "\n",
        "  if last_message.tool_calls:\n",
        "    return \"action\"\n",
        "\n",
        "  initial_query = state[\"messages\"][0]\n",
        "  final_response = state[\"messages\"][-1]\n",
        "\n",
        "  if len(state[\"messages\"]) > 10:\n",
        "    return \"end\"\n",
        "\n",
        "  prompt_template = \"\"\"\\\n",
        "  Given an initial query and a final response, determine if the final response is helpful or not. Please indicate a helpful answer with a 'Y' and an unhelpful answer as an 'N'.\n",
        "\n",
        "  Initial Query:\n",
        "  {initial_query}\n",
        "\n",
        "  Final Response:\n",
        "  {final_response}\"\"\"\n",
        "\n",
        "  prompt_template = PromptTemplate.from_template(prompt_template)\n",
        "\n",
        "  helpfulness_check_model = ChatOpenAI(model=\"gpt-4\")\n",
        "\n",
        "  helpfulness_chain = prompt_template | helpfulness_check_model | StrOutputParser()\n",
        "\n",
        "  helpfulness_response = helpfulness_chain.invoke({\"initial_query\" : initial_query.content, \"final_response\" : final_response.content})\n",
        "\n",
        "  if \"Y\" in helpfulness_response:\n",
        "    return \"end\"\n",
        "  else:\n",
        "    return \"continue\""
      ]
    },
    {
      "cell_type": "markdown",
      "metadata": {
        "id": "Fz1u9Vf4SHxJ"
      },
      "source": [
        "\n",
        "#### 🏗️ Activity #4:\n",
        "\n",
        "Please write what is happening in our `tool_call_or_helpful` function!\n",
        "\n",
        "The function tool_call_or_helpful is called and is passed the state\n",
        "- it checks the last message\n",
        "- if the last message contains tool calls, it returns \"action\", resulting in the action node being called and the tools executed\n",
        "- if there are more than 10 messages, it assumes we are in an infinite loop and it returns \"END\"\n",
        "- the first message (the question) and the final response are added to a template, passed through a Question-Response chain to the model to determine if the answer is helpful\n",
        "- if the answer was helpful it returns \"end\" and the cycle ends\n",
        "- if the answer was not helpful it returns \"continue\" and the cucle continues\n"
      ]
    },
    {
      "cell_type": "markdown",
      "metadata": {
        "id": "6BhnBW2YVsJO"
      },
      "source": [
        "The conditional edge tool_call_or_helpful is attached to the agent node with information on how to act\n",
        "\n",
        "If it returns \"continue\" the agent node is called\n",
        "If it returns \"action\" the action node is called\n",
        "If it returns \"end\" the cycle is ended"
      ]
    },
    {
      "cell_type": "code",
      "execution_count": 28,
      "metadata": {
        "id": "aVTKnWMbP_8T"
      },
      "outputs": [],
      "source": [
        "graph_with_helpfulness_check.add_conditional_edges(\n",
        "    \"agent\",\n",
        "    tool_call_or_helpful,\n",
        "    {\n",
        "        \"continue\" : \"agent\",\n",
        "        \"action\" : \"action\",\n",
        "        \"end\" : END\n",
        "    }\n",
        ")"
      ]
    },
    {
      "cell_type": "markdown",
      "metadata": {
        "id": "ZGDLEWOIVtK0"
      },
      "source": [
        "An edge is added between the action and the agent\n",
        "\n",
        "This is unconditional so the agent is always called at completion of the agent"
      ]
    },
    {
      "cell_type": "code",
      "execution_count": 29,
      "metadata": {
        "id": "cbDK2MbuREgU"
      },
      "outputs": [],
      "source": [
        "graph_with_helpfulness_check.add_edge(\"action\", \"agent\")"
      ]
    },
    {
      "cell_type": "markdown",
      "metadata": {
        "id": "rSI8AOaEVvT-"
      },
      "source": [
        "The graph is compiled"
      ]
    },
    {
      "cell_type": "code",
      "execution_count": 30,
      "metadata": {
        "id": "oQldl8ERQ8lf"
      },
      "outputs": [],
      "source": [
        "agent_with_helpfulness_check = graph_with_helpfulness_check.compile()"
      ]
    },
    {
      "cell_type": "markdown",
      "metadata": {
        "id": "F67FGCMRVwGz"
      },
      "source": [
        "We create the state and populate it with the question\n",
        "\n",
        "the agent is called passing in the inputs and requesting it to operate in stream mode\n",
        "\n",
        "As chunks are returned they are displayed below"
      ]
    },
    {
      "cell_type": "code",
      "execution_count": 31,
      "metadata": {
        "colab": {
          "base_uri": "https://localhost:8080/"
        },
        "id": "B3oo8E-PRK1T",
        "outputId": "22470df4-9aa7-4751-95b6-d30ce71b17db"
      },
      "outputs": [
        {
          "name": "stdout",
          "output_type": "stream",
          "text": [
            "Receiving update from node: 'agent'\n",
            "[AIMessage(content='', additional_kwargs={'tool_calls': [{'id': 'call_PYEfbrDEKBz73BcjWTDvjIGu', 'function': {'arguments': '{\"query\": \"LoRA machine learning\"}', 'name': 'duckduckgo_search'}, 'type': 'function'}, {'id': 'call_keZQxnFVaLuY3cbPhTBKUmAY', 'function': {'arguments': '{\"query\": \"Tim Dettmers\"}', 'name': 'duckduckgo_search'}, 'type': 'function'}, {'id': 'call_9nEgHhFVOX0rdvw2Cq6hoRzv', 'function': {'arguments': '{\"query\": \"Attention in machine learning\"}', 'name': 'duckduckgo_search'}, 'type': 'function'}], 'refusal': None}, response_metadata={'token_usage': {'completion_tokens': 76, 'prompt_tokens': 171, 'total_tokens': 247}, 'model_name': 'gpt-4o-2024-05-13', 'system_fingerprint': 'fp_fde2829a40', 'finish_reason': 'tool_calls', 'logprobs': None}, id='run-745da59b-2f2a-43a7-880a-908ce2881415-0', tool_calls=[{'name': 'duckduckgo_search', 'args': {'query': 'LoRA machine learning'}, 'id': 'call_PYEfbrDEKBz73BcjWTDvjIGu', 'type': 'tool_call'}, {'name': 'duckduckgo_search', 'args': {'query': 'Tim Dettmers'}, 'id': 'call_keZQxnFVaLuY3cbPhTBKUmAY', 'type': 'tool_call'}, {'name': 'duckduckgo_search', 'args': {'query': 'Attention in machine learning'}, 'id': 'call_9nEgHhFVOX0rdvw2Cq6hoRzv', 'type': 'tool_call'}], usage_metadata={'input_tokens': 171, 'output_tokens': 76, 'total_tokens': 247})]\n",
            "\n",
            "\n",
            "\n",
            "Tool Used: duckduckgo_search\n",
            "Receiving update from node: 'action'\n",
            "[ToolMessage(content=\"Put it in the webui > models > Lora. Tip: You can also put it in the A1111's LoRA folder if you set Forge to share models with A1111. ... Andrew is an experienced engineer with a specialization in Machine Learning and Artificial Intelligence. He is passionate about programming, art, photography, and education. He has a Ph.D. in engineering. In International Conference on Machine Learning, pages 2790-2799. PMLR. Hu et al. (2021) Edward J. Hu, Yelong Shen, Phillip Wallis, Zeyuan Allen-Zhu, Yuanzhi Li, Shean Wang, Lu Wang, and Weizhu Chen. 2021. Lora: Low-rank adaptation of large language models. In International Conference on Learning Representations, Online. Association for ... Customized LoRa based hardware for real-time data acquisition of BMS. ... With a focus on machine learning and data analytics, GCP offers strong support for open-source software and reliable network performance. Although it has a user-friendly and well-designed interface, flexible price choices, decent performance, and good scalability, it ... Let's jump on LoRA. Low-Rank Adaptation of LLMs (LoRA) So, in usual fine-tuning, we. Take a pretrained model. Do Transfer Learning over new training data to slightly adjust these pre-trained weights Low-Rank Adaptation (LoRA) is a widely-used parameter-efficient finetuning method for large language models. LoRA saves memory by training only low rank perturbations to selected weight matrices. In this work, we compare the performance of LoRA and full finetuning on two target domains, programming and mathematics. We consider both the instruction finetuning ($\\\\\\\\approx$100K prompt-response ...\", name='duckduckgo_search', tool_call_id='call_PYEfbrDEKBz73BcjWTDvjIGu'), ToolMessage(content='Allen School Ph.D. student Tim Dettmers accepted the grand prize for QLoRA, a novel approach to finetuning pretrained models that significantly reduces the amount of GPU memory required — from over 780GB to less than 48GB — to finetune a 65B parameter model. With QLoRA, the largest publicly available models can be finetuned on a single ... — Tim Dettmers is joining Ai2 as an AI researcher. Dettmers specializes in efficient deep learning at the intersection of machine learning, NLP, and computer systems with a focus on quantization ... Tim Dettmers. Video. Tech Moves: AI researcher Yejin Choi leaves Univ. of Washington and Allen Institute for AI. by Todd Bishop & Taylor Soper on August 2, 2024 August 2, 2024 at 11:59 am. If you have a curiosity about how fancy graphics cards actually work, and why they are so well-suited to AI-type applications, then take a few minutes to read [Tim Dettmers] explain why this is so.… Its purpose is to make cutting-edge research by Tim Dettmers, a leading academic expert on quantization and the use of deep learning hardware accelerators, accessible to the general public. QLoRA: One of the core contributions of bitsandbytes towards the democratization of AI.', name='duckduckgo_search', tool_call_id='call_keZQxnFVaLuY3cbPhTBKUmAY'), ToolMessage(content='Learn how attention mechanisms in deep learning enable models to focus on relevant information and improve performance in tasks such as machine translation, image captioning, and speech recognition. Understand the steps and components of attention mechanism architecture and see examples of its applications. There are several types of attention mechanisms, each designed to cater to specific use cases. Here are a few notable ones: 1. Self-Attention Mechanism. Self-attention, also known as intra ... The concept of \"attention\" in deep learning has its roots in the effort to improve Recurrent Neural Networks (RNNs) for handling longer sequences or sentences. For instance, consider translating a sentence from one language to another. Translating a sentence word-by-word is usually not an option because it ignores the complex grammatical ... Attention mechanism is a fundamental invention in artificial intelligence and machine learning, redefining the capabilities of deep learning models. This mechanism, inspired by the human mental process of selective focus, has emerged as a pillar in a variety of applications, accelerating developments in natural language processing, computer vision, and beyond. The Transformer model, introduced in the groundbreaking paper \" Attention is All You Need \" by Vaswani et al., has revolutionized the field of natural language processing (NLP). Central to the Transformer\\'s success is the attention mechanism, which allows the model to weigh the importance of different words in a sentence, regardless of their position.', name='duckduckgo_search', tool_call_id='call_9nEgHhFVOX0rdvw2Cq6hoRzv')]\n",
            "\n",
            "\n",
            "\n",
            "Receiving update from node: 'agent'\n",
            "[AIMessage(content='### LoRA in Machine Learning\\nLoRA, or Low-Rank Adaptation, is a parameter-efficient fine-tuning method for large language models. Instead of fine-tuning all the parameters of a pre-trained model, LoRA focuses on training only low-rank perturbations to selected weight matrices. This approach significantly reduces memory usage and computational requirements, making it feasible to fine-tune large models with limited resources. LoRA has been particularly useful in domains like programming and mathematics, where it has shown comparable performance to full fine-tuning.\\n\\n### Tim Dettmers\\nTim Dettmers is a researcher specializing in efficient deep learning, particularly at the intersection of machine learning, natural language processing (NLP), and computer systems. He is known for his work on quantization and the use of deep learning hardware accelerators. One of his notable contributions is QLoRA, a method that drastically reduces the GPU memory required to fine-tune large language models. Tim Dettmers is affiliated with the Allen Institute for AI (Ai2) and has been recognized for his contributions to making advanced AI research more accessible.\\n\\n### Attention in Machine Learning\\nThe attention mechanism is a fundamental concept in deep learning that allows models to focus on relevant parts of the input data, improving performance in various tasks such as machine translation, image captioning, and speech recognition. The mechanism works by assigning different weights to different parts of the input, enabling the model to prioritize more important information.\\n\\nThere are several types of attention mechanisms, including:\\n\\n1. **Self-Attention**: Also known as intra-attention, this mechanism allows a model to weigh the importance of different words in a sentence, regardless of their position. It is a key component of the Transformer model, which has revolutionized natural language processing (NLP).\\n\\n2. **Global Attention**: This mechanism considers all parts of the input sequence when generating each part of the output sequence.\\n\\n3. **Local Attention**: This mechanism focuses on a specific part of the input sequence, which is particularly useful for tasks requiring fine-grained focus.\\n\\nThe Transformer model, introduced in the paper \"Attention is All You Need\" by Vaswani et al., has been a groundbreaking development in NLP, largely due to its effective use of the attention mechanism.', additional_kwargs={'refusal': None}, response_metadata={'token_usage': {'completion_tokens': 458, 'prompt_tokens': 1200, 'total_tokens': 1658}, 'model_name': 'gpt-4o-2024-05-13', 'system_fingerprint': 'fp_157b3831f5', 'finish_reason': 'stop', 'logprobs': None}, id='run-0f5b8544-2789-40fd-9cd0-f6089598c9bb-0', usage_metadata={'input_tokens': 1200, 'output_tokens': 458, 'total_tokens': 1658})]\n",
            "\n",
            "\n",
            "\n"
          ]
        }
      ],
      "source": [
        "inputs = {\"messages\" : [HumanMessage(content=\"Related to machine learning, what is LoRA? Also, who is Tim Dettmers? Also, what is Attention?\")]}\n",
        "\n",
        "async for chunk in agent_with_helpfulness_check.astream(inputs, stream_mode=\"updates\"):\n",
        "    for node, values in chunk.items():\n",
        "        if node == \"action\":\n",
        "          print(f\"Tool Used: {values['messages'][0].name}\")\n",
        "        print(f\"Receiving update from node: '{node}'\")\n",
        "        print(values[\"messages\"])\n",
        "\n",
        "        print(\"\\n\\n\")"
      ]
    },
    {
      "cell_type": "markdown",
      "metadata": {
        "id": "yVmZPs6lnpsM"
      },
      "source": [
        "### Task 4: LangGraph for the \"Patterns\" of GenAI\n",
        "\n",
        "Let's ask our system about the 4 patterns of Generative AI:\n",
        "\n",
        "1. Prompt Engineering\n",
        "2. RAG\n",
        "3. Fine-tuning\n",
        "4. Agents"
      ]
    },
    {
      "cell_type": "code",
      "execution_count": 32,
      "metadata": {
        "id": "ZoLl7GlXoae-"
      },
      "outputs": [],
      "source": [
        "patterns = [\"prompt engineering\", \"RAG\", \"fine-tuning\", \"LLM-based agents\"]"
      ]
    },
    {
      "cell_type": "code",
      "execution_count": 33,
      "metadata": {
        "colab": {
          "base_uri": "https://localhost:8080/"
        },
        "id": "Zkh0YJuCp3Zl",
        "outputId": "0593c6f5-0a1d-41f6-960b-f32d101b3ade"
      },
      "outputs": [
        {
          "name": "stdout",
          "output_type": "stream",
          "text": [
            "### What is Prompt Engineering?\n",
            "\n",
            "Prompt engineering is the process of creating effective prompts that enable AI models to generate responses based on given inputs. It involves refining and crafting text prompts that generative AI models, such as ChatGPT, DALL-E, and others, can understand and use to perform tasks. The goal is to optimize the output of these language models by carefully designing the input prompts. This practice is crucial for applications in natural language processing (NLP), translation, chatbots, content creation, code generation, and more.\n",
            "\n",
            "### When Did Prompt Engineering Become Popular?\n",
            "\n",
            "Prompt engineering has gained significant attention and popularity with the advent of sophisticated AI models like GPT-4 and above. The rise of these advanced models has opened new horizons for various applications, including content creation, code generation, and complex decision-making support. The trend of prompt engineering has been particularly notable in recent years, with a marked increase in interest and development around 2024. This surge is driven by the growing capabilities of AI models and the need to harness these capabilities effectively.\n",
            "\n",
            "\n",
            "\n",
            "RAG stands for Retrieval-Augmented Generation. It is a technique in natural language processing (NLP) that combines retrieval-based methods with generative models to improve the quality and relevance of generated text. The idea is to retrieve relevant documents or pieces of information from a large corpus and use this retrieved information to guide the generation process, resulting in more accurate and contextually appropriate responses.\n",
            "\n",
            "RAG was introduced by Facebook AI Research (FAIR) in a paper titled \"Retrieval-Augmented Generation for Knowledge-Intensive NLP Tasks,\" which was published in 2020. The technique leverages both retrieval and generation to handle knowledge-intensive tasks more effectively than traditional methods.\n",
            "\n",
            "Would you like more detailed information or specific papers on RAG?\n",
            "\n",
            "\n",
            "\n",
            "Fine-tuning is a process in machine learning where a pre-trained model is further trained on a new dataset to adapt it to a specific task. This approach leverages the knowledge the model has already acquired during its initial training on a large, general dataset, and refines it to perform well on a more specialized task. Fine-tuning is particularly useful because it can significantly reduce the amount of data and computational resources required to train a model for a specific application.\n",
            "\n",
            "### Key Steps in Fine-Tuning:\n",
            "1. **Pre-training**: Train a model on a large, general dataset.\n",
            "2. **Transfer Learning**: Use the pre-trained model as a starting point.\n",
            "3. **Fine-Tuning**: Further train the model on a smaller, task-specific dataset.\n",
            "\n",
            "### Benefits of Fine-Tuning:\n",
            "- **Efficiency**: Reduces the need for large amounts of task-specific data.\n",
            "- **Performance**: Often leads to better performance on the specific task compared to training from scratch.\n",
            "- **Speed**: Faster than training a model from scratch.\n",
            "\n",
            "### Historical Context:\n",
            "Fine-tuning became particularly prominent with the advent of deep learning and the availability of large pre-trained models. One of the key moments in its rise to prominence was the introduction of models like BERT (Bidirectional Encoder Representations from Transformers) by Google in 2018. BERT demonstrated that fine-tuning a pre-trained model on specific tasks could achieve state-of-the-art results in various natural language processing (NLP) benchmarks.\n",
            "\n",
            "Would you like more detailed information or specific examples of fine-tuning in action?\n",
            "\n",
            "\n",
            "\n",
            "LLM-based agents, or Large Language Model-based agents, are artificial intelligence systems that leverage large language models to perform a variety of tasks. These tasks can include natural language understanding, text generation, translation, summarization, question answering, and more. The core technology behind these agents is typically a deep learning model trained on vast amounts of text data, enabling the model to understand and generate human-like text.\n",
            "\n",
            "### Key Characteristics of LLM-based Agents:\n",
            "1. **Natural Language Processing (NLP):** They excel in understanding and generating human language.\n",
            "2. **Contextual Understanding:** They can maintain context over longer conversations or documents.\n",
            "3. **Versatility:** They can be fine-tuned for specific tasks or domains.\n",
            "4. **Scalability:** They can handle a wide range of applications from chatbots to complex data analysis.\n",
            "\n",
            "### Breakthroughs and Timeline:\n",
            "- **2018:** The release of OpenAI's GPT-2 marked a significant milestone. It demonstrated the potential of large-scale language models in generating coherent and contextually relevant text.\n",
            "- **2020:** OpenAI's GPT-3 further pushed the boundaries with 175 billion parameters, showcasing even more advanced capabilities in text generation and understanding.\n",
            "- **2021 and Beyond:** The development of models like Google's BERT, T5, and other variants, along with OpenAI's continued advancements, have solidified the role of LLMs in various applications.\n",
            "\n",
            "To get more specific details about the timeline and breakthroughs, I can look up recent articles or papers. Would you like me to do that?\n",
            "\n",
            "\n",
            "\n"
          ]
        }
      ],
      "source": [
        "for pattern in patterns:\n",
        "  what_is_string = f\"What is {pattern} and when did it break onto the scene??\"\n",
        "  inputs = {\"messages\" : [HumanMessage(content=what_is_string)]}\n",
        "  messages = agent_with_helpfulness_check.invoke(inputs)\n",
        "  print(messages[\"messages\"][-1].content)\n",
        "  print(\"\\n\\n\")"
      ]
    }
  ],
  "metadata": {
    "colab": {
      "provenance": []
    },
    "kernelspec": {
      "display_name": "Python 3",
      "name": "python3"
    },
    "language_info": {
      "codemirror_mode": {
        "name": "ipython",
        "version": 3
      },
      "file_extension": ".py",
      "mimetype": "text/x-python",
      "name": "python",
      "nbconvert_exporter": "python",
      "pygments_lexer": "ipython3",
      "version": "3.11.9"
    }
  },
  "nbformat": 4,
  "nbformat_minor": 0
}
