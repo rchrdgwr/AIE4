{
  "cells": [
    {
      "cell_type": "markdown",
      "metadata": {
        "id": "gJXW_DgiSebM"
      },
      "source": [
        "# LangGraph and LangSmith - Agentic RAG Powered by LangChain\n",
        "\n",
        "In the following notebook we'll complete the following tasks:\n",
        "\n",
        "- 🤝 Breakout Room #1:\n",
        "  1. Install required libraries\n",
        "  2. Set Environment Variables\n",
        "  3. Creating our Tool Belt\n",
        "  4. Creating Our State\n",
        "  5. Creating and Compiling A Graph!\n",
        "\n",
        "  - 🤝 Breakout Room #2:\n",
        "  1. Evaluating the LangGraph Application with LangSmith\n",
        "  2. Adding Helpfulness Check and \"Loop\" Limits\n",
        "  3. LangGraph for the \"Patterns\" of GenAI"
      ]
    },
    {
      "cell_type": "markdown",
      "metadata": {
        "id": "djQ3nRAgoF67"
      },
      "source": [
        "# 🤝 Breakout Room #1"
      ]
    },
    {
      "cell_type": "markdown",
      "metadata": {
        "id": "e7pQDUhUnIo8"
      },
      "source": [
        "## Part 1: LangGraph - Building Cyclic Applications with LangChain\n",
        "\n",
        "LangGraph is a tool that leverages LangChain Expression Language to build coordinated multi-actor and stateful applications that includes cyclic behaviour.\n",
        "\n",
        "### Why Cycles?\n",
        "\n",
        "In essence, we can think of a cycle in our graph as a more robust and customizable loop. It allows us to keep our application agent-forward while still giving the powerful functionality of traditional loops.\n",
        "\n",
        "Due to the inclusion of cycles over loops, we can also compose rather complex flows through our graph in a much more readable and natural fashion. Effectively allowing us to recreate application flowcharts in code in an almost 1-to-1 fashion.\n",
        "\n",
        "### Why LangGraph?\n",
        "\n",
        "Beyond the agent-forward approach - we can easily compose and combine traditional \"DAG\" (directed acyclic graph) chains with powerful cyclic behaviour due to the tight integration with LCEL. This means it's a natural extension to LangChain's core offerings!"
      ]
    },
    {
      "cell_type": "markdown",
      "metadata": {
        "id": "3_fLDElOVoop"
      },
      "source": [
        "## Task 1:  Dependencies\n",
        "\n",
        "We'll first install all our required libraries."
      ]
    },
    {
      "cell_type": "code",
      "execution_count": 1,
      "metadata": {
        "id": "KaVwN269EttM"
      },
      "outputs": [],
      "source": [
        "!pip install -qU langchain langchain_openai langchain-community langgraph arxiv duckduckgo_search==5.3.1b1"
      ]
    },
    {
      "cell_type": "markdown",
      "metadata": {
        "id": "wujPjGJuoPwg"
      },
      "source": [
        "## Task 2: Environment Variables\n",
        "\n",
        "We'll want to set both our OpenAI API key and our LangSmith environment variables."
      ]
    },
    {
      "cell_type": "code",
      "execution_count": 2,
      "metadata": {
        "colab": {
          "base_uri": "https://localhost:8080/"
        },
        "id": "Jdh8CoVWHRvs",
        "outputId": "42b2ba5e-11ae-4f4d-e68e-77607bb794ad"
      },
      "outputs": [],
      "source": [
        "import os\n",
        "import getpass\n",
        "\n",
        "os.environ[\"OPENAI_API_KEY\"] = getpass.getpass(\"OpenAI API Key:\")"
      ]
    },
    {
      "cell_type": "code",
      "execution_count": 3,
      "metadata": {
        "colab": {
          "base_uri": "https://localhost:8080/"
        },
        "id": "Nv0glIDyHmRt",
        "outputId": "30aa2260-50f1-4abf-b305-eed0ee1b9008"
      },
      "outputs": [],
      "source": [
        "from uuid import uuid4\n",
        "\n",
        "os.environ[\"LANGCHAIN_TRACING_V2\"] = \"true\"\n",
        "os.environ[\"LANGCHAIN_PROJECT\"] = f\"AIE4 - LangGraph - {uuid4().hex[0:8]}\"\n",
        "os.environ[\"LANGCHAIN_API_KEY\"] = getpass.getpass(\"LangSmith API Key: \")"
      ]
    },
    {
      "cell_type": "markdown",
      "metadata": {
        "id": "sBRyQmEAVzua"
      },
      "source": [
        "## Task 3: Creating our Tool Belt\n",
        "\n",
        "As is usually the case, we'll want to equip our agent with a toolbelt to help answer questions and add external knowledge.\n",
        "\n",
        "There's a tonne of tools in the [LangChain Community Repo](https://github.com/langchain-ai/langchain/tree/master/libs/community/langchain_community/tools) but we'll stick to a couple just so we can observe the cyclic nature of LangGraph in action!\n",
        "\n",
        "We'll leverage:\n",
        "\n",
        "- [Duck Duck Go Web Search](https://github.com/langchain-ai/langchain/tree/master/libs/community/langchain_community/tools/ddg_search)\n",
        "- [Arxiv](https://github.com/langchain-ai/langchain/tree/master/libs/community/langchain_community/tools/arxiv)"
      ]
    },
    {
      "cell_type": "markdown",
      "metadata": {
        "id": "2k6n_Dob2F46"
      },
      "source": [
        "<div style=\"border: 2px solid white; background: black; padding: 10px;\">\n",
        "\n",
        "#### 🏗️ Activity #1:\n",
        "\n",
        "Please add the tools to use into our toolbelt.\n",
        "\n",
        "> NOTE: Each tool in our toolbelt should be a method.\n",
        "\n",
        "Added:\n",
        "- DuckDuckGoSearchRun()\n",
        "- ArxivQueryRun()\n",
        "\n",
        "</div>"
      ]
    },
    {
      "cell_type": "code",
      "execution_count": 4,
      "metadata": {
        "id": "lAxaSvlfIeOg"
      },
      "outputs": [],
      "source": [
        "from langchain_community.tools.ddg_search import DuckDuckGoSearchRun\n",
        "from langchain_community.tools.arxiv.tool import ArxivQueryRun\n",
        "\n",
        "tool_belt = [\n",
        "   DuckDuckGoSearchRun(),\n",
        "   ArxivQueryRun(),\n",
        "]"
      ]
    },
    {
      "cell_type": "markdown",
      "metadata": {
        "id": "VI-C669ZYVI5"
      },
      "source": [
        "### Model\n",
        "\n",
        "Now we can set-up our model! We'll leverage the familiar OpenAI model suite for this example - but it's not *necessary* to use with LangGraph. LangGraph supports all models - though you might not find success with smaller models - as such, they recommend you stick with:\n",
        "\n",
        "- OpenAI's GPT-3.5 and GPT-4\n",
        "- Anthropic's Claude\n",
        "- Google's Gemini\n",
        "\n",
        "> NOTE: Because we're leveraging the OpenAI function calling API - we'll need to use OpenAI *for this specific example* (or any other service that exposes an OpenAI-style function calling API."
      ]
    },
    {
      "cell_type": "code",
      "execution_count": 5,
      "metadata": {
        "id": "QkNS8rNZJs4z"
      },
      "outputs": [],
      "source": [
        "from langchain_openai import ChatOpenAI\n",
        "\n",
        "model = ChatOpenAI(model=\"gpt-4o\", temperature=0)"
      ]
    },
    {
      "cell_type": "markdown",
      "metadata": {
        "id": "Ugkj3GzuZpQv"
      },
      "source": [
        "Now that we have our model set-up, let's \"put on the tool belt\", which is to say: We'll bind our LangChain formatted tools to the model in an OpenAI function calling format."
      ]
    },
    {
      "cell_type": "code",
      "execution_count": 6,
      "metadata": {
        "id": "4OdMqFafZ_0V"
      },
      "outputs": [],
      "source": [
        "model = model.bind_tools(tool_belt)"
      ]
    },
    {
      "cell_type": "markdown",
      "metadata": {
        "id": "ERzuGo6W18Lr"
      },
      "source": [
        "<div style=\"border: 2px solid white; background: black; padding: 10px;\">\n",
        "\n",
        "#### ❓ Question #1:\n",
        "\n",
        "How does the model determine which tool to use?\n",
        "\n",
        "#### ! Answer #1:\n",
        "\n",
        "The tools contain markup (description) describing their purpose. It is also recommended to use a descriptive name for the tool.\n",
        "\n",
        "There are a couple of ways the model can know which tool to use:\n",
        "- Explicit - if the tool is requested within the input the model could match on name or description\n",
        "- Context - based on the question the model can identify the context of the question and find a best fit tool based on the tool name and description\n",
        "- Complex - the language model may have been trained or fine-tuned to decide which tool to use\n",
        "\n",
        "</div>"
      ]
    },
    {
      "cell_type": "markdown",
      "metadata": {
        "id": "_296Ub96Z_H8"
      },
      "source": [
        "## Task 4: Putting the State in Stateful\n",
        "\n",
        "Earlier we used this phrasing:\n",
        "\n",
        "`coordinated multi-actor and stateful applications`\n",
        "\n",
        "So what does that \"stateful\" mean?\n",
        "\n",
        "To put it simply - we want to have some kind of object which we can pass around our application that holds information about what the current situation (state) is. Since our system will be constructed of many parts moving in a coordinated fashion - we want to be able to ensure we have some commonly understood idea of that state.\n",
        "\n",
        "LangGraph leverages a `StatefulGraph` which uses an `AgentState` object to pass information between the various nodes of the graph.\n",
        "\n",
        "There are more options than what we'll see below - but this `AgentState` object is one that is stored in a `TypedDict` with the key `messages` and the value is a `Sequence` of `BaseMessages` that will be appended to whenever the state changes.\n",
        "\n",
        "Let's think about a simple example to help understand exactly what this means (we'll simplify a great deal to try and clearly communicate what state is doing):\n",
        "\n",
        "1. We initialize our state object:\n",
        "  - `{\"messages\" : []}`\n",
        "2. Our user submits a query to our application.\n",
        "  - New State: `HumanMessage(#1)`\n",
        "  - `{\"messages\" : [HumanMessage(#1)}`\n",
        "3. We pass our state object to an Agent node which is able to read the current state. It will use the last `HumanMessage` as input. It gets some kind of output which it will add to the state.\n",
        "  - New State: `AgentMessage(#1, additional_kwargs {\"function_call\" : \"WebSearchTool\"})`\n",
        "  - `{\"messages\" : [HumanMessage(#1), AgentMessage(#1, ...)]}`\n",
        "4. We pass our state object to a \"conditional node\" (more on this later) which reads the last state to determine if we need to use a tool - which it can determine properly because of our provided object!"
      ]
    },
    {
      "cell_type": "code",
      "execution_count": 7,
      "metadata": {
        "id": "mxL9b_NZKUdL"
      },
      "outputs": [],
      "source": [
        "from typing import TypedDict, Annotated, Text\n",
        "from langgraph.graph.message import add_messages\n",
        "import operator\n",
        "from langchain_core.messages import BaseMessage\n",
        "\n",
        "class AgentState(TypedDict):\n",
        "  messages: Annotated[list, add_messages]"
      ]
    },
    {
      "cell_type": "markdown",
      "metadata": {
        "id": "vWsMhfO9grLu"
      },
      "source": [
        "## Task 5: It's Graphing Time!\n",
        "\n",
        "Now that we have state, and we have tools, and we have an LLM - we can finally start making our graph!\n",
        "\n",
        "Let's take a second to refresh ourselves about what a graph is in this context.\n",
        "\n",
        "Graphs, also called networks in some circles, are a collection of connected objects.\n",
        "\n",
        "The objects in question are typically called nodes, or vertices, and the connections are called edges.\n",
        "\n",
        "Let's look at a simple graph.\n",
        "\n",
        "![image](https://i.imgur.com/2NFLnIc.png)\n",
        "\n",
        "Here, we're using the coloured circles to represent the nodes and the yellow lines to represent the edges. In this case, we're looking at a fully connected graph - where each node is connected by an edge to each other node.\n",
        "\n",
        "If we were to think about nodes in the context of LangGraph - we would think of a function, or an LCEL runnable.\n",
        "\n",
        "If we were to think about edges in the context of LangGraph - we might think of them as \"paths to take\" or \"where to pass our state object next\".\n",
        "\n",
        "Let's create some nodes and expand on our diagram.\n",
        "\n",
        "> NOTE: Due to the tight integration with LCEL - we can comfortably create our nodes in an async fashion!"
      ]
    },
    {
      "cell_type": "code",
      "execution_count": 8,
      "metadata": {
        "id": "91flJWtZLUrl"
      },
      "outputs": [],
      "source": [
        "from langgraph.prebuilt import ToolNode\n",
        "\n",
        "def call_model(state):\n",
        "  messages = state[\"messages\"]\n",
        "  response = model.invoke(messages)\n",
        "  return {\"messages\" : [response]}\n",
        "\n",
        "tool_node = ToolNode(tool_belt)"
      ]
    },
    {
      "cell_type": "markdown",
      "metadata": {
        "id": "2bwR7MgWj3Wg"
      },
      "source": [
        "Now we have two total nodes. We have:\n",
        "\n",
        "- `call_model` is a node that will...well...call the model\n",
        "- `tool_node` is a node which can call a tool\n",
        "\n",
        "Let's start adding nodes! We'll update our diagram along the way to keep track of what this looks like!\n"
      ]
    },
    {
      "cell_type": "code",
      "execution_count": 9,
      "metadata": {
        "id": "_vF4_lgtmQNo"
      },
      "outputs": [],
      "source": [
        "from langgraph.graph import StateGraph, END\n",
        "\n",
        "uncompiled_graph = StateGraph(AgentState)\n",
        "\n",
        "uncompiled_graph.add_node(\"agent\", call_model)\n",
        "uncompiled_graph.add_node(\"action\", tool_node)"
      ]
    },
    {
      "cell_type": "markdown",
      "metadata": {
        "id": "b8CjRlbVmRpW"
      },
      "source": [
        "Let's look at what we have so far:\n",
        "\n",
        "![image](https://i.imgur.com/md7inqG.png)"
      ]
    },
    {
      "cell_type": "markdown",
      "metadata": {
        "id": "uaXHpPeSnOWC"
      },
      "source": [
        "Next, we'll add our entrypoint. All our entrypoint does is indicate which node is called first."
      ]
    },
    {
      "cell_type": "code",
      "execution_count": 10,
      "metadata": {
        "id": "YGCbaYqRnmiw"
      },
      "outputs": [],
      "source": [
        "uncompiled_graph.set_entry_point(\"agent\")"
      ]
    },
    {
      "cell_type": "markdown",
      "metadata": {
        "id": "BUsfGoSpoF9U"
      },
      "source": [
        "![image](https://i.imgur.com/wNixpJe.png)"
      ]
    },
    {
      "cell_type": "markdown",
      "metadata": {
        "id": "0Q_pQgHmoW0M"
      },
      "source": [
        "Now we want to build a \"conditional edge\" which will use the output state of a node to determine which path to follow.\n",
        "\n",
        "We can help conceptualize this by thinking of our conditional edge as a conditional in a flowchart!\n",
        "\n",
        "Notice how our function simply checks if there is a \"function_call\" kwarg present.\n",
        "\n",
        "Then we create an edge where the origin node is our agent node and our destination node is *either* the action node or the END (finish the graph).\n",
        "\n",
        "It's important to highlight that the dictionary passed in as the third parameter (the mapping) should be created with the possible outputs of our conditional function in mind. In this case `should_continue` outputs either `\"end\"` or `\"continue\"` which are subsequently mapped to the action node or the END node."
      ]
    },
    {
      "cell_type": "code",
      "execution_count": 11,
      "metadata": {
        "id": "1BZgb81VQf9o"
      },
      "outputs": [],
      "source": [
        "def should_continue(state):\n",
        "  last_message = state[\"messages\"][-1]\n",
        "\n",
        "  if last_message.tool_calls:\n",
        "    return \"action\"\n",
        "\n",
        "  return END\n",
        "\n",
        "uncompiled_graph.add_conditional_edges(\n",
        "    \"agent\",\n",
        "    should_continue\n",
        ")"
      ]
    },
    {
      "cell_type": "markdown",
      "metadata": {
        "id": "-Cvhcf4jp0Ce"
      },
      "source": [
        "Let's visualize what this looks like.\n",
        "\n",
        "![image](https://i.imgur.com/8ZNwKI5.png)"
      ]
    },
    {
      "cell_type": "markdown",
      "metadata": {
        "id": "yKCjWJCkrJb9"
      },
      "source": [
        "Finally, we can add our last edge which will connect our action node to our agent node. This is because we *always* want our action node (which is used to call our tools) to return its output to our agent!"
      ]
    },
    {
      "cell_type": "code",
      "execution_count": 12,
      "metadata": {
        "id": "UvcgbHf1rIXZ"
      },
      "outputs": [],
      "source": [
        "uncompiled_graph.add_edge(\"action\", \"agent\")"
      ]
    },
    {
      "cell_type": "markdown",
      "metadata": {
        "id": "EiWDwBQtrw7Z"
      },
      "source": [
        "Let's look at the final visualization.\n",
        "\n",
        "![image](https://i.imgur.com/NWO7usO.png)"
      ]
    },
    {
      "cell_type": "markdown",
      "metadata": {
        "id": "KYqDpErlsCsu"
      },
      "source": [
        "All that's left to do now is to compile our workflow - and we're off!"
      ]
    },
    {
      "cell_type": "code",
      "execution_count": 13,
      "metadata": {
        "id": "zt9-KS8DpzNx"
      },
      "outputs": [],
      "source": [
        "compiled_graph = uncompiled_graph.compile()"
      ]
    },
    {
      "cell_type": "markdown",
      "metadata": {
        "id": "xhNWIwBL1W4Q"
      },
      "source": [
        "<div style=\"border: 2px solid white; background: black; padding: 10px;\">\n",
        "\n",
        "#### ❓ Question #2:\n",
        "\n",
        "Is there any specific limit to how many times we can cycle?\n",
        "\n",
        "If not, how could we impose a limit to the number of cycles?\n",
        "\n",
        "#### ! Answer #2:\n",
        "\n",
        "Conceptually there is no limit to the number of times this could cycle. Technically it would probably end up using up sufficient resources etc to hit token limits, out of memory condition etc.\n",
        "\n",
        "The most simple way to limit the number of cycles is to set a counter and track the number of repeats are performed. There are a number of different ways this could be implemented:\n",
        "- Counter in the agent node - set a counter and increment each time the action node is called. When the counter reaches a specified number, the agent then ends the cycle even if the other conditions have not been met.\n",
        "- Counter within action node - the action itself could keep track of how many times it has been called and raise an exception when the limit is reached\n",
        "- Counter within the conditional edge - the should-continue edge could check the counter and then decide to end\n",
        "\n",
        "</div>"
      ]
    },
    {
      "cell_type": "code",
      "execution_count": 14,
      "metadata": {},
      "outputs": [],
      "source": [
        "from langchain_core.messages import AIMessage, ToolMessage\n",
        "from pprint import pprint\n",
        "\n",
        "def print_messages(values):\n",
        "    for message in values[\"messages\"]:\n",
        "        if isinstance(message, AIMessage):\n",
        "            print(\"AI Message Content:\")\n",
        "            print(message.content)\n",
        "            print(\"\\nadditional_kwargs:\")\n",
        "            pprint(message.additional_kwargs, indent=4)\n",
        "            print(\"\\nresponse_metadata:\")\n",
        "            pprint(message.response_metadata, indent=4)\n",
        "            print(\"\\nusage_metadata:\")\n",
        "            pprint(message.usage_metadata, indent=4)\n",
        "            print(\"\\n\" + \"-\" * 50 + \"\\n\")\n",
        "        \n",
        "        elif isinstance(message, ToolMessage):\n",
        "            print(\"Tool Message Content:\")\n",
        "            print(message.content)\n",
        "            print(f\"\\nTool Name: {message.name}\")\n",
        "            print(f\"Tool Call ID: {message.tool_call_id}\")\n",
        "            print(\"\\n\" + \"-\" * 50 + \"\\n\")"
      ]
    },
    {
      "cell_type": "markdown",
      "metadata": {
        "id": "VEYcTShCsPaa"
      },
      "source": [
        "## Using Our Graph\n",
        "\n",
        "Now that we've created and compiled our graph - we can call it *just as we'd call any other* `Runnable`!\n",
        "\n",
        "Let's try out a few examples to see how it fairs:"
      ]
    },
    {
      "cell_type": "code",
      "execution_count": 15,
      "metadata": {
        "colab": {
          "base_uri": "https://localhost:8080/"
        },
        "id": "Qn4n37PQRPII",
        "outputId": "a5d7ef7a-13f2-4066-df52-b0df89eae2ae"
      },
      "outputs": [
        {
          "name": "stdout",
          "output_type": "stream",
          "text": [
            "Receiving update from node: 'agent'\n",
            "[AIMessage(content='', additional_kwargs={'tool_calls': [{'id': 'call_Mn8SOixW00YdVCK6WdoAnFTT', 'function': {'arguments': '{\"query\":\"current captain of the Winnipeg Jets 2023\"}', 'name': 'duckduckgo_search'}, 'type': 'function'}], 'refusal': None}, response_metadata={'token_usage': {'completion_tokens': 25, 'prompt_tokens': 156, 'total_tokens': 181}, 'model_name': 'gpt-4o-2024-05-13', 'system_fingerprint': 'fp_157b3831f5', 'finish_reason': 'tool_calls', 'logprobs': None}, id='run-28c289e8-7a69-490c-8541-0161998458db-0', tool_calls=[{'name': 'duckduckgo_search', 'args': {'query': 'current captain of the Winnipeg Jets 2023'}, 'id': 'call_Mn8SOixW00YdVCK6WdoAnFTT', 'type': 'tool_call'}], usage_metadata={'input_tokens': 156, 'output_tokens': 25, 'total_tokens': 181})]\n",
            "\n",
            "\n",
            "\n",
            "Receiving update from node: 'action'\n",
            "[ToolMessage(content='September 12, 2023. There are not many honours in team sports bigger than being named captain. That honour was given to Winnipeg Jet forward Adam Lowry officially Tuesday morning as he becomes the ... - Sep 12, 2023 After a season without a captain, the Winnipeg Jets have named their new leader. Centre Adam Lowry, who is about to enter his 10th season as a Jet, was given the honour Tuesday. Posted September 12, 2023 9:29 am. Centre Adam Lowry was named the Winnipeg Jets new captain on Tuesday. Lowry is the third Jets captain since the team moved from Atlanta to Winnipeg in 2011. He follows Andrew Ladd and Blake Wheeler, who served as captain for five and six years respectively. The Winnipeg Jets will have a captain for the 2023-24 season. After going captain-less in 2022-23, the Winnipeg Jets unveiled Adam Lowry as the club\\'s new captain on Tuesday morning. \"When I ... The Winnipeg Jets have officially made the decision on which player will wear the captain\\'s \\'C\\' for the 2023-24 season, and hopefully onward. That player is 30-year-old centre Adam Lowry.', name='duckduckgo_search', tool_call_id='call_Mn8SOixW00YdVCK6WdoAnFTT')]\n",
            "\n",
            "\n",
            "\n",
            "Receiving update from node: 'agent'\n",
            "[AIMessage(content='The current captain of the Winnipeg Jets is Adam Lowry. He was named the captain on September 12, 2023.', additional_kwargs={'refusal': None}, response_metadata={'token_usage': {'completion_tokens': 27, 'prompt_tokens': 441, 'total_tokens': 468}, 'model_name': 'gpt-4o-2024-05-13', 'system_fingerprint': 'fp_157b3831f5', 'finish_reason': 'stop', 'logprobs': None}, id='run-364fef6b-d8aa-462a-94fa-e50856764c87-0', usage_metadata={'input_tokens': 441, 'output_tokens': 27, 'total_tokens': 468})]\n",
            "\n",
            "\n",
            "\n"
          ]
        }
      ],
      "source": [
        "from langchain_core.messages import HumanMessage\n",
        "\n",
        "inputs = {\"messages\" : [HumanMessage(content=\"Who is the current captain of the Winnipeg Jets?\")]}\n",
        "\n",
        "async for chunk in compiled_graph.astream(inputs, stream_mode=\"updates\"):\n",
        "    for node, values in chunk.items():\n",
        "        print(f\"Receiving update from node: '{node}'\")\n",
        "        print(values[\"messages\"])\n",
        "        print(\"\\n\\n\")\n",
        "        # print_messages(values)\n"
      ]
    },
    {
      "cell_type": "markdown",
      "metadata": {
        "id": "DBHnUtLSscRr"
      },
      "source": [
        "Let's look at what happened:\n",
        "\n",
        "1. Our state object was populated with our request\n",
        "2. The state object was passed into our entry point (agent node) and the agent node added an `AIMessage` to the state object and passed it along the conditional edge\n",
        "3. The conditional edge received the state object, found the \"tool_calls\" `additional_kwarg`, and sent the state object to the action node\n",
        "4. The action node added the response from the OpenAI function calling endpoint to the state object and passed it along the edge to the agent node\n",
        "5. The agent node added a response to the state object and passed it along the conditional edge\n",
        "6. The conditional edge received the state object, could not find the \"tool_calls\" `additional_kwarg` and passed the state object to END where we see it output in the cell above!\n",
        "\n",
        "Now let's look at an example that shows a multiple tool usage - all with the same flow!"
      ]
    },
    {
      "cell_type": "code",
      "execution_count": 16,
      "metadata": {
        "colab": {
          "base_uri": "https://localhost:8080/"
        },
        "id": "afv2BuEsV5JG",
        "outputId": "026a3aa3-1c3e-4016-b0a3-fe98b1d25399"
      },
      "outputs": [
        {
          "name": "stdout",
          "output_type": "stream",
          "text": [
            "Receiving update from node: 'agent'\n",
            "[AIMessage(content='', additional_kwargs={'tool_calls': [{'id': 'call_fQbtwTPU1LcNhTHNPukWSgKJ', 'function': {'arguments': '{\"query\": \"QLoRA\"}', 'name': 'arxiv'}, 'type': 'function'}, {'id': 'call_HzITYK87wMV1ZQ4I6EvqRHrB', 'function': {'arguments': '{\"query\": \"latest Tweet\"}', 'name': 'duckduckgo_search'}, 'type': 'function'}], 'refusal': None}, response_metadata={'token_usage': {'completion_tokens': 50, 'prompt_tokens': 173, 'total_tokens': 223}, 'model_name': 'gpt-4o-2024-05-13', 'system_fingerprint': 'fp_157b3831f5', 'finish_reason': 'tool_calls', 'logprobs': None}, id='run-01d97e6b-c2ce-4132-80ce-90d5bd7a1b34-0', tool_calls=[{'name': 'arxiv', 'args': {'query': 'QLoRA'}, 'id': 'call_fQbtwTPU1LcNhTHNPukWSgKJ', 'type': 'tool_call'}, {'name': 'duckduckgo_search', 'args': {'query': 'latest Tweet'}, 'id': 'call_HzITYK87wMV1ZQ4I6EvqRHrB', 'type': 'tool_call'}], usage_metadata={'input_tokens': 173, 'output_tokens': 50, 'total_tokens': 223})]\n",
            "\n",
            "\n",
            "\n",
            "Receiving update from node: 'action'\n",
            "Tool Used: arxiv\n",
            "[ToolMessage(content='Published: 2023-05-23\\nTitle: QLoRA: Efficient Finetuning of Quantized LLMs\\nAuthors: Tim Dettmers, Artidoro Pagnoni, Ari Holtzman, Luke Zettlemoyer\\nSummary: We present QLoRA, an efficient finetuning approach that reduces memory usage\\nenough to finetune a 65B parameter model on a single 48GB GPU while preserving\\nfull 16-bit finetuning task performance. QLoRA backpropagates gradients through\\na frozen, 4-bit quantized pretrained language model into Low Rank\\nAdapters~(LoRA). Our best model family, which we name Guanaco, outperforms all\\nprevious openly released models on the Vicuna benchmark, reaching 99.3% of the\\nperformance level of ChatGPT while only requiring 24 hours of finetuning on a\\nsingle GPU. QLoRA introduces a number of innovations to save memory without\\nsacrificing performance: (a) 4-bit NormalFloat (NF4), a new data type that is\\ninformation theoretically optimal for normally distributed weights (b) double\\nquantization to reduce the average memory footprint by quantizing the\\nquantization constants, and (c) paged optimziers to manage memory spikes. We\\nuse QLoRA to finetune more than 1,000 models, providing a detailed analysis of\\ninstruction following and chatbot performance across 8 instruction datasets,\\nmultiple model types (LLaMA, T5), and model scales that would be infeasible to\\nrun with regular finetuning (e.g. 33B and 65B parameter models). Our results\\nshow that QLoRA finetuning on a small high-quality dataset leads to\\nstate-of-the-art results, even when using smaller models than the previous\\nSoTA. We provide a detailed analysis of chatbot performance based on both human\\nand GPT-4 evaluations showing that GPT-4 evaluations are a cheap and reasonable\\nalternative to human evaluation. Furthermore, we find that current chatbot\\nbenchmarks are not trustworthy to accurately evaluate the performance levels of\\nchatbots. A lemon-picked analysis demonstrates where Guanaco fails compared to\\nChatGPT. We release all of our models and code, including CUDA kernels for\\n4-bit training.\\n\\nPublished: 2024-05-27\\nTitle: Accurate LoRA-Finetuning Quantization of LLMs via Information Retention\\nAuthors: Haotong Qin, Xudong Ma, Xingyu Zheng, Xiaoyang Li, Yang Zhang, Shouda Liu, Jie Luo, Xianglong Liu, Michele Magno\\nSummary: The LoRA-finetuning quantization of LLMs has been extensively studied to\\nobtain accurate yet compact LLMs for deployment on resource-constrained\\nhardware. However, existing methods cause the quantized LLM to severely degrade\\nand even fail to benefit from the finetuning of LoRA. This paper proposes a\\nnovel IR-QLoRA for pushing quantized LLMs with LoRA to be highly accurate\\nthrough information retention. The proposed IR-QLoRA mainly relies on two\\ntechnologies derived from the perspective of unified information: (1)\\nstatistics-based Information Calibration Quantization allows the quantized\\nparameters of LLM to retain original information accurately; (2)\\nfinetuning-based Information Elastic Connection makes LoRA utilizes elastic\\nrepresentation transformation with diverse information. Comprehensive\\nexperiments show that IR-QLoRA can significantly improve accuracy across LLaMA\\nand LLaMA2 families under 2-4 bit-widths, e.g., 4- bit LLaMA-7B achieves 1.4%\\nimprovement on MMLU compared with the state-of-the-art methods. The significant\\nperformance gain requires only a tiny 0.31% additional time consumption,\\nrevealing the satisfactory efficiency of our IR-QLoRA. We highlight that\\nIR-QLoRA enjoys excellent versatility, compatible with various frameworks\\n(e.g., NormalFloat and Integer quantization) and brings general accuracy gains.\\nThe code is available at https://github.com/htqin/ir-qlora.\\n\\nPublished: 2024-06-12\\nTitle: Exploring Fact Memorization and Style Imitation in LLMs Using QLoRA: An Experimental Study and Quality Assessment Methods\\nAuthors: Eugene Vyborov, Oleksiy Osypenko, Serge Sotnyk\\nSummary: There are various methods for adapting LLMs to different domains. The most\\ncommon methods are prompting, finetuning, and RAG. In this w', name='arxiv', tool_call_id='call_fQbtwTPU1LcNhTHNPukWSgKJ'), ToolMessage(content='Former President Donald J. Trump used his social-media website on Wednesday to amplify a crude remark about Vice President Kamala Harris that suggested Ms. Harris traded sexual favors to help her ... The order is the latest in an ongoing clash with Musk over free speech, accounts associated with the far-right and misinformation on the platform. Elon Musk in Washington on March 9, 2020. Susan ... Last night on AEW Dynamite, Jon Moxley showed up after months away from TV for an in-ring promo mentioning Darby Allin and a cryptic line that has wrestling Twitter buzzing: \"This is not your ... The Shroud of Turin is pictured in a file photo during a preview for journalists at the Cathedral of St. John the Baptist in Turin, Italy. A study published in July revealed that a new analysis of the shroud, including the composition and a microscopic analysis of the blood, shows that the marks are consistent with the tortures endured by Christ as described in the Gospels. A Modern Mexican Chef Opens One of LA\\'s Most Ambitious New Steakhouses Chef Wes Ávila\\'s Monterrey-inspired grill house debuts September 6 with dry-aged cuts and handmade tortillas', name='duckduckgo_search', tool_call_id='call_HzITYK87wMV1ZQ4I6EvqRHrB')]\n",
            "\n",
            "\n",
            "\n",
            "Receiving update from node: 'agent'\n",
            "[AIMessage(content='', additional_kwargs={'tool_calls': [{'id': 'call_b2BPJSKMqLZ1EW07oyaQ8zdM', 'function': {'arguments': '{\"query\": \"Tim Dettmers latest Tweet\"}', 'name': 'duckduckgo_search'}, 'type': 'function'}, {'id': 'call_7xiRTEH2l4Enplp16p6WAmSU', 'function': {'arguments': '{\"query\": \"Artidoro Pagnoni latest Tweet\"}', 'name': 'duckduckgo_search'}, 'type': 'function'}, {'id': 'call_ToPbie1kJrCmW0cXRhv32el5', 'function': {'arguments': '{\"query\": \"Ari Holtzman latest Tweet\"}', 'name': 'duckduckgo_search'}, 'type': 'function'}, {'id': 'call_Kt0SNQLoS7JnARzQ6HWeU3Du', 'function': {'arguments': '{\"query\": \"Luke Zettlemoyer latest Tweet\"}', 'name': 'duckduckgo_search'}, 'type': 'function'}], 'refusal': None}, response_metadata={'token_usage': {'completion_tokens': 108, 'prompt_tokens': 1444, 'total_tokens': 1552}, 'model_name': 'gpt-4o-2024-05-13', 'system_fingerprint': 'fp_157b3831f5', 'finish_reason': 'tool_calls', 'logprobs': None}, id='run-5e992091-c022-4df3-ac94-f29f47f26262-0', tool_calls=[{'name': 'duckduckgo_search', 'args': {'query': 'Tim Dettmers latest Tweet'}, 'id': 'call_b2BPJSKMqLZ1EW07oyaQ8zdM', 'type': 'tool_call'}, {'name': 'duckduckgo_search', 'args': {'query': 'Artidoro Pagnoni latest Tweet'}, 'id': 'call_7xiRTEH2l4Enplp16p6WAmSU', 'type': 'tool_call'}, {'name': 'duckduckgo_search', 'args': {'query': 'Ari Holtzman latest Tweet'}, 'id': 'call_ToPbie1kJrCmW0cXRhv32el5', 'type': 'tool_call'}, {'name': 'duckduckgo_search', 'args': {'query': 'Luke Zettlemoyer latest Tweet'}, 'id': 'call_Kt0SNQLoS7JnARzQ6HWeU3Du', 'type': 'tool_call'}], usage_metadata={'input_tokens': 1444, 'output_tokens': 108, 'total_tokens': 1552})]\n",
            "\n",
            "\n",
            "\n",
            "Receiving update from node: 'action'\n",
            "Tool Used: duckduckgo_search\n",
            "[ToolMessage(content=\"A man spiked his wife's drinks for several months with the intent of killing her so he could marry her daughter, according to Indiana deputies and news reports. Now, the 71-year-old man from ... Allen School Ph.D. student Tim Dettmers accepted the grand prize for QLoRA, a novel approach to finetuning pretrained models that significantly reduces the amount of GPU memory required — from over 780GB to less than 48GB — to finetune a 65B parameter model. With QLoRA, the largest publicly available models can be finetuned on a single ... Find Tim Dettmers's articles, email address, contact information, Twitter and more. For PR Pros Overview; Media Database; Monitoring and Alerts; Pitching; ... Tim Dettmers Seattle ... Our handpicked selection of the best NLP papers will keep you up-to-date on the latest advancements in language models, text generation, and summarization. TL;DR ... Her new position hasn't been finalized. ... — Tim Dettmers is joining Ai2 as an AI researcher. Dettmers specializes in efficient deep learning at the intersection of machine learning, NLP, and ... Latest on POLITICO; 2024 ELECTIONS. ... DNC 2024; Kamala Harris 2024; Tim Walz for VP; Donald Trump 2024; Trump Criminal Cases; STATE POLITICS & POLICY. ... Twitter; Instagram; Facebook; My ...\", name='duckduckgo_search', tool_call_id='call_b2BPJSKMqLZ1EW07oyaQ8zdM'), ToolMessage(content=\"Error: RatelimitException('https://duckduckgo.com 202 Ratelimit')\\n Please fix your mistakes.\", name='duckduckgo_search', tool_call_id='call_7xiRTEH2l4Enplp16p6WAmSU'), ToolMessage(content='MSNBC host Ari Melber, during an interview with Trump campaign adviser Corey Lewandowski on Wednesday, threatened him with a defamation lawsuit for quoting the anchor calling the former President ... The team behind QLoRA includes Allen School Ph.D. student Artidoro Pagnoni; alum Ari Holtzman (Ph.D., \\'23), incoming professor at the University of Chicago; and professor Luke Zettlemoyer, who is also a research manager at Meta. Madrona Prize First Runner Up / Punica: Multi-Tenant LoRA Fine-tuned LLM Serving Figure 1: In this paper, we explore Grover, a model which can detect and generate neural fake news. Humans find the articles difficult to distinguish from \"real news\" without high levels of scrutiny. Online fake news - news designed to intentionally deceive - has recently emerged as a major societal problem. Aesthetic judgments are a way of distancing us from scary new developments in our ability as a species to represent the world around us. Our article connects overlooked features of our judgments of AI with what we know about aesthetic judgment from art history and critical museology. Looking at our interactions with generative AI through this ... Holtzman et al. (2019) Ari Holtzman, Jan Buys, Maxwell Forbes, and Yejin Choi. 2019. The curious case of neural text degeneration. arXiv preprint arXiv:1904.09751. ... (Holtzman et al., 2019). Appendix C BERT setup. We extensively study BERT in this paper, and make no changes to the underlying architecture or pretraining. For all of the ...', name='duckduckgo_search', tool_call_id='call_ToPbie1kJrCmW0cXRhv32el5'), ToolMessage(content=\"Luke Zettlemoyer is a research manager and site lead for FAIR Seattle. He is also a Professor in the Allen School of Computer Science & Engineering at the University of Washington. His research is in empirical computational semantics, where the goal is to build models that recover representations of the meaning of natural language text. Today we're joined by Luke Zettlemoyer, professor at University of Washington and a research manager at Meta. In our conversation with Luke, we cover multimodal generative AI, the effect of data on models, and the significance of open source and open science. We explore the grounding problem, the need for visual grounding and embodiment in Evaluating the factuality of long-form text generated by large language models (LMs) is nontrivial because (1) generations often contain a mixture of... \\ufeff Twitter \\ufeff Reddit. Join our list for notifications and early access to events ... About this Episode. Today we're joined by Luke Zettlemoyer, professor at University of Washington and a research manager at Meta. In our conversation with Luke, we cover multimodal generative AI, the effect of data on models, and the significance of open ... Luke Zettlemoyer, a professor at University of Washington and a research manager at Meta, discusses multimodal generative AI, visual grounding and embodiment in text-based models, advantages of discretization tokenization in image generation, self-alignment with instruction backtranslation, generalizability of language models, model performance and evaluation, the importance of open source and ...\", name='duckduckgo_search', tool_call_id='call_Kt0SNQLoS7JnARzQ6HWeU3Du')]\n",
            "\n",
            "\n",
            "\n",
            "Receiving update from node: 'agent'\n",
            "[AIMessage(content=\"Here are the latest updates and information about the authors of the QLoRA paper:\\n\\n1. **Tim Dettmers**:\\n   - Tim Dettmers is a Ph.D. student at the Allen School. He recently accepted the grand prize for QLoRA, a novel approach to finetuning pretrained models that significantly reduces the amount of GPU memory required. He is joining Ai2 as an AI researcher, specializing in efficient deep learning at the intersection of machine learning and NLP.\\n   - [Tim Dettmers on Twitter](https://twitter.com/Tim_Dettmers)\\n\\n2. **Artidoro Pagnoni**:\\n   - Unfortunately, I encountered a rate limit error while trying to fetch the latest tweet for Artidoro Pagnoni. You may want to check his Twitter profile directly for the latest updates.\\n   - [Artidoro Pagnoni on Twitter](https://twitter.com/ArtidoroPagnoni)\\n\\n3. **Ari Holtzman**:\\n   - Ari Holtzman is an alum of the Allen School (Ph.D., '23) and an incoming professor at the University of Chicago. He has been involved in research on neural text degeneration and other aspects of NLP.\\n   - [Ari Holtzman on Twitter](https://twitter.com/Ari_Holtzman)\\n\\n4. **Luke Zettlemoyer**:\\n   - Luke Zettlemoyer is a professor at the University of Washington and a research manager at Meta. His research focuses on empirical computational semantics, aiming to build models that recover representations of the meaning of natural language text.\\n   - [Luke Zettlemoyer on Twitter](https://twitter.com/luke_zettlemoyer)\\n\\nFor the most accurate and up-to-date information, you can visit their Twitter profiles directly.\", additional_kwargs={'refusal': None}, response_metadata={'token_usage': {'completion_tokens': 365, 'prompt_tokens': 2544, 'total_tokens': 2909}, 'model_name': 'gpt-4o-2024-05-13', 'system_fingerprint': 'fp_157b3831f5', 'finish_reason': 'stop', 'logprobs': None}, id='run-5915610b-31d3-43b8-b622-ba6276126f9f-0', usage_metadata={'input_tokens': 2544, 'output_tokens': 365, 'total_tokens': 2909})]\n",
            "\n",
            "\n",
            "\n"
          ]
        }
      ],
      "source": [
        "inputs = {\"messages\" : [HumanMessage(content=\"Search Arxiv for the QLoRA paper, then search each of the authors to find out their latest Tweet using DuckDuckGo.\")]}\n",
        "\n",
        "async for chunk in compiled_graph.astream(inputs, stream_mode=\"updates\"):\n",
        "    for node, values in chunk.items():\n",
        "        print(f\"Receiving update from node: '{node}'\")\n",
        "        if node == \"action\":\n",
        "          print(f\"Tool Used: {values['messages'][0].name}\")\n",
        "        print(values[\"messages\"])\n",
        "\n",
        "        print(\"\\n\\n\")"
      ]
    },
    {
      "cell_type": "markdown",
      "metadata": {
        "id": "CXzDlZVz1Hnf"
      },
      "source": [
        "<div style=\"border: 2px solid white; background: black; padding: 10px;\">\n",
        "\n",
        "#### 🏗️ Activity #2:\n",
        "\n",
        "Please write out the steps the agent took to arrive at the correct answer.\n",
        "\n",
        "1. The agent received the input question \n",
        "2. It called the gpt-4o model to identify the tool calls needed. These are all function calls:\n",
        "    1. arxiv with the query \"QLoRA\"\n",
        "3. The agent created an AIMessage with the abpve onformation\n",
        "4. The agent then called should_continue conditional edge and due to the presence of the items in the tool_calls array the tools action was called\n",
        "5. The action node took the specified actions using duckduckgo and updated the messages with data fand created the following tool calls:\n",
        "    1. duckduckgo_search with the query \"Tim Dettmers latest Tweet\"\n",
        "    2. duckduckgo_search with the query \"Mike Lewis latest Tweet\"\n",
        "    3. duckduckgo_search with the query \"Yunqing Dou latest Tweet\"\n",
        "    4. duckduckgo_search with the query \"Armen Aghajanyan latest Tweet\" \n",
        "6. Control passes back to the agent with the state containing all of the new information\n",
        "6. The agent called the gpt-40 LLM with the augmented data and the question and got the response\n",
        "7. The agent called the should_continue conditional edge and due to no tool calls required the process ended"
      ]
    },
    {
      "cell_type": "markdown",
      "metadata": {
        "id": "v7c8-Uyarh1v"
      },
      "source": [
        "## Part 1: LangSmith Evaluator"
      ]
    },
    {
      "cell_type": "markdown",
      "metadata": {
        "id": "pV3XeFOT1Sar"
      },
      "source": [
        "### Pre-processing for LangSmith"
      ]
    },
    {
      "cell_type": "markdown",
      "metadata": {
        "id": "wruQCuzewUuO"
      },
      "source": [
        "To do a little bit more preprocessing, let's wrap our LangGraph agent in a simple chain."
      ]
    },
    {
      "cell_type": "code",
      "execution_count": 17,
      "metadata": {
        "id": "oeXdQgbxwhTv"
      },
      "outputs": [],
      "source": [
        "def convert_inputs(input_object):\n",
        "  return {\"messages\" : [HumanMessage(content=input_object[\"question\"])]}\n",
        "\n",
        "def parse_output(input_state):\n",
        "  return input_state[\"messages\"][-1].content\n",
        "\n",
        "agent_chain = convert_inputs | compiled_graph | parse_output"
      ]
    },
    {
      "cell_type": "code",
      "execution_count": 18,
      "metadata": {
        "colab": {
          "base_uri": "https://localhost:8080/",
          "height": 139
        },
        "id": "orYxBZXSxJjZ",
        "outputId": "b160f3e4-89d1-4411-ed96-fe17b3cad200"
      },
      "outputs": [
        {
          "data": {
            "text/plain": [
              "'OOUX stands for Object-Oriented User Experience. It is a design methodology that focuses on structuring and organizing digital products around the objects that users interact with, rather than around tasks or features. The goal of OOUX is to create a more intuitive and user-friendly experience by aligning the design with the way users naturally think about and understand the world.\\n\\nKey principles of OOUX include:\\n\\n1. **Object Mapping**: Identifying the key objects that users will interact with in the system.\\n2. **Object Definition**: Defining the attributes, relationships, and actions associated with each object.\\n3. **Object Prioritization**: Determining the importance and hierarchy of objects to guide the design process.\\n4. **Object Interaction**: Designing the interactions between objects to ensure a seamless user experience.\\n\\nBy focusing on objects, OOUX aims to create a more coherent and consistent user experience, making it easier for users to navigate and understand the system.'"
            ]
          },
          "execution_count": 18,
          "metadata": {},
          "output_type": "execute_result"
        }
      ],
      "source": [
        "agent_chain.invoke({\"question\" : \"What is OOUX?\"})"
      ]
    },
    {
      "cell_type": "markdown",
      "metadata": {
        "id": "f9UkCIqkpyZu"
      },
      "source": [
        "\n",
        "<div style=\"border: 2px solid white; background: black; padding: 10px;\">\n",
        "\n",
        "### Task 1: Creating An Evaluation Dataset\n",
        "\n",
        "Just as we saw last week, we'll want to create a dataset to test our Agent's ability to answer questions.\n",
        "\n",
        "In order to do this - we'll want to provide some questions and some answers. Let's look at how we can create such a dataset below.\n",
        "\n",
        "```python\n",
        "questions = [\n",
        "    \"What optimizer is used in QLoRA?\",\n",
        "    \"What data type was created in the QLoRA paper?\",\n",
        "    \"What is a Retrieval Augmented Generation system?\",\n",
        "    \"Who authored the QLoRA paper?\",\n",
        "    \"What is the most popular deep learning framework?\",\n",
        "    \"What significant improvements does the LoRA system make?\"\n",
        "]\n",
        "\n",
        "answers = [\n",
        "    {\"must_mention\" : [\"paged\", \"optimizer\"]},\n",
        "    {\"must_mention\" : [\"NF4\", \"NormalFloat\"]},\n",
        "    {\"must_mention\" : [\"ground\", \"context\"]},\n",
        "    {\"must_mention\" : [\"Tim\", \"Dettmers\"]},\n",
        "    {\"must_mention\" : [\"PyTorch\", \"TensorFlow\"]},\n",
        "    {\"must_mention\" : [\"reduce\", \"parameters\"]},\n",
        "]\n",
        "```\n",
        "</div>"
      ]
    },
    {
      "cell_type": "markdown",
      "metadata": {
        "id": "VfMXF2KAsQxs"
      },
      "source": [
        "<div style=\"border: 2px solid white; background: black; padding: 10px;\">\n",
        "\n",
        "#### 🏗️ Activity #3:\n",
        "\n",
        "Please create a dataset in the above format with at least 5 questions.\n",
        "\n",
        "Done \n",
        "\n",
        "</div>"
      ]
    },
    {
      "cell_type": "code",
      "execution_count": 19,
      "metadata": {
        "id": "CbagRuJop83E"
      },
      "outputs": [],
      "source": [
        "questions = [\n",
        "    \"What are the four key components of the ORCA methodology in OOUX?\",\n",
        "    \"What role do Calls-to-Action or CTAs play in the OOUX ORCA methodology?\",\n",
        "    \"How does OOUX ORCA methodology differ from traditional UX design approaches\",\n",
        "    \"Who came up with the OOUX ORCA methodology used in OOUX?\",\n",
        "    \"What is noun-foraging in the context of OOUX, and why is it important?\",\n",
        "    \"What are the key outputs from the OOUX ORCA methodology?\"\n",
        "]\n",
        "\n",
        "answers = [\n",
        "    {\"must_mention\" : [\"Object\", \"Relationship\"]},\n",
        "    {\"must_mention\" : [\"role\", \"user\"]},\n",
        "    {\"must_mention\" : [\"object\", \"relationship\"]},\n",
        "    {\"must_mention\" : [\"Sophia\", \"Prater\"]},\n",
        "    {\"must_mention\" : [\"objects\", \"requirements\"]},\n",
        "    {\"must_mention\" : [\"Object Map\", \"Calls-to-Action\"]},\n",
        "]"
      ]
    },
    {
      "cell_type": "markdown",
      "metadata": {
        "id": "z7QVFuAmsh7L"
      },
      "source": [
        "Now we can add our dataset to our LangSmith project using the following code which we saw last Thursday!"
      ]
    },
    {
      "cell_type": "code",
      "execution_count": 20,
      "metadata": {
        "id": "RLfrZrgSsn85"
      },
      "outputs": [],
      "source": [
        "from langsmith import Client\n",
        "\n",
        "client = Client()\n",
        "dataset_name = f\"Retrieval Augmented Generation - Evaluation Dataset - {uuid4().hex[0:8]}\"\n",
        "\n",
        "dataset = client.create_dataset(\n",
        "    dataset_name=dataset_name,\n",
        "    description=\"Questions about the OOUX to Evaluate RAG.\"\n",
        ")\n",
        "\n",
        "client.create_examples(\n",
        "    inputs=[{\"question\" : q} for q in questions],\n",
        "    outputs=answers,\n",
        "    dataset_id=dataset.id,\n",
        ")"
      ]
    },
    {
      "cell_type": "markdown",
      "metadata": {
        "id": "ciV73F9Q04w0"
      },
      "source": [
        "<div style=\"border: 2px solid white; background: black; padding: 10px;\">\n",
        "\n",
        "#### ❓ Question #3:\n",
        "\n",
        "How are the correct answers associated with the questions?\n",
        "\n",
        "> NOTE: Feel free to indicate if this is problematic or not\n",
        "\n",
        "#### ! Answer #3:\n",
        "The questions and answers are associated through their position in their respective arrays, or their index.\n",
        "\n",
        "This can be problematic if the two are created manually. If an entry is accidentally inserted into one array and not the other, the answers would now be incorrect.\n",
        "\n",
        "So maintenance and updating could be a problem and possible cause of introducing errors into the process\n",
        "\n",
        "This could be mitigated by:\n",
        "- adding a unique identifier to the question and answer - this too can become a maintenance problem\n",
        "- use a dictionary to incorporate question-answer pairing - this is a better solution and provides easier maintenance\n",
        "\n",
        "\n",
        "</div>"
      ]
    },
    {
      "cell_type": "markdown",
      "metadata": {
        "id": "-lRTXUrTtP9Y"
      },
      "source": [
        "### Task 2: Adding Evaluators\n",
        "\n",
        "Now we can add a custom evaluator to see if our responses contain the expected information.\n",
        "\n",
        "We'll be using a fairly naive exact-match process to determine if our response contains specific strings."
      ]
    },
    {
      "cell_type": "code",
      "execution_count": 21,
      "metadata": {
        "id": "QrAUXMFftlAY"
      },
      "outputs": [],
      "source": [
        "from langsmith.evaluation import EvaluationResult, run_evaluator\n",
        "\n",
        "@run_evaluator\n",
        "def must_mention(run, example) -> EvaluationResult:\n",
        "    prediction = run.outputs.get(\"output\") or \"\"\n",
        "    required = example.outputs.get(\"must_mention\") or []\n",
        "    score = all(phrase in prediction for phrase in required)\n",
        "    return EvaluationResult(key=\"must_mention\", score=score)"
      ]
    },
    {
      "cell_type": "markdown",
      "metadata": {
        "id": "PNtHORUh0jZY"
      },
      "source": [
        "<div style=\"border: 2px solid white; background: black; padding: 10px;\">\n",
        "\n",
        "#### ❓ Question #4:\n",
        "\n",
        "What are some ways you could improve this metric as-is?\n",
        "\n",
        "> NOTE: Alternatively you can suggest where gaps exist in this method.\n",
        "\n",
        "This evaluation has some problems:\n",
        "- It requires all of the phrases in the must mention to be present in the response - it is all or nothing\n",
        "- It is a case sensitive search - so that there must be an exact match in spelling and casing - this could be problematic as the word is the same no matter how it is cased. Also if punctuation is different\n",
        "- Spelling errors especially with people's names would cause mismatches\n",
        "- A required word could be wholy contained within another word and be incorrectly assigned as correct\n",
        "- It is also assuming the presence of the word is correct - it could be a lucky error\n",
        "\n",
        "Providing checks that are case insensitive and are more fuzzy searches could improve this metric\n",
        "\n",
        "</div>"
      ]
    },
    {
      "cell_type": "markdown",
      "metadata": {
        "id": "mZ4DVSXl0BX5"
      },
      "source": [
        "Now that we have created our custom evaluator - let's initialize our `RunEvalConfig` with it!"
      ]
    },
    {
      "cell_type": "code",
      "execution_count": 22,
      "metadata": {
        "id": "sL4-XcjytWsu"
      },
      "outputs": [],
      "source": [
        "from langchain.smith import RunEvalConfig, run_on_dataset\n",
        "\n",
        "eval_config = RunEvalConfig(\n",
        "    custom_evaluators=[must_mention],\n",
        ")"
      ]
    },
    {
      "cell_type": "markdown",
      "metadata": {
        "id": "r1RJr349zhv7"
      },
      "source": [
        "Task 3: Evaluating\n",
        "\n",
        "All that is left to do is evaluate our agent's response!"
      ]
    },
    {
      "cell_type": "code",
      "execution_count": 23,
      "metadata": {
        "colab": {
          "base_uri": "https://localhost:8080/"
        },
        "id": "p5TeCUUkuGld",
        "outputId": "8b98fff1-bd75-4dbe-cadc-a76d8a82577c"
      },
      "outputs": [
        {
          "name": "stdout",
          "output_type": "stream",
          "text": [
            "View the evaluation results for project 'RAG Pipeline - Evaluation - 010f31ea' at:\n",
            "https://smith.langchain.com/o/c97b0028-7cab-5f76-a748-1369ba450931/datasets/569773cd-5338-4ab9-859b-a9c4b9b6ef87/compare?selectedSessions=b83e9938-e112-4055-a892-bad450539975\n",
            "\n",
            "View all tests for Dataset Retrieval Augmented Generation - Evaluation Dataset - 78a21397 at:\n",
            "https://smith.langchain.com/o/c97b0028-7cab-5f76-a748-1369ba450931/datasets/569773cd-5338-4ab9-859b-a9c4b9b6ef87\n",
            "[------------------------------------------------->] 6/6"
          ]
        },
        {
          "data": {
            "text/html": [
              "<h3>Experiment Results:</h3>"
            ],
            "text/plain": [
              "<IPython.core.display.HTML object>"
            ]
          },
          "metadata": {},
          "output_type": "display_data"
        },
        {
          "data": {
            "text/html": [
              "<div>\n",
              "<style scoped>\n",
              "    .dataframe tbody tr th:only-of-type {\n",
              "        vertical-align: middle;\n",
              "    }\n",
              "\n",
              "    .dataframe tbody tr th {\n",
              "        vertical-align: top;\n",
              "    }\n",
              "\n",
              "    .dataframe thead th {\n",
              "        text-align: right;\n",
              "    }\n",
              "</style>\n",
              "<table border=\"1\" class=\"dataframe\">\n",
              "  <thead>\n",
              "    <tr style=\"text-align: right;\">\n",
              "      <th></th>\n",
              "      <th>feedback.must_mention</th>\n",
              "      <th>error</th>\n",
              "      <th>execution_time</th>\n",
              "      <th>run_id</th>\n",
              "    </tr>\n",
              "  </thead>\n",
              "  <tbody>\n",
              "    <tr>\n",
              "      <th>count</th>\n",
              "      <td>6</td>\n",
              "      <td>0</td>\n",
              "      <td>6.000000</td>\n",
              "      <td>6</td>\n",
              "    </tr>\n",
              "    <tr>\n",
              "      <th>unique</th>\n",
              "      <td>2</td>\n",
              "      <td>0</td>\n",
              "      <td>NaN</td>\n",
              "      <td>6</td>\n",
              "    </tr>\n",
              "    <tr>\n",
              "      <th>top</th>\n",
              "      <td>True</td>\n",
              "      <td>NaN</td>\n",
              "      <td>NaN</td>\n",
              "      <td>26965475-e014-4660-9067-fa45e7ff2b9e</td>\n",
              "    </tr>\n",
              "    <tr>\n",
              "      <th>freq</th>\n",
              "      <td>5</td>\n",
              "      <td>NaN</td>\n",
              "      <td>NaN</td>\n",
              "      <td>1</td>\n",
              "    </tr>\n",
              "    <tr>\n",
              "      <th>mean</th>\n",
              "      <td>NaN</td>\n",
              "      <td>NaN</td>\n",
              "      <td>5.731127</td>\n",
              "      <td>NaN</td>\n",
              "    </tr>\n",
              "    <tr>\n",
              "      <th>std</th>\n",
              "      <td>NaN</td>\n",
              "      <td>NaN</td>\n",
              "      <td>2.749791</td>\n",
              "      <td>NaN</td>\n",
              "    </tr>\n",
              "    <tr>\n",
              "      <th>min</th>\n",
              "      <td>NaN</td>\n",
              "      <td>NaN</td>\n",
              "      <td>1.603435</td>\n",
              "      <td>NaN</td>\n",
              "    </tr>\n",
              "    <tr>\n",
              "      <th>25%</th>\n",
              "      <td>NaN</td>\n",
              "      <td>NaN</td>\n",
              "      <td>4.136075</td>\n",
              "      <td>NaN</td>\n",
              "    </tr>\n",
              "    <tr>\n",
              "      <th>50%</th>\n",
              "      <td>NaN</td>\n",
              "      <td>NaN</td>\n",
              "      <td>6.212399</td>\n",
              "      <td>NaN</td>\n",
              "    </tr>\n",
              "    <tr>\n",
              "      <th>75%</th>\n",
              "      <td>NaN</td>\n",
              "      <td>NaN</td>\n",
              "      <td>7.344502</td>\n",
              "      <td>NaN</td>\n",
              "    </tr>\n",
              "    <tr>\n",
              "      <th>max</th>\n",
              "      <td>NaN</td>\n",
              "      <td>NaN</td>\n",
              "      <td>9.192694</td>\n",
              "      <td>NaN</td>\n",
              "    </tr>\n",
              "  </tbody>\n",
              "</table>\n",
              "</div>"
            ],
            "text/plain": [
              "       feedback.must_mention error  execution_time  \\\n",
              "count                      6     0        6.000000   \n",
              "unique                     2     0             NaN   \n",
              "top                     True   NaN             NaN   \n",
              "freq                       5   NaN             NaN   \n",
              "mean                     NaN   NaN        5.731127   \n",
              "std                      NaN   NaN        2.749791   \n",
              "min                      NaN   NaN        1.603435   \n",
              "25%                      NaN   NaN        4.136075   \n",
              "50%                      NaN   NaN        6.212399   \n",
              "75%                      NaN   NaN        7.344502   \n",
              "max                      NaN   NaN        9.192694   \n",
              "\n",
              "                                      run_id  \n",
              "count                                      6  \n",
              "unique                                     6  \n",
              "top     26965475-e014-4660-9067-fa45e7ff2b9e  \n",
              "freq                                       1  \n",
              "mean                                     NaN  \n",
              "std                                      NaN  \n",
              "min                                      NaN  \n",
              "25%                                      NaN  \n",
              "50%                                      NaN  \n",
              "75%                                      NaN  \n",
              "max                                      NaN  "
            ]
          },
          "metadata": {},
          "output_type": "display_data"
        },
        {
          "data": {
            "text/plain": [
              "{'project_name': 'RAG Pipeline - Evaluation - 010f31ea',\n",
              " 'results': {'728503fc-8b3c-4704-a60f-74bf2db25945': {'input': {'question': 'What are the four key components of the ORCA methodology in OOUX?'},\n",
              "   'feedback': [EvaluationResult(key='must_mention', score=True, value=None, comment=None, correction=None, evaluator_info={}, feedback_config=None, source_run_id=UUID('caee5723-7054-4c9c-a38d-1450d9c29d83'), target_run_id=None)],\n",
              "   'execution_time': 3.610915,\n",
              "   'run_id': '26965475-e014-4660-9067-fa45e7ff2b9e',\n",
              "   'output': \"The ORCA methodology in Object-Oriented User Experience (OOUX) is a structured approach to designing user experiences that focuses on the objects within a system and their relationships. ORCA stands for Objects, Relationships, Calls-to-Action, and Attributes. Here are the four key components:\\n\\n1. **Objects**: These are the primary entities or things within the system that users interact with. Identifying the key objects is the first step in the ORCA process.\\n\\n2. **Relationships**: This component focuses on how the objects are connected or related to each other. Understanding these relationships helps in structuring the information architecture and navigation.\\n\\n3. **Calls-to-Action (CTAs)**: These are the actions that users can take on the objects. Identifying the CTAs helps in designing the interactions and user flows.\\n\\n4. **Attributes**: These are the properties or characteristics of the objects. Defining the attributes helps in detailing the objects and ensuring that all necessary information is captured.\\n\\nBy focusing on these four components, the ORCA methodology helps in creating a user experience that is intuitive, consistent, and aligned with the users' mental models.\",\n",
              "   'reference': {'must_mention': ['Object', 'Relationship']}},\n",
              "  '4f858eb8-a9b3-49e7-bb47-2628ee203b69': {'input': {'question': 'What role do Calls-to-Action or CTAs play in the OOUX ORCA methodology?'},\n",
              "   'feedback': [EvaluationResult(key='must_mention', score=True, value=None, comment=None, correction=None, evaluator_info={}, feedback_config=None, source_run_id=UUID('1c7dba15-90d8-415e-a4c7-834ea80d760d'), target_run_id=None)],\n",
              "   'execution_time': 7.554921,\n",
              "   'run_id': 'ed9ab693-651c-4988-9f8f-76603455ccc5',\n",
              "   'output': 'In the Object-Oriented User Experience (OOUX) ORCA methodology, Calls-to-Action (CTAs) play a crucial role in guiding users through their interactions with the system. The ORCA methodology stands for Objects, Relationships, Calls-to-Action, and Attributes, and it is a framework used to design user experiences that are intuitive and aligned with the user\\'s mental model.\\n\\nHere\\'s how CTAs fit into the ORCA methodology:\\n\\n1. **Objects**: These are the primary entities or components that users interact with. For example, in an e-commerce site, objects might include products, categories, and user profiles.\\n\\n2. **Relationships**: These define how objects are connected to each other. For instance, a product might belong to a category, or a user might have a wishlist of products.\\n\\n3. **Calls-to-Action (CTAs)**: CTAs are the interactive elements that prompt users to take specific actions. They are the verbs in the user interface that drive the interaction forward. Examples of CTAs include buttons like \"Add to Cart,\" \"Sign Up,\" \"Download,\" or \"Share.\" In the ORCA methodology, CTAs are carefully designed to ensure they are clear, compelling, and aligned with the user\\'s goals and the overall user journey.\\n\\n4. **Attributes**: These are the details or properties of the objects. For example, a product might have attributes like price, description, and reviews.\\n\\nIn summary, CTAs in the OOUX ORCA methodology are essential for facilitating user actions and interactions with the objects and their relationships within the system. They help users achieve their goals by providing clear and actionable prompts, thereby enhancing the overall user experience.',\n",
              "   'reference': {'must_mention': ['role', 'user']}},\n",
              "  '7ac4bbe4-070c-4d2d-842c-8161c5280e47': {'input': {'question': 'How does OOUX ORCA methodology differ from traditional UX design approaches'},\n",
              "   'feedback': [EvaluationResult(key='must_mention', score=True, value=None, comment=None, correction=None, evaluator_info={}, feedback_config=None, source_run_id=UUID('ccbfbe41-a689-42bc-ad27-bdf926bdec2a'), target_run_id=None)],\n",
              "   'execution_time': 9.192694,\n",
              "   'run_id': '18d391a0-dee8-4fa6-86e5-6efee4dfe592',\n",
              "   'output': 'The OOUX (Object-Oriented User Experience) ORCA methodology differs from traditional UX design approaches in several key ways:\\n\\n1. **Focus on Objects vs. Tasks**:\\n   - **Traditional UX Design**: Often starts with tasks and actions (verbs) that users need to perform. The design process revolves around user flows and interactions.\\n   - **OOUX**: Shifts the focus to the objects (nouns) within the system. It emphasizes understanding and defining the core objects and their relationships before considering user tasks.\\n\\n2. **System Structure vs. Interface Layout**:\\n   - **Traditional UX Design**: May begin with designing the interface or page layout, focusing on how users will interact with the system.\\n   - **OOUX**: Prioritizes the underlying structure of the system. It aims to create a solid foundation by clearly defining the objects and their attributes, which leads to a more intuitive and cohesive design.\\n\\n3. **Early Clarity vs. Late Unanswered Questions**:\\n   - **Traditional UX Design**: Can leave some questions unanswered until later stages of the development process, potentially leading to rework.\\n   - **OOUX**: By focusing on objects and their relationships early on, it provides clarity and reduces ambiguity, leading to a more streamlined development process.\\n\\n4. **Borrowing from Object-Oriented Programming**:\\n   - **Traditional UX Design**: Does not typically borrow concepts from programming paradigms.\\n   - **OOUX**: Borrows principles from object-oriented programming, such as encapsulation and inheritance, to create a more structured and systematic approach to design.\\n\\n5. **User Development Communication**:\\n   - **Traditional UX Design**: Communication may be more focused on user flows and interface elements.\\n   - **OOUX**: Provides a structured approach to user development communication by focusing on the main building blocks (objects) in a digital environment.\\n\\nIn summary, OOUX ORCA methodology provides a more structured and systematic approach by focusing on the core objects within a system, leading to a more intuitive and cohesive design compared to the task-oriented focus of traditional UX design approaches.',\n",
              "   'reference': {'must_mention': ['object', 'relationship']}},\n",
              "  'cbff55d4-badf-444b-8445-33ed2a07e136': {'input': {'question': 'Who came up with the OOUX ORCA methodology used in OOUX?'},\n",
              "   'feedback': [EvaluationResult(key='must_mention', score=True, value=None, comment=None, correction=None, evaluator_info={}, feedback_config=None, source_run_id=UUID('0b18429b-8833-4ef8-9883-8710109c4d08'), target_run_id=None)],\n",
              "   'execution_time': 1.603435,\n",
              "   'run_id': '936b67bf-ef70-453f-a0da-de442e8f4f87',\n",
              "   'output': 'The OOUX (Object-Oriented User Experience) ORCA methodology was developed by Sophia Prater. She is a UX designer and the founder of Rewired, a UX design consultancy. The ORCA process stands for Objects, Relationships, Calls to Action, and Attributes, and it is used to help designers create more intuitive and user-centered digital experiences by focusing on the objects that users interact with.',\n",
              "   'reference': {'must_mention': ['Sophia', 'Prater']}},\n",
              "  '98118288-ee4c-4ebf-adbb-a5335a11be59': {'input': {'question': 'What is noun-foraging in the context of OOUX, and why is it important?'},\n",
              "   'feedback': [EvaluationResult(key='must_mention', score=False, value=None, comment=None, correction=None, evaluator_info={}, feedback_config=None, source_run_id=UUID('3b01637c-19bb-4680-abdd-ee42af613ad9'), target_run_id=None)],\n",
              "   'execution_time': 6.713244,\n",
              "   'run_id': '83da5918-dcdb-4e1d-8657-02766cad1c36',\n",
              "   'output': \"Noun-foraging is a crucial step in the Object-Oriented User Experience (OOUX) design methodology. OOUX is a design approach that focuses on identifying and organizing the core objects within a system or application to create a more intuitive and user-friendly experience. Here's a breakdown of noun-foraging and its importance:\\n\\n### What is Noun-Foraging?\\n\\nNoun-foraging is the process of identifying and collecting the key nouns (objects) that are central to the system or application being designed. These nouns represent the primary entities that users will interact with. The process involves:\\n\\n1. **Research and Discovery**: Gathering information from various sources such as user interviews, existing documentation, competitive analysis, and domain knowledge to identify potential objects.\\n2. **Listing and Categorizing**: Creating a comprehensive list of nouns and categorizing them based on their relevance and relationships.\\n3. **Validation**: Ensuring that the identified nouns are indeed the core objects that users will interact with and that they align with user needs and business goals.\\n\\n### Why is Noun-Foraging Important?\\n\\n1. **Clarity and Focus**: By identifying the core objects, designers can focus on what truly matters to users, ensuring that the design is centered around the most important elements.\\n2. **Consistency**: It helps in maintaining consistency across the system by ensuring that the same objects are represented in the same way throughout the user interface.\\n3. **User-Centric Design**: Noun-foraging ensures that the design is aligned with how users think and interact with the system, leading to a more intuitive and user-friendly experience.\\n4. **Efficiency**: It streamlines the design process by providing a clear structure and reducing the need for constant revisions and redesigns.\\n5. **Scalability**: A well-defined set of core objects makes it easier to scale the system or application in the future, as new features can be added without disrupting the existing structure.\\n\\nIn summary, noun-foraging is a foundational step in OOUX that helps designers create a more organized, intuitive, and user-centered experience by focusing on the core objects that users interact with.\",\n",
              "   'reference': {'must_mention': ['objects', 'requirements']}},\n",
              "  '61ab557f-7523-4526-a294-8cb5521d933d': {'input': {'question': 'What are the key outputs from the OOUX ORCA methodology?'},\n",
              "   'feedback': [EvaluationResult(key='must_mention', score=True, value=None, comment=None, correction=None, evaluator_info={}, feedback_config=None, source_run_id=UUID('ca731bce-68af-4bd8-a8eb-69571f28ae37'), target_run_id=None)],\n",
              "   'execution_time': 5.711553,\n",
              "   'run_id': 'b84bd128-03a6-462f-a085-8da09d7eba14',\n",
              "   'output': \"The OOUX (Object-Oriented User Experience) ORCA methodology is a structured approach to designing user experiences by focusing on the objects within a system and their relationships. ORCA stands for Objects, Relationships, Calls-to-Action, and Attributes. The key outputs from the OOUX ORCA methodology typically include:\\n\\n1. **Object Map**: A visual representation of the primary objects within the system and their relationships. This map helps in understanding the core entities that the user will interact with.\\n\\n2. **Object Definitions**: Detailed descriptions of each object, including their attributes and the roles they play within the system. This ensures a clear understanding of what each object represents and its importance.\\n\\n3. **Relationship Diagrams**: Diagrams that illustrate how objects are related to each other. These relationships can include hierarchies, associations, and dependencies.\\n\\n4. **Calls-to-Action (CTAs)**: Identification and definition of the key actions that users can perform on or with each object. This includes understanding the primary interactions that drive user engagement.\\n\\n5. **Attributes List**: A comprehensive list of attributes for each object, detailing the properties and data points that define the object. This helps in ensuring that all necessary information is captured and available for the user.\\n\\n6. **User Stories and Scenarios**: Narratives that describe how users will interact with the objects and the system as a whole. These stories help in validating the design and ensuring it meets user needs.\\n\\n7. **Wireframes and Prototypes**: Visual representations of the user interface that incorporate the objects, relationships, CTAs, and attributes. These prototypes help in testing and refining the design before development.\\n\\n8. **Content Model**: A structured model that outlines how content is organized and managed within the system, based on the identified objects and their attributes.\\n\\nBy focusing on these outputs, the OOUX ORCA methodology ensures a user-centered design that is both intuitive and aligned with the user's mental model.\",\n",
              "   'reference': {'must_mention': ['Object Map', 'Calls-to-Action']}}},\n",
              " 'aggregate_metrics': None}"
            ]
          },
          "execution_count": 23,
          "metadata": {},
          "output_type": "execute_result"
        }
      ],
      "source": [
        "client.run_on_dataset(\n",
        "    dataset_name=dataset_name,\n",
        "    llm_or_chain_factory=agent_chain,\n",
        "    evaluation=eval_config,\n",
        "    verbose=True,\n",
        "    project_name=f\"RAG Pipeline - Evaluation - {uuid4().hex[0:8]}\",\n",
        "    project_metadata={\"version\": \"1.0.0\"},\n",
        ")"
      ]
    },
    {
      "cell_type": "markdown",
      "metadata": {},
      "source": [
        "Here are the results from LangSmith\n",
        "\n",
        "![Langchain Evaluation](images/langsmith_6.jpg)"
      ]
    },
    {
      "cell_type": "markdown",
      "metadata": {
        "id": "jhTNe4kWrplB"
      },
      "source": [
        "## Part 2: LangGraph with Helpfulness:"
      ]
    },
    {
      "cell_type": "markdown",
      "metadata": {
        "id": "w1wKRddbIY_S"
      },
      "source": [
        "### Task 3: Adding Helpfulness Check and \"Loop\" Limits\n",
        "\n",
        "Now that we've done evaluation - let's see if we can add an extra step where we review the content we've generated to confirm if it fully answers the user's query!\n",
        "\n",
        "We're going to make a few key adjustments to account for this:\n",
        "\n",
        "1. We're going to add an artificial limit on how many \"loops\" the agent can go through - this will help us to avoid the potential situation where we never exit the loop.\n",
        "2. We'll add to our existing conditional edge to obtain the behaviour we desire."
      ]
    },
    {
      "cell_type": "markdown",
      "metadata": {
        "id": "npTYJ8ayR5B3"
      },
      "source": [
        "First, let's define our state again - we can check the length of the state object, so we don't need additional state for this."
      ]
    },
    {
      "cell_type": "code",
      "execution_count": 24,
      "metadata": {
        "id": "-LQ84YhyJG0w"
      },
      "outputs": [],
      "source": [
        "class AgentState(TypedDict):\n",
        "  messages: Annotated[list, add_messages]"
      ]
    },
    {
      "cell_type": "markdown",
      "metadata": {
        "id": "sD7EV0HqSQcb"
      },
      "source": [
        "Now we can set our graph up! This process will be almost entirely the same - with the inclusion of one additional node/conditional edge!"
      ]
    },
    {
      "cell_type": "markdown",
      "metadata": {
        "id": "oajBwLkFVi1N"
      },
      "source": [
        "<div style=\"border: 2px solid white; background: black; padding: 10px;\">\n",
        "\n",
        "#### 🏗️ Activity #5:\n",
        "\n",
        "Please write markdown for the following cells to explain what each is doing.\n",
        "\n",
        "</div>"
      ]
    },
    {
      "cell_type": "markdown",
      "metadata": {
        "id": "M6rN7feNVn9f"
      },
      "source": [
        "We create a graph which is bound to our AgentState\n",
        "\n",
        "The two nodes (agent and action) are created in the graph using the call_model and tool_node nodes that were defined earlier"
      ]
    },
    {
      "cell_type": "code",
      "execution_count": 35,
      "metadata": {
        "id": "6r6XXA5FJbVf"
      },
      "outputs": [],
      "source": [
        "graph_with_helpfulness_check = StateGraph(AgentState)\n",
        "\n",
        "graph_with_helpfulness_check.add_node(\"agent\", call_model)\n",
        "graph_with_helpfulness_check.add_node(\"action\", tool_node)"
      ]
    },
    {
      "cell_type": "markdown",
      "metadata": {
        "id": "XZ22o2mWVrfp"
      },
      "source": [
        "We create the starting or entry point for the graph into the agent node"
      ]
    },
    {
      "cell_type": "code",
      "execution_count": 36,
      "metadata": {
        "id": "HNWHwWxuRiLY"
      },
      "outputs": [],
      "source": [
        "graph_with_helpfulness_check.set_entry_point(\"agent\")"
      ]
    },
    {
      "cell_type": "markdown",
      "metadata": {
        "id": "rsXeF6xlaXOZ"
      },
      "source": [
        "We are creating a conditional edge to determine whether to call the action node and if not to determine if the answer is helpful. \n",
        "\n",
        "We are creating a simple Question-Response chain to identify if the response we have is helpful or not.\n",
        "\n",
        "If it is helpful, it will return \"end\" causing the cycle to end\n",
        "\n",
        "If it is not helpful, it will return \"continue\" causing the cycle to repeat\n",
        "\n"
      ]
    },
    {
      "cell_type": "code",
      "execution_count": 37,
      "metadata": {
        "id": "z_Sq3A9SaV1O"
      },
      "outputs": [],
      "source": [
        "from langchain_core.prompts import PromptTemplate\n",
        "from langchain_core.output_parsers import StrOutputParser\n",
        "\n",
        "def tool_call_or_helpful(state):\n",
        "  last_message = state[\"messages\"][-1]\n",
        "\n",
        "  if last_message.tool_calls:\n",
        "    return \"action\"\n",
        "\n",
        "  initial_query = state[\"messages\"][0]\n",
        "  final_response = state[\"messages\"][-1]\n",
        "\n",
        "  if len(state[\"messages\"]) > 10:\n",
        "    return \"end\"\n",
        "\n",
        "  prompt_template = \"\"\"\\\n",
        "  Given an initial query and a final response, determine if the final response is helpful or not. Please indicate a helpful answer with a 'Y' and an unhelpful answer as an 'N'.\n",
        "\n",
        "  Initial Query:\n",
        "  {initial_query}\n",
        "\n",
        "  Final Response:\n",
        "  {final_response}\"\"\"\n",
        "\n",
        "  prompt_template = PromptTemplate.from_template(prompt_template)\n",
        "\n",
        "  helpfulness_check_model = ChatOpenAI(model=\"gpt-4\")\n",
        "\n",
        "  helpfulness_chain = prompt_template | helpfulness_check_model | StrOutputParser()\n",
        "\n",
        "  helpfulness_response = helpfulness_chain.invoke({\"initial_query\" : initial_query.content, \"final_response\" : final_response.content})\n",
        "\n",
        "  if \"Y\" in helpfulness_response:\n",
        "    return \"end\"\n",
        "  else:\n",
        "    return \"continue\""
      ]
    },
    {
      "cell_type": "markdown",
      "metadata": {
        "id": "Fz1u9Vf4SHxJ"
      },
      "source": [
        "<div style=\"border: 2px solid white; background: black; padding: 10px;\">\n",
        "\n",
        "#### 🏗️ Activity #4:\n",
        "\n",
        "Please write what is happening in our `tool_call_or_helpful` function!\n",
        "\n",
        "The function tool_call_or_helpful is called and is passed the state\n",
        "- it checks the last message\n",
        "- if the last message contains tool calls, it returns \"action\", resulting in the action node being called and the tools executed\n",
        "- if there are more than 10 messages, it assumes we are in an infinite loop and it returns \"END\"\n",
        "- the first message (the question) and the final response are added to a template, passed through a Question-Response chain to the model to determine if the answer is helpful\n",
        "- if the answer was helpful it returns \"end\" and the cycle ends\n",
        "- if the answer was not helpful it returns \"continue\" and the cucle continues\n",
        "\n",
        "\n",
        "</div>"
      ]
    },
    {
      "cell_type": "markdown",
      "metadata": {
        "id": "6BhnBW2YVsJO"
      },
      "source": [
        "The conditional edge tool_call_or_helpful is attached to the agent node with information on how to act\n",
        "\n",
        "If it returns \"continue\" the agent node is called\n",
        "If it returns \"action\" the action node is called\n",
        "If it returns \"end\" the cycle is ended"
      ]
    },
    {
      "cell_type": "code",
      "execution_count": 38,
      "metadata": {
        "id": "aVTKnWMbP_8T"
      },
      "outputs": [],
      "source": [
        "graph_with_helpfulness_check.add_conditional_edges(\n",
        "    \"agent\",\n",
        "    tool_call_or_helpful,\n",
        "    {\n",
        "        \"continue\" : \"agent\",\n",
        "        \"action\" : \"action\",\n",
        "        \"end\" : END\n",
        "    }\n",
        ")"
      ]
    },
    {
      "cell_type": "markdown",
      "metadata": {
        "id": "ZGDLEWOIVtK0"
      },
      "source": [
        "An edge is added between the action and the agent\n",
        "\n",
        "This is unconditional so the agent is always called at completion of the agent"
      ]
    },
    {
      "cell_type": "code",
      "execution_count": 39,
      "metadata": {
        "id": "cbDK2MbuREgU"
      },
      "outputs": [],
      "source": [
        "graph_with_helpfulness_check.add_edge(\"action\", \"agent\")"
      ]
    },
    {
      "cell_type": "markdown",
      "metadata": {
        "id": "rSI8AOaEVvT-"
      },
      "source": [
        "The graph is compiled"
      ]
    },
    {
      "cell_type": "code",
      "execution_count": 40,
      "metadata": {
        "id": "oQldl8ERQ8lf"
      },
      "outputs": [],
      "source": [
        "agent_with_helpfulness_check = graph_with_helpfulness_check.compile()"
      ]
    },
    {
      "cell_type": "markdown",
      "metadata": {
        "id": "F67FGCMRVwGz"
      },
      "source": [
        "We create the state and populate it with the question\n",
        "\n",
        "the agent is called passing in the inputs and requesting it to operate in stream mode\n",
        "\n",
        "As chunks are returned they are displayed below"
      ]
    },
    {
      "cell_type": "code",
      "execution_count": 41,
      "metadata": {
        "colab": {
          "base_uri": "https://localhost:8080/"
        },
        "id": "B3oo8E-PRK1T",
        "outputId": "22470df4-9aa7-4751-95b6-d30ce71b17db"
      },
      "outputs": [
        {
          "name": "stdout",
          "output_type": "stream",
          "text": [
            "Receiving update from node: 'agent'\n",
            "[AIMessage(content='', additional_kwargs={'tool_calls': [{'id': 'call_L6a5LUHDgfQrei9ZVbrP4yAT', 'function': {'arguments': '{\"query\": \"LoRA machine learning\"}', 'name': 'duckduckgo_search'}, 'type': 'function'}, {'id': 'call_DTrNWieBovsNZ7CqlTQ0UND5', 'function': {'arguments': '{\"query\": \"Tim Dettmers\"}', 'name': 'duckduckgo_search'}, 'type': 'function'}, {'id': 'call_w0Cru3iTGm15Z7XKOZUjpt1R', 'function': {'arguments': '{\"query\": \"Attention in machine learning\"}', 'name': 'duckduckgo_search'}, 'type': 'function'}], 'refusal': None}, response_metadata={'token_usage': {'completion_tokens': 76, 'prompt_tokens': 171, 'total_tokens': 247}, 'model_name': 'gpt-4o-2024-05-13', 'system_fingerprint': 'fp_157b3831f5', 'finish_reason': 'tool_calls', 'logprobs': None}, id='run-5b4ae022-98e0-4920-bc58-850c2e63443f-0', tool_calls=[{'name': 'duckduckgo_search', 'args': {'query': 'LoRA machine learning'}, 'id': 'call_L6a5LUHDgfQrei9ZVbrP4yAT', 'type': 'tool_call'}, {'name': 'duckduckgo_search', 'args': {'query': 'Tim Dettmers'}, 'id': 'call_DTrNWieBovsNZ7CqlTQ0UND5', 'type': 'tool_call'}, {'name': 'duckduckgo_search', 'args': {'query': 'Attention in machine learning'}, 'id': 'call_w0Cru3iTGm15Z7XKOZUjpt1R', 'type': 'tool_call'}], usage_metadata={'input_tokens': 171, 'output_tokens': 76, 'total_tokens': 247})]\n",
            "\n",
            "\n",
            "\n",
            "Tool Used: duckduckgo_search\n",
            "Receiving update from node: 'action'\n",
            "[ToolMessage(content='Let\\'s jump on LoRA. Low-Rank Adaptation of LLMs (LoRA) So, in usual fine-tuning, we. Take a pretrained model. Do Transfer Learning over new training data to slightly adjust these pre-trained weights LoRA\\'s approach to decomposing ( Δ W ) into a product of lower rank matrices effectively balances the need to adapt large pre-trained models to new tasks while maintaining computational efficiency. The intrinsic rank concept is key to this balance, ensuring that the essence of the model\\'s learning capability is preserved with significantly ... Low-Rank Adaptation (LoRA) is a widely-used parameter-efficient finetuning method for large language models. LoRA saves memory by training only low rank perturbations to selected weight matrices. In this work, we compare the performance of LoRA and full finetuning on two target domains, programming and mathematics. We consider both the instruction finetuning ($\\\\\\\\approx$100K prompt-response ... With LoRA, we break delta W into a product of 2 smaller matrices, A and B. A has the shape Mxr and B has the shape rxN. r is chosen to be smaller than M and N. In our toy example, let\\'s choose r to be 5. A has M*r weights i.e. 1000*5 = 5,000. B has r*N weights i.e. 1000*5 = 5,000. LoRA fine-tuning: 5,000 + 5,000 = 10,000 weights to \"learn\" Feb 18, 2024. Low-rank adaptation (LoRA) is a machine learning technique that modifies a pretrained model (for example, an LLM or vision transformer) to better suit a specific, often smaller, dataset by adjusting only a small, low-rank subset of the model\\'s parameters. This approach is important because it allows for efficient finetuning of ...', name='duckduckgo_search', tool_call_id='call_L6a5LUHDgfQrei9ZVbrP4yAT'), ToolMessage(content='Allen School Ph.D. student Tim Dettmers accepted the grand prize for QLoRA, a novel approach to finetuning pretrained models that significantly reduces the amount of GPU memory required — from over 780GB to less than 48GB — to finetune a 65B parameter model. With QLoRA, the largest publicly available models can be finetuned on a single ... — Tim Dettmers is joining Ai2 as an AI researcher. Dettmers specializes in efficient deep learning at the intersection of machine learning, NLP, and computer systems with a focus on quantization ... Its purpose is to make cutting-edge research by Tim Dettmers, a leading academic expert on quantization and the use of deep learning hardware accelerators, accessible to the general public. QLoRA: One of the core contributions of bitsandbytes towards the democratization of AI. If you have a curiosity about how fancy graphics cards actually work, and why they are so well-suited to AI-type applications, then take a few minutes to read [Tim Dettmers] explain why this is so.… By Tim Dettmers, Michael Diskin, Aston Zhang, Alexander Borzunov | cohere.ai. Stay ahead of the game: Get a sneak peek of the coolest natural language processing (NLP) research of February 2023! Our handpicked selection of the best NLP papers will keep you up-to-date on the latest advancements in language models, text generation, and ...', name='duckduckgo_search', tool_call_id='call_DTrNWieBovsNZ7CqlTQ0UND5'), ToolMessage(content='Learn how attention mechanisms in deep learning enable models to focus on relevant information and improve performance in tasks such as machine translation, image captioning, and speech recognition. Understand the steps and components of attention mechanism architecture and see examples of its applications. 1. Introduction. Self-attention, also known as scaled dot-product attention, is a fundamental concept in the field of NLP and deep learning. It plays a pivotal role in tasks such as machine translation, text summarization, and sentiment analysis. Attention mechanism is a fundamental invention in artificial intelligence and machine learning, redefining the capabilities of deep learning models. This mechanism, inspired by the human mental process of selective focus, has emerged as a pillar in a variety of applications, accelerating developments in natural language processing, computer vision, and beyond. They all use transformer architecture with attention mechanisms at their core to solve problems across domains. In the Transformer series, we go over the ingredients that have made Transformers a universal recipe for machine learning. First up, we take a visual dive to understand the attention mechanism: Why transformers and attention took over. In the ever-evolving field of deep learning, one concept that has garnered significant attention (pun intended) is the Attention Mechanism. This ingenious concept has revolutionized the way neural…', name='duckduckgo_search', tool_call_id='call_w0Cru3iTGm15Z7XKOZUjpt1R')]\n",
            "\n",
            "\n",
            "\n",
            "Receiving update from node: 'agent'\n",
            "[AIMessage(content=\"### LoRA (Low-Rank Adaptation)\\n\\nLoRA, or Low-Rank Adaptation, is a machine learning technique used to fine-tune large pre-trained models efficiently. Instead of adjusting all the parameters of a model, LoRA modifies only a small, low-rank subset of the model's parameters. This approach significantly reduces the computational resources required for fine-tuning, making it more memory-efficient. The technique involves decomposing the weight updates into a product of two smaller matrices, which helps in maintaining the model's performance while reducing the number of parameters that need to be learned.\\n\\n### Tim Dettmers\\n\\nTim Dettmers is a researcher specializing in efficient deep learning, particularly in the areas of quantization and the use of deep learning hardware accelerators. He is known for his work on QLoRA, a novel approach to fine-tuning pre-trained models that significantly reduces the GPU memory required. Tim Dettmers has contributed to making advanced machine learning techniques more accessible and efficient, and he is currently associated with Ai2 as an AI researcher.\\n\\n### Attention Mechanism in Machine Learning\\n\\nThe attention mechanism is a fundamental concept in deep learning, particularly in natural language processing (NLP) and computer vision. It allows models to focus on relevant parts of the input data, improving performance in tasks such as machine translation, text summarization, and image captioning. The self-attention mechanism, also known as scaled dot-product attention, is a key component of transformer architectures. It enables the model to weigh the importance of different input tokens dynamically, which is crucial for understanding context and relationships within the data. This mechanism has revolutionized the capabilities of deep learning models, making them more effective in a variety of applications.\", additional_kwargs={'refusal': None}, response_metadata={'token_usage': {'completion_tokens': 347, 'prompt_tokens': 1224, 'total_tokens': 1571}, 'model_name': 'gpt-4o-2024-05-13', 'system_fingerprint': 'fp_157b3831f5', 'finish_reason': 'stop', 'logprobs': None}, id='run-a4ed23f5-a9f3-44f2-9e76-8c74036b8ff4-0', usage_metadata={'input_tokens': 1224, 'output_tokens': 347, 'total_tokens': 1571})]\n",
            "\n",
            "\n",
            "\n"
          ]
        }
      ],
      "source": [
        "inputs = {\"messages\" : [HumanMessage(content=\"Related to machine learning, what is LoRA? Also, who is Tim Dettmers? Also, what is Attention?\")]}\n",
        "\n",
        "async for chunk in agent_with_helpfulness_check.astream(inputs, stream_mode=\"updates\"):\n",
        "    for node, values in chunk.items():\n",
        "        if node == \"action\":\n",
        "          print(f\"Tool Used: {values['messages'][0].name}\")\n",
        "        print(f\"Receiving update from node: '{node}'\")\n",
        "        print(values[\"messages\"])\n",
        "\n",
        "        print(\"\\n\\n\")"
      ]
    },
    {
      "cell_type": "markdown",
      "metadata": {
        "id": "yVmZPs6lnpsM"
      },
      "source": [
        "### Task 4: LangGraph for the \"Patterns\" of GenAI\n",
        "\n",
        "Let's ask our system about the 4 patterns of Generative AI:\n",
        "\n",
        "1. Prompt Engineering\n",
        "2. RAG\n",
        "3. Fine-tuning\n",
        "4. Agents"
      ]
    },
    {
      "cell_type": "code",
      "execution_count": 117,
      "metadata": {
        "id": "ZoLl7GlXoae-"
      },
      "outputs": [],
      "source": [
        "patterns = [\"prompt engineering\", \"RAG\", \"fine-tuning\", \"LLM-based agents\"]"
      ]
    },
    {
      "cell_type": "code",
      "execution_count": 118,
      "metadata": {
        "colab": {
          "base_uri": "https://localhost:8080/"
        },
        "id": "Zkh0YJuCp3Zl",
        "outputId": "0593c6f5-0a1d-41f6-960b-f32d101b3ade"
      },
      "outputs": [
        {
          "name": "stdout",
          "output_type": "stream",
          "text": [
            "**Prompt Engineering: An Overview**\n",
            "\n",
            "**Definition:**\n",
            "Prompt engineering is the process of designing and refining inputs (prompts) for generative artificial intelligence (AI) models to produce useful, accurate, and relevant responses. It is particularly used with large language models (LLMs) like OpenAI's ChatGPT and Google Gemini.\n",
            "\n",
            "**Historical Context:**\n",
            "1. **Early Days:**\n",
            "   - The concept can be traced back to early code generation tools like CodeSmith and MyGeneration, which automated the creation of boilerplate code for common programming tasks.\n",
            "\n",
            "2. **Evolution in NLP:**\n",
            "   - The field of natural language processing (NLP) saw significant advancements with the introduction of attention mechanisms in 2015, which revolutionized language understanding.\n",
            "\n",
            "3. **Rise of LLMs:**\n",
            "   - The release of GPT-3 in 2020 marked a significant milestone. This large language model could generate remarkably human-like text, leading to more complex and sophisticated prompt engineering techniques.\n",
            "\n",
            "**Key Developments:**\n",
            "- **Attention Mechanisms (2015):** Revolutionized language understanding and paved the way for more advanced models.\n",
            "- **GPT-3 (2020):** A watershed moment that showcased the potential of large language models and the importance of prompt engineering.\n",
            "\n",
            "**Current Trends:**\n",
            "- Prompt engineering continues to evolve, with a focus on ethical considerations and responsible AI usage. It aims to foster human-AI collaboration and ensure that AI models align closely with human intentions.\n",
            "\n",
            "In summary, prompt engineering has evolved from simple code generation tools to a sophisticated field essential for harnessing the full potential of generative AI models.\n",
            "\n",
            "\n",
            "\n",
            "Retrieval-Augmented Generation (RAG) was introduced by Facebook AI in 2020. It represents a significant advancement in the field of natural language processing by combining retrieval-based methods with generative models to enhance the accuracy and relevance of generated text. This hybrid approach allows models to dynamically access external knowledge, making them more effective in tasks that require up-to-date and contextually appropriate information.\n",
            "\n",
            "\n",
            "\n",
            "Fine-tuning is a process in machine learning where a pre-trained model is further trained on a new dataset to adapt it to a specific task. This approach leverages the knowledge the model has already acquired during its initial training on a large, general dataset, and refines it to perform well on a more specialized task. Fine-tuning is particularly useful in scenarios where labeled data for the specific task is limited, as it allows the model to achieve high performance without needing to be trained from scratch.\n",
            "\n",
            "The concept of fine-tuning has been around for a while, but it gained significant attention and popularity with the advent of deep learning and the development of large pre-trained models. One of the key moments when fine-tuning broke onto the scene was with the introduction of transfer learning techniques in the context of deep neural networks, particularly in the field of computer vision and natural language processing (NLP).\n",
            "\n",
            "In NLP, the release of models like BERT (Bidirectional Encoder Representations from Transformers) by Google in 2018 marked a significant milestone. BERT demonstrated that fine-tuning a pre-trained language model on specific tasks could achieve state-of-the-art results across a wide range of NLP benchmarks. This success spurred a wave of research and development in fine-tuning techniques and the creation of various other pre-trained models like GPT (Generative Pre-trained Transformer) by OpenAI.\n",
            "\n",
            "To provide more precise information on the timeline and key developments, I can look up relevant articles and papers. Would you like me to do that?\n",
            "\n",
            "\n",
            "\n",
            "LLM-based agents, or Large Language Model-based agents, are artificial intelligence systems that leverage large language models to perform a variety of tasks. These tasks can include natural language understanding, text generation, translation, summarization, question answering, and more. The core technology behind these agents is typically a deep learning model trained on vast amounts of text data to understand and generate human-like text.\n",
            "\n",
            "### Key Characteristics of LLM-based Agents:\n",
            "1. **Natural Language Processing (NLP):** They excel in understanding and generating human language.\n",
            "2. **Contextual Understanding:** They can maintain context over long conversations or documents.\n",
            "3. **Versatility:** They can be fine-tuned for specific tasks or domains.\n",
            "4. **Scalability:** They can handle large-scale data and complex queries.\n",
            "\n",
            "### Breakthrough and Evolution:\n",
            "The concept of LLM-based agents has been around for a while, but significant breakthroughs occurred with the development of models like OpenAI's GPT (Generative Pre-trained Transformer) series. Here are some key milestones:\n",
            "\n",
            "1. **GPT-2 (2019):** This model demonstrated the ability to generate coherent and contextually relevant text, sparking significant interest in the capabilities of large language models.\n",
            "2. **GPT-3 (2020):** With 175 billion parameters, GPT-3 showcased unprecedented language understanding and generation capabilities, leading to widespread adoption and integration into various applications.\n",
            "3. **Subsequent Developments:** Following GPT-3, other models like Google's BERT, T5, and more recently, OpenAI's GPT-4, have continued to push the boundaries of what LLMs can achieve.\n",
            "\n",
            "### Applications:\n",
            "- **Chatbots and Virtual Assistants:** Providing customer support, answering queries, and assisting with tasks.\n",
            "- **Content Creation:** Generating articles, reports, and creative writing.\n",
            "- **Translation Services:** Offering high-quality translations between languages.\n",
            "- **Educational Tools:** Assisting with tutoring and providing explanations on various topics.\n",
            "- **Healthcare:** Assisting in medical diagnosis and patient interaction.\n",
            "\n",
            "The rise of LLM-based agents has been a gradual process, but the significant breakthroughs in the late 2010s and early 2020s have cemented their place in the AI landscape.\n",
            "\n",
            "\n",
            "\n"
          ]
        }
      ],
      "source": [
        "for pattern in patterns:\n",
        "  what_is_string = f\"What is {pattern} and when did it break onto the scene??\"\n",
        "  inputs = {\"messages\" : [HumanMessage(content=what_is_string)]}\n",
        "  messages = agent_with_helpfulness_check.invoke(inputs)\n",
        "  print(messages[\"messages\"][-1].content)\n",
        "  print(\"\\n\\n\")"
      ]
    }
  ],
  "metadata": {
    "colab": {
      "provenance": []
    },
    "kernelspec": {
      "display_name": "Python 3",
      "name": "python3"
    },
    "language_info": {
      "codemirror_mode": {
        "name": "ipython",
        "version": 3
      },
      "file_extension": ".py",
      "mimetype": "text/x-python",
      "name": "python",
      "nbconvert_exporter": "python",
      "pygments_lexer": "ipython3",
      "version": "3.11.9"
    }
  },
  "nbformat": 4,
  "nbformat_minor": 0
}
