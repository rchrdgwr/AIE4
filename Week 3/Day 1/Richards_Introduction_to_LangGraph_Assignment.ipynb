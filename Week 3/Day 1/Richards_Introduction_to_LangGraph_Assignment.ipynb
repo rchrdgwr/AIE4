{
  "cells": [
    {
      "cell_type": "markdown",
      "metadata": {
        "id": "gJXW_DgiSebM"
      },
      "source": [
        "# LangGraph and LangSmith - Agentic RAG Powered by LangChain\n",
        "\n",
        "In the following notebook we'll complete the following tasks:\n",
        "\n",
        "- 🤝 Breakout Room #1:\n",
        "  1. Install required libraries\n",
        "  2. Set Environment Variables\n",
        "  3. Creating our Tool Belt\n",
        "  4. Creating Our State\n",
        "  5. Creating and Compiling A Graph!\n",
        "\n",
        "  - 🤝 Breakout Room #2:\n",
        "  1. Evaluating the LangGraph Application with LangSmith\n",
        "  2. Adding Helpfulness Check and \"Loop\" Limits\n",
        "  3. LangGraph for the \"Patterns\" of GenAI"
      ]
    },
    {
      "cell_type": "markdown",
      "metadata": {
        "id": "djQ3nRAgoF67"
      },
      "source": [
        "# 🤝 Breakout Room #1"
      ]
    },
    {
      "cell_type": "markdown",
      "metadata": {
        "id": "e7pQDUhUnIo8"
      },
      "source": [
        "## Part 1: LangGraph - Building Cyclic Applications with LangChain\n",
        "\n",
        "LangGraph is a tool that leverages LangChain Expression Language to build coordinated multi-actor and stateful applications that includes cyclic behaviour.\n",
        "\n",
        "### Why Cycles?\n",
        "\n",
        "In essence, we can think of a cycle in our graph as a more robust and customizable loop. It allows us to keep our application agent-forward while still giving the powerful functionality of traditional loops.\n",
        "\n",
        "Due to the inclusion of cycles over loops, we can also compose rather complex flows through our graph in a much more readable and natural fashion. Effectively allowing us to recreate application flowcharts in code in an almost 1-to-1 fashion.\n",
        "\n",
        "### Why LangGraph?\n",
        "\n",
        "Beyond the agent-forward approach - we can easily compose and combine traditional \"DAG\" (directed acyclic graph) chains with powerful cyclic behaviour due to the tight integration with LCEL. This means it's a natural extension to LangChain's core offerings!"
      ]
    },
    {
      "cell_type": "markdown",
      "metadata": {
        "id": "3_fLDElOVoop"
      },
      "source": [
        "## Task 1:  Dependencies\n",
        "\n",
        "We'll first install all our required libraries."
      ]
    },
    {
      "cell_type": "code",
      "execution_count": 1,
      "metadata": {
        "id": "KaVwN269EttM"
      },
      "outputs": [],
      "source": [
        "!pip install -qU langchain langchain_openai langchain-community langgraph arxiv duckduckgo_search==5.3.1b1"
      ]
    },
    {
      "cell_type": "markdown",
      "metadata": {
        "id": "wujPjGJuoPwg"
      },
      "source": [
        "## Task 2: Environment Variables\n",
        "\n",
        "We'll want to set both our OpenAI API key and our LangSmith environment variables."
      ]
    },
    {
      "cell_type": "code",
      "execution_count": 2,
      "metadata": {
        "colab": {
          "base_uri": "https://localhost:8080/"
        },
        "id": "Jdh8CoVWHRvs",
        "outputId": "42b2ba5e-11ae-4f4d-e68e-77607bb794ad"
      },
      "outputs": [],
      "source": [
        "import os\n",
        "import getpass\n",
        "\n",
        "os.environ[\"OPENAI_API_KEY\"] = getpass.getpass(\"OpenAI API Key:\")"
      ]
    },
    {
      "cell_type": "code",
      "execution_count": 3,
      "metadata": {
        "colab": {
          "base_uri": "https://localhost:8080/"
        },
        "id": "Nv0glIDyHmRt",
        "outputId": "30aa2260-50f1-4abf-b305-eed0ee1b9008"
      },
      "outputs": [],
      "source": [
        "from uuid import uuid4\n",
        "\n",
        "os.environ[\"LANGCHAIN_TRACING_V2\"] = \"true\"\n",
        "os.environ[\"LANGCHAIN_PROJECT\"] = f\"AIE4 - LangGraph - {uuid4().hex[0:8]}\"\n",
        "os.environ[\"LANGCHAIN_API_KEY\"] = getpass.getpass(\"LangSmith API Key: \")"
      ]
    },
    {
      "cell_type": "markdown",
      "metadata": {
        "id": "sBRyQmEAVzua"
      },
      "source": [
        "## Task 3: Creating our Tool Belt\n",
        "\n",
        "As is usually the case, we'll want to equip our agent with a toolbelt to help answer questions and add external knowledge.\n",
        "\n",
        "There's a tonne of tools in the [LangChain Community Repo](https://github.com/langchain-ai/langchain/tree/master/libs/community/langchain_community/tools) but we'll stick to a couple just so we can observe the cyclic nature of LangGraph in action!\n",
        "\n",
        "We'll leverage:\n",
        "\n",
        "- [Duck Duck Go Web Search](https://github.com/langchain-ai/langchain/tree/master/libs/community/langchain_community/tools/ddg_search)\n",
        "- [Arxiv](https://github.com/langchain-ai/langchain/tree/master/libs/community/langchain_community/tools/arxiv)"
      ]
    },
    {
      "cell_type": "markdown",
      "metadata": {
        "id": "2k6n_Dob2F46"
      },
      "source": [
        "\n",
        "#### 🏗️ Activity #1:\n",
        "\n",
        "Please add the tools to use into our toolbelt.\n",
        "\n",
        "> NOTE: Each tool in our toolbelt should be a method.\n",
        "\n",
        "Added:\n",
        "- DuckDuckGoSearchRun()\n",
        "- ArxivQueryRun()\n",
        "\n"
      ]
    },
    {
      "cell_type": "code",
      "execution_count": 4,
      "metadata": {},
      "outputs": [],
      "source": [
        "\n",
        "from langchain.tools import tool\n",
        "\n",
        "@tool\n",
        "def add(a: int, b: int) -> int:\n",
        "    \"\"\" Add two numbers\"\"\"\n",
        "    print(\"adding()\")\n",
        "    return a + b\n",
        "\n"
      ]
    },
    {
      "cell_type": "code",
      "execution_count": 5,
      "metadata": {
        "id": "lAxaSvlfIeOg"
      },
      "outputs": [],
      "source": [
        "from langchain_community.tools.ddg_search import DuckDuckGoSearchRun\n",
        "from langchain_community.tools.arxiv.tool import ArxivQueryRun\n",
        "\n",
        "tool_belt = [\n",
        "   DuckDuckGoSearchRun(),\n",
        "   ArxivQueryRun(),\n",
        "   add,\n",
        "]\n"
      ]
    },
    {
      "cell_type": "markdown",
      "metadata": {
        "id": "VI-C669ZYVI5"
      },
      "source": [
        "### Model\n",
        "\n",
        "Now we can set-up our model! We'll leverage the familiar OpenAI model suite for this example - but it's not *necessary* to use with LangGraph. LangGraph supports all models - though you might not find success with smaller models - as such, they recommend you stick with:\n",
        "\n",
        "- OpenAI's GPT-3.5 and GPT-4\n",
        "- Anthropic's Claude\n",
        "- Google's Gemini\n",
        "\n",
        "> NOTE: Because we're leveraging the OpenAI function calling API - we'll need to use OpenAI *for this specific example* (or any other service that exposes an OpenAI-style function calling API."
      ]
    },
    {
      "cell_type": "code",
      "execution_count": 6,
      "metadata": {
        "id": "QkNS8rNZJs4z"
      },
      "outputs": [],
      "source": [
        "from langchain_openai import ChatOpenAI\n",
        "\n",
        "model = ChatOpenAI(model=\"gpt-4o\", temperature=0)"
      ]
    },
    {
      "cell_type": "markdown",
      "metadata": {
        "id": "Ugkj3GzuZpQv"
      },
      "source": [
        "Now that we have our model set-up, let's \"put on the tool belt\", which is to say: We'll bind our LangChain formatted tools to the model in an OpenAI function calling format."
      ]
    },
    {
      "cell_type": "code",
      "execution_count": 7,
      "metadata": {
        "id": "4OdMqFafZ_0V"
      },
      "outputs": [],
      "source": [
        "model = model.bind_tools(tool_belt)"
      ]
    },
    {
      "cell_type": "markdown",
      "metadata": {
        "id": "ERzuGo6W18Lr"
      },
      "source": [
        "\n",
        "#### ❓ Question #1:\n",
        "\n",
        "How does the model determine which tool to use?\n",
        "\n",
        "#### ! Answer #1:\n",
        "\n",
        "There are a couple of ways the model can know which tool to use:\n",
        "- Explicit - if the tool is requested within the input the model could match on name or description\n",
        "- Context - based on the question the model can identify the context of the question and find a best fit tool based on the tool name and description\n",
        "- Complex - the language model may have been trained or finetuned to decide which tool to use\n",
        "\n"
      ]
    },
    {
      "cell_type": "markdown",
      "metadata": {
        "id": "_296Ub96Z_H8"
      },
      "source": [
        "## Task 4: Putting the State in Stateful\n",
        "\n",
        "Earlier we used this phrasing:\n",
        "\n",
        "`coordinated multi-actor and stateful applications`\n",
        "\n",
        "So what does that \"stateful\" mean?\n",
        "\n",
        "To put it simply - we want to have some kind of object which we can pass around our application that holds information about what the current situation (state) is. Since our system will be constructed of many parts moving in a coordinated fashion - we want to be able to ensure we have some commonly understood idea of that state.\n",
        "\n",
        "LangGraph leverages a `StatefulGraph` which uses an `AgentState` object to pass information between the various nodes of the graph.\n",
        "\n",
        "There are more options than what we'll see below - but this `AgentState` object is one that is stored in a `TypedDict` with the key `messages` and the value is a `Sequence` of `BaseMessages` that will be appended to whenever the state changes.\n",
        "\n",
        "Let's think about a simple example to help understand exactly what this means (we'll simplify a great deal to try and clearly communicate what state is doing):\n",
        "\n",
        "1. We initialize our state object:\n",
        "  - `{\"messages\" : []}`\n",
        "2. Our user submits a query to our application.\n",
        "  - New State: `HumanMessage(#1)`\n",
        "  - `{\"messages\" : [HumanMessage(#1)}`\n",
        "3. We pass our state object to an Agent node which is able to read the current state. It will use the last `HumanMessage` as input. It gets some kind of output which it will add to the state.\n",
        "  - New State: `AgentMessage(#1, additional_kwargs {\"function_call\" : \"WebSearchTool\"})`\n",
        "  - `{\"messages\" : [HumanMessage(#1), AgentMessage(#1, ...)]}`\n",
        "4. We pass our state object to a \"conditional node\" (more on this later) which reads the last state to determine if we need to use a tool - which it can determine properly because of our provided object!"
      ]
    },
    {
      "cell_type": "code",
      "execution_count": 8,
      "metadata": {
        "id": "mxL9b_NZKUdL"
      },
      "outputs": [],
      "source": [
        "from typing import TypedDict, Annotated, Text\n",
        "from langgraph.graph.message import add_messages\n",
        "import operator\n",
        "from langchain_core.messages import BaseMessage\n",
        "\n",
        "class AgentState(TypedDict):\n",
        "  messages: Annotated[list, add_messages]\n",
        "  context: Annotated[Text, None]"
      ]
    },
    {
      "cell_type": "markdown",
      "metadata": {
        "id": "vWsMhfO9grLu"
      },
      "source": [
        "## Task 5: It's Graphing Time!\n",
        "\n",
        "Now that we have state, and we have tools, and we have an LLM - we can finally start making our graph!\n",
        "\n",
        "Let's take a second to refresh ourselves about what a graph is in this context.\n",
        "\n",
        "Graphs, also called networks in some circles, are a collection of connected objects.\n",
        "\n",
        "The objects in question are typically called nodes, or vertices, and the connections are called edges.\n",
        "\n",
        "Let's look at a simple graph.\n",
        "\n",
        "![image](https://i.imgur.com/2NFLnIc.png)\n",
        "\n",
        "Here, we're using the coloured circles to represent the nodes and the yellow lines to represent the edges. In this case, we're looking at a fully connected graph - where each node is connected by an edge to each other node.\n",
        "\n",
        "If we were to think about nodes in the context of LangGraph - we would think of a function, or an LCEL runnable.\n",
        "\n",
        "If we were to think about edges in the context of LangGraph - we might think of them as \"paths to take\" or \"where to pass our state object next\".\n",
        "\n",
        "Let's create some nodes and expand on our diagram.\n",
        "\n",
        "> NOTE: Due to the tight integration with LCEL - we can comfortably create our nodes in an async fashion!"
      ]
    },
    {
      "cell_type": "code",
      "execution_count": 9,
      "metadata": {
        "id": "91flJWtZLUrl"
      },
      "outputs": [],
      "source": [
        "from langgraph.prebuilt import ToolNode\n",
        "\n",
        "def call_model(state):\n",
        "  messages = state[\"messages\"]\n",
        "  response = model.invoke(messages)\n",
        "  return {\"messages\" : [response]}\n",
        "\n",
        "tool_node = ToolNode(tool_belt)"
      ]
    },
    {
      "cell_type": "markdown",
      "metadata": {
        "id": "2bwR7MgWj3Wg"
      },
      "source": [
        "Now we have two total nodes. We have:\n",
        "\n",
        "- `call_model` is a node that will...well...call the model\n",
        "- `tool_node` is a node which can call a tool\n",
        "\n",
        "Let's start adding nodes! We'll update our diagram along the way to keep track of what this looks like!\n"
      ]
    },
    {
      "cell_type": "code",
      "execution_count": 10,
      "metadata": {
        "id": "_vF4_lgtmQNo"
      },
      "outputs": [],
      "source": [
        "from langgraph.graph import StateGraph, END\n",
        "\n",
        "uncompiled_graph = StateGraph(AgentState)\n",
        "\n",
        "uncompiled_graph.add_node(\"agent\", call_model)\n",
        "uncompiled_graph.add_node(\"action\", tool_node)"
      ]
    },
    {
      "cell_type": "markdown",
      "metadata": {
        "id": "b8CjRlbVmRpW"
      },
      "source": [
        "Let's look at what we have so far:\n",
        "\n",
        "![image](https://i.imgur.com/md7inqG.png)"
      ]
    },
    {
      "cell_type": "markdown",
      "metadata": {
        "id": "uaXHpPeSnOWC"
      },
      "source": [
        "Next, we'll add our entrypoint. All our entrypoint does is indicate which node is called first."
      ]
    },
    {
      "cell_type": "code",
      "execution_count": 11,
      "metadata": {
        "id": "YGCbaYqRnmiw"
      },
      "outputs": [],
      "source": [
        "uncompiled_graph.set_entry_point(\"agent\")"
      ]
    },
    {
      "cell_type": "markdown",
      "metadata": {
        "id": "BUsfGoSpoF9U"
      },
      "source": [
        "![image](https://i.imgur.com/wNixpJe.png)"
      ]
    },
    {
      "cell_type": "markdown",
      "metadata": {
        "id": "0Q_pQgHmoW0M"
      },
      "source": [
        "Now we want to build a \"conditional edge\" which will use the output state of a node to determine which path to follow.\n",
        "\n",
        "We can help conceptualize this by thinking of our conditional edge as a conditional in a flowchart!\n",
        "\n",
        "Notice how our function simply checks if there is a \"function_call\" kwarg present.\n",
        "\n",
        "Then we create an edge where the origin node is our agent node and our destination node is *either* the action node or the END (finish the graph).\n",
        "\n",
        "It's important to highlight that the dictionary passed in as the third parameter (the mapping) should be created with the possible outputs of our conditional function in mind. In this case `should_continue` outputs either `\"end\"` or `\"continue\"` which are subsequently mapped to the action node or the END node."
      ]
    },
    {
      "cell_type": "code",
      "execution_count": 12,
      "metadata": {
        "id": "1BZgb81VQf9o"
      },
      "outputs": [],
      "source": [
        "def should_continue(state):\n",
        "  last_message = state[\"messages\"][-1]\n",
        "\n",
        "  if last_message.tool_calls:\n",
        "    return \"action\"\n",
        "\n",
        "  return END\n",
        "\n",
        "uncompiled_graph.add_conditional_edges(\n",
        "    \"agent\",\n",
        "    should_continue\n",
        ")"
      ]
    },
    {
      "cell_type": "markdown",
      "metadata": {
        "id": "-Cvhcf4jp0Ce"
      },
      "source": [
        "Let's visualize what this looks like.\n",
        "\n",
        "![image](https://i.imgur.com/8ZNwKI5.png)"
      ]
    },
    {
      "cell_type": "markdown",
      "metadata": {
        "id": "yKCjWJCkrJb9"
      },
      "source": [
        "Finally, we can add our last edge which will connect our action node to our agent node. This is because we *always* want our action node (which is used to call our tools) to return its output to our agent!"
      ]
    },
    {
      "cell_type": "code",
      "execution_count": 13,
      "metadata": {
        "id": "UvcgbHf1rIXZ"
      },
      "outputs": [],
      "source": [
        "uncompiled_graph.add_edge(\"action\", \"agent\")"
      ]
    },
    {
      "cell_type": "markdown",
      "metadata": {
        "id": "EiWDwBQtrw7Z"
      },
      "source": [
        "Let's look at the final visualization.\n",
        "\n",
        "![image](https://i.imgur.com/NWO7usO.png)"
      ]
    },
    {
      "cell_type": "markdown",
      "metadata": {
        "id": "KYqDpErlsCsu"
      },
      "source": [
        "All that's left to do now is to compile our workflow - and we're off!"
      ]
    },
    {
      "cell_type": "code",
      "execution_count": 14,
      "metadata": {
        "id": "zt9-KS8DpzNx"
      },
      "outputs": [],
      "source": [
        "compiled_graph = uncompiled_graph.compile()"
      ]
    },
    {
      "cell_type": "markdown",
      "metadata": {
        "id": "xhNWIwBL1W4Q"
      },
      "source": [
        "\n",
        "#### ❓ Question #2:\n",
        "\n",
        "Is there any specific limit to how many times we can cycle?\n",
        "\n",
        "If not, how could we impose a limit to the number of cycles?\n",
        "\n",
        "#### ! Answer #2:\n",
        "\n",
        "Conceptually there is no limit to the number of times this could cycle. Technically it would probably end up using up sufficient resources etc to hit token limits, out of memory condition etc.\n",
        "\n",
        "The most simple way to limit the number of cycles is to set a counter and track the number of repeats are performed. There are a number of different ways this could be implemented:\n",
        "- Counter in the agent node - set a counter and increment each time the action node is called. When the counter reaches a specified number, the agent then ends the cycle even if the other conditions have not been met.\n",
        "- Counter within action node - the action itself could keep track of how many times it has been called and raise an exception when the limit is reached\n",
        "- Counter within the conditional edge - the should-continue edge could check the counter and then decide to end\n",
        "\n"
      ]
    },
    {
      "cell_type": "code",
      "execution_count": 15,
      "metadata": {},
      "outputs": [],
      "source": [
        "from langchain_core.messages import AIMessage, ToolMessage\n",
        "from pprint import pprint\n",
        "\n",
        "def print_messages(values):\n",
        "    for message in values[\"messages\"]:\n",
        "        if isinstance(message, AIMessage):\n",
        "            print(\"AI Message Content:\")\n",
        "            print(message.content)\n",
        "            print(\"\\nadditional_kwargs:\")\n",
        "            pprint(message.additional_kwargs, indent=4)\n",
        "            print(\"\\nresponse_metadata:\")\n",
        "            pprint(message.response_metadata, indent=4)\n",
        "            print(\"\\nusage_metadata:\")\n",
        "            pprint(message.usage_metadata, indent=4)\n",
        "            print(\"\\n\" + \"-\" * 50 + \"\\n\")\n",
        "        \n",
        "        elif isinstance(message, ToolMessage):\n",
        "            print(\"Tool Message Content:\")\n",
        "            print(message.content)\n",
        "            print(f\"\\nTool Name: {message.name}\")\n",
        "            print(f\"Tool Call ID: {message.tool_call_id}\")\n",
        "            print(\"\\n\" + \"-\" * 50 + \"\\n\")"
      ]
    },
    {
      "cell_type": "markdown",
      "metadata": {
        "id": "VEYcTShCsPaa"
      },
      "source": [
        "## Using Our Graph\n",
        "\n",
        "Now that we've created and compiled our graph - we can call it *just as we'd call any other* `Runnable`!\n",
        "\n",
        "Let's try out a few examples to see how it fairs:"
      ]
    },
    {
      "cell_type": "code",
      "execution_count": 16,
      "metadata": {
        "colab": {
          "base_uri": "https://localhost:8080/"
        },
        "id": "Qn4n37PQRPII",
        "outputId": "a5d7ef7a-13f2-4066-df52-b0df89eae2ae"
      },
      "outputs": [
        {
          "name": "stdout",
          "output_type": "stream",
          "text": [
            "Receiving update from node: 'agent'\n",
            "[AIMessage(content='', additional_kwargs={'tool_calls': [{'id': 'call_3UREPzDIh0DxvoX6gnAZbQXV', 'function': {'arguments': '{\"query\": \"current captain of the Winnipeg Jets 2023\"}', 'name': 'duckduckgo_search'}, 'type': 'function'}, {'id': 'call_MXLUoy9uqV08BK71lVaLUE8Z', 'function': {'arguments': '{\"a\": 12, \"b\": 46}', 'name': 'add'}, 'type': 'function'}], 'refusal': None}, response_metadata={'token_usage': {'completion_tokens': 58, 'prompt_tokens': 184, 'total_tokens': 242}, 'model_name': 'gpt-4o-2024-05-13', 'system_fingerprint': 'fp_157b3831f5', 'finish_reason': 'tool_calls', 'logprobs': None}, id='run-d6c0a405-8ff9-4165-8c63-ece40ce663e4-0', tool_calls=[{'name': 'duckduckgo_search', 'args': {'query': 'current captain of the Winnipeg Jets 2023'}, 'id': 'call_3UREPzDIh0DxvoX6gnAZbQXV', 'type': 'tool_call'}, {'name': 'add', 'args': {'a': 12, 'b': 46}, 'id': 'call_MXLUoy9uqV08BK71lVaLUE8Z', 'type': 'tool_call'}], usage_metadata={'input_tokens': 184, 'output_tokens': 58, 'total_tokens': 242})]\n",
            "\n",
            "\n",
            "\n",
            "adding()\n",
            "Receiving update from node: 'action'\n",
            "[ToolMessage(content='September 12, 2023. There are not many honours in team sports bigger than being named captain. That honour was given to Winnipeg Jet forward Adam Lowry officially Tuesday morning as he becomes the ... The Winnipeg Jets will have a captain for the 2023-24 season. After going captain-less in 2022-23, the Winnipeg Jets unveiled Adam Lowry as the club\\'s new captain on Tuesday morning. \"When I ... Adam Lowry was named captain of the Winnipeg Jets on Tuesday. The 30-year-old forward was selected by the Jets in the third round (No. 67) of the 2011 NHL Draft and has played his entire nine ... - Sep 12, 2023 After a season without a captain, the Winnipeg Jets have named their new leader. Centre Adam Lowry, who is about to enter his 10th season as a Jet, was given the honour Tuesday. The Winnipeg Jets have officially made the decision on which player will wear the captain\\'s \\'C\\' for the 2023-24 season, and hopefully onward. That player is 30-year-old centre Adam Lowry.', name='duckduckgo_search', tool_call_id='call_3UREPzDIh0DxvoX6gnAZbQXV'), ToolMessage(content='58', name='add', tool_call_id='call_MXLUoy9uqV08BK71lVaLUE8Z')]\n",
            "\n",
            "\n",
            "\n",
            "Receiving update from node: 'agent'\n",
            "[AIMessage(content='The current captain of the Winnipeg Jets is Adam Lowry.\\n\\nAdditionally, 12 plus 46 equals 58.', additional_kwargs={'refusal': None}, response_metadata={'token_usage': {'completion_tokens': 24, 'prompt_tokens': 486, 'total_tokens': 510}, 'model_name': 'gpt-4o-2024-05-13', 'system_fingerprint': 'fp_157b3831f5', 'finish_reason': 'stop', 'logprobs': None}, id='run-2873805f-1522-4439-9694-e6cd4a2d2c39-0', usage_metadata={'input_tokens': 486, 'output_tokens': 24, 'total_tokens': 510})]\n",
            "\n",
            "\n",
            "\n"
          ]
        }
      ],
      "source": [
        "from langchain_core.messages import HumanMessage\n",
        "\n",
        "inputs = {\"messages\" : [HumanMessage(content=\"Who is the current captain of the Winnipeg Jets? Also add 12 and 46\")]}\n",
        "\n",
        "async for chunk in compiled_graph.astream(inputs, stream_mode=\"updates\"):\n",
        "    for node, values in chunk.items():\n",
        "        print(f\"Receiving update from node: '{node}'\")\n",
        "        print(values[\"messages\"])\n",
        "        print(\"\\n\\n\")\n",
        "        # print_messages(values)\n"
      ]
    },
    {
      "cell_type": "markdown",
      "metadata": {
        "id": "DBHnUtLSscRr"
      },
      "source": [
        "Let's look at what happened:\n",
        "\n",
        "1. Our state object was populated with our request\n",
        "2. The state object was passed into our entry point (agent node) and the agent node added an `AIMessage` to the state object and passed it along the conditional edge\n",
        "3. The conditional edge received the state object, found the \"tool_calls\" `additional_kwarg`, and sent the state object to the action node\n",
        "4. The action node added the response from the OpenAI function calling endpoint to the state object and passed it along the edge to the agent node\n",
        "5. The agent node added a response to the state object and passed it along the conditional edge\n",
        "6. The conditional edge received the state object, could not find the \"tool_calls\" `additional_kwarg` and passed the state object to END where we see it output in the cell above!\n",
        "\n",
        "Now let's look at an example that shows a multiple tool usage - all with the same flow!"
      ]
    },
    {
      "cell_type": "code",
      "execution_count": 17,
      "metadata": {
        "colab": {
          "base_uri": "https://localhost:8080/"
        },
        "id": "afv2BuEsV5JG",
        "outputId": "026a3aa3-1c3e-4016-b0a3-fe98b1d25399"
      },
      "outputs": [
        {
          "name": "stdout",
          "output_type": "stream",
          "text": [
            "Receiving update from node: 'agent'\n",
            "[AIMessage(content='', additional_kwargs={'tool_calls': [{'id': 'call_kKy0LYdTynVmpqORlMJwmBZq', 'function': {'arguments': '{\"query\":\"QLoRA\"}', 'name': 'arxiv'}, 'type': 'function'}], 'refusal': None}, response_metadata={'token_usage': {'completion_tokens': 16, 'prompt_tokens': 194, 'total_tokens': 210}, 'model_name': 'gpt-4o-2024-05-13', 'system_fingerprint': 'fp_157b3831f5', 'finish_reason': 'tool_calls', 'logprobs': None}, id='run-56180cee-1631-4e62-9d05-1bee9e528391-0', tool_calls=[{'name': 'arxiv', 'args': {'query': 'QLoRA'}, 'id': 'call_kKy0LYdTynVmpqORlMJwmBZq', 'type': 'tool_call'}], usage_metadata={'input_tokens': 194, 'output_tokens': 16, 'total_tokens': 210})]\n",
            "[{'name': 'arxiv', 'args': {'query': 'QLoRA'}, 'id': 'call_kKy0LYdTynVmpqORlMJwmBZq', 'type': 'tool_call'}]\n",
            "\n",
            "\n",
            "\n",
            "Receiving update from node: 'action'\n",
            "Tool Used: arxiv\n",
            "[ToolMessage(content='Published: 2023-05-23\\nTitle: QLoRA: Efficient Finetuning of Quantized LLMs\\nAuthors: Tim Dettmers, Artidoro Pagnoni, Ari Holtzman, Luke Zettlemoyer\\nSummary: We present QLoRA, an efficient finetuning approach that reduces memory usage\\nenough to finetune a 65B parameter model on a single 48GB GPU while preserving\\nfull 16-bit finetuning task performance. QLoRA backpropagates gradients through\\na frozen, 4-bit quantized pretrained language model into Low Rank\\nAdapters~(LoRA). Our best model family, which we name Guanaco, outperforms all\\nprevious openly released models on the Vicuna benchmark, reaching 99.3% of the\\nperformance level of ChatGPT while only requiring 24 hours of finetuning on a\\nsingle GPU. QLoRA introduces a number of innovations to save memory without\\nsacrificing performance: (a) 4-bit NormalFloat (NF4), a new data type that is\\ninformation theoretically optimal for normally distributed weights (b) double\\nquantization to reduce the average memory footprint by quantizing the\\nquantization constants, and (c) paged optimziers to manage memory spikes. We\\nuse QLoRA to finetune more than 1,000 models, providing a detailed analysis of\\ninstruction following and chatbot performance across 8 instruction datasets,\\nmultiple model types (LLaMA, T5), and model scales that would be infeasible to\\nrun with regular finetuning (e.g. 33B and 65B parameter models). Our results\\nshow that QLoRA finetuning on a small high-quality dataset leads to\\nstate-of-the-art results, even when using smaller models than the previous\\nSoTA. We provide a detailed analysis of chatbot performance based on both human\\nand GPT-4 evaluations showing that GPT-4 evaluations are a cheap and reasonable\\nalternative to human evaluation. Furthermore, we find that current chatbot\\nbenchmarks are not trustworthy to accurately evaluate the performance levels of\\nchatbots. A lemon-picked analysis demonstrates where Guanaco fails compared to\\nChatGPT. We release all of our models and code, including CUDA kernels for\\n4-bit training.\\n\\nPublished: 2024-05-27\\nTitle: Accurate LoRA-Finetuning Quantization of LLMs via Information Retention\\nAuthors: Haotong Qin, Xudong Ma, Xingyu Zheng, Xiaoyang Li, Yang Zhang, Shouda Liu, Jie Luo, Xianglong Liu, Michele Magno\\nSummary: The LoRA-finetuning quantization of LLMs has been extensively studied to\\nobtain accurate yet compact LLMs for deployment on resource-constrained\\nhardware. However, existing methods cause the quantized LLM to severely degrade\\nand even fail to benefit from the finetuning of LoRA. This paper proposes a\\nnovel IR-QLoRA for pushing quantized LLMs with LoRA to be highly accurate\\nthrough information retention. The proposed IR-QLoRA mainly relies on two\\ntechnologies derived from the perspective of unified information: (1)\\nstatistics-based Information Calibration Quantization allows the quantized\\nparameters of LLM to retain original information accurately; (2)\\nfinetuning-based Information Elastic Connection makes LoRA utilizes elastic\\nrepresentation transformation with diverse information. Comprehensive\\nexperiments show that IR-QLoRA can significantly improve accuracy across LLaMA\\nand LLaMA2 families under 2-4 bit-widths, e.g., 4- bit LLaMA-7B achieves 1.4%\\nimprovement on MMLU compared with the state-of-the-art methods. The significant\\nperformance gain requires only a tiny 0.31% additional time consumption,\\nrevealing the satisfactory efficiency of our IR-QLoRA. We highlight that\\nIR-QLoRA enjoys excellent versatility, compatible with various frameworks\\n(e.g., NormalFloat and Integer quantization) and brings general accuracy gains.\\nThe code is available at https://github.com/htqin/ir-qlora.\\n\\nPublished: 2024-06-12\\nTitle: Exploring Fact Memorization and Style Imitation in LLMs Using QLoRA: An Experimental Study and Quality Assessment Methods\\nAuthors: Eugene Vyborov, Oleksiy Osypenko, Serge Sotnyk\\nSummary: There are various methods for adapting LLMs to different domains. The most\\ncommon methods are prompting, finetuning, and RAG. In this w', name='arxiv', tool_call_id='call_kKy0LYdTynVmpqORlMJwmBZq')]\n",
            "\n",
            "\n",
            "\n",
            "Receiving update from node: 'agent'\n",
            "[AIMessage(content='', additional_kwargs={'tool_calls': [{'id': 'call_ZXzWJd67EeQoEejFzf2AP4RK', 'function': {'arguments': '{\"query\": \"Tim Dettmers latest tweet\"}', 'name': 'duckduckgo_search'}, 'type': 'function'}, {'id': 'call_8D2PlZcZJARncVAufQku1hkr', 'function': {'arguments': '{\"query\": \"Artidoro Pagnoni latest tweet\"}', 'name': 'duckduckgo_search'}, 'type': 'function'}, {'id': 'call_7OBtqbAYYP5juVDTkRl1XJ1E', 'function': {'arguments': '{\"query\": \"Ari Holtzman latest tweet\"}', 'name': 'duckduckgo_search'}, 'type': 'function'}, {'id': 'call_b6EziRLLCDF84oVh6T4mqiO4', 'function': {'arguments': '{\"query\": \"Luke Zettlemoyer latest tweet\"}', 'name': 'duckduckgo_search'}, 'type': 'function'}], 'refusal': None}, response_metadata={'token_usage': {'completion_tokens': 108, 'prompt_tokens': 1173, 'total_tokens': 1281}, 'model_name': 'gpt-4o-2024-05-13', 'system_fingerprint': 'fp_157b3831f5', 'finish_reason': 'tool_calls', 'logprobs': None}, id='run-8a778271-f2f8-4308-8d6d-41b677a9f7a3-0', tool_calls=[{'name': 'duckduckgo_search', 'args': {'query': 'Tim Dettmers latest tweet'}, 'id': 'call_ZXzWJd67EeQoEejFzf2AP4RK', 'type': 'tool_call'}, {'name': 'duckduckgo_search', 'args': {'query': 'Artidoro Pagnoni latest tweet'}, 'id': 'call_8D2PlZcZJARncVAufQku1hkr', 'type': 'tool_call'}, {'name': 'duckduckgo_search', 'args': {'query': 'Ari Holtzman latest tweet'}, 'id': 'call_7OBtqbAYYP5juVDTkRl1XJ1E', 'type': 'tool_call'}, {'name': 'duckduckgo_search', 'args': {'query': 'Luke Zettlemoyer latest tweet'}, 'id': 'call_b6EziRLLCDF84oVh6T4mqiO4', 'type': 'tool_call'}], usage_metadata={'input_tokens': 1173, 'output_tokens': 108, 'total_tokens': 1281})]\n",
            "[{'name': 'duckduckgo_search', 'args': {'query': 'Tim Dettmers latest tweet'}, 'id': 'call_ZXzWJd67EeQoEejFzf2AP4RK', 'type': 'tool_call'}, {'name': 'duckduckgo_search', 'args': {'query': 'Artidoro Pagnoni latest tweet'}, 'id': 'call_8D2PlZcZJARncVAufQku1hkr', 'type': 'tool_call'}, {'name': 'duckduckgo_search', 'args': {'query': 'Ari Holtzman latest tweet'}, 'id': 'call_7OBtqbAYYP5juVDTkRl1XJ1E', 'type': 'tool_call'}, {'name': 'duckduckgo_search', 'args': {'query': 'Luke Zettlemoyer latest tweet'}, 'id': 'call_b6EziRLLCDF84oVh6T4mqiO4', 'type': 'tool_call'}]\n",
            "\n",
            "\n",
            "\n",
            "Receiving update from node: 'action'\n",
            "Tool Used: duckduckgo_search\n",
            "[ToolMessage(content='Minnesota Gov. Tim Walz\\'s trip to Wisconsin on Monday marked the first use of the Harris-Walz campaign\\'s new campaign charter plane, the campaign said. The plane bears an American flag on its ... Former national security adviser H.R. McMaster said Sunday he \"would never disparage\" someone\\'s military service, when asked about the controversy surrounding the Democratic vice ... John Ternus may be the frontrunner to become Apple CEO when Tim Cook steps down, Bloomberg reported. Ternus is the hardware engineering chief and has worked for Apple since 2001. Tim Walz may have a big election coming up this fall, but what fans are really looking forward to is \"soup season.\". The vice presidential candidate recently got fans excited about sweater weather ... Her new position hasn\\'t been finalized. ... — Tim Dettmers is joining Ai2 as an AI researcher. Dettmers specializes in efficient deep learning at the intersection of machine learning, NLP, and ...', name='duckduckgo_search', tool_call_id='call_ZXzWJd67EeQoEejFzf2AP4RK'), ToolMessage(content=\"We present QLoRA, an efficient finetuning approach that reduces memory usage enough to finetune a 65B parameter model on a single 48GB GPU while preserving full 16-bit finetuning task performance. QLoRA backpropagates gradients through a frozen, 4-bit quantized pretrained language model into Low Rank Adapters~(LoRA). Our best model family, which we name Guanaco, outperforms all previous openly ... efficient finetuning of quantized LLMs. AUTHORs: Tim Dettmers, Artidoro Pagnoni, Ari Holtzman, Luke Zettlemoyer Authors Info & Claims. NIPS '23: Proceedings of the 37th International Conference on Neural Information Processing Systems. Article No.: 441, Pages 10088 - 10115. Published: 30 May 2024 Publication History. Fine-tuning large language models (LLMs) is a common practice to adapt them for specific tasks, but it can be computationally expensive. LoRA (Low-Rank Adaptation) is a technique that makes this process more efficient by introducing small adapter modules to the model. These adapters capture task-specific knowledge without modifying the original ... Post-Training Quantization (PTQ) enhances the efficiency of Large Language Models (LLMs) by enabling faster operation and compatibility with more accessible hardware through reduced memory usage, at the cost of small performance drops. We explore the role of calibration sets in PTQ, specifically their effect on hidden activations in various ... Pagnoni et al. (2021) Artidoro Pagnoni, Vidhisha Balachandran, and Yulia Tsvetkov. 2021. Understanding factuality in abstractive summarization with FRANK: A benchmark for factuality metrics . In Proceedings of the 2021 Conference of the North American Chapter of the Association for Computational Linguistics: Human Language Technologies , pages ...\", name='duckduckgo_search', tool_call_id='call_8D2PlZcZJARncVAufQku1hkr'), ToolMessage(content='The heated on-air dispute last night between MSNBC\\'s Ari Melber and Donald Trump campaign adviser Corey Lewandowski didn\\'t end with Wednesday\\'s segment: Today, Lewandowski tweeted a video in ... MSNBC host Ari Melber, during an interview with Trump campaign adviser Corey Lewandowski on Wednesday, threatened him with a defamation lawsuit for quoting the anchor calling the former President ... Ari Melber warns Trump campaign advisor Corey Lewandowski he \\'will be potentially in a defamation situation\\' on Wednesday\\'s episode of The Beat (MSNBC) \"I did not say that. That is a false ... Figure 1: In this paper, we explore Grover, a model which can detect and generate neural fake news. Humans find the articles difficult to distinguish from \"real news\" without high levels of scrutiny. Online fake news - news designed to intentionally deceive - has recently emerged as a major societal problem. The team behind QLoRA includes Allen School Ph.D. student Artidoro Pagnoni; alum Ari Holtzman (Ph.D., \\'23), incoming professor at the University of Chicago; and professor Luke Zettlemoyer, who is also a research manager at Meta. Madrona Prize First Runner Up / Punica: Multi-Tenant LoRA Fine-tuned LLM Serving', name='duckduckgo_search', tool_call_id='call_7OBtqbAYYP5juVDTkRl1XJ1E'), ToolMessage(content=\"Luke Zettlemoyer is a research manager and site lead for FAIR Seattle. He is also a Professor in the Allen School of Computer Science & Engineering at the University of Washington. His research is in empirical computational semantics, where the goal is to build models that recover representations of the meaning of natural language text. Today we're joined by Luke Zettlemoyer, professor at University of Washington and a research manager at Meta. In our conversation with Luke, we cover multimodal generative AI, the effect of data on models, and the significance of open source and open science. We explore the grounding problem, the need for visual grounding and embodiment in \\ufeff Twitter \\ufeff Reddit. Join our list for notifications and early access to events ... About this Episode. Today we're joined by Luke Zettlemoyer, professor at University of Washington and a research manager at Meta. In our conversation with Luke, we cover multimodal generative AI, the effect of data on models, and the significance of open ... Evaluating the factuality of long-form text generated by large language models (LMs) is nontrivial because (1) generations often contain a mixture of... Large language models are trained in two stages: (1) unsupervised pretraining from raw text, to learn general-purpose representations, and (2) large scale instruction tuning and reinforcement learning, to better align to end tasks and user preferences. We measure the relative importance of these two stages by training LIMA, a 65B parameter LLaMa language model fine-tuned with the standard ...\", name='duckduckgo_search', tool_call_id='call_b6EziRLLCDF84oVh6T4mqiO4')]\n",
            "\n",
            "\n",
            "\n",
            "Receiving update from node: 'agent'\n",
            "[AIMessage(content='Here are the latest updates I found for each of the authors of the QLoRA paper:\\n\\n1. **Tim Dettmers**:\\n   - Tim Dettmers is joining Ai2 as an AI researcher. Dettmers specializes in efficient deep learning at the intersection of machine learning, NLP, and more.\\n\\n2. **Artidoro Pagnoni**:\\n   - No specific latest tweet found, but Artidoro Pagnoni is mentioned in various academic contexts, including his work on factuality in abstractive summarization.\\n\\n3. **Ari Holtzman**:\\n   - No specific latest tweet found, but Ari Holtzman is noted as an incoming professor at the University of Chicago and has been involved in research on neural fake news detection and generation.\\n\\n4. **Luke Zettlemoyer**:\\n   - Luke Zettlemoyer is a research manager and site lead for FAIR Seattle, and a professor at the University of Washington. He is involved in research on multimodal generative AI and the significance of open source and open science.\\n\\nIt seems that specific latest tweets for Artidoro Pagnoni and Ari Holtzman were not found in the search results.', additional_kwargs={'refusal': None}, response_metadata={'token_usage': {'completion_tokens': 241, 'prompt_tokens': 2466, 'total_tokens': 2707}, 'model_name': 'gpt-4o-2024-05-13', 'system_fingerprint': 'fp_157b3831f5', 'finish_reason': 'stop', 'logprobs': None}, id='run-43a048ff-e3c2-4dd7-a08c-23a2781616e4-0', usage_metadata={'input_tokens': 2466, 'output_tokens': 241, 'total_tokens': 2707})]\n",
            "\n",
            "\n",
            "\n"
          ]
        }
      ],
      "source": [
        "inputs = {\"messages\" : [HumanMessage(content=\"Search Arxiv for the QLoRA paper, then search each of the authors to find out their latest Tweet using DuckDuckGo.\")]}\n",
        "\n",
        "async for chunk in compiled_graph.astream(inputs, stream_mode=\"updates\"):\n",
        "    for node, values in chunk.items():\n",
        "        print(f\"Receiving update from node: '{node}'\")\n",
        "        if node == \"action\":\n",
        "          print(f\"Tool Used: {values['messages'][0].name}\")\n",
        "        print(values[\"messages\"])\n",
        "        if node == \"agent\":\n",
        "           if values[\"messages\"][0].tool_calls:\n",
        "              print(values[\"messages\"][0].tool_calls)\n",
        "\n",
        "        print(\"\\n\\n\")"
      ]
    },
    {
      "cell_type": "markdown",
      "metadata": {},
      "source": [
        "Better formatted responses: \n",
        "\n",
        "<table>\n",
        "<tr>\n",
        "<td width=\"20%\" style=\"vertical-align: top;\">\n",
        "\n",
        "Receiving update from node: 'agent'\n",
        "\n",
        "AI Message Content: (No direct content, tools were invoked)\n",
        "\n",
        "Tool Calls:\n",
        "1. Tool Name: arxiv\n",
        "   - Arguments: {\"query\": \"QLoRA\"}\n",
        "   - Call ID: call_5SHb1kz1wVy8u4U5TQBpeSUL\n",
        "   - Type: function\n",
        "\n",
        "2. Tool Name: duckduckgo_search\n",
        "   - Arguments: {\"query\": \"Tim Dettmers latest Tweet\"}\n",
        "   - Call ID: call_HXyuGGbbhkfwkHni4dhZsfFw\n",
        "   - Type: function\n",
        "\n",
        "3. Tool Name: duckduckgo_search\n",
        "   - Arguments: {\"query\": \"Mike Lewis latest Tweet\"}\n",
        "   - Call ID: call_YT2OwPJfYInecDmBMdI9znl6\n",
        "   - Type: function\n",
        "\n",
        "4. Tool Name: duckduckgo_search\n",
        "   - Arguments: {\"query\": \"Yunqing Dou latest Tweet\"}\n",
        "   - Call ID: call_sW2gtUpcsPUsGIvKKwfxFMVc\n",
        "   - Type: function\n",
        "\n",
        "5. Tool Name: duckduckgo_search\n",
        "   - Arguments: {\"query\": \"Armen Aghajanyan latest Tweet\"}\n",
        "   - Call ID: call_odsmxts9jkssZD67y0xucSDO\n",
        "   - Type: function\n",
        "\n",
        "Response Metadata:\n",
        "- Model Name: gpt-4o-2024-05-13\n",
        "- System Fingerprint: fp_157b3831f5\n",
        "- Finish Reason: tool_calls\n",
        "- Token Usage:\n",
        "  - Prompt Tokens: 173\n",
        "  - Completion Tokens: 121\n",
        "  - Total Tokens: 294\n",
        "  </td>\n",
        "  <td width = \"20%\" style=\"vertical-align: top;\">\n",
        "Receiving update from node: 'action'\n",
        "\n",
        "\n",
        "Tool Used: arxiv\n",
        "Content:\n",
        "Published: 2023-05-23\n",
        "Title: QLoRA: Efficient Finetuning of Quantized LLMs\n",
        "Snippet: Published: 2023-05-23 Title: QLoRA: Efficient Finetuning of Quantized LLMs Authors: Tim Dettmers, Artidoro ...\n",
        "\n",
        "Published: 2024-05-27\n",
        "Title: Accurate LoRA-Finetuning Quantization of LLMs via Information Retention\n",
        "Snippet: Published: 2024-05-27 Title: Accurate LoRA-Finetuning Quantization of LLMs via Information Retention ...\n",
        "\n",
        "Published: 2024-06-12\n",
        "Title: Exploring Fact Memorization and Style Imitation in LLMs Using QLoRA: An Experimental Study and Quality Assessment Methods\n",
        "Snippet: Published: 2024-06-12 Title: Exploring Fact Memorization and Style Imitation in LLMs Using QLoRA: An ...\n",
        "\n",
        "Tool Used: duckduckgo_search\n",
        "Content:\n",
        "Snippet: Tim Dettmers, Ruslan A. Svirschevski, Vage Egiazarian, Denis Kuznedelev, ... (SpQR), a new compressed ...\n",
        "\n",
        "Tool Used: duckduckgo_search\n",
        "Content:\n",
        "Snippet: Michael Lewis, the financial journalist who wrote a controversial book about the downfall of Sam Ban ...\n",
        "\n",
        "Tool Used: duckduckgo_search\n",
        "Content:\n",
        "Snippet: Translator: Dj22031 Editor: Dj22031 Advance chapters available for patrons on Patreon. And a chapter ...\n",
        "\n",
        "Tool Used: duckduckgo_search\n",
        "Content:\n",
        "Snippet: Armen Aghajanyan introduced Chameleon, FAIR's latest work on multimodal models, training 7B and 34B mo ...\n",
        "  </td>\n",
        "  <td width=\"20%\" style=\"vertical-align: top;\">\n",
        "Receiving update from node: 'agent'\n",
        "<br />  \n",
        "\n",
        "AI Message Content:\n",
        "Snippet: ### QLoRA Paper on Arxiv\\nTitle: QLoRA: Efficient Finetuning of Quantized LLMs \\nAuthors: Tim D ...\n",
        "\n",
        "Latest Tweets from Authors:\n",
        "Tim Dettmers:\n",
        "\n",
        "Tweet Snippet: \"I'm excited to announce our latest paper, introducing a family of early-fusion token-in token-out ...\n",
        "Source: Tim Dettmers' Twitter\n",
        "Mike Lewis:\n",
        "\n",
        "Tweet Snippet: \"Best-selling author Michael Lewis, who had unprecedented access to FTX founder Sam Bankman-Fr ...\n",
        "Source: Mike Lewis' Twitter\n",
        "Yunqing Dou:\n",
        "\n",
        "Tweet Snippet: \"The temperature seems to have come down! After a night of caring for a sick child at the hospi ...\n",
        "Source: Yunqing Dou's Twitter\n",
        "Armen Aghajanyan:\n",
        "\n",
        "Tweet Snippet: \"I'm excited to announce our latest paper, introducing a family of early-fusion token-in token-out ...\n",
        "Source: Armen Aghajanyan's Twitter\n",
        "\n",
        "Response Metadata:\n",
        "- Model Name: gpt-4o-2024-05-13\n",
        "- System Fingerprint: fp_157b3831f5\n",
        "- Finish Reason: stop\n",
        "- Token Usage:\n",
        "   - Prompt Tokens: 2569\n",
        "   - Completion Tokens: 484\n",
        "   - Total Tokens: 3053\n",
        "\n",
        "  </td>\n"
      ]
    },
    {
      "cell_type": "markdown",
      "metadata": {
        "id": "CXzDlZVz1Hnf"
      },
      "source": [
        "\n",
        "#### 🏗️ Activity #2:\n",
        "\n",
        "Please write out the steps the agent took to arrive at the correct answer.\n",
        "\n",
        "1. The agent received the state containing the question\n",
        "2. It called the gpt-4o model to identify the tool calls needed. These are all function calls:\n",
        "    1. arxiv with the query \"QLoRA\"\n",
        "    2. duckduckgo_search with the query \"Tim Dettmers latest Tweet\"\n",
        "    3. duckduckgo_search with the query \"Mike Lewis latest Tweet\"\n",
        "    4. duckduckgo_search with the query \"Yunqing Dou latest Tweet\"\n",
        "    5. duckduckgo_search with the query \"Armen Aghajanyan latest Tweet\" \n",
        "3. The agent then called should_continue conditional edge and due to the presence of the items in the tool_calls array the tools action was called\n",
        "4. The action node took the specified actions and updated the messages with data from the results of the actions\n",
        "5. The agent called the gpt-40 LLM with the augmented data and the question and got the response\n",
        "6. The agent called the should_continue conditional edge and due to no tool calls required the process ended"
      ]
    },
    {
      "cell_type": "markdown",
      "metadata": {
        "id": "v7c8-Uyarh1v"
      },
      "source": [
        "## Part 1: LangSmith Evaluator"
      ]
    },
    {
      "cell_type": "markdown",
      "metadata": {
        "id": "pV3XeFOT1Sar"
      },
      "source": [
        "### Pre-processing for LangSmith"
      ]
    },
    {
      "cell_type": "markdown",
      "metadata": {
        "id": "wruQCuzewUuO"
      },
      "source": [
        "To do a little bit more preprocessing, let's wrap our LangGraph agent in a simple chain."
      ]
    },
    {
      "cell_type": "code",
      "execution_count": 18,
      "metadata": {
        "id": "oeXdQgbxwhTv"
      },
      "outputs": [],
      "source": [
        "def convert_inputs(input_object):\n",
        "  return {\"messages\" : [HumanMessage(content=input_object[\"question\"])]}\n",
        "\n",
        "def parse_output(input_state):\n",
        "  return input_state[\"messages\"][-1].content\n",
        "\n",
        "agent_chain = convert_inputs | compiled_graph | parse_output"
      ]
    },
    {
      "cell_type": "code",
      "execution_count": 19,
      "metadata": {
        "colab": {
          "base_uri": "https://localhost:8080/",
          "height": 139
        },
        "id": "orYxBZXSxJjZ",
        "outputId": "b160f3e4-89d1-4411-ed96-fe17b3cad200"
      },
      "outputs": [
        {
          "data": {
            "text/plain": [
              "\"OOUX stands for Object-Oriented User Experience. It is a design methodology that focuses on structuring and organizing digital products around the objects that users interact with, rather than around tasks or features. The goal of OOUX is to create a more intuitive and user-friendly experience by aligning the design with the way users naturally think about and understand the world.\\n\\nKey principles of OOUX include:\\n\\n1. **Object Discovery**: Identifying the key objects that are central to the user's experience.\\n2. **Object Definition**: Defining the attributes, relationships, and actions associated with each object.\\n3. **Object Modeling**: Creating a visual representation of the objects and their relationships.\\n4. **Object Prioritization**: Determining the importance and hierarchy of objects to guide the design process.\\n5. **Object Interaction**: Designing the interactions and interfaces that allow users to interact with the objects.\\n\\nBy focusing on objects, OOUX aims to create a more cohesive and understandable user experience, making it easier for users to navigate and interact with digital products.\""
            ]
          },
          "execution_count": 19,
          "metadata": {},
          "output_type": "execute_result"
        }
      ],
      "source": [
        "agent_chain.invoke({\"question\" : \"What is OOUX?\"})"
      ]
    },
    {
      "cell_type": "markdown",
      "metadata": {
        "id": "f9UkCIqkpyZu"
      },
      "source": [
        "\n",
        "\n",
        "### Task 1: Creating An Evaluation Dataset\n",
        "\n",
        "Just as we saw last week, we'll want to create a dataset to test our Agent's ability to answer questions.\n",
        "\n",
        "In order to do this - we'll want to provide some questions and some answers. Let's look at how we can create such a dataset below.\n",
        "\n",
        "```python\n",
        "questions = [\n",
        "    \"What optimizer is used in QLoRA?\",\n",
        "    \"What data type was created in the QLoRA paper?\",\n",
        "    \"What is a Retrieval Augmented Generation system?\",\n",
        "    \"Who authored the QLoRA paper?\",\n",
        "    \"What is the most popular deep learning framework?\",\n",
        "    \"What significant improvements does the LoRA system make?\"\n",
        "]\n",
        "\n",
        "answers = [\n",
        "    {\"must_mention\" : [\"paged\", \"optimizer\"]},\n",
        "    {\"must_mention\" : [\"NF4\", \"NormalFloat\"]},\n",
        "    {\"must_mention\" : [\"ground\", \"context\"]},\n",
        "    {\"must_mention\" : [\"Tim\", \"Dettmers\"]},\n",
        "    {\"must_mention\" : [\"PyTorch\", \"TensorFlow\"]},\n",
        "    {\"must_mention\" : [\"reduce\", \"parameters\"]},\n",
        "]\n",
        "```\n"
      ]
    },
    {
      "cell_type": "markdown",
      "metadata": {
        "id": "VfMXF2KAsQxs"
      },
      "source": [
        "\n",
        "#### 🏗️ Activity #3:\n",
        "\n",
        "Please create a dataset in the above format with at least 5 questions.\n",
        "\n",
        "Done \n",
        "\n"
      ]
    },
    {
      "cell_type": "code",
      "execution_count": 20,
      "metadata": {
        "id": "CbagRuJop83E"
      },
      "outputs": [],
      "source": [
        "questions = [\n",
        "    \"What are the four key components of the ORCA methodology in OOUX?\",\n",
        "    \"What role do Calls-to-Action or CTAs play in the OOUX ORCA methodology?\",\n",
        "    \"How does OOUX ORCA methodology differ from traditional UX design approaches\",\n",
        "    \"Who came up with the OOUX ORCA methodology used in OOUX?\",\n",
        "    \"What is noun-foraging in the context of OOUX, and why is it important?\",\n",
        "    \"What are the key outputs from the OOUX ORCA methodology?\"\n",
        "]\n",
        "\n",
        "answers = [\n",
        "    {\"must_mention\" : [\"Object\", \"Relationship\"]},\n",
        "    {\"must_mention\" : [\"role\", \"user\"]},\n",
        "    {\"must_mention\" : [\"object\", \"relationship\"]},\n",
        "    {\"must_mention\" : [\"Sophia\", \"Prater\"]},\n",
        "    {\"must_mention\" : [\"objects\", \"requirements\"]},\n",
        "    {\"must_mention\" : [\"Object Map\", \"Calls-to-Action\"]},\n",
        "]"
      ]
    },
    {
      "cell_type": "markdown",
      "metadata": {
        "id": "z7QVFuAmsh7L"
      },
      "source": [
        "Now we can add our dataset to our LangSmith project using the following code which we saw last Thursday!"
      ]
    },
    {
      "cell_type": "code",
      "execution_count": 21,
      "metadata": {
        "id": "RLfrZrgSsn85"
      },
      "outputs": [],
      "source": [
        "from langsmith import Client\n",
        "\n",
        "client = Client()\n",
        "dataset_name = f\"Retrieval Augmented Generation - Evaluation Dataset - {uuid4().hex[0:8]}\"\n",
        "\n",
        "dataset = client.create_dataset(\n",
        "    dataset_name=dataset_name,\n",
        "    description=\"Questions about the OOUX to Evaluate RAG.\"\n",
        ")\n",
        "\n",
        "client.create_examples(\n",
        "    inputs=[{\"question\" : q} for q in questions],\n",
        "    outputs=answers,\n",
        "    dataset_id=dataset.id,\n",
        ")"
      ]
    },
    {
      "cell_type": "markdown",
      "metadata": {
        "id": "ciV73F9Q04w0"
      },
      "source": [
        "\n",
        "#### ❓ Question #3:\n",
        "\n",
        "How are the correct answers associated with the questions?\n",
        "\n",
        "> NOTE: Feel free to indicate if this is problematic or not\n",
        "\n",
        "#### ! Answer #3:\n",
        "The questions and answers are associated through their position in their respective arrays, or their index.\n",
        "\n",
        "This can be problematic if the two are created manually. If an entry is accidentally inserted into one array and not the other, the answers would now be incorrect.\n",
        "\n",
        "So maintenance and updating could be a problem and possible cause of introducing errors into the process\n",
        "\n",
        "This could be mitigated by:\n",
        "- adding a unique identifier to the question and answer - this too can become a maintenance problem\n",
        "- use a dictionary to incorporate question-answer pairing - this is a better solution and provides easier maintenance\n",
        "\n",
        "\n"
      ]
    },
    {
      "cell_type": "markdown",
      "metadata": {
        "id": "-lRTXUrTtP9Y"
      },
      "source": [
        "### Task 2: Adding Evaluators\n",
        "\n",
        "Now we can add a custom evaluator to see if our responses contain the expected information.\n",
        "\n",
        "We'll be using a fairly naive exact-match process to determine if our response contains specific strings."
      ]
    },
    {
      "cell_type": "code",
      "execution_count": 22,
      "metadata": {
        "id": "QrAUXMFftlAY"
      },
      "outputs": [],
      "source": [
        "from langsmith.evaluation import EvaluationResult, run_evaluator\n",
        "\n",
        "@run_evaluator\n",
        "def must_mention(run, example) -> EvaluationResult:\n",
        "    prediction = run.outputs.get(\"output\") or \"\"\n",
        "    required = example.outputs.get(\"must_mention\") or []\n",
        "    score = all(phrase in prediction for phrase in required)\n",
        "    return EvaluationResult(key=\"must_mention\", score=score)"
      ]
    },
    {
      "cell_type": "markdown",
      "metadata": {
        "id": "PNtHORUh0jZY"
      },
      "source": [
        "\n",
        "#### ❓ Question #4:\n",
        "\n",
        "What are some ways you could improve this metric as-is?\n",
        "\n",
        "> NOTE: Alternatively you can suggest where gaps exist in this method.\n",
        "\n",
        "This evaluation has some problems:\n",
        "- It requires all of the phrases in the must mention to be present in the response - it is all or nothing\n",
        "- It is a case sensitive search - so that there must be an exact match in spelling and casing - this could be problematic as the word is the same no matter how it is cased. Also if punctuation is different\n",
        "- Spelling errors especially with people's names would cause mismatches\n",
        "- A required word could be wholy contained within another word and be incorrectly assigned as correct\n",
        "- It is also assuming the presence of the word is correct - it could be a lucky error\n",
        "\n",
        "Providing checks that are case insensitive and are more fuzzy searches could improve this metric\n",
        "\n"
      ]
    },
    {
      "cell_type": "markdown",
      "metadata": {
        "id": "mZ4DVSXl0BX5"
      },
      "source": [
        "Now that we have created our custom evaluator - let's initialize our `RunEvalConfig` with it!"
      ]
    },
    {
      "cell_type": "code",
      "execution_count": 23,
      "metadata": {
        "id": "sL4-XcjytWsu"
      },
      "outputs": [],
      "source": [
        "from langchain.smith import RunEvalConfig, run_on_dataset\n",
        "\n",
        "eval_config = RunEvalConfig(\n",
        "    custom_evaluators=[must_mention],\n",
        ")"
      ]
    },
    {
      "cell_type": "markdown",
      "metadata": {
        "id": "r1RJr349zhv7"
      },
      "source": [
        "Task 3: Evaluating\n",
        "\n",
        "All that is left to do is evaluate our agent's response!"
      ]
    },
    {
      "cell_type": "code",
      "execution_count": 24,
      "metadata": {
        "colab": {
          "base_uri": "https://localhost:8080/"
        },
        "id": "p5TeCUUkuGld",
        "outputId": "8b98fff1-bd75-4dbe-cadc-a76d8a82577c"
      },
      "outputs": [
        {
          "name": "stdout",
          "output_type": "stream",
          "text": [
            "View the evaluation results for project 'RAG Pipeline - Evaluation - a8490012' at:\n",
            "https://smith.langchain.com/o/c97b0028-7cab-5f76-a748-1369ba450931/datasets/ca92760e-8a4d-4e00-bb6e-e9ca0935cf1a/compare?selectedSessions=d4931b6e-d4b9-41cf-ae9f-f1fd480fd17f\n",
            "\n",
            "View all tests for Dataset Retrieval Augmented Generation - Evaluation Dataset - c6ada1fd at:\n",
            "https://smith.langchain.com/o/c97b0028-7cab-5f76-a748-1369ba450931/datasets/ca92760e-8a4d-4e00-bb6e-e9ca0935cf1a\n",
            "[------------------------------------------------->] 6/6"
          ]
        },
        {
          "data": {
            "text/html": [
              "<h3>Experiment Results:</h3>"
            ],
            "text/plain": [
              "<IPython.core.display.HTML object>"
            ]
          },
          "metadata": {},
          "output_type": "display_data"
        },
        {
          "data": {
            "text/html": [
              "<div>\n",
              "<style scoped>\n",
              "    .dataframe tbody tr th:only-of-type {\n",
              "        vertical-align: middle;\n",
              "    }\n",
              "\n",
              "    .dataframe tbody tr th {\n",
              "        vertical-align: top;\n",
              "    }\n",
              "\n",
              "    .dataframe thead th {\n",
              "        text-align: right;\n",
              "    }\n",
              "</style>\n",
              "<table border=\"1\" class=\"dataframe\">\n",
              "  <thead>\n",
              "    <tr style=\"text-align: right;\">\n",
              "      <th></th>\n",
              "      <th>feedback.must_mention</th>\n",
              "      <th>error</th>\n",
              "      <th>execution_time</th>\n",
              "      <th>run_id</th>\n",
              "    </tr>\n",
              "  </thead>\n",
              "  <tbody>\n",
              "    <tr>\n",
              "      <th>count</th>\n",
              "      <td>6</td>\n",
              "      <td>0</td>\n",
              "      <td>6.000000</td>\n",
              "      <td>6</td>\n",
              "    </tr>\n",
              "    <tr>\n",
              "      <th>unique</th>\n",
              "      <td>2</td>\n",
              "      <td>0</td>\n",
              "      <td>NaN</td>\n",
              "      <td>6</td>\n",
              "    </tr>\n",
              "    <tr>\n",
              "      <th>top</th>\n",
              "      <td>True</td>\n",
              "      <td>NaN</td>\n",
              "      <td>NaN</td>\n",
              "      <td>51f085d6-3e0a-4ba9-9cb8-d98a59e5526c</td>\n",
              "    </tr>\n",
              "    <tr>\n",
              "      <th>freq</th>\n",
              "      <td>4</td>\n",
              "      <td>NaN</td>\n",
              "      <td>NaN</td>\n",
              "      <td>1</td>\n",
              "    </tr>\n",
              "    <tr>\n",
              "      <th>mean</th>\n",
              "      <td>NaN</td>\n",
              "      <td>NaN</td>\n",
              "      <td>5.143611</td>\n",
              "      <td>NaN</td>\n",
              "    </tr>\n",
              "    <tr>\n",
              "      <th>std</th>\n",
              "      <td>NaN</td>\n",
              "      <td>NaN</td>\n",
              "      <td>2.525016</td>\n",
              "      <td>NaN</td>\n",
              "    </tr>\n",
              "    <tr>\n",
              "      <th>min</th>\n",
              "      <td>NaN</td>\n",
              "      <td>NaN</td>\n",
              "      <td>1.292226</td>\n",
              "      <td>NaN</td>\n",
              "    </tr>\n",
              "    <tr>\n",
              "      <th>25%</th>\n",
              "      <td>NaN</td>\n",
              "      <td>NaN</td>\n",
              "      <td>3.871332</td>\n",
              "      <td>NaN</td>\n",
              "    </tr>\n",
              "    <tr>\n",
              "      <th>50%</th>\n",
              "      <td>NaN</td>\n",
              "      <td>NaN</td>\n",
              "      <td>5.384231</td>\n",
              "      <td>NaN</td>\n",
              "    </tr>\n",
              "    <tr>\n",
              "      <th>75%</th>\n",
              "      <td>NaN</td>\n",
              "      <td>NaN</td>\n",
              "      <td>6.984235</td>\n",
              "      <td>NaN</td>\n",
              "    </tr>\n",
              "    <tr>\n",
              "      <th>max</th>\n",
              "      <td>NaN</td>\n",
              "      <td>NaN</td>\n",
              "      <td>7.916375</td>\n",
              "      <td>NaN</td>\n",
              "    </tr>\n",
              "  </tbody>\n",
              "</table>\n",
              "</div>"
            ],
            "text/plain": [
              "       feedback.must_mention error  execution_time  \\\n",
              "count                      6     0        6.000000   \n",
              "unique                     2     0             NaN   \n",
              "top                     True   NaN             NaN   \n",
              "freq                       4   NaN             NaN   \n",
              "mean                     NaN   NaN        5.143611   \n",
              "std                      NaN   NaN        2.525016   \n",
              "min                      NaN   NaN        1.292226   \n",
              "25%                      NaN   NaN        3.871332   \n",
              "50%                      NaN   NaN        5.384231   \n",
              "75%                      NaN   NaN        6.984235   \n",
              "max                      NaN   NaN        7.916375   \n",
              "\n",
              "                                      run_id  \n",
              "count                                      6  \n",
              "unique                                     6  \n",
              "top     51f085d6-3e0a-4ba9-9cb8-d98a59e5526c  \n",
              "freq                                       1  \n",
              "mean                                     NaN  \n",
              "std                                      NaN  \n",
              "min                                      NaN  \n",
              "25%                                      NaN  \n",
              "50%                                      NaN  \n",
              "75%                                      NaN  \n",
              "max                                      NaN  "
            ]
          },
          "metadata": {},
          "output_type": "display_data"
        },
        {
          "data": {
            "text/plain": [
              "{'project_name': 'RAG Pipeline - Evaluation - a8490012',\n",
              " 'results': {'bcb9fad0-0b33-40cd-83e7-49e235a93081': {'input': {'question': 'What are the four key components of the ORCA methodology in OOUX?'},\n",
              "   'feedback': [EvaluationResult(key='must_mention', score=True, value=None, comment=None, correction=None, evaluator_info={}, feedback_config=None, source_run_id=UUID('8180ea73-39e1-468a-a358-234b13de8adf'), target_run_id=None)],\n",
              "   'execution_time': 3.993635,\n",
              "   'run_id': '51f085d6-3e0a-4ba9-9cb8-d98a59e5526c',\n",
              "   'output': \"The ORCA methodology in Object-Oriented User Experience (OOUX) is a structured approach to designing user experiences that focuses on the objects within a system and their relationships. ORCA stands for Objects, Relationships, Calls-to-Action, and Attributes. Here are the four key components:\\n\\n1. **Objects**: These are the primary entities or things within the system that users interact with. Identifying the key objects is the first step in the ORCA process.\\n\\n2. **Relationships**: This component focuses on how the objects are connected or related to each other. Understanding these relationships helps in structuring the system in a way that makes sense to the user.\\n\\n3. **Calls-to-Action (CTAs)**: These are the actions that users can take on the objects. Identifying the CTAs helps in defining the functionality and interactions within the system.\\n\\n4. **Attributes**: These are the properties or characteristics of the objects. Attributes provide more detail about the objects and help in defining their structure and behavior.\\n\\nBy focusing on these four components, the ORCA methodology helps in creating a user experience that is intuitive, consistent, and aligned with the user's mental model.\",\n",
              "   'reference': {'must_mention': ['Object', 'Relationship']}},\n",
              "  'af2dfab3-77f9-4f3e-be76-a0970302c400': {'input': {'question': 'What role do Calls-to-Action or CTAs play in the OOUX ORCA methodology?'},\n",
              "   'feedback': [EvaluationResult(key='must_mention', score=True, value=None, comment=None, correction=None, evaluator_info={}, feedback_config=None, source_run_id=UUID('dae58d6a-70ad-4aab-a73e-1f9308bc97e6'), target_run_id=None)],\n",
              "   'execution_time': 3.830564,\n",
              "   'run_id': '901b246d-9882-4b07-88c5-3c5b6a1e3bf2',\n",
              "   'output': 'In the context of Object-Oriented User Experience (OOUX) and the ORCA methodology, Calls-to-Action (CTAs) play a crucial role in guiding users through their interactions with the system. Here\\'s how CTAs fit into the ORCA methodology:\\n\\n1. **Objects**: In OOUX, the focus is on identifying the core objects that users interact with. CTAs are often directly related to these objects. For example, if an object is a \"Product,\" a CTA might be \"Add to Cart\" or \"Buy Now.\" These actions are essential for users to interact meaningfully with the objects.\\n\\n2. **Relationships**: CTAs help define and clarify the relationships between different objects. For instance, a CTA like \"View Related Products\" can help users understand the relationship between a product and other similar items.\\n\\n3. **Calls-to-Action**: This is where CTAs are explicitly defined. In the ORCA methodology, CTAs are identified and designed to ensure that users can perform the necessary actions on the objects. This step involves determining what actions users need to take and how those actions will be presented to them.\\n\\n4. **Attributes**: Attributes are the properties or characteristics of the objects. CTAs often interact with these attributes. For example, a CTA like \"Filter by Price\" interacts with the price attribute of a product object.\\n\\nIn summary, CTAs in the OOUX ORCA methodology are essential for enabling users to interact with the core objects of the system. They guide users through the necessary actions, help clarify relationships between objects, and ensure that the user experience is intuitive and effective.',\n",
              "   'reference': {'must_mention': ['role', 'user']}},\n",
              "  'ea9ad9b2-6115-448b-98e9-f5bf81b9c108': {'input': {'question': 'How does OOUX ORCA methodology differ from traditional UX design approaches'},\n",
              "   'feedback': [EvaluationResult(key='must_mention', score=True, value=None, comment=None, correction=None, evaluator_info={}, feedback_config=None, source_run_id=UUID('c8b76e53-6e26-4f05-a040-70630b872366'), target_run_id=None)],\n",
              "   'execution_time': 7.916375,\n",
              "   'run_id': 'e11e0d08-c342-4f99-823d-1b0af1773a29',\n",
              "   'output': \"Object-Oriented User Experience (OOUX) and the ORCA methodology offer a unique approach to UX design that differs from traditional UX design approaches in several key ways:\\n\\n### 1. **Object-Centric vs. Task-Centric:**\\n   - **OOUX/ORCA:** Focuses on identifying and defining the core objects (nouns) within a system and their relationships. The design process revolves around these objects and how users interact with them.\\n   - **Traditional UX:** Often task-centric, focusing on user tasks and workflows (verbs). The design process typically starts with user tasks and scenarios.\\n\\n### 2. **Structured Information Architecture:**\\n   - **OOUX/ORCA:** Emphasizes a structured and systematic approach to information architecture by defining objects, relationships, calls-to-action, and attributes (ORCA). This helps in creating a clear and consistent structure.\\n   - **Traditional UX:** Information architecture may be more flexible and less structured, often evolving organically based on user research and testing.\\n\\n### 3. **Consistency and Reusability:**\\n   - **OOUX/ORCA:** Promotes consistency and reusability by defining objects and their attributes clearly. This can lead to more consistent user interfaces and interactions.\\n   - **Traditional UX:** While consistency is important, it may not be as systematically enforced. Reusability is often considered but not always a primary focus.\\n\\n### 4. **Design Process:**\\n   - **OOUX/ORCA:** The ORCA process involves four main steps: Objects, Relationships, Calls-to-Action, and Attributes. This structured approach ensures that all aspects of the system are considered.\\n   - **Traditional UX:** The design process can vary widely but often includes steps like user research, wireframing, prototyping, and user testing. The focus is more on iterative design and user feedback.\\n\\n### 5. **User Understanding:**\\n   - **OOUX/ORCA:** Aims to align the system's structure with the user's mental model by focusing on objects that users naturally think about.\\n   - **Traditional UX:** Also aims to align with the user's mental model but may do so through different means, such as user personas, scenarios, and journey mapping.\\n\\n### 6. **Problem-Solving Approach:**\\n   - **OOUX/ORCA:** Takes a more systematic and analytical approach to problem-solving by breaking down the system into its core components (objects) and understanding their interactions.\\n   - **Traditional UX:** May take a more holistic and iterative approach, focusing on solving user problems through continuous testing and refinement.\\n\\n### 7. **Documentation and Communication:**\\n   - **OOUX/ORCA:** Provides clear documentation of objects, their attributes, and relationships, which can improve communication among team members and stakeholders.\\n   - **Traditional UX:** Documentation can vary but may include user flows, wireframes, and prototypes. Communication is often more focused on user tasks and scenarios.\\n\\n### Summary:\\nOOUX and the ORCA methodology offer a structured, object-centric approach to UX design, focusing on defining and understanding the core objects within a system and their relationships. This contrasts with traditional UX design, which is often more task-centric and iterative, focusing on user tasks and workflows. Both approaches have their strengths and can be complementary depending on the project and context.\",\n",
              "   'reference': {'must_mention': ['object', 'relationship']}},\n",
              "  '63e06138-f9e1-4479-aa29-ad308c295dfd': {'input': {'question': 'Who came up with the OOUX ORCA methodology used in OOUX?'},\n",
              "   'feedback': [EvaluationResult(key='must_mention', score=True, value=None, comment=None, correction=None, evaluator_info={}, feedback_config=None, source_run_id=UUID('844862b0-b318-42ae-b216-928be650efda'), target_run_id=None)],\n",
              "   'execution_time': 1.292226,\n",
              "   'run_id': 'f935be26-28f4-4445-a4ff-ead5b8eab529',\n",
              "   'output': 'The OOUX (Object-Oriented User Experience) ORCA methodology was developed by Sophia Prater. She is a UX designer and the founder of Rewired UX, and she created the ORCA process to help designers create more intuitive and user-friendly digital products by focusing on the objects that users interact with. ORCA stands for Objects, Relationships, Calls to Action, and Attributes, which are the core components of this methodology.',\n",
              "   'reference': {'must_mention': ['Sophia', 'Prater']}},\n",
              "  'bb6e1829-cc88-46ac-b2f0-284244725647': {'input': {'question': 'What is noun-foraging in the context of OOUX, and why is it important?'},\n",
              "   'feedback': [EvaluationResult(key='must_mention', score=False, value=None, comment=None, correction=None, evaluator_info={}, feedback_config=None, source_run_id=UUID('55606c2e-f72e-4afb-908f-2de5e7e7ad49'), target_run_id=None)],\n",
              "   'execution_time': 6.774827,\n",
              "   'run_id': '58ceb50c-b551-425b-ada9-4d93aed490d7',\n",
              "   'output': \"Noun-foraging is a crucial step in the Object-Oriented User Experience (OOUX) design methodology. OOUX is a design approach that focuses on identifying and organizing the core objects within a system to create a more intuitive and user-friendly experience. Here's a breakdown of what noun-foraging is and why it is important:\\n\\n### What is Noun-Foraging?\\n\\nNoun-foraging is the process of identifying the key nouns (objects) that are central to the system or application you are designing. These nouns represent the primary entities that users will interact with. The process involves:\\n\\n1. **Research and Discovery**: Gathering information from various sources such as user interviews, existing documentation, and competitive analysis to identify potential objects.\\n2. **Listing and Categorizing**: Creating a comprehensive list of nouns and categorizing them based on their relevance and relationships.\\n3. **Validation**: Ensuring that the identified nouns are indeed the core objects that users will interact with and that they align with user needs and business goals.\\n\\n### Why is Noun-Foraging Important?\\n\\n1. **Clarity and Focus**: By identifying the core objects, designers can focus on what truly matters to users, leading to a more streamlined and effective design.\\n2. **Consistency**: It helps in maintaining consistency across the system by ensuring that the same objects are represented in the same way throughout the user interface.\\n3. **User-Centric Design**: Noun-foraging ensures that the design is centered around the user's mental model, making it easier for users to understand and navigate the system.\\n4. **Scalability**: A clear understanding of the core objects allows for easier scaling and adding new features without disrupting the existing system.\\n5. **Improved Communication**: It provides a common language for designers, developers, and stakeholders, facilitating better communication and collaboration.\\n\\nIn summary, noun-foraging is a foundational activity in OOUX that helps in creating a user-centered, consistent, and scalable design by focusing on the core objects that users interact with.\",\n",
              "   'reference': {'must_mention': ['objects', 'requirements']}},\n",
              "  '1d3dda7d-a200-4627-8659-222a385da3e5': {'input': {'question': 'What are the key outputs from the OOUX ORCA methodology?'},\n",
              "   'feedback': [EvaluationResult(key='must_mention', score=False, value=None, comment=None, correction=None, evaluator_info={}, feedback_config=None, source_run_id=UUID('6bdebe05-2a7c-4df3-ae09-9e5f459f998c'), target_run_id=None)],\n",
              "   'execution_time': 7.054038,\n",
              "   'run_id': 'fcec8b20-fc9a-49fd-b30d-996840f81db4',\n",
              "   'output': 'The OOUX (Object-Oriented UX) ORCA methodology is a structured approach to UX design that focuses on defining and organizing the core objects of a system. The key outputs from the ORCA methodology include:\\n\\n1. **Objects**: Identification and definition of the core objects within the system. These are the distinctive elements of a digital interface, such as user profiles, navigation menus, or lists of items.\\n\\n2. **Relationships**: Mapping out the relationships between these objects. This helps in understanding how different objects interact with each other within the system.\\n\\n3. **Calls to Action (CTAs)**: Defining the actions that users can take on each object. This includes understanding what users need to do with each object and how they can interact with it.\\n\\n4. **Attributes**: Detailing the attributes of each object. This involves specifying the data, services, and descriptions that each object contains.\\n\\nThese outputs help in creating a more organized and user-centered design by ensuring that all elements of the system are clearly defined and their interactions are well understood.',\n",
              "   'reference': {'must_mention': ['Object Map', 'Calls-to-Action']}}},\n",
              " 'aggregate_metrics': None}"
            ]
          },
          "execution_count": 24,
          "metadata": {},
          "output_type": "execute_result"
        }
      ],
      "source": [
        "client.run_on_dataset(\n",
        "    dataset_name=dataset_name,\n",
        "    llm_or_chain_factory=agent_chain,\n",
        "    evaluation=eval_config,\n",
        "    verbose=True,\n",
        "    project_name=f\"RAG Pipeline - Evaluation - {uuid4().hex[0:8]}\",\n",
        "    project_metadata={\"version\": \"1.0.0\"},\n",
        ")"
      ]
    },
    {
      "cell_type": "markdown",
      "metadata": {
        "id": "jhTNe4kWrplB"
      },
      "source": [
        "## Part 2: LangGraph with Helpfulness:"
      ]
    },
    {
      "cell_type": "markdown",
      "metadata": {
        "id": "w1wKRddbIY_S"
      },
      "source": [
        "### Task 3: Adding Helpfulness Check and \"Loop\" Limits\n",
        "\n",
        "Now that we've done evaluation - let's see if we can add an extra step where we review the content we've generated to confirm if it fully answers the user's query!\n",
        "\n",
        "We're going to make a few key adjustments to account for this:\n",
        "\n",
        "1. We're going to add an artificial limit on how many \"loops\" the agent can go through - this will help us to avoid the potential situation where we never exit the loop.\n",
        "2. We'll add to our existing conditional edge to obtain the behaviour we desire."
      ]
    },
    {
      "cell_type": "markdown",
      "metadata": {
        "id": "npTYJ8ayR5B3"
      },
      "source": [
        "First, let's define our state again - we can check the length of the state object, so we don't need additional state for this."
      ]
    },
    {
      "cell_type": "code",
      "execution_count": 25,
      "metadata": {
        "id": "-LQ84YhyJG0w"
      },
      "outputs": [],
      "source": [
        "class AgentState(TypedDict):\n",
        "  messages: Annotated[list, add_messages]"
      ]
    },
    {
      "cell_type": "markdown",
      "metadata": {
        "id": "sD7EV0HqSQcb"
      },
      "source": [
        "Now we can set our graph up! This process will be almost entirely the same - with the inclusion of one additional node/conditional edge!"
      ]
    },
    {
      "cell_type": "markdown",
      "metadata": {
        "id": "oajBwLkFVi1N"
      },
      "source": [
        "\n",
        "#### 🏗️ Activity #5:\n",
        "\n",
        "Please write markdown for the following cells to explain what each is doing.\n",
        "\n"
      ]
    },
    {
      "cell_type": "markdown",
      "metadata": {
        "id": "M6rN7feNVn9f"
      },
      "source": [
        "We create a graph which is bound to our AgentState\n",
        "\n",
        "The two nodes (agent and action) are created in the graph using the call_model and tool_node nodes that were defined earlier"
      ]
    },
    {
      "cell_type": "code",
      "execution_count": 26,
      "metadata": {
        "id": "6r6XXA5FJbVf"
      },
      "outputs": [],
      "source": [
        "graph_with_helpfulness_check = StateGraph(AgentState)\n",
        "\n",
        "graph_with_helpfulness_check.add_node(\"agent\", call_model)\n",
        "graph_with_helpfulness_check.add_node(\"action\", tool_node)"
      ]
    },
    {
      "cell_type": "markdown",
      "metadata": {
        "id": "XZ22o2mWVrfp"
      },
      "source": [
        "We create the starting or entry point for the graph into the agent node"
      ]
    },
    {
      "cell_type": "code",
      "execution_count": 27,
      "metadata": {
        "id": "HNWHwWxuRiLY"
      },
      "outputs": [],
      "source": [
        "graph_with_helpfulness_check.set_entry_point(\"agent\")"
      ]
    },
    {
      "cell_type": "markdown",
      "metadata": {
        "id": "rsXeF6xlaXOZ"
      },
      "source": [
        "We are creating a conditional edge to determine whether to call the action node and if not to determine if the answer is helpful. \n",
        "If it is helpful, it will return \"end\" causing the cycle to end\n",
        "If it is not helpful, it will return \"continue\" causing the cycle to repeat\n"
      ]
    },
    {
      "cell_type": "code",
      "execution_count": 28,
      "metadata": {
        "id": "z_Sq3A9SaV1O"
      },
      "outputs": [],
      "source": [
        "from langchain_core.prompts import PromptTemplate\n",
        "from langchain_core.output_parsers import StrOutputParser\n",
        "\n",
        "def tool_call_or_helpful(state):\n",
        "  last_message = state[\"messages\"][-1]\n",
        "\n",
        "  if last_message.tool_calls:\n",
        "    return \"action\"\n",
        "\n",
        "  initial_query = state[\"messages\"][0]\n",
        "  final_response = state[\"messages\"][-1]\n",
        "\n",
        "  if len(state[\"messages\"]) > 10:\n",
        "    return \"end\"\n",
        "\n",
        "  prompt_template = \"\"\"\\\n",
        "  Given an initial query and a final response, determine if the final response is helpful or not. Please indicate a helpful answer with a 'Y' and an unhelpful as an 'N'.\n",
        "\n",
        "  Initial Query:\n",
        "  {initial_query}\n",
        "\n",
        "  Final Response:\n",
        "  {final_response}\"\"\"\n",
        "\n",
        "  prompt_template = PromptTemplate.from_template(prompt_template)\n",
        "\n",
        "  helpfulness_check_model = ChatOpenAI(model=\"gpt-4\")\n",
        "\n",
        "  helpfulness_chain = prompt_template | helpfulness_check_model | StrOutputParser()\n",
        "\n",
        "  helpfulness_response = helpfulness_chain.invoke({\"initial_query\" : initial_query.content, \"final_response\" : final_response.content})\n",
        "\n",
        "  if \"Y\" in helpfulness_response:\n",
        "    return \"end\"\n",
        "  else:\n",
        "    return \"continue\""
      ]
    },
    {
      "cell_type": "markdown",
      "metadata": {
        "id": "Fz1u9Vf4SHxJ"
      },
      "source": [
        "\n",
        "#### 🏗️ Activity #4:\n",
        "\n",
        "Please write what is happening in our `tool_call_or_helpful` function!\n",
        "\n",
        "The function tool_call_or_helpful is called and is passed the state\n",
        "- it checks the last message\n",
        "- if the last message contains tool calls, it returns \"action\", resulting in the action node being called and the tools executed\n",
        "- if there are more than 10 messages, it assumes we are in an infinite loop and it returns \"END\"\n",
        "- the first message (the question) and the final response are added to a template, passed through the chain to the model to determine if the answer is helpful\n",
        "- if the answer was helpful it returns \"end\" and the cycle ends\n",
        "- if the answer was not helpful it returns \"continue\" and the cucle continues\n",
        "\n",
        "\n"
      ]
    },
    {
      "cell_type": "markdown",
      "metadata": {
        "id": "6BhnBW2YVsJO"
      },
      "source": [
        "The conditional edge tool_call_or_helpful is attached to the agent node. \n",
        "\n",
        "If it returns \"continue\" the agent node is called\n",
        "If it returns \"action\" the action node is called\n",
        "If it returns \"end\" the cycle is ended"
      ]
    },
    {
      "cell_type": "code",
      "execution_count": 29,
      "metadata": {
        "id": "aVTKnWMbP_8T"
      },
      "outputs": [],
      "source": [
        "graph_with_helpfulness_check.add_conditional_edges(\n",
        "    \"agent\",\n",
        "    tool_call_or_helpful,\n",
        "    {\n",
        "        \"continue\" : \"agent\",\n",
        "        \"action\" : \"action\",\n",
        "        \"end\" : END\n",
        "    }\n",
        ")"
      ]
    },
    {
      "cell_type": "markdown",
      "metadata": {
        "id": "ZGDLEWOIVtK0"
      },
      "source": [
        "An edge is added between the action and the agent"
      ]
    },
    {
      "cell_type": "code",
      "execution_count": 30,
      "metadata": {
        "id": "cbDK2MbuREgU"
      },
      "outputs": [],
      "source": [
        "graph_with_helpfulness_check.add_edge(\"action\", \"agent\")"
      ]
    },
    {
      "cell_type": "markdown",
      "metadata": {
        "id": "rSI8AOaEVvT-"
      },
      "source": [
        "The graph is compiled"
      ]
    },
    {
      "cell_type": "code",
      "execution_count": 31,
      "metadata": {
        "id": "oQldl8ERQ8lf"
      },
      "outputs": [],
      "source": [
        "agent_with_helpfulness_check = graph_with_helpfulness_check.compile()"
      ]
    },
    {
      "cell_type": "markdown",
      "metadata": {
        "id": "F67FGCMRVwGz"
      },
      "source": [
        "We create the state and populate it with the qeustion\n",
        "\n",
        "the agent is called passing in the inputs and requesting it to operate in stream mode\n",
        "As chunks are returned they are displayed"
      ]
    },
    {
      "cell_type": "code",
      "execution_count": 32,
      "metadata": {
        "colab": {
          "base_uri": "https://localhost:8080/"
        },
        "id": "B3oo8E-PRK1T",
        "outputId": "22470df4-9aa7-4751-95b6-d30ce71b17db"
      },
      "outputs": [
        {
          "name": "stdout",
          "output_type": "stream",
          "text": [
            "Receiving update from node: 'agent'\n",
            "[AIMessage(content='', additional_kwargs={'tool_calls': [{'id': 'call_pBkZb6gB04WAUoWzhG32HmP2', 'function': {'arguments': '{\"query\": \"LoRA machine learning\"}', 'name': 'duckduckgo_search'}, 'type': 'function'}, {'id': 'call_pe9P6hXXw11X7je58JKh8G7z', 'function': {'arguments': '{\"query\": \"Tim Dettmers\"}', 'name': 'duckduckgo_search'}, 'type': 'function'}, {'id': 'call_VS7DmLS6Yo0Dr01MEuqUToaK', 'function': {'arguments': '{\"query\": \"Attention in machine learning\"}', 'name': 'duckduckgo_search'}, 'type': 'function'}], 'refusal': None}, response_metadata={'token_usage': {'completion_tokens': 76, 'prompt_tokens': 192, 'total_tokens': 268}, 'model_name': 'gpt-4o-2024-05-13', 'system_fingerprint': 'fp_157b3831f5', 'finish_reason': 'tool_calls', 'logprobs': None}, id='run-0406ed1d-880d-449a-bb31-5eb349022244-0', tool_calls=[{'name': 'duckduckgo_search', 'args': {'query': 'LoRA machine learning'}, 'id': 'call_pBkZb6gB04WAUoWzhG32HmP2', 'type': 'tool_call'}, {'name': 'duckduckgo_search', 'args': {'query': 'Tim Dettmers'}, 'id': 'call_pe9P6hXXw11X7je58JKh8G7z', 'type': 'tool_call'}, {'name': 'duckduckgo_search', 'args': {'query': 'Attention in machine learning'}, 'id': 'call_VS7DmLS6Yo0Dr01MEuqUToaK', 'type': 'tool_call'}], usage_metadata={'input_tokens': 192, 'output_tokens': 76, 'total_tokens': 268})]\n",
            "\n",
            "\n",
            "\n",
            "Receiving update from node: 'action'\n",
            "[ToolMessage(content=\"Let's jump on LoRA. Low-Rank Adaptation of LLMs (LoRA) So, in usual fine-tuning, we. Take a pretrained model. Do Transfer Learning over new training data to slightly adjust these pre-trained weights LoRA's approach to decomposing ( Δ W ) into a product of lower rank matrices effectively balances the need to adapt large pre-trained models to new tasks while maintaining computational efficiency. The intrinsic rank concept is key to this balance, ensuring that the essence of the model's learning capability is preserved with significantly ... Low-Rank Adaptation (LoRA) is a widely-used parameter-efficient finetuning method for large language models. LoRA saves memory by training only low rank perturbations to selected weight matrices. In this work, we compare the performance of LoRA and full finetuning on two target domains, programming and mathematics. We consider both the instruction finetuning ($\\\\\\\\approx$100K prompt-response ... Feb 18, 2024. Share. Ever since the introduction of BERT in 2019, fine-tuning has been the standard approach to adapt large language models (LLMs) to downstream tasks. This changed with the introduction of LoRA (Hu et al 2021) which showed for the first time that the weight update matrix during fine-tuning can be drastically simplified using ... Feb 18, 2024. Low-rank adaptation (LoRA) is a machine learning technique that modifies a pretrained model (for example, an LLM or vision transformer) to better suit a specific, often smaller, dataset by adjusting only a small, low-rank subset of the model's parameters. This approach is important because it allows for efficient finetuning of ...\", name='duckduckgo_search', tool_call_id='call_pBkZb6gB04WAUoWzhG32HmP2'), ToolMessage(content='Allen School Ph.D. student Tim Dettmers accepted the grand prize for QLoRA, a novel approach to finetuning pretrained models that significantly reduces the amount of GPU memory required — from over 780GB to less than 48GB — to finetune a 65B parameter model. With QLoRA, the largest publicly available models can be finetuned on a single ... — Tim Dettmers is joining Ai2 as an AI researcher. Dettmers specializes in efficient deep learning at the intersection of machine learning, NLP, and computer systems with a focus on quantization ... Tim Dettmers. Video. Tech Moves: AI researcher Yejin Choi leaves Univ. of Washington and Allen Institute for AI. by Todd Bishop & Taylor Soper on August 2, 2024 August 2, 2024 at 11:59 am. If you have a curiosity about how fancy graphics cards actually work, and why they are so well-suited to AI-type applications, then take a few minutes to read [Tim Dettmers] explain why this is so.… Its purpose is to make cutting-edge research by Tim Dettmers, a leading academic expert on quantization and the use of deep learning hardware accelerators, accessible to the general public. QLoRA: One of the core contributions of bitsandbytes towards the democratization of AI.', name='duckduckgo_search', tool_call_id='call_pe9P6hXXw11X7je58JKh8G7z'), ToolMessage(content='Learn how attention mechanisms in deep learning enable models to focus on relevant information and improve performance in tasks such as machine translation, image captioning, and speech recognition. Understand the steps and components of attention mechanism architecture and see examples of its applications. Attention mechanism is a fundamental invention in artificial intelligence and machine learning, redefining the capabilities of deep learning models. This mechanism, inspired by the human mental process of selective focus, has emerged as a pillar in a variety of applications, accelerating developments in natural language processing, computer vision, and beyond. There are several types of attention mechanisms, each designed to cater to specific use cases. Here are a few notable ones: 1. Self-Attention Mechanism. Self-attention, also known as intra ... They all use transformer architecture with attention mechanisms at their core to solve problems across domains. In the Transformer series, we go over the ingredients that have made Transformers a universal recipe for machine learning. First up, we take a visual dive to understand the attention mechanism: Why transformers and attention took over. The introduction of the Transformer model was a significant leap forward for the concept of attention in deep learning. Vaswani et al. described this model in the seminal paper titled \"Attention is All You Need\" in 2017. ... Attention mechanisms represent advancements in machine learning and computer vision, enabling models to prioritize ...', name='duckduckgo_search', tool_call_id='call_VS7DmLS6Yo0Dr01MEuqUToaK')]\n",
            "\n",
            "\n",
            "\n",
            "Receiving update from node: 'agent'\n",
            "[AIMessage(content='### LoRA in Machine Learning\\nLoRA, or Low-Rank Adaptation, is a technique used in machine learning to fine-tune large language models (LLMs) efficiently. Instead of adjusting all the parameters of a pretrained model, LoRA modifies only a small, low-rank subset of the model\\'s parameters. This approach significantly reduces the computational resources required for fine-tuning, making it more memory-efficient. LoRA was introduced as a way to simplify the weight update matrix during fine-tuning, allowing for efficient adaptation of large models to new tasks without the need for extensive computational power.\\n\\n### Tim Dettmers\\nTim Dettmers is a researcher specializing in efficient deep learning, particularly at the intersection of machine learning, natural language processing (NLP), and computer systems. He is known for his work on quantization and the use of deep learning hardware accelerators. One of his notable contributions is QLoRA, a method that drastically reduces the GPU memory required to fine-tune large models, making it possible to fine-tune a 65 billion parameter model on a single GPU. Tim Dettmers is associated with the Allen Institute for AI and has made significant contributions to the field of AI research.\\n\\n### Attention in Machine Learning\\nAttention mechanisms are a fundamental component in modern deep learning models, particularly in natural language processing (NLP) and computer vision. Inspired by the human cognitive process of selective focus, attention mechanisms allow models to prioritize relevant information while processing data. This capability enhances the performance of models in tasks such as machine translation, image captioning, and speech recognition.\\n\\nThe concept of attention gained prominence with the introduction of the Transformer model, described in the seminal paper \"Attention is All You Need\" by Vaswani et al. in 2017. Transformers use attention mechanisms to weigh the importance of different parts of the input data, enabling more effective learning and generalization. There are several types of attention mechanisms, including self-attention (intra-attention), which allows models to focus on different parts of a single sequence of data.\\n\\nAttention mechanisms have revolutionized the field of deep learning, making it possible to build more powerful and efficient models for a wide range of applications.', additional_kwargs={'refusal': None}, response_metadata={'token_usage': {'completion_tokens': 443, 'prompt_tokens': 1197, 'total_tokens': 1640}, 'model_name': 'gpt-4o-2024-05-13', 'system_fingerprint': 'fp_157b3831f5', 'finish_reason': 'stop', 'logprobs': None}, id='run-6c2727df-50e8-48c0-ad2c-8a22f8e2a279-0', usage_metadata={'input_tokens': 1197, 'output_tokens': 443, 'total_tokens': 1640})]\n",
            "\n",
            "\n",
            "\n"
          ]
        }
      ],
      "source": [
        "inputs = {\"messages\" : [HumanMessage(content=\"Related to machine learning, what is LoRA? Also, who is Tim Dettmers? Also, what is Attention?\")]}\n",
        "\n",
        "async for chunk in agent_with_helpfulness_check.astream(inputs, stream_mode=\"updates\"):\n",
        "    for node, values in chunk.items():\n",
        "        print(f\"Receiving update from node: '{node}'\")\n",
        "        print(values[\"messages\"])\n",
        "        print(\"\\n\\n\")"
      ]
    },
    {
      "cell_type": "markdown",
      "metadata": {
        "id": "yVmZPs6lnpsM"
      },
      "source": [
        "### Task 4: LangGraph for the \"Patterns\" of GenAI\n",
        "\n",
        "Let's ask our system about the 4 patterns of Generative AI:\n",
        "\n",
        "1. Prompt Engineering\n",
        "2. RAG\n",
        "3. Fine-tuning\n",
        "4. Agents"
      ]
    },
    {
      "cell_type": "code",
      "execution_count": 33,
      "metadata": {
        "id": "ZoLl7GlXoae-"
      },
      "outputs": [],
      "source": [
        "patterns = [\"prompt engineering\", \"RAG\", \"fine-tuning\", \"LLM-based agents\"]"
      ]
    },
    {
      "cell_type": "code",
      "execution_count": 34,
      "metadata": {
        "colab": {
          "base_uri": "https://localhost:8080/"
        },
        "id": "Zkh0YJuCp3Zl",
        "outputId": "0593c6f5-0a1d-41f6-960b-f32d101b3ade"
      },
      "outputs": [
        {
          "name": "stdout",
          "output_type": "stream",
          "text": [
            "Prompt engineering is a concept primarily associated with the field of artificial intelligence, particularly in the context of natural language processing (NLP) and large language models like GPT-3. It involves the design and optimization of prompts (input queries or instructions) to elicit the most accurate, relevant, or useful responses from an AI model. The goal is to craft prompts in such a way that the AI can understand and generate the desired output effectively.\n",
            "\n",
            "### Key Aspects of Prompt Engineering:\n",
            "1. **Clarity**: Ensuring the prompt is clear and unambiguous.\n",
            "2. **Specificity**: Making the prompt specific enough to guide the AI towards the desired response.\n",
            "3. **Context**: Providing sufficient context to help the AI understand the query.\n",
            "4. **Iterative Testing**: Continuously refining prompts based on the responses received to improve accuracy and relevance.\n",
            "\n",
            "### Emergence of Prompt Engineering:\n",
            "Prompt engineering became more prominent with the advent of large-scale language models like OpenAI's GPT-3, which was released in June 2020. The ability of these models to generate human-like text based on prompts led to a growing interest in how to effectively communicate with them to achieve specific outcomes. The term \"prompt engineering\" itself started gaining traction around this time as researchers and practitioners began to explore and document best practices for interacting with these advanced AI systems.\n",
            "\n",
            "Would you like more detailed information or recent developments in prompt engineering?\n",
            "\n",
            "\n",
            "\n",
            "RAG stands for Retrieval-Augmented Generation. It is a technique in natural language processing (NLP) that combines retrieval-based methods with generative models to improve the quality and relevance of generated text. The idea is to retrieve relevant documents or pieces of information from a large corpus and use that information to generate more accurate and contextually appropriate responses.\n",
            "\n",
            "RAG was introduced by Facebook AI Research (FAIR) in a paper titled \"Retrieval-Augmented Generation for Knowledge-Intensive NLP Tasks,\" which was published in 2020. The technique leverages both retrieval and generation to handle knowledge-intensive tasks more effectively than traditional methods.\n",
            "\n",
            "Would you like more detailed information or specific aspects of RAG?\n",
            "\n",
            "\n",
            "\n",
            "Fine-tuning is a process in machine learning where a pre-trained model is further trained on a new, often smaller, dataset to adapt it to a specific task. This approach leverages the knowledge the model has already acquired during its initial training on a large dataset, making it more efficient and effective for specialized tasks.\n",
            "\n",
            "Fine-tuning became particularly prominent with the advent of transfer learning and the development of large pre-trained models, such as BERT (Bidirectional Encoder Representations from Transformers) and GPT (Generative Pre-trained Transformer). These models demonstrated that fine-tuning could significantly improve performance on a variety of natural language processing (NLP) tasks.\n",
            "\n",
            "The concept of fine-tuning has been around for a while, but it gained significant attention and widespread adoption in the late 2010s, particularly with the release of BERT by Google in 2018 and GPT-2 by OpenAI in 2019. These models showcased the power of fine-tuning in achieving state-of-the-art results on various benchmarks.\n",
            "\n",
            "Would you like more detailed information or specific examples of fine-tuning applications?\n",
            "\n",
            "\n",
            "\n",
            "LLM-based agents, or Large Language Model-based agents, are artificial intelligence systems that leverage large language models to perform a variety of tasks. These tasks can include natural language understanding, text generation, translation, summarization, and more. The core technology behind these agents is typically a deep learning model trained on vast amounts of text data, enabling it to generate human-like text and understand context.\n",
            "\n",
            "### Key Characteristics of LLM-based Agents:\n",
            "1. **Natural Language Processing (NLP):** They excel in understanding and generating human language.\n",
            "2. **Contextual Understanding:** They can maintain context over long conversations or documents.\n",
            "3. **Versatility:** They can be fine-tuned for specific tasks such as customer support, content creation, coding assistance, etc.\n",
            "4. **Scalability:** They can handle a wide range of queries and tasks simultaneously.\n",
            "\n",
            "### Breakthrough and Evolution:\n",
            "The concept of LLM-based agents has evolved over time, but significant breakthroughs can be traced to a few key developments:\n",
            "\n",
            "1. **2018 - BERT (Bidirectional Encoder Representations from Transformers):** Developed by Google, BERT was one of the first models to achieve state-of-the-art results on a variety of NLP tasks by understanding the context of words in search queries.\n",
            "   \n",
            "2. **2019 - GPT-2 (Generative Pre-trained Transformer 2):** OpenAI released GPT-2, which demonstrated the ability to generate coherent and contextually relevant text, sparking widespread interest and concern due to its capabilities.\n",
            "\n",
            "3. **2020 - GPT-3:** OpenAI's GPT-3, with 175 billion parameters, significantly advanced the field by providing even more accurate and contextually aware text generation. It became the foundation for many applications, including chatbots, virtual assistants, and more.\n",
            "\n",
            "4. **2021 and Beyond - Continued Advancements:** The field has continued to evolve with models like OpenAI's Codex (used in GitHub Copilot), Google's LaMDA, and others pushing the boundaries of what LLM-based agents can do.\n",
            "\n",
            "### Current Applications:\n",
            "- **Customer Support:** Automated agents that handle customer queries.\n",
            "- **Content Creation:** Tools that assist in writing articles, reports, and even creative writing.\n",
            "- **Programming Assistance:** Code generation and debugging support.\n",
            "- **Education:** Personalized tutoring and educational content generation.\n",
            "- **Healthcare:** Assisting in medical documentation and patient interaction.\n",
            "\n",
            "The rise of LLM-based agents has been a gradual process, with significant milestones in the late 2010s and early 2020s marking their entry into mainstream applications.\n",
            "\n",
            "\n",
            "\n"
          ]
        }
      ],
      "source": [
        "for pattern in patterns:\n",
        "  what_is_string = f\"What is {pattern} and when did it break onto the scene??\"\n",
        "  inputs = {\"messages\" : [HumanMessage(content=what_is_string)]}\n",
        "  messages = agent_with_helpfulness_check.invoke(inputs)\n",
        "  print(messages[\"messages\"][-1].content)\n",
        "  print(\"\\n\\n\")"
      ]
    }
  ],
  "metadata": {
    "colab": {
      "provenance": []
    },
    "kernelspec": {
      "display_name": "Python 3",
      "name": "python3"
    },
    "language_info": {
      "codemirror_mode": {
        "name": "ipython",
        "version": 3
      },
      "file_extension": ".py",
      "mimetype": "text/x-python",
      "name": "python",
      "nbconvert_exporter": "python",
      "pygments_lexer": "ipython3",
      "version": "3.11.9"
    }
  },
  "nbformat": 4,
  "nbformat_minor": 0
}
